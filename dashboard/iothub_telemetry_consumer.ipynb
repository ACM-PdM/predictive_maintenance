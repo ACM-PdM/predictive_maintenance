{
 "cells": [
  {
   "cell_type": "code",
   "execution_count": 1,
   "id": "9c676e87",
   "metadata": {},
   "outputs": [
    {
     "data": {
      "application/javascript": "\n(function(root) {\n  function now() {\n    return new Date();\n  }\n\n  var force = true;\n\n  if (typeof root._bokeh_onload_callbacks === \"undefined\" || force === true) {\n    root._bokeh_onload_callbacks = [];\n    root._bokeh_is_loading = undefined;\n  }\n\n  if (typeof (root._bokeh_timeout) === \"undefined\" || force === true) {\n    root._bokeh_timeout = Date.now() + 5000;\n    root._bokeh_failed_load = false;\n  }\n\n  function run_callbacks() {\n    try {\n      root._bokeh_onload_callbacks.forEach(function(callback) {\n        if (callback != null)\n          callback();\n      });\n    } finally {\n      delete root._bokeh_onload_callbacks\n    }\n    console.debug(\"Bokeh: all callbacks have finished\");\n  }\n\n  function load_libs(css_urls, js_urls, js_modules, callback) {\n    if (css_urls == null) css_urls = [];\n    if (js_urls == null) js_urls = [];\n    if (js_modules == null) js_modules = [];\n\n    root._bokeh_onload_callbacks.push(callback);\n    if (root._bokeh_is_loading > 0) {\n      console.debug(\"Bokeh: BokehJS is being loaded, scheduling callback at\", now());\n      return null;\n    }\n    if (js_urls.length === 0 && js_modules.length === 0) {\n      run_callbacks();\n      return null;\n    }\n    console.debug(\"Bokeh: BokehJS not loaded, scheduling load and callback at\", now());\n\n    function on_load() {\n      root._bokeh_is_loading--;\n      if (root._bokeh_is_loading === 0) {\n        console.debug(\"Bokeh: all BokehJS libraries/stylesheets loaded\");\n        run_callbacks()\n      }\n    }\n\n    function on_error() {\n      console.error(\"failed to load \" + url);\n    }\n\n    for (var i = 0; i < css_urls.length; i++) {\n      var url = css_urls[i];\n      const element = document.createElement(\"link\");\n      element.onload = on_load;\n      element.onerror = on_error;\n      element.rel = \"stylesheet\";\n      element.type = \"text/css\";\n      element.href = url;\n      console.debug(\"Bokeh: injecting link tag for BokehJS stylesheet: \", url);\n      document.body.appendChild(element);\n    }\n\n    var skip = [];\n    if (window.requirejs) {\n      window.requirejs.config({'packages': {}, 'paths': {}, 'shim': {}});\n      \n      root._bokeh_is_loading = css_urls.length + 0;\n    } else {\n      root._bokeh_is_loading = css_urls.length + js_urls.length + js_modules.length;\n    }\n    for (var i = 0; i < js_urls.length; i++) {\n      var url = js_urls[i];\n      if (skip.indexOf(url) >= 0) {\n\tif (!window.requirejs) {\n\t  on_load();\n\t}\n\tcontinue;\n      }\n      var element = document.createElement('script');\n      element.onload = on_load;\n      element.onerror = on_error;\n      element.async = false;\n      element.src = url;\n      console.debug(\"Bokeh: injecting script tag for BokehJS library: \", url);\n      document.head.appendChild(element);\n    }\n    for (var i = 0; i < js_modules.length; i++) {\n      var url = js_modules[i];\n      if (skip.indexOf(url) >= 0) {\n\tif (!window.requirejs) {\n\t  on_load();\n\t}\n\tcontinue;\n      }\n      var element = document.createElement('script');\n      element.onload = on_load;\n      element.onerror = on_error;\n      element.async = false;\n      element.src = url;\n      element.type = \"module\";\n      console.debug(\"Bokeh: injecting script tag for BokehJS library: \", url);\n      document.head.appendChild(element);\n    }\n    if (!js_urls.length && !js_modules.length) {\n      on_load()\n    }\n  };\n\n  function inject_raw_css(css) {\n    const element = document.createElement(\"style\");\n    element.appendChild(document.createTextNode(css));\n    document.body.appendChild(element);\n  }\n\n  var js_urls = [\"https://cdn.bokeh.org/bokeh/release/bokeh-2.4.1.min.js\", \"https://cdn.bokeh.org/bokeh/release/bokeh-gl-2.4.1.min.js\", \"https://cdn.bokeh.org/bokeh/release/bokeh-widgets-2.4.1.min.js\", \"https://cdn.bokeh.org/bokeh/release/bokeh-tables-2.4.1.min.js\", \"https://cdn.bokeh.org/bokeh/release/bokeh-mathjax-2.4.1.min.js\", \"https://unpkg.com/@holoviz/panel@0.12.7/dist/panel.min.js\"];\n  var js_modules = [];\n  var css_urls = [\"https://unpkg.com/@holoviz/panel@0.12.7/dist/css/alerts.css\", \"https://unpkg.com/@holoviz/panel@0.12.7/dist/css/card.css\", \"https://unpkg.com/@holoviz/panel@0.12.7/dist/css/dataframe.css\", \"https://unpkg.com/@holoviz/panel@0.12.7/dist/css/json.css\", \"https://unpkg.com/@holoviz/panel@0.12.7/dist/css/loading.css\", \"https://unpkg.com/@holoviz/panel@0.12.7/dist/css/markdown.css\", \"https://unpkg.com/@holoviz/panel@0.12.7/dist/css/widgets.css\"];\n  var inline_js = [\n    function(Bokeh) {\n      inject_raw_css(\"\\n    .bk.pn-loading.arcs:before {\\n      background-image: url(\\\"data:image/svg+xml;base64,PHN2ZyB4bWxucz0iaHR0cDovL3d3dy53My5vcmcvMjAwMC9zdmciIHhtbG5zOnhsaW5rPSJodHRwOi8vd3d3LnczLm9yZy8xOTk5L3hsaW5rIiBzdHlsZT0ibWFyZ2luOiBhdXRvOyBiYWNrZ3JvdW5kOiBub25lOyBkaXNwbGF5OiBibG9jazsgc2hhcGUtcmVuZGVyaW5nOiBhdXRvOyIgdmlld0JveD0iMCAwIDEwMCAxMDAiIHByZXNlcnZlQXNwZWN0UmF0aW89InhNaWRZTWlkIj4gIDxjaXJjbGUgY3g9IjUwIiBjeT0iNTAiIHI9IjMyIiBzdHJva2Utd2lkdGg9IjgiIHN0cm9rZT0iI2MzYzNjMyIgc3Ryb2tlLWRhc2hhcnJheT0iNTAuMjY1NDgyNDU3NDM2NjkgNTAuMjY1NDgyNDU3NDM2NjkiIGZpbGw9Im5vbmUiIHN0cm9rZS1saW5lY2FwPSJyb3VuZCI+ICAgIDxhbmltYXRlVHJhbnNmb3JtIGF0dHJpYnV0ZU5hbWU9InRyYW5zZm9ybSIgdHlwZT0icm90YXRlIiByZXBlYXRDb3VudD0iaW5kZWZpbml0ZSIgZHVyPSIxcyIga2V5VGltZXM9IjA7MSIgdmFsdWVzPSIwIDUwIDUwOzM2MCA1MCA1MCI+PC9hbmltYXRlVHJhbnNmb3JtPiAgPC9jaXJjbGU+PC9zdmc+\\\");\\n      max-height: 400px;\\n    }\\n    \");\n    },\n    function(Bokeh) {\n      Bokeh.set_log_level(\"info\");\n    },\n    function(Bokeh) {} // ensure no trailing comma for IE\n  ];\n\n  function run_inline_js() {\n    if ((root.Bokeh !== undefined) || (force === true)) {\n      for (var i = 0; i < inline_js.length; i++) {\n        inline_js[i].call(root, root.Bokeh);\n      }} else if (Date.now() < root._bokeh_timeout) {\n      setTimeout(run_inline_js, 100);\n    } else if (!root._bokeh_failed_load) {\n      console.log(\"Bokeh: BokehJS failed to load within specified timeout.\");\n      root._bokeh_failed_load = true;\n    }\n  }\n\n  if (root._bokeh_is_loading === 0) {\n    console.debug(\"Bokeh: BokehJS loaded, going straight to plotting\");\n    run_inline_js();\n  } else {\n    load_libs(css_urls, js_urls, js_modules, function() {\n      console.debug(\"Bokeh: BokehJS plotting callback run at\", now());\n      run_inline_js();\n    });\n  }\n}(window));",
      "application/vnd.holoviews_load.v0+json": ""
     },
     "metadata": {},
     "output_type": "display_data"
    },
    {
     "data": {
      "application/javascript": "\nif ((window.PyViz === undefined) || (window.PyViz instanceof HTMLElement)) {\n  window.PyViz = {comms: {}, comm_status:{}, kernels:{}, receivers: {}, plot_index: []}\n}\n\n\n    function JupyterCommManager() {\n    }\n\n    JupyterCommManager.prototype.register_target = function(plot_id, comm_id, msg_handler) {\n      if (window.comm_manager || ((window.Jupyter !== undefined) && (Jupyter.notebook.kernel != null))) {\n        var comm_manager = window.comm_manager || Jupyter.notebook.kernel.comm_manager;\n        comm_manager.register_target(comm_id, function(comm) {\n          comm.on_msg(msg_handler);\n        });\n      } else if ((plot_id in window.PyViz.kernels) && (window.PyViz.kernels[plot_id])) {\n        window.PyViz.kernels[plot_id].registerCommTarget(comm_id, function(comm) {\n          comm.onMsg = msg_handler;\n        });\n      } else if (typeof google != 'undefined' && google.colab.kernel != null) {\n        google.colab.kernel.comms.registerTarget(comm_id, (comm) => {\n          var messages = comm.messages[Symbol.asyncIterator]();\n          function processIteratorResult(result) {\n            var message = result.value;\n            console.log(message)\n            var content = {data: message.data, comm_id};\n            var buffers = []\n            for (var buffer of message.buffers || []) {\n              buffers.push(new DataView(buffer))\n            }\n            var metadata = message.metadata || {};\n            var msg = {content, buffers, metadata}\n            msg_handler(msg);\n            return messages.next().then(processIteratorResult);\n          }\n          return messages.next().then(processIteratorResult);\n        })\n      }\n    }\n\n    JupyterCommManager.prototype.get_client_comm = function(plot_id, comm_id, msg_handler) {\n      if (comm_id in window.PyViz.comms) {\n        return window.PyViz.comms[comm_id];\n      } else if (window.comm_manager || ((window.Jupyter !== undefined) && (Jupyter.notebook.kernel != null))) {\n        var comm_manager = window.comm_manager || Jupyter.notebook.kernel.comm_manager;\n        var comm = comm_manager.new_comm(comm_id, {}, {}, {}, comm_id);\n        if (msg_handler) {\n          comm.on_msg(msg_handler);\n        }\n      } else if ((plot_id in window.PyViz.kernels) && (window.PyViz.kernels[plot_id])) {\n        var comm = window.PyViz.kernels[plot_id].connectToComm(comm_id);\n        comm.open();\n        if (msg_handler) {\n          comm.onMsg = msg_handler;\n        }\n      } else if (typeof google != 'undefined' && google.colab.kernel != null) {\n        var comm_promise = google.colab.kernel.comms.open(comm_id)\n        comm_promise.then((comm) => {\n          window.PyViz.comms[comm_id] = comm;\n          if (msg_handler) {\n            var messages = comm.messages[Symbol.asyncIterator]();\n            function processIteratorResult(result) {\n              var message = result.value;\n              var content = {data: message.data};\n              var metadata = message.metadata || {comm_id};\n              var msg = {content, metadata}\n              msg_handler(msg);\n              return messages.next().then(processIteratorResult);\n            }\n            return messages.next().then(processIteratorResult);\n          }\n        }) \n        var sendClosure = (data, metadata, buffers, disposeOnDone) => {\n          return comm_promise.then((comm) => {\n            comm.send(data, metadata, buffers, disposeOnDone);\n          });\n        };\n        var comm = {\n          send: sendClosure\n        };\n      }\n      window.PyViz.comms[comm_id] = comm;\n      return comm;\n    }\n    window.PyViz.comm_manager = new JupyterCommManager();\n    \n\n\nvar JS_MIME_TYPE = 'application/javascript';\nvar HTML_MIME_TYPE = 'text/html';\nvar EXEC_MIME_TYPE = 'application/vnd.holoviews_exec.v0+json';\nvar CLASS_NAME = 'output';\n\n/**\n * Render data to the DOM node\n */\nfunction render(props, node) {\n  var div = document.createElement(\"div\");\n  var script = document.createElement(\"script\");\n  node.appendChild(div);\n  node.appendChild(script);\n}\n\n/**\n * Handle when a new output is added\n */\nfunction handle_add_output(event, handle) {\n  var output_area = handle.output_area;\n  var output = handle.output;\n  if ((output.data == undefined) || (!output.data.hasOwnProperty(EXEC_MIME_TYPE))) {\n    return\n  }\n  var id = output.metadata[EXEC_MIME_TYPE][\"id\"];\n  var toinsert = output_area.element.find(\".\" + CLASS_NAME.split(' ')[0]);\n  if (id !== undefined) {\n    var nchildren = toinsert.length;\n    var html_node = toinsert[nchildren-1].children[0];\n    html_node.innerHTML = output.data[HTML_MIME_TYPE];\n    var scripts = [];\n    var nodelist = html_node.querySelectorAll(\"script\");\n    for (var i in nodelist) {\n      if (nodelist.hasOwnProperty(i)) {\n        scripts.push(nodelist[i])\n      }\n    }\n\n    scripts.forEach( function (oldScript) {\n      var newScript = document.createElement(\"script\");\n      var attrs = [];\n      var nodemap = oldScript.attributes;\n      for (var j in nodemap) {\n        if (nodemap.hasOwnProperty(j)) {\n          attrs.push(nodemap[j])\n        }\n      }\n      attrs.forEach(function(attr) { newScript.setAttribute(attr.name, attr.value) });\n      newScript.appendChild(document.createTextNode(oldScript.innerHTML));\n      oldScript.parentNode.replaceChild(newScript, oldScript);\n    });\n    if (JS_MIME_TYPE in output.data) {\n      toinsert[nchildren-1].children[1].textContent = output.data[JS_MIME_TYPE];\n    }\n    output_area._hv_plot_id = id;\n    if ((window.Bokeh !== undefined) && (id in Bokeh.index)) {\n      window.PyViz.plot_index[id] = Bokeh.index[id];\n    } else {\n      window.PyViz.plot_index[id] = null;\n    }\n  } else if (output.metadata[EXEC_MIME_TYPE][\"server_id\"] !== undefined) {\n    var bk_div = document.createElement(\"div\");\n    bk_div.innerHTML = output.data[HTML_MIME_TYPE];\n    var script_attrs = bk_div.children[0].attributes;\n    for (var i = 0; i < script_attrs.length; i++) {\n      toinsert[toinsert.length - 1].childNodes[1].setAttribute(script_attrs[i].name, script_attrs[i].value);\n    }\n    // store reference to server id on output_area\n    output_area._bokeh_server_id = output.metadata[EXEC_MIME_TYPE][\"server_id\"];\n  }\n}\n\n/**\n * Handle when an output is cleared or removed\n */\nfunction handle_clear_output(event, handle) {\n  var id = handle.cell.output_area._hv_plot_id;\n  var server_id = handle.cell.output_area._bokeh_server_id;\n  if (((id === undefined) || !(id in PyViz.plot_index)) && (server_id !== undefined)) { return; }\n  var comm = window.PyViz.comm_manager.get_client_comm(\"hv-extension-comm\", \"hv-extension-comm\", function () {});\n  if (server_id !== null) {\n    comm.send({event_type: 'server_delete', 'id': server_id});\n    return;\n  } else if (comm !== null) {\n    comm.send({event_type: 'delete', 'id': id});\n  }\n  delete PyViz.plot_index[id];\n  if ((window.Bokeh !== undefined) & (id in window.Bokeh.index)) {\n    var doc = window.Bokeh.index[id].model.document\n    doc.clear();\n    const i = window.Bokeh.documents.indexOf(doc);\n    if (i > -1) {\n      window.Bokeh.documents.splice(i, 1);\n    }\n  }\n}\n\n/**\n * Handle kernel restart event\n */\nfunction handle_kernel_cleanup(event, handle) {\n  delete PyViz.comms[\"hv-extension-comm\"];\n  window.PyViz.plot_index = {}\n}\n\n/**\n * Handle update_display_data messages\n */\nfunction handle_update_output(event, handle) {\n  handle_clear_output(event, {cell: {output_area: handle.output_area}})\n  handle_add_output(event, handle)\n}\n\nfunction register_renderer(events, OutputArea) {\n  function append_mime(data, metadata, element) {\n    // create a DOM node to render to\n    var toinsert = this.create_output_subarea(\n    metadata,\n    CLASS_NAME,\n    EXEC_MIME_TYPE\n    );\n    this.keyboard_manager.register_events(toinsert);\n    // Render to node\n    var props = {data: data, metadata: metadata[EXEC_MIME_TYPE]};\n    render(props, toinsert[0]);\n    element.append(toinsert);\n    return toinsert\n  }\n\n  events.on('output_added.OutputArea', handle_add_output);\n  events.on('output_updated.OutputArea', handle_update_output);\n  events.on('clear_output.CodeCell', handle_clear_output);\n  events.on('delete.Cell', handle_clear_output);\n  events.on('kernel_ready.Kernel', handle_kernel_cleanup);\n\n  OutputArea.prototype.register_mime_type(EXEC_MIME_TYPE, append_mime, {\n    safe: true,\n    index: 0\n  });\n}\n\nif (window.Jupyter !== undefined) {\n  try {\n    var events = require('base/js/events');\n    var OutputArea = require('notebook/js/outputarea').OutputArea;\n    if (OutputArea.prototype.mime_types().indexOf(EXEC_MIME_TYPE) == -1) {\n      register_renderer(events, OutputArea);\n    }\n  } catch(err) {\n  }\n}\n",
      "application/vnd.holoviews_load.v0+json": ""
     },
     "metadata": {},
     "output_type": "display_data"
    }
   ],
   "source": [
    "import os\n",
    "import numpy as np\n",
    "import sys\n",
    "import panel as pn\n",
    "import time\n",
    "import json\n",
    "import logging\n",
    "import threading\n",
    "\n",
    "from azure.eventhub import EventHubConsumerClient\n",
    "from bokeh.io import curdoc\n",
    "from bokeh.models import ColumnDataSource, DatetimeTickFormatter, Select\n",
    "from bokeh.layouts import layout\n",
    "from bokeh.plotting import figure\n",
    "from datetime import datetime\n",
    "from math import radians\n",
    "\n",
    "pn.extension()\n",
    "rng = np.random.default_rng(12345)\n",
    "\n",
    "RECEIVED_MESSAGES = 0\n",
    "connection_str = os.environ.get(\"IOTHUB_CONNECTION_STRING\")\n",
    "consumer_group = os.environ.get(\"IOTHUB_CONSUMER_GROUP\")\n",
    "eventhub_name= os.environ.get(\"IOTHUB_COMPATIBLE_NAME\")"
   ]
  },
  {
   "cell_type": "code",
   "execution_count": 2,
   "id": "de913021",
   "metadata": {},
   "outputs": [],
   "source": [
    "# We produce new data here, and use the selector to discriminate\n",
    "def message_handler(partition_context, event):\n",
    "    logger.info(\"Received event from partition {}\".format(partition_context.partition_id))\n",
    "\n",
    "    message = event.body_as_json()\n",
    "\n",
    "    print(\"\\nMessage received:\")\n",
    "    print( \"    Data: <<{}>>\".format(message) )\n",
    "\n",
    "    partition_context.update_checkpoint(event)\n",
    "\n",
    "\n",
    "def on_error(partition_context, error):\n",
    "    # Put your code here. partition_context can be None in the on_error callback.\n",
    "    if partition_context:\n",
    "        print(\"An exception: {} occurred during receiving from Partition: {}.\".format(\n",
    "            partition_context.partition_id,\n",
    "            error\n",
    "        ))\n",
    "    else:\n",
    "        print(\"An exception: {} occurred during the load balance process.\".format(error))\n",
    "        \n",
    "        \n"
   ]
  },
  {
   "cell_type": "code",
   "execution_count": null,
   "id": "01e2cea5",
   "metadata": {},
   "outputs": [
    {
     "name": "stderr",
     "output_type": "stream",
     "text": [
      "INFO:azure.eventhub._eventprocessor.event_processor:EventProcessor '92f7a63a-01e6-4bc4-9734-024e5e7fecdc' is being started\n",
      "INFO:uamqp.connection:Connection b'87593f01-5a9b-4dce-ae3d-dc18cc7bf09e' state changed from <ConnectionState.START: 0> to <ConnectionState.START: 0>\n",
      "INFO:uamqp.connection:Connection b'87593f01-5a9b-4dce-ae3d-dc18cc7bf09e' state changed from <ConnectionState.START: 0> to <ConnectionState.START: 0>\n",
      "INFO:uamqp.connection:Connection b'87593f01-5a9b-4dce-ae3d-dc18cc7bf09e' state changed from <ConnectionState.START: 0> to <ConnectionState.HDR_SENT: 2>\n",
      "INFO:uamqp.connection:Connection b'87593f01-5a9b-4dce-ae3d-dc18cc7bf09e' state changed from <ConnectionState.HDR_SENT: 2> to <ConnectionState.HDR_EXCH: 3>\n",
      "INFO:uamqp.connection:Connection b'87593f01-5a9b-4dce-ae3d-dc18cc7bf09e' state changed from <ConnectionState.HDR_EXCH: 3> to <ConnectionState.OPEN_SENT: 7>\n",
      "INFO:uamqp.connection:Connection b'87593f01-5a9b-4dce-ae3d-dc18cc7bf09e' state changed from <ConnectionState.OPEN_SENT: 7> to <ConnectionState.OPENED: 9>\n",
      "INFO:uamqp.c_uamqp:CBS for connection b'87593f01-5a9b-4dce-ae3d-dc18cc7bf09e' completed opening with status: 1\n",
      "INFO:uamqp.c_uamqp:Token put complete with result: 1, status: 202, description: b'Accepted', connection: b'87593f01-5a9b-4dce-ae3d-dc18cc7bf09e'\n",
      "INFO:uamqp.connection:Shutting down connection b'87593f01-5a9b-4dce-ae3d-dc18cc7bf09e'.\n",
      "INFO:uamqp.authentication.cbs_auth:Shutting down CBS session on connection: b'87593f01-5a9b-4dce-ae3d-dc18cc7bf09e'.\n",
      "INFO:uamqp.authentication.cbs_auth:Auth closed, destroying session on connection: b'87593f01-5a9b-4dce-ae3d-dc18cc7bf09e'.\n",
      "INFO:uamqp.authentication.cbs_auth:Finished shutting down CBS session on connection: b'87593f01-5a9b-4dce-ae3d-dc18cc7bf09e'.\n",
      "INFO:uamqp.connection:Connection b'87593f01-5a9b-4dce-ae3d-dc18cc7bf09e' state changed from <ConnectionState.OPENED: 9> to <ConnectionState.END: 13>\n",
      "INFO:uamqp.connection:Connection shutdown complete b'87593f01-5a9b-4dce-ae3d-dc18cc7bf09e'.\n",
      "INFO:azure.eventhub._eventprocessor.event_processor:EventProcessor '92f7a63a-01e6-4bc4-9734-024e5e7fecdc' has claimed partition '0'\n",
      "INFO:azure.eventhub._eventprocessor.event_processor:EventProcessor '92f7a63a-01e6-4bc4-9734-024e5e7fecdc' has claimed partition '1'\n",
      "INFO:uamqp.connection:Connection b'EHConsumer-f0c49cd2-1451-4d54-9e9a-6c9ed1e9c946-partition0' state changed from <ConnectionState.START: 0> to <ConnectionState.START: 0>\n",
      "INFO:uamqp.connection:Connection b'EHConsumer-f0c49cd2-1451-4d54-9e9a-6c9ed1e9c946-partition0' state changed from <ConnectionState.START: 0> to <ConnectionState.START: 0>\n",
      "INFO:uamqp.connection:Connection b'EHConsumer-d8726250-a895-4e4c-98c5-6aeaf1b305ae-partition1' state changed from <ConnectionState.START: 0> to <ConnectionState.START: 0>\n",
      "INFO:uamqp.connection:Connection b'EHConsumer-d8726250-a895-4e4c-98c5-6aeaf1b305ae-partition1' state changed from <ConnectionState.START: 0> to <ConnectionState.START: 0>\n",
      "INFO:uamqp.connection:Connection b'EHConsumer-f0c49cd2-1451-4d54-9e9a-6c9ed1e9c946-partition0' state changed from <ConnectionState.START: 0> to <ConnectionState.HDR_SENT: 2>\n",
      "INFO:uamqp.connection:Connection b'EHConsumer-d8726250-a895-4e4c-98c5-6aeaf1b305ae-partition1' state changed from <ConnectionState.START: 0> to <ConnectionState.HDR_SENT: 2>\n",
      "INFO:uamqp.connection:Connection b'EHConsumer-f0c49cd2-1451-4d54-9e9a-6c9ed1e9c946-partition0' state changed from <ConnectionState.HDR_SENT: 2> to <ConnectionState.HDR_EXCH: 3>\n",
      "INFO:uamqp.connection:Connection b'EHConsumer-f0c49cd2-1451-4d54-9e9a-6c9ed1e9c946-partition0' state changed from <ConnectionState.HDR_EXCH: 3> to <ConnectionState.OPEN_SENT: 7>\n",
      "INFO:uamqp.connection:Connection b'EHConsumer-d8726250-a895-4e4c-98c5-6aeaf1b305ae-partition1' state changed from <ConnectionState.HDR_SENT: 2> to <ConnectionState.HDR_EXCH: 3>\n",
      "INFO:uamqp.connection:Connection b'EHConsumer-d8726250-a895-4e4c-98c5-6aeaf1b305ae-partition1' state changed from <ConnectionState.HDR_EXCH: 3> to <ConnectionState.OPEN_SENT: 7>\n",
      "INFO:uamqp.connection:Connection b'EHConsumer-f0c49cd2-1451-4d54-9e9a-6c9ed1e9c946-partition0' state changed from <ConnectionState.OPEN_SENT: 7> to <ConnectionState.OPENED: 9>\n",
      "INFO:uamqp.connection:Connection b'EHConsumer-d8726250-a895-4e4c-98c5-6aeaf1b305ae-partition1' state changed from <ConnectionState.OPEN_SENT: 7> to <ConnectionState.OPENED: 9>\n",
      "INFO:uamqp.c_uamqp:CBS for connection b'EHConsumer-f0c49cd2-1451-4d54-9e9a-6c9ed1e9c946-partition0' completed opening with status: 1\n",
      "INFO:uamqp.c_uamqp:CBS for connection b'EHConsumer-d8726250-a895-4e4c-98c5-6aeaf1b305ae-partition1' completed opening with status: 1\n",
      "INFO:uamqp.c_uamqp:Token put complete with result: 1, status: 202, description: b'Accepted', connection: b'EHConsumer-f0c49cd2-1451-4d54-9e9a-6c9ed1e9c946-partition0'\n",
      "INFO:uamqp.receiver:Message receiver b'receiver-link-422214bb-7ca0-4c54-a941-bcdfac4b5d08' state changed from <MessageReceiverState.Idle: 1> to <MessageReceiverState.Opening: 2> on connection: b'EHConsumer-f0c49cd2-1451-4d54-9e9a-6c9ed1e9c946-partition0'\n",
      "INFO:uamqp.c_uamqp:Token put complete with result: 1, status: 202, description: b'Accepted', connection: b'EHConsumer-d8726250-a895-4e4c-98c5-6aeaf1b305ae-partition1'\n",
      "INFO:uamqp.receiver:Message receiver b'receiver-link-15e9958a-1de6-46d4-8d2a-4afad1c9bbc5' state changed from <MessageReceiverState.Idle: 1> to <MessageReceiverState.Opening: 2> on connection: b'EHConsumer-d8726250-a895-4e4c-98c5-6aeaf1b305ae-partition1'\n",
      "INFO:uamqp.receiver:Message receiver b'receiver-link-422214bb-7ca0-4c54-a941-bcdfac4b5d08' state changed from <MessageReceiverState.Opening: 2> to <MessageReceiverState.Open: 3> on connection: b'EHConsumer-f0c49cd2-1451-4d54-9e9a-6c9ed1e9c946-partition0'\n",
      "INFO:uamqp.receiver:Message receiver b'receiver-link-15e9958a-1de6-46d4-8d2a-4afad1c9bbc5' state changed from <MessageReceiverState.Opening: 2> to <MessageReceiverState.Open: 3> on connection: b'EHConsumer-d8726250-a895-4e4c-98c5-6aeaf1b305ae-partition1'\n",
      "INFO:azure.eventhub:Received event from partition 1\n",
      "INFO:azure.eventhub:Received event from partition 1\n",
      "INFO:azure.eventhub:Received event from partition 1\n",
      "INFO:azure.eventhub:Received event from partition 1\n"
     ]
    },
    {
     "name": "stdout",
     "output_type": "stream",
     "text": [
      "\n",
      "Message received:\n",
      "    Data: <<{'messageCount': 7, 'humidity': 62, 'temperature': 28, 'timestamp': '2022-04-24\\n16:46:37'}>>\n",
      "\n",
      "Message received:\n",
      "    Data: <<{'messageCount': 8, 'humidity': 62, 'temperature': 28, 'timestamp': '2022-04-24\\n16:46:41'}>>\n",
      "\n",
      "Message received:\n",
      "    Data: <<{'messageCount': 9, 'humidity': 62, 'temperature': 28, 'timestamp': '2022-04-24\\n16:46:42'}>>\n"
     ]
    },
    {
     "name": "stderr",
     "output_type": "stream",
     "text": [
      "INFO:azure.eventhub:Received event from partition 1\n",
      "INFO:azure.eventhub:Received event from partition 1\n",
      "INFO:azure.eventhub:Received event from partition 1\n"
     ]
    },
    {
     "name": "stdout",
     "output_type": "stream",
     "text": [
      "\n",
      "Message received:\n",
      "    Data: <<{'messageCount': 10, 'humidity': 61, 'temperature': 28, 'timestamp': '2022-04-24\\n16:46:43'}>>\n",
      "\n",
      "Message received:\n",
      "    Data: <<{'messageCount': 11, 'humidity': 61, 'temperature': 28, 'timestamp': '2022-04-24\\n16:46:44'}>>\n",
      "\n",
      "Message received:\n",
      "    Data: <<{'messageCount': 13, 'humidity': 61, 'temperature': 28, 'timestamp': '2022-04-24\\n16:46:49'}>>\n"
     ]
    },
    {
     "name": "stderr",
     "output_type": "stream",
     "text": [
      "INFO:azure.eventhub:Received event from partition 1\n",
      "INFO:azure.eventhub:Received event from partition 1\n",
      "INFO:azure.eventhub:Received event from partition 1\n"
     ]
    },
    {
     "name": "stdout",
     "output_type": "stream",
     "text": [
      "\n",
      "Message received:\n",
      "    Data: <<{'messageCount': 14, 'humidity': 61, 'temperature': 28, 'timestamp': '2022-04-24\\n16:46:50'}>>\n",
      "\n",
      "Message received:\n",
      "    Data: <<{'messageCount': 15, 'humidity': 60, 'temperature': 28, 'timestamp': '2022-04-24\\n16:46:51'}>>\n",
      "\n",
      "Message received:\n",
      "    Data: <<{'messageCount': 16, 'humidity': 60, 'temperature': 28, 'timestamp': '2022-04-24\\n16:46:52'}>>\n",
      "\n",
      "Message received:\n",
      "    Data: <<{'messageCount': 17, 'humidity': 60, 'temperature': 28, 'timestamp': '2022-04-24\\n16:46:54'}>>\n"
     ]
    },
    {
     "name": "stderr",
     "output_type": "stream",
     "text": [
      "INFO:azure.eventhub:Received event from partition 1\n",
      "INFO:azure.eventhub:Received event from partition 1\n",
      "INFO:azure.eventhub:Received event from partition 1\n",
      "INFO:azure.eventhub:Received event from partition 1\n"
     ]
    },
    {
     "name": "stdout",
     "output_type": "stream",
     "text": [
      "\n",
      "Message received:\n",
      "    Data: <<{'messageCount': 18, 'humidity': 60, 'temperature': 28, 'timestamp': '2022-04-24\\n16:46:55'}>>\n",
      "\n",
      "Message received:\n",
      "    Data: <<{'messageCount': 19, 'humidity': 59, 'temperature': 28, 'timestamp': '2022-04-24\\n16:46:56'}>>\n",
      "\n",
      "Message received:\n",
      "    Data: <<{'messageCount': 20, 'humidity': 59, 'temperature': 28, 'timestamp': '2022-04-24\\n16:46:57'}>>\n"
     ]
    },
    {
     "name": "stderr",
     "output_type": "stream",
     "text": [
      "INFO:azure.eventhub:Received event from partition 1\n",
      "INFO:azure.eventhub:Received event from partition 1\n",
      "INFO:azure.eventhub:Received event from partition 1\n"
     ]
    },
    {
     "name": "stdout",
     "output_type": "stream",
     "text": [
      "\n",
      "Message received:\n",
      "    Data: <<{'messageCount': 21, 'humidity': 59, 'temperature': 28, 'timestamp': '2022-04-24\\n16:46:58'}>>\n",
      "\n",
      "Message received:\n",
      "    Data: <<{'messageCount': 22, 'humidity': 59, 'temperature': 28, 'timestamp': '2022-04-24\\n16:46:59'}>>\n",
      "\n",
      "Message received:\n",
      "    Data: <<{'messageCount': 23, 'humidity': 59, 'temperature': 28, 'timestamp': '2022-04-24\\n16:47:00'}>>\n"
     ]
    },
    {
     "name": "stderr",
     "output_type": "stream",
     "text": [
      "INFO:azure.eventhub:Received event from partition 1\n",
      "INFO:azure.eventhub:Received event from partition 1\n",
      "INFO:azure.eventhub:Received event from partition 1\n"
     ]
    },
    {
     "name": "stdout",
     "output_type": "stream",
     "text": [
      "\n",
      "Message received:\n",
      "    Data: <<{'messageCount': 24, 'humidity': 59, 'temperature': 28, 'timestamp': '2022-04-24\\n16:47:01'}>>\n",
      "\n",
      "Message received:\n",
      "    Data: <<{'messageCount': 25, 'humidity': 59, 'temperature': 28, 'timestamp': '2022-04-24\\n16:47:03'}>>\n",
      "\n",
      "Message received:\n",
      "    Data: <<{'messageCount': 26, 'humidity': 59, 'temperature': 28, 'timestamp': '2022-04-24\\n16:47:04'}>>\n"
     ]
    },
    {
     "name": "stderr",
     "output_type": "stream",
     "text": [
      "INFO:azure.eventhub:Received event from partition 1\n",
      "INFO:azure.eventhub:Received event from partition 1\n",
      "INFO:azure.eventhub:Received event from partition 1\n"
     ]
    },
    {
     "name": "stdout",
     "output_type": "stream",
     "text": [
      "\n",
      "Message received:\n",
      "    Data: <<{'messageCount': 27, 'humidity': 59, 'temperature': 28, 'timestamp': '2022-04-24\\n16:47:05'}>>\n",
      "\n",
      "Message received:\n",
      "    Data: <<{'messageCount': 28, 'humidity': 59, 'temperature': 28, 'timestamp': '2022-04-24\\n16:47:06'}>>\n",
      "\n",
      "Message received:\n",
      "    Data: <<{'messageCount': 29, 'humidity': 59, 'temperature': 28, 'timestamp': '2022-04-24\\n16:47:07'}>>\n",
      "\n",
      "Message received:\n",
      "    Data: <<{'messageCount': 30, 'humidity': 59, 'temperature': 28, 'timestamp': '2022-04-24\\n16:47:08'}>>\n"
     ]
    },
    {
     "name": "stderr",
     "output_type": "stream",
     "text": [
      "INFO:azure.eventhub:Received event from partition 1\n",
      "INFO:azure.eventhub:Received event from partition 1\n",
      "INFO:azure.eventhub:Received event from partition 1\n",
      "INFO:azure.eventhub:Received event from partition 1\n"
     ]
    },
    {
     "name": "stdout",
     "output_type": "stream",
     "text": [
      "\n",
      "Message received:\n",
      "    Data: <<{'messageCount': 31, 'humidity': 59, 'temperature': 28, 'timestamp': '2022-04-24\\n16:47:10'}>>\n",
      "\n",
      "Message received:\n",
      "    Data: <<{'messageCount': 32, 'humidity': 59, 'temperature': 28, 'timestamp': '2022-04-24\\n16:47:11'}>>\n",
      "\n",
      "Message received:\n",
      "    Data: <<{'messageCount': 33, 'humidity': 58, 'temperature': 28, 'timestamp': '2022-04-24\\n16:47:12'}>>\n"
     ]
    },
    {
     "name": "stderr",
     "output_type": "stream",
     "text": [
      "INFO:azure.eventhub:Received event from partition 1\n",
      "INFO:azure.eventhub:Received event from partition 1\n",
      "INFO:azure.eventhub:Received event from partition 1\n"
     ]
    },
    {
     "name": "stdout",
     "output_type": "stream",
     "text": [
      "\n",
      "Message received:\n",
      "    Data: <<{'messageCount': 34, 'humidity': 58, 'temperature': 28, 'timestamp': '2022-04-24\\n16:47:13'}>>\n",
      "\n",
      "Message received:\n",
      "    Data: <<{'messageCount': 35, 'humidity': 59, 'temperature': 28, 'timestamp': '2022-04-24\\n16:47:14'}>>\n",
      "\n",
      "Message received:\n",
      "    Data: <<{'messageCount': 36, 'humidity': 59, 'temperature': 28, 'timestamp': '2022-04-24\\n16:47:15'}>>\n"
     ]
    },
    {
     "name": "stderr",
     "output_type": "stream",
     "text": [
      "INFO:azure.eventhub:Received event from partition 1\n",
      "INFO:azure.eventhub:Received event from partition 1\n",
      "INFO:azure.eventhub:Received event from partition 1\n"
     ]
    },
    {
     "name": "stdout",
     "output_type": "stream",
     "text": [
      "\n",
      "Message received:\n",
      "    Data: <<{'messageCount': 37, 'humidity': 58, 'temperature': 28, 'timestamp': '2022-04-24\\n16:47:17'}>>\n",
      "\n",
      "Message received:\n",
      "    Data: <<{'messageCount': 38, 'humidity': 58, 'temperature': 28, 'timestamp': '2022-04-24\\n16:47:18'}>>\n",
      "\n",
      "Message received:\n",
      "    Data: <<{'messageCount': 39, 'humidity': 58, 'temperature': 28, 'timestamp': '2022-04-24\\n16:47:19'}>>\n"
     ]
    },
    {
     "name": "stderr",
     "output_type": "stream",
     "text": [
      "INFO:azure.eventhub:Received event from partition 1\n",
      "INFO:azure.eventhub:Received event from partition 1\n",
      "INFO:azure.eventhub:Received event from partition 1\n"
     ]
    },
    {
     "name": "stdout",
     "output_type": "stream",
     "text": [
      "\n",
      "Message received:\n",
      "    Data: <<{'messageCount': 40, 'humidity': 58, 'temperature': 28, 'timestamp': '2022-04-24\\n16:47:20'}>>\n",
      "\n",
      "Message received:\n",
      "    Data: <<{'messageCount': 41, 'humidity': 58, 'temperature': 28, 'timestamp': '2022-04-24\\n16:47:21'}>>\n",
      "\n",
      "Message received:\n",
      "    Data: <<{'messageCount': 42, 'humidity': 58, 'temperature': 28, 'timestamp': '2022-04-24\\n16:47:22'}>>\n"
     ]
    },
    {
     "name": "stderr",
     "output_type": "stream",
     "text": [
      "INFO:azure.eventhub:Received event from partition 1\n",
      "INFO:azure.eventhub:Received event from partition 1\n",
      "INFO:azure.eventhub:Received event from partition 1\n"
     ]
    },
    {
     "name": "stdout",
     "output_type": "stream",
     "text": [
      "\n",
      "Message received:\n",
      "    Data: <<{'messageCount': 43, 'humidity': 58, 'temperature': 28, 'timestamp': '2022-04-24\\n16:47:23'}>>\n",
      "\n",
      "Message received:\n",
      "    Data: <<{'messageCount': 44, 'humidity': 58, 'temperature': 28, 'timestamp': '2022-04-24\\n16:47:24'}>>\n",
      "\n",
      "Message received:\n",
      "    Data: <<{'messageCount': 45, 'humidity': 58, 'temperature': 28, 'timestamp': '2022-04-24\\n16:47:26'}>>\n"
     ]
    },
    {
     "name": "stderr",
     "output_type": "stream",
     "text": [
      "INFO:azure.eventhub:Received event from partition 1\n",
      "INFO:azure.eventhub:Received event from partition 1\n",
      "INFO:azure.eventhub:Received event from partition 1\n"
     ]
    },
    {
     "name": "stdout",
     "output_type": "stream",
     "text": [
      "\n",
      "Message received:\n",
      "    Data: <<{'messageCount': 47, 'humidity': 58, 'temperature': 28, 'timestamp': '2022-04-24\\n16:47:28'}>>\n",
      "\n",
      "Message received:\n",
      "    Data: <<{'messageCount': 46, 'humidity': 58, 'temperature': 28, 'timestamp': '2022-04-24\\n16:47:27'}>>\n",
      "\n",
      "Message received:\n",
      "    Data: <<{'messageCount': 48, 'humidity': 58, 'temperature': 28, 'timestamp': '2022-04-24\\n16:47:29'}>>\n",
      "\n",
      "Message received:\n",
      "    Data: <<{'messageCount': 49, 'humidity': 58, 'temperature': 28, 'timestamp': '2022-04-24\\n16:47:30'}>>\n"
     ]
    },
    {
     "name": "stderr",
     "output_type": "stream",
     "text": [
      "INFO:azure.eventhub:Received event from partition 1\n",
      "INFO:azure.eventhub:Received event from partition 1\n",
      "INFO:azure.eventhub:Received event from partition 1\n",
      "INFO:azure.eventhub:Received event from partition 1\n"
     ]
    },
    {
     "name": "stdout",
     "output_type": "stream",
     "text": [
      "\n",
      "Message received:\n",
      "    Data: <<{'messageCount': 50, 'humidity': 58, 'temperature': 28, 'timestamp': '2022-04-24\\n16:47:31'}>>\n",
      "\n",
      "Message received:\n",
      "    Data: <<{'messageCount': 51, 'humidity': 58, 'temperature': 28, 'timestamp': '2022-04-24\\n16:47:33'}>>\n",
      "\n",
      "Message received:\n",
      "    Data: <<{'messageCount': 52, 'humidity': 58, 'temperature': 28, 'timestamp': '2022-04-24\\n16:47:34'}>>\n"
     ]
    },
    {
     "name": "stderr",
     "output_type": "stream",
     "text": [
      "INFO:azure.eventhub:Received event from partition 1\n",
      "INFO:azure.eventhub:Received event from partition 1\n",
      "INFO:azure.eventhub:Received event from partition 1\n"
     ]
    },
    {
     "name": "stdout",
     "output_type": "stream",
     "text": [
      "\n",
      "Message received:\n",
      "    Data: <<{'messageCount': 53, 'humidity': 58, 'temperature': 28, 'timestamp': '2022-04-24\\n16:47:35'}>>\n",
      "\n",
      "Message received:\n",
      "    Data: <<{'messageCount': 54, 'humidity': 58, 'temperature': 28, 'timestamp': '2022-04-24\\n16:47:36'}>>\n",
      "\n",
      "Message received:\n",
      "    Data: <<{'messageCount': 55, 'humidity': 58, 'temperature': 28, 'timestamp': '2022-04-24\\n16:47:37'}>>\n"
     ]
    },
    {
     "name": "stderr",
     "output_type": "stream",
     "text": [
      "INFO:azure.eventhub:Received event from partition 1\n",
      "INFO:azure.eventhub:Received event from partition 1\n",
      "INFO:azure.eventhub:Received event from partition 1\n"
     ]
    },
    {
     "name": "stdout",
     "output_type": "stream",
     "text": [
      "\n",
      "Message received:\n",
      "    Data: <<{'messageCount': 56, 'humidity': 58, 'temperature': 28, 'timestamp': '2022-04-24\\n16:47:38'}>>\n",
      "\n",
      "Message received:\n",
      "    Data: <<{'messageCount': 57, 'humidity': 57, 'temperature': 27, 'timestamp': '2022-04-24\\n16:47:39'}>>\n",
      "\n",
      "Message received:\n",
      "    Data: <<{'messageCount': 58, 'humidity': 57, 'temperature': 27, 'timestamp': '2022-04-24\\n16:47:40'}>>\n"
     ]
    },
    {
     "name": "stderr",
     "output_type": "stream",
     "text": [
      "INFO:azure.eventhub:Received event from partition 1\n",
      "INFO:azure.eventhub:Received event from partition 1\n",
      "INFO:azure.eventhub:Received event from partition 1\n"
     ]
    },
    {
     "name": "stdout",
     "output_type": "stream",
     "text": [
      "\n",
      "Message received:\n",
      "    Data: <<{'messageCount': 59, 'humidity': 57, 'temperature': 27, 'timestamp': '2022-04-24\\n16:47:42'}>>\n",
      "\n",
      "Message received:\n",
      "    Data: <<{'messageCount': 60, 'humidity': 57, 'temperature': 27, 'timestamp': '2022-04-24\\n16:47:43'}>>\n",
      "\n",
      "Message received:\n",
      "    Data: <<{'messageCount': 61, 'humidity': 57, 'temperature': 27, 'timestamp': '2022-04-24\\n16:47:44'}>>\n"
     ]
    },
    {
     "name": "stderr",
     "output_type": "stream",
     "text": [
      "INFO:azure.eventhub:Received event from partition 1\n",
      "INFO:azure.eventhub:Received event from partition 1\n",
      "INFO:azure.eventhub:Received event from partition 1\n"
     ]
    },
    {
     "name": "stdout",
     "output_type": "stream",
     "text": [
      "\n",
      "Message received:\n",
      "    Data: <<{'messageCount': 62, 'humidity': 57, 'temperature': 27, 'timestamp': '2022-04-24\\n16:47:45'}>>\n",
      "\n",
      "Message received:\n",
      "    Data: <<{'messageCount': 63, 'humidity': 57, 'temperature': 27, 'timestamp': '2022-04-24\\n16:47:46'}>>\n",
      "\n",
      "Message received:\n",
      "    Data: <<{'messageCount': 64, 'humidity': 57, 'temperature': 27, 'timestamp': '2022-04-24\\n16:47:47'}>>\n"
     ]
    },
    {
     "name": "stderr",
     "output_type": "stream",
     "text": [
      "INFO:azure.eventhub:Received event from partition 1\n",
      "INFO:azure.eventhub:Received event from partition 1\n",
      "INFO:azure.eventhub:Received event from partition 1\n"
     ]
    },
    {
     "name": "stdout",
     "output_type": "stream",
     "text": [
      "\n",
      "Message received:\n",
      "    Data: <<{'messageCount': 65, 'humidity': 57, 'temperature': 27, 'timestamp': '2022-04-24\\n16:47:49'}>>\n",
      "\n",
      "Message received:\n",
      "    Data: <<{'messageCount': 66, 'humidity': 57, 'temperature': 27, 'timestamp': '2022-04-24\\n16:47:50'}>>\n",
      "\n",
      "Message received:\n",
      "    Data: <<{'messageCount': 67, 'humidity': 57, 'temperature': 27, 'timestamp': '2022-04-24\\n16:47:51'}>>\n"
     ]
    },
    {
     "name": "stderr",
     "output_type": "stream",
     "text": [
      "INFO:azure.eventhub:Received event from partition 1\n",
      "INFO:azure.eventhub:Received event from partition 1\n",
      "INFO:azure.eventhub:Received event from partition 1\n"
     ]
    },
    {
     "name": "stdout",
     "output_type": "stream",
     "text": [
      "\n",
      "Message received:\n",
      "    Data: <<{'messageCount': 68, 'humidity': 57, 'temperature': 27, 'timestamp': '2022-04-24\\n16:47:52'}>>\n",
      "\n",
      "Message received:\n",
      "    Data: <<{'messageCount': 69, 'humidity': 57, 'temperature': 27, 'timestamp': '2022-04-24\\n16:47:53'}>>\n",
      "\n",
      "Message received:\n",
      "    Data: <<{'messageCount': 70, 'humidity': 57, 'temperature': 27, 'timestamp': '2022-04-24\\n16:47:54'}>>\n"
     ]
    },
    {
     "name": "stderr",
     "output_type": "stream",
     "text": [
      "INFO:azure.eventhub:Received event from partition 1\n",
      "INFO:azure.eventhub:Received event from partition 1\n",
      "INFO:azure.eventhub:Received event from partition 1\n"
     ]
    },
    {
     "name": "stdout",
     "output_type": "stream",
     "text": [
      "\n",
      "Message received:\n",
      "    Data: <<{'messageCount': 71, 'humidity': 57, 'temperature': 27, 'timestamp': '2022-04-24\\n16:47:56'}>>\n",
      "\n",
      "Message received:\n",
      "    Data: <<{'messageCount': 72, 'humidity': 57, 'temperature': 27, 'timestamp': '2022-04-24\\n16:47:57'}>>\n",
      "\n",
      "Message received:\n",
      "    Data: <<{'messageCount': 73, 'humidity': 57, 'temperature': 27, 'timestamp': '2022-04-24\\n16:47:58'}>>\n"
     ]
    },
    {
     "name": "stderr",
     "output_type": "stream",
     "text": [
      "INFO:azure.eventhub:Received event from partition 1\n",
      "INFO:azure.eventhub:Received event from partition 1\n",
      "INFO:azure.eventhub:Received event from partition 1\n"
     ]
    },
    {
     "name": "stdout",
     "output_type": "stream",
     "text": [
      "\n",
      "Message received:\n",
      "    Data: <<{'messageCount': 74, 'humidity': 57, 'temperature': 27, 'timestamp': '2022-04-24\\n16:47:59'}>>\n",
      "\n",
      "Message received:\n",
      "    Data: <<{'messageCount': 75, 'humidity': 57, 'temperature': 27, 'timestamp': '2022-04-24\\n16:48:00'}>>\n",
      "\n",
      "Message received:\n",
      "    Data: <<{'messageCount': 76, 'humidity': 57, 'temperature': 27, 'timestamp': '2022-04-24\\n16:48:01'}>>\n",
      "\n",
      "Message received:\n",
      "    Data: <<{'messageCount': 77, 'humidity': 57, 'temperature': 27, 'timestamp': '2022-04-24\\n16:48:02'}>>\n"
     ]
    },
    {
     "name": "stderr",
     "output_type": "stream",
     "text": [
      "INFO:azure.eventhub:Received event from partition 1\n",
      "INFO:azure.eventhub:Received event from partition 1\n",
      "INFO:azure.eventhub:Received event from partition 1\n",
      "INFO:azure.eventhub:Received event from partition 1\n"
     ]
    },
    {
     "name": "stdout",
     "output_type": "stream",
     "text": [
      "\n",
      "Message received:\n",
      "    Data: <<{'messageCount': 78, 'humidity': 57, 'temperature': 27, 'timestamp': '2022-04-24\\n16:48:03'}>>\n",
      "\n",
      "Message received:\n",
      "    Data: <<{'messageCount': 79, 'humidity': 57, 'temperature': 27, 'timestamp': '2022-04-24\\n16:48:05'}>>\n",
      "\n",
      "Message received:\n",
      "    Data: <<{'messageCount': 80, 'humidity': 57, 'temperature': 27, 'timestamp': '2022-04-24\\n16:48:06'}>>\n"
     ]
    },
    {
     "name": "stderr",
     "output_type": "stream",
     "text": [
      "INFO:azure.eventhub:Received event from partition 1\n",
      "INFO:azure.eventhub:Received event from partition 1\n",
      "INFO:azure.eventhub:Received event from partition 1\n"
     ]
    },
    {
     "name": "stdout",
     "output_type": "stream",
     "text": [
      "\n",
      "Message received:\n",
      "    Data: <<{'messageCount': 81, 'humidity': 57, 'temperature': 27, 'timestamp': '2022-04-24\\n16:48:07'}>>\n",
      "\n",
      "Message received:\n",
      "    Data: <<{'messageCount': 82, 'humidity': 57, 'temperature': 27, 'timestamp': '2022-04-24\\n16:48:08'}>>\n",
      "\n",
      "Message received:\n",
      "    Data: <<{'messageCount': 83, 'humidity': 57, 'temperature': 27, 'timestamp': '2022-04-24\\n16:48:09'}>>\n"
     ]
    },
    {
     "name": "stderr",
     "output_type": "stream",
     "text": [
      "INFO:azure.eventhub:Received event from partition 1\n",
      "INFO:azure.eventhub:Received event from partition 1\n",
      "INFO:azure.eventhub:Received event from partition 1\n"
     ]
    },
    {
     "name": "stdout",
     "output_type": "stream",
     "text": [
      "\n",
      "Message received:\n",
      "    Data: <<{'messageCount': 84, 'humidity': 57, 'temperature': 27, 'timestamp': '2022-04-24\\n16:48:10'}>>\n",
      "\n",
      "Message received:\n",
      "    Data: <<{'messageCount': 85, 'humidity': 57, 'temperature': 27, 'timestamp': '2022-04-24\\n16:48:12'}>>\n",
      "\n",
      "Message received:\n",
      "    Data: <<{'messageCount': 86, 'humidity': 57, 'temperature': 27, 'timestamp': '2022-04-24\\n16:48:13'}>>\n"
     ]
    },
    {
     "name": "stderr",
     "output_type": "stream",
     "text": [
      "INFO:azure.eventhub:Received event from partition 1\n",
      "INFO:azure.eventhub:Received event from partition 1\n",
      "INFO:azure.eventhub:Received event from partition 1\n"
     ]
    },
    {
     "name": "stdout",
     "output_type": "stream",
     "text": [
      "\n",
      "Message received:\n",
      "    Data: <<{'messageCount': 87, 'humidity': 57, 'temperature': 27, 'timestamp': '2022-04-24\\n16:48:14'}>>\n",
      "\n",
      "Message received:\n",
      "    Data: <<{'messageCount': 88, 'humidity': 57, 'temperature': 27, 'timestamp': '2022-04-24\\n16:48:15'}>>\n",
      "\n",
      "Message received:\n",
      "    Data: <<{'messageCount': 89, 'humidity': 57, 'temperature': 27, 'timestamp': '2022-04-24\\n16:48:16'}>>\n"
     ]
    },
    {
     "name": "stderr",
     "output_type": "stream",
     "text": [
      "INFO:azure.eventhub:Received event from partition 1\n",
      "INFO:azure.eventhub:Received event from partition 1\n",
      "INFO:azure.eventhub:Received event from partition 1\n"
     ]
    },
    {
     "name": "stdout",
     "output_type": "stream",
     "text": [
      "\n",
      "Message received:\n",
      "    Data: <<{'messageCount': 90, 'humidity': 57, 'temperature': 27, 'timestamp': '2022-04-24\\n16:48:17'}>>\n",
      "\n",
      "Message received:\n",
      "    Data: <<{'messageCount': 91, 'humidity': 57, 'temperature': 27, 'timestamp': '2022-04-24\\n16:48:18'}>>\n",
      "\n",
      "Message received:\n",
      "    Data: <<{'messageCount': 92, 'humidity': 57, 'temperature': 27, 'timestamp': '2022-04-24\\n16:48:19'}>>\n"
     ]
    },
    {
     "name": "stderr",
     "output_type": "stream",
     "text": [
      "INFO:azure.eventhub:Received event from partition 1\n",
      "INFO:azure.eventhub:Received event from partition 1\n",
      "INFO:azure.eventhub:Received event from partition 1\n"
     ]
    },
    {
     "name": "stdout",
     "output_type": "stream",
     "text": [
      "\n",
      "Message received:\n",
      "    Data: <<{'messageCount': 93, 'humidity': 57, 'temperature': 27, 'timestamp': '2022-04-24\\n16:48:21'}>>\n",
      "\n",
      "Message received:\n",
      "    Data: <<{'messageCount': 94, 'humidity': 57, 'temperature': 27, 'timestamp': '2022-04-24\\n16:48:22'}>>\n",
      "\n",
      "Message received:\n",
      "    Data: <<{'messageCount': 95, 'humidity': 57, 'temperature': 27, 'timestamp': '2022-04-24\\n16:48:23'}>>\n",
      "\n",
      "Message received:\n",
      "    Data: <<{'messageCount': 96, 'humidity': 57, 'temperature': 27, 'timestamp': '2022-04-24\\n16:48:24'}>>\n"
     ]
    },
    {
     "name": "stderr",
     "output_type": "stream",
     "text": [
      "INFO:azure.eventhub:Received event from partition 1\n",
      "INFO:azure.eventhub:Received event from partition 1\n",
      "INFO:azure.eventhub:Received event from partition 1\n",
      "INFO:azure.eventhub:Received event from partition 1\n"
     ]
    },
    {
     "name": "stdout",
     "output_type": "stream",
     "text": [
      "\n",
      "Message received:\n",
      "    Data: <<{'messageCount': 97, 'humidity': 57, 'temperature': 27, 'timestamp': '2022-04-24\\n16:48:25'}>>\n",
      "\n",
      "Message received:\n",
      "    Data: <<{'messageCount': 98, 'humidity': 57, 'temperature': 27, 'timestamp': '2022-04-24\\n16:48:26'}>>\n",
      "\n",
      "Message received:\n",
      "    Data: <<{'messageCount': 99, 'humidity': 57, 'temperature': 27, 'timestamp': '2022-04-24\\n16:48:28'}>>\n"
     ]
    },
    {
     "name": "stderr",
     "output_type": "stream",
     "text": [
      "INFO:azure.eventhub:Received event from partition 1\n",
      "INFO:azure.eventhub:Received event from partition 1\n",
      "INFO:azure.eventhub:Received event from partition 1\n"
     ]
    },
    {
     "name": "stdout",
     "output_type": "stream",
     "text": [
      "\n",
      "Message received:\n",
      "    Data: <<{'messageCount': 100, 'humidity': 57, 'temperature': 27, 'timestamp': '2022-04-24\\n16:48:29'}>>\n",
      "\n",
      "Message received:\n",
      "    Data: <<{'messageCount': 101, 'humidity': 57, 'temperature': 27, 'timestamp': '2022-04-24\\n16:48:30'}>>\n",
      "\n",
      "Message received:\n",
      "    Data: <<{'messageCount': 102, 'humidity': 57, 'temperature': 27, 'timestamp': '2022-04-24\\n16:48:31'}>>\n"
     ]
    },
    {
     "name": "stderr",
     "output_type": "stream",
     "text": [
      "INFO:azure.eventhub:Received event from partition 1\n",
      "INFO:azure.eventhub:Received event from partition 1\n",
      "INFO:azure.eventhub:Received event from partition 1\n"
     ]
    },
    {
     "name": "stdout",
     "output_type": "stream",
     "text": [
      "\n",
      "Message received:\n",
      "    Data: <<{'messageCount': 103, 'humidity': 57, 'temperature': 27, 'timestamp': '2022-04-24\\n16:48:32'}>>\n",
      "\n",
      "Message received:\n",
      "    Data: <<{'messageCount': 104, 'humidity': 57, 'temperature': 27, 'timestamp': '2022-04-24\\n16:48:33'}>>\n",
      "\n",
      "Message received:\n",
      "    Data: <<{'messageCount': 105, 'humidity': 57, 'temperature': 27, 'timestamp': '2022-04-24\\n16:48:35'}>>\n"
     ]
    },
    {
     "name": "stderr",
     "output_type": "stream",
     "text": [
      "INFO:azure.eventhub:Received event from partition 1\n",
      "INFO:azure.eventhub:Received event from partition 1\n",
      "INFO:azure.eventhub:Received event from partition 1\n"
     ]
    },
    {
     "name": "stdout",
     "output_type": "stream",
     "text": [
      "\n",
      "Message received:\n",
      "    Data: <<{'messageCount': 106, 'humidity': 57, 'temperature': 27, 'timestamp': '2022-04-24\\n16:48:36'}>>\n",
      "\n",
      "Message received:\n",
      "    Data: <<{'messageCount': 107, 'humidity': 57, 'temperature': 27, 'timestamp': '2022-04-24\\n16:48:37'}>>\n",
      "\n",
      "Message received:\n",
      "    Data: <<{'messageCount': 108, 'humidity': 57, 'temperature': 27, 'timestamp': '2022-04-24\\n16:48:38'}>>\n",
      "\n",
      "Message received:\n",
      "    Data: <<{'messageCount': 110, 'humidity': 57, 'temperature': 26, 'timestamp': '2022-04-24\\n16:48:40'}>>\n"
     ]
    },
    {
     "name": "stderr",
     "output_type": "stream",
     "text": [
      "INFO:azure.eventhub:Received event from partition 1\n",
      "INFO:azure.eventhub:Received event from partition 1\n",
      "INFO:azure.eventhub:Received event from partition 1\n",
      "INFO:azure.eventhub:Received event from partition 1\n"
     ]
    },
    {
     "name": "stdout",
     "output_type": "stream",
     "text": [
      "\n",
      "Message received:\n",
      "    Data: <<{'messageCount': 109, 'humidity': 57, 'temperature': 26, 'timestamp': '2022-04-24\\n16:48:39'}>>\n",
      "\n",
      "Message received:\n",
      "    Data: <<{'messageCount': 111, 'humidity': 57, 'temperature': 26, 'timestamp': '2022-04-24\\n16:48:41'}>>\n",
      "\n",
      "Message received:\n",
      "    Data: <<{'messageCount': 112, 'humidity': 57, 'temperature': 26, 'timestamp': '2022-04-24\\n16:48:42'}>>\n"
     ]
    },
    {
     "name": "stderr",
     "output_type": "stream",
     "text": [
      "INFO:azure.eventhub:Received event from partition 1\n",
      "INFO:azure.eventhub:Received event from partition 1\n",
      "INFO:azure.eventhub:Received event from partition 1\n"
     ]
    },
    {
     "name": "stdout",
     "output_type": "stream",
     "text": [
      "\n",
      "Message received:\n",
      "    Data: <<{'messageCount': 113, 'humidity': 57, 'temperature': 26, 'timestamp': '2022-04-24\\n16:48:44'}>>\n",
      "\n",
      "Message received:\n",
      "    Data: <<{'messageCount': 114, 'humidity': 57, 'temperature': 26, 'timestamp': '2022-04-24\\n16:48:45'}>>\n",
      "\n",
      "Message received:\n",
      "    Data: <<{'messageCount': 115, 'humidity': 57, 'temperature': 26, 'timestamp': '2022-04-24\\n16:48:46'}>>\n"
     ]
    },
    {
     "name": "stderr",
     "output_type": "stream",
     "text": [
      "INFO:azure.eventhub:Received event from partition 1\n",
      "INFO:azure.eventhub:Received event from partition 1\n",
      "INFO:azure.eventhub:Received event from partition 1\n"
     ]
    },
    {
     "name": "stdout",
     "output_type": "stream",
     "text": [
      "\n",
      "Message received:\n",
      "    Data: <<{'messageCount': 116, 'humidity': 57, 'temperature': 26, 'timestamp': '2022-04-24\\n16:48:47'}>>\n",
      "\n",
      "Message received:\n",
      "    Data: <<{'messageCount': 117, 'humidity': 57, 'temperature': 26, 'timestamp': '2022-04-24\\n16:48:48'}>>\n",
      "\n",
      "Message received:\n",
      "    Data: <<{'messageCount': 118, 'humidity': 57, 'temperature': 26, 'timestamp': '2022-04-24\\n16:48:49'}>>\n"
     ]
    },
    {
     "name": "stderr",
     "output_type": "stream",
     "text": [
      "INFO:azure.eventhub:Received event from partition 1\n",
      "INFO:azure.eventhub:Received event from partition 1\n",
      "INFO:azure.eventhub:Received event from partition 1\n"
     ]
    },
    {
     "name": "stdout",
     "output_type": "stream",
     "text": [
      "\n",
      "Message received:\n",
      "    Data: <<{'messageCount': 119, 'humidity': 57, 'temperature': 26, 'timestamp': '2022-04-24\\n16:48:51'}>>\n",
      "\n",
      "Message received:\n",
      "    Data: <<{'messageCount': 120, 'humidity': 57, 'temperature': 26, 'timestamp': '2022-04-24\\n16:48:52'}>>\n",
      "\n",
      "Message received:\n",
      "    Data: <<{'messageCount': 121, 'humidity': 57, 'temperature': 26, 'timestamp': '2022-04-24\\n16:48:53'}>>\n"
     ]
    },
    {
     "name": "stderr",
     "output_type": "stream",
     "text": [
      "INFO:azure.eventhub:Received event from partition 1\n",
      "INFO:azure.eventhub:Received event from partition 1\n",
      "INFO:azure.eventhub:Received event from partition 1\n",
      "INFO:azure.eventhub:Received event from partition 1\n"
     ]
    },
    {
     "name": "stdout",
     "output_type": "stream",
     "text": [
      "\n",
      "Message received:\n",
      "    Data: <<{'messageCount': 122, 'humidity': 57, 'temperature': 26, 'timestamp': '2022-04-24\\n16:48:54'}>>\n",
      "\n",
      "Message received:\n",
      "    Data: <<{'messageCount': 123, 'humidity': 58, 'temperature': 26, 'timestamp': '2022-04-24\\n16:48:55'}>>\n",
      "\n",
      "Message received:\n",
      "    Data: <<{'messageCount': 124, 'humidity': 58, 'temperature': 26, 'timestamp': '2022-04-24\\n16:48:56'}>>\n",
      "\n",
      "Message received:\n",
      "    Data: <<{'messageCount': 125, 'humidity': 57, 'temperature': 26, 'timestamp': '2022-04-24\\n16:48:57'}>>\n"
     ]
    },
    {
     "name": "stderr",
     "output_type": "stream",
     "text": [
      "INFO:azure.eventhub:Received event from partition 1\n",
      "INFO:azure.eventhub:Received event from partition 1\n",
      "INFO:azure.eventhub:Received event from partition 1\n"
     ]
    },
    {
     "name": "stdout",
     "output_type": "stream",
     "text": [
      "\n",
      "Message received:\n",
      "    Data: <<{'messageCount': 126, 'humidity': 57, 'temperature': 26, 'timestamp': '2022-04-24\\n16:48:59'}>>\n",
      "\n",
      "Message received:\n",
      "    Data: <<{'messageCount': 127, 'humidity': 58, 'temperature': 26, 'timestamp': '2022-04-24\\n16:49:00'}>>\n",
      "\n",
      "Message received:\n",
      "    Data: <<{'messageCount': 128, 'humidity': 58, 'temperature': 26, 'timestamp': '2022-04-24\\n16:49:01'}>>\n"
     ]
    },
    {
     "name": "stderr",
     "output_type": "stream",
     "text": [
      "INFO:azure.eventhub:Received event from partition 1\n",
      "INFO:azure.eventhub:Received event from partition 1\n",
      "INFO:azure.eventhub:Received event from partition 1\n"
     ]
    },
    {
     "name": "stdout",
     "output_type": "stream",
     "text": [
      "\n",
      "Message received:\n",
      "    Data: <<{'messageCount': 129, 'humidity': 58, 'temperature': 26, 'timestamp': '2022-04-24\\n16:49:02'}>>\n",
      "\n",
      "Message received:\n",
      "    Data: <<{'messageCount': 130, 'humidity': 58, 'temperature': 26, 'timestamp': '2022-04-24\\n16:49:03'}>>\n",
      "\n",
      "Message received:\n",
      "    Data: <<{'messageCount': 132, 'humidity': 58, 'temperature': 26, 'timestamp': '2022-04-24\\n16:49:08'}>>\n"
     ]
    },
    {
     "name": "stderr",
     "output_type": "stream",
     "text": [
      "INFO:azure.eventhub:Received event from partition 1\n",
      "INFO:azure.eventhub:Received event from partition 1\n",
      "INFO:azure.eventhub:Received event from partition 1\n"
     ]
    },
    {
     "name": "stdout",
     "output_type": "stream",
     "text": [
      "\n",
      "Message received:\n",
      "    Data: <<{'messageCount': 133, 'humidity': 58, 'temperature': 26, 'timestamp': '2022-04-24\\n16:49:09'}>>\n",
      "\n",
      "Message received:\n",
      "    Data: <<{'messageCount': 134, 'humidity': 58, 'temperature': 26, 'timestamp': '2022-04-24\\n16:49:10'}>>\n",
      "\n",
      "Message received:\n",
      "    Data: <<{'messageCount': 135, 'humidity': 58, 'temperature': 26, 'timestamp': '2022-04-24\\n16:49:11'}>>\n"
     ]
    },
    {
     "name": "stderr",
     "output_type": "stream",
     "text": [
      "INFO:azure.eventhub:Received event from partition 1\n",
      "INFO:azure.eventhub:Received event from partition 1\n",
      "INFO:azure.eventhub:Received event from partition 1\n"
     ]
    },
    {
     "name": "stdout",
     "output_type": "stream",
     "text": [
      "\n",
      "Message received:\n",
      "    Data: <<{'messageCount': 136, 'humidity': 58, 'temperature': 26, 'timestamp': '2022-04-24\\n16:49:12'}>>\n",
      "\n",
      "Message received:\n",
      "    Data: <<{'messageCount': 137, 'humidity': 58, 'temperature': 26, 'timestamp': '2022-04-24\\n16:49:13'}>>\n",
      "\n",
      "Message received:\n",
      "    Data: <<{'messageCount': 138, 'humidity': 58, 'temperature': 26, 'timestamp': '2022-04-24\\n16:49:15'}>>\n",
      "\n",
      "Message received:\n",
      "    Data: <<{'messageCount': 139, 'humidity': 58, 'temperature': 26, 'timestamp': '2022-04-24\\n16:49:16'}>>\n"
     ]
    },
    {
     "name": "stderr",
     "output_type": "stream",
     "text": [
      "INFO:azure.eventhub:Received event from partition 1\n",
      "INFO:azure.eventhub:Received event from partition 1\n",
      "INFO:azure.eventhub:Received event from partition 1\n",
      "INFO:azure.eventhub:Received event from partition 1\n"
     ]
    },
    {
     "name": "stdout",
     "output_type": "stream",
     "text": [
      "\n",
      "Message received:\n",
      "    Data: <<{'messageCount': 140, 'humidity': 58, 'temperature': 26, 'timestamp': '2022-04-24\\n16:49:17'}>>\n",
      "\n",
      "Message received:\n",
      "    Data: <<{'messageCount': 141, 'humidity': 58, 'temperature': 26, 'timestamp': '2022-04-24\\n16:49:18'}>>\n",
      "\n",
      "Message received:\n",
      "    Data: <<{'messageCount': 142, 'humidity': 58, 'temperature': 26, 'timestamp': '2022-04-24\\n16:49:19'}>>\n"
     ]
    },
    {
     "name": "stderr",
     "output_type": "stream",
     "text": [
      "INFO:azure.eventhub:Received event from partition 1\n",
      "INFO:azure.eventhub:Received event from partition 1\n",
      "INFO:azure.eventhub:Received event from partition 1\n"
     ]
    },
    {
     "name": "stdout",
     "output_type": "stream",
     "text": [
      "\n",
      "Message received:\n",
      "    Data: <<{'messageCount': 143, 'humidity': 58, 'temperature': 26, 'timestamp': '2022-04-24\\n16:49:20'}>>\n",
      "\n",
      "Message received:\n",
      "    Data: <<{'messageCount': 144, 'humidity': 58, 'temperature': 26, 'timestamp': '2022-04-24\\n16:49:21'}>>\n",
      "\n",
      "Message received:\n",
      "    Data: <<{'messageCount': 145, 'humidity': 58, 'temperature': 26, 'timestamp': '2022-04-24\\n16:49:22'}>>\n"
     ]
    },
    {
     "name": "stderr",
     "output_type": "stream",
     "text": [
      "INFO:azure.eventhub:Received event from partition 1\n",
      "INFO:azure.eventhub:Received event from partition 1\n",
      "INFO:azure.eventhub:Received event from partition 1\n"
     ]
    },
    {
     "name": "stdout",
     "output_type": "stream",
     "text": [
      "\n",
      "Message received:\n",
      "    Data: <<{'messageCount': 146, 'humidity': 58, 'temperature': 26, 'timestamp': '2022-04-24\\n16:49:24'}>>\n",
      "\n",
      "Message received:\n",
      "    Data: <<{'messageCount': 147, 'humidity': 58, 'temperature': 26, 'timestamp': '2022-04-24\\n16:49:25'}>>\n",
      "\n",
      "Message received:\n",
      "    Data: <<{'messageCount': 148, 'humidity': 58, 'temperature': 26, 'timestamp': '2022-04-24\\n16:49:26'}>>\n"
     ]
    },
    {
     "name": "stderr",
     "output_type": "stream",
     "text": [
      "INFO:azure.eventhub:Received event from partition 1\n",
      "INFO:azure.eventhub:Received event from partition 1\n",
      "INFO:azure.eventhub:Received event from partition 1\n"
     ]
    },
    {
     "name": "stdout",
     "output_type": "stream",
     "text": [
      "\n",
      "Message received:\n",
      "    Data: <<{'messageCount': 149, 'humidity': 58, 'temperature': 26, 'timestamp': '2022-04-24\\n16:49:27'}>>\n",
      "\n",
      "Message received:\n",
      "    Data: <<{'messageCount': 150, 'humidity': 58, 'temperature': 26, 'timestamp': '2022-04-24\\n16:49:28'}>>\n",
      "\n",
      "Message received:\n",
      "    Data: <<{'messageCount': 151, 'humidity': 58, 'temperature': 26, 'timestamp': '2022-04-24\\n16:49:29'}>>\n"
     ]
    },
    {
     "name": "stderr",
     "output_type": "stream",
     "text": [
      "INFO:azure.eventhub:Received event from partition 1\n",
      "INFO:azure.eventhub:Received event from partition 1\n",
      "INFO:azure.eventhub:Received event from partition 1\n"
     ]
    },
    {
     "name": "stdout",
     "output_type": "stream",
     "text": [
      "\n",
      "Message received:\n",
      "    Data: <<{'messageCount': 152, 'humidity': 58, 'temperature': 26, 'timestamp': '2022-04-24\\n16:49:31'}>>\n",
      "\n",
      "Message received:\n",
      "    Data: <<{'messageCount': 153, 'humidity': 58, 'temperature': 26, 'timestamp': '2022-04-24\\n16:49:32'}>>\n",
      "\n",
      "Message received:\n",
      "    Data: <<{'messageCount': 154, 'humidity': 58, 'temperature': 26, 'timestamp': '2022-04-24\\n16:49:33'}>>\n",
      "\n",
      "Message received:\n",
      "    Data: <<{'messageCount': 155, 'humidity': 58, 'temperature': 26, 'timestamp': '2022-04-24\\n16:49:34'}>>\n"
     ]
    },
    {
     "name": "stderr",
     "output_type": "stream",
     "text": [
      "INFO:azure.eventhub:Received event from partition 1\n",
      "INFO:azure.eventhub:Received event from partition 1\n",
      "INFO:azure.eventhub:Received event from partition 1\n",
      "INFO:azure.eventhub:Received event from partition 1\n"
     ]
    },
    {
     "name": "stdout",
     "output_type": "stream",
     "text": [
      "\n",
      "Message received:\n",
      "    Data: <<{'messageCount': 156, 'humidity': 57, 'temperature': 25, 'timestamp': '2022-04-24\\n16:49:35'}>>\n",
      "\n",
      "Message received:\n",
      "    Data: <<{'messageCount': 157, 'humidity': 57, 'temperature': 25, 'timestamp': '2022-04-24\\n16:49:36'}>>\n",
      "\n",
      "Message received:\n",
      "    Data: <<{'messageCount': 158, 'humidity': 58, 'temperature': 26, 'timestamp': '2022-04-24\\n16:49:38'}>>\n"
     ]
    },
    {
     "name": "stderr",
     "output_type": "stream",
     "text": [
      "INFO:azure.eventhub:Received event from partition 1\n",
      "INFO:azure.eventhub:Received event from partition 1\n",
      "INFO:azure.eventhub:Received event from partition 1\n"
     ]
    },
    {
     "name": "stdout",
     "output_type": "stream",
     "text": [
      "\n",
      "Message received:\n",
      "    Data: <<{'messageCount': 159, 'humidity': 58, 'temperature': 26, 'timestamp': '2022-04-24\\n16:49:39'}>>\n",
      "\n",
      "Message received:\n",
      "    Data: <<{'messageCount': 160, 'humidity': 57, 'temperature': 25, 'timestamp': '2022-04-24\\n16:49:40'}>>\n",
      "\n",
      "Message received:\n",
      "    Data: <<{'messageCount': 161, 'humidity': 57, 'temperature': 25, 'timestamp': '2022-04-24\\n16:49:41'}>>\n"
     ]
    },
    {
     "name": "stderr",
     "output_type": "stream",
     "text": [
      "INFO:azure.eventhub:Received event from partition 1\n",
      "INFO:azure.eventhub:Received event from partition 1\n",
      "INFO:azure.eventhub:Received event from partition 1\n"
     ]
    },
    {
     "name": "stdout",
     "output_type": "stream",
     "text": [
      "\n",
      "Message received:\n",
      "    Data: <<{'messageCount': 162, 'humidity': 57, 'temperature': 25, 'timestamp': '2022-04-24\\n16:49:42'}>>\n",
      "\n",
      "Message received:\n",
      "    Data: <<{'messageCount': 163, 'humidity': 57, 'temperature': 25, 'timestamp': '2022-04-24\\n16:49:43'}>>\n",
      "\n",
      "Message received:\n",
      "    Data: <<{'messageCount': 164, 'humidity': 57, 'temperature': 25, 'timestamp': '2022-04-24\\n16:49:44'}>>\n"
     ]
    },
    {
     "name": "stderr",
     "output_type": "stream",
     "text": [
      "INFO:azure.eventhub:Received event from partition 1\n",
      "INFO:azure.eventhub:Received event from partition 1\n",
      "INFO:azure.eventhub:Received event from partition 1\n"
     ]
    },
    {
     "name": "stdout",
     "output_type": "stream",
     "text": [
      "\n",
      "Message received:\n",
      "    Data: <<{'messageCount': 165, 'humidity': 57, 'temperature': 25, 'timestamp': '2022-04-24\\n16:49:45'}>>\n",
      "\n",
      "Message received:\n",
      "    Data: <<{'messageCount': 166, 'humidity': 57, 'temperature': 25, 'timestamp': '2022-04-24\\n16:49:47'}>>\n",
      "\n",
      "Message received:\n",
      "    Data: <<{'messageCount': 167, 'humidity': 57, 'temperature': 25, 'timestamp': '2022-04-24\\n16:49:48'}>>\n"
     ]
    },
    {
     "name": "stderr",
     "output_type": "stream",
     "text": [
      "INFO:azure.eventhub:Received event from partition 1\n",
      "INFO:azure.eventhub:Received event from partition 1\n",
      "INFO:azure.eventhub:Received event from partition 1\n"
     ]
    },
    {
     "name": "stdout",
     "output_type": "stream",
     "text": [
      "\n",
      "Message received:\n",
      "    Data: <<{'messageCount': 168, 'humidity': 57, 'temperature': 25, 'timestamp': '2022-04-24\\n16:49:49'}>>\n",
      "\n",
      "Message received:\n",
      "    Data: <<{'messageCount': 169, 'humidity': 57, 'temperature': 25, 'timestamp': '2022-04-24\\n16:49:51'}>>\n",
      "\n",
      "Message received:\n",
      "    Data: <<{'messageCount': 170, 'humidity': 57, 'temperature': 25, 'timestamp': '2022-04-24\\n16:49:52'}>>\n",
      "\n",
      "Message received:\n",
      "    Data: <<{'messageCount': 171, 'humidity': 57, 'temperature': 25, 'timestamp': '2022-04-24\\n16:49:53'}>>\n"
     ]
    },
    {
     "name": "stderr",
     "output_type": "stream",
     "text": [
      "INFO:azure.eventhub:Received event from partition 1\n",
      "INFO:azure.eventhub:Received event from partition 1\n",
      "INFO:azure.eventhub:Received event from partition 1\n",
      "INFO:azure.eventhub:Received event from partition 1\n"
     ]
    },
    {
     "name": "stdout",
     "output_type": "stream",
     "text": [
      "\n",
      "Message received:\n",
      "    Data: <<{'messageCount': 172, 'humidity': 57, 'temperature': 25, 'timestamp': '2022-04-24\\n16:49:54'}>>\n",
      "\n",
      "Message received:\n",
      "    Data: <<{'messageCount': 173, 'humidity': 57, 'temperature': 25, 'timestamp': '2022-04-24\\n16:49:56'}>>\n",
      "\n",
      "Message received:\n",
      "    Data: <<{'messageCount': 174, 'humidity': 57, 'temperature': 25, 'timestamp': '2022-04-24\\n16:49:57'}>>\n",
      "\n",
      "Message received:\n",
      "    Data: <<{'messageCount': 175, 'humidity': 57, 'temperature': 25, 'timestamp': '2022-04-24\\n16:49:58'}>>\n"
     ]
    },
    {
     "name": "stderr",
     "output_type": "stream",
     "text": [
      "INFO:azure.eventhub:Received event from partition 1\n",
      "INFO:azure.eventhub:Received event from partition 1\n",
      "INFO:azure.eventhub:Received event from partition 1\n",
      "INFO:azure.eventhub:Received event from partition 1\n"
     ]
    },
    {
     "name": "stdout",
     "output_type": "stream",
     "text": [
      "\n",
      "Message received:\n",
      "    Data: <<{'messageCount': 176, 'humidity': 57, 'temperature': 25, 'timestamp': '2022-04-24\\n16:49:59'}>>\n",
      "\n",
      "Message received:\n",
      "    Data: <<{'messageCount': 177, 'humidity': 58, 'temperature': 25, 'timestamp': '2022-04-24\\n16:50:00'}>>\n",
      "\n",
      "Message received:\n",
      "    Data: <<{'messageCount': 178, 'humidity': 58, 'temperature': 25, 'timestamp': '2022-04-24\\n16:50:01'}>>\n"
     ]
    },
    {
     "name": "stderr",
     "output_type": "stream",
     "text": [
      "INFO:azure.eventhub:Received event from partition 1\n",
      "INFO:azure.eventhub:Received event from partition 1\n",
      "INFO:azure.eventhub:Received event from partition 1\n"
     ]
    },
    {
     "name": "stdout",
     "output_type": "stream",
     "text": [
      "\n",
      "Message received:\n",
      "    Data: <<{'messageCount': 179, 'humidity': 58, 'temperature': 25, 'timestamp': '2022-04-24\\n16:50:03'}>>\n",
      "\n",
      "Message received:\n",
      "    Data: <<{'messageCount': 180, 'humidity': 58, 'temperature': 25, 'timestamp': '2022-04-24\\n16:50:04'}>>\n",
      "\n",
      "Message received:\n",
      "    Data: <<{'messageCount': 181, 'humidity': 58, 'temperature': 25, 'timestamp': '2022-04-24\\n16:50:05'}>>\n"
     ]
    },
    {
     "name": "stderr",
     "output_type": "stream",
     "text": [
      "INFO:azure.eventhub:Received event from partition 1\n",
      "INFO:azure.eventhub:Received event from partition 1\n",
      "INFO:azure.eventhub:Received event from partition 1\n"
     ]
    },
    {
     "name": "stdout",
     "output_type": "stream",
     "text": [
      "\n",
      "Message received:\n",
      "    Data: <<{'messageCount': 182, 'humidity': 58, 'temperature': 25, 'timestamp': '2022-04-24\\n16:50:06'}>>\n",
      "\n",
      "Message received:\n",
      "    Data: <<{'messageCount': 183, 'humidity': 58, 'temperature': 25, 'timestamp': '2022-04-24\\n16:50:07'}>>\n",
      "\n",
      "Message received:\n",
      "    Data: <<{'messageCount': 184, 'humidity': 58, 'temperature': 25, 'timestamp': '2022-04-24\\n16:50:08'}>>\n"
     ]
    },
    {
     "name": "stderr",
     "output_type": "stream",
     "text": [
      "INFO:azure.eventhub:Received event from partition 1\n",
      "INFO:azure.eventhub:Received event from partition 1\n",
      "INFO:azure.eventhub:Received event from partition 1\n"
     ]
    },
    {
     "name": "stdout",
     "output_type": "stream",
     "text": [
      "\n",
      "Message received:\n",
      "    Data: <<{'messageCount': 185, 'humidity': 58, 'temperature': 25, 'timestamp': '2022-04-24\\n16:50:10'}>>\n",
      "\n",
      "Message received:\n",
      "    Data: <<{'messageCount': 186, 'humidity': 58, 'temperature': 25, 'timestamp': '2022-04-24\\n16:50:11'}>>\n",
      "\n",
      "Message received:\n",
      "    Data: <<{'messageCount': 187, 'humidity': 58, 'temperature': 25, 'timestamp': '2022-04-24\\n16:50:12'}>>\n"
     ]
    },
    {
     "name": "stderr",
     "output_type": "stream",
     "text": [
      "INFO:azure.eventhub:Received event from partition 1\n",
      "INFO:azure.eventhub:Received event from partition 1\n",
      "INFO:azure.eventhub:Received event from partition 1\n"
     ]
    },
    {
     "name": "stdout",
     "output_type": "stream",
     "text": [
      "\n",
      "Message received:\n",
      "    Data: <<{'messageCount': 188, 'humidity': 58, 'temperature': 25, 'timestamp': '2022-04-24\\n16:50:13'}>>\n",
      "\n",
      "Message received:\n",
      "    Data: <<{'messageCount': 189, 'humidity': 58, 'temperature': 25, 'timestamp': '2022-04-24\\n16:50:14'}>>\n",
      "\n",
      "Message received:\n",
      "    Data: <<{'messageCount': 190, 'humidity': 58, 'temperature': 25, 'timestamp': '2022-04-24\\n16:50:15'}>>\n"
     ]
    },
    {
     "name": "stderr",
     "output_type": "stream",
     "text": [
      "INFO:azure.eventhub:Received event from partition 1\n",
      "INFO:azure.eventhub:Received event from partition 1\n",
      "INFO:azure.eventhub:Received event from partition 1\n"
     ]
    },
    {
     "name": "stdout",
     "output_type": "stream",
     "text": [
      "\n",
      "Message received:\n",
      "    Data: <<{'messageCount': 191, 'humidity': 58, 'temperature': 25, 'timestamp': '2022-04-24\\n16:50:17'}>>\n",
      "\n",
      "Message received:\n",
      "    Data: <<{'messageCount': 192, 'humidity': 58, 'temperature': 25, 'timestamp': '2022-04-24\\n16:50:18'}>>\n",
      "\n",
      "Message received:\n",
      "    Data: <<{'messageCount': 193, 'humidity': 58, 'temperature': 25, 'timestamp': '2022-04-24\\n16:50:19'}>>\n"
     ]
    },
    {
     "name": "stderr",
     "output_type": "stream",
     "text": [
      "INFO:azure.eventhub:Received event from partition 1\n",
      "INFO:azure.eventhub:Received event from partition 1\n",
      "INFO:azure.eventhub:Received event from partition 1\n"
     ]
    },
    {
     "name": "stdout",
     "output_type": "stream",
     "text": [
      "\n",
      "Message received:\n",
      "    Data: <<{'messageCount': 194, 'humidity': 58, 'temperature': 25, 'timestamp': '2022-04-24\\n16:50:20'}>>\n",
      "\n",
      "Message received:\n",
      "    Data: <<{'messageCount': 195, 'humidity': 58, 'temperature': 25, 'timestamp': '2022-04-24\\n16:50:21'}>>\n",
      "\n",
      "Message received:\n",
      "    Data: <<{'messageCount': 196, 'humidity': 58, 'temperature': 25, 'timestamp': '2022-04-24\\n16:50:22'}>>\n"
     ]
    },
    {
     "name": "stderr",
     "output_type": "stream",
     "text": [
      "INFO:azure.eventhub:Received event from partition 1\n",
      "INFO:azure.eventhub:Received event from partition 1\n",
      "INFO:azure.eventhub:Received event from partition 1\n"
     ]
    },
    {
     "name": "stdout",
     "output_type": "stream",
     "text": [
      "\n",
      "Message received:\n",
      "    Data: <<{'messageCount': 197, 'humidity': 58, 'temperature': 25, 'timestamp': '2022-04-24\\n16:50:24'}>>\n",
      "\n",
      "Message received:\n",
      "    Data: <<{'messageCount': 198, 'humidity': 58, 'temperature': 25, 'timestamp': '2022-04-24\\n16:50:25'}>>\n",
      "\n",
      "Message received:\n",
      "    Data: <<{'messageCount': 199, 'humidity': 58, 'temperature': 25, 'timestamp': '2022-04-24\\n16:50:26'}>>\n"
     ]
    },
    {
     "name": "stderr",
     "output_type": "stream",
     "text": [
      "INFO:azure.eventhub:Received event from partition 1\n",
      "INFO:azure.eventhub:Received event from partition 1\n",
      "INFO:azure.eventhub:Received event from partition 1\n"
     ]
    },
    {
     "name": "stdout",
     "output_type": "stream",
     "text": [
      "\n",
      "Message received:\n",
      "    Data: <<{'messageCount': 200, 'humidity': 58, 'temperature': 25, 'timestamp': '2022-04-24\\n16:50:27'}>>\n",
      "\n",
      "Message received:\n",
      "    Data: <<{'messageCount': 202, 'humidity': 58, 'temperature': 25, 'timestamp': '2022-04-24\\n16:50:29'}>>\n",
      "\n",
      "Message received:\n",
      "    Data: <<{'messageCount': 201, 'humidity': 58, 'temperature': 25, 'timestamp': '2022-04-24\\n16:50:28'}>>\n"
     ]
    },
    {
     "name": "stderr",
     "output_type": "stream",
     "text": [
      "INFO:azure.eventhub:Received event from partition 1\n",
      "INFO:azure.eventhub:Received event from partition 1\n",
      "INFO:azure.eventhub:Received event from partition 1\n"
     ]
    },
    {
     "name": "stdout",
     "output_type": "stream",
     "text": [
      "\n",
      "Message received:\n",
      "    Data: <<{'messageCount': 203, 'humidity': 58, 'temperature': 25, 'timestamp': '2022-04-24\\n16:50:31'}>>\n",
      "\n",
      "Message received:\n",
      "    Data: <<{'messageCount': 204, 'humidity': 58, 'temperature': 25, 'timestamp': '2022-04-24\\n16:50:32'}>>\n",
      "\n",
      "Message received:\n",
      "    Data: <<{'messageCount': 206, 'humidity': 58, 'temperature': 25, 'timestamp': '2022-04-24\\n16:50:34'}>>\n",
      "\n",
      "Message received:\n",
      "    Data: <<{'messageCount': 205, 'humidity': 58, 'temperature': 25, 'timestamp': '2022-04-24\\n16:50:33'}>>\n"
     ]
    },
    {
     "name": "stderr",
     "output_type": "stream",
     "text": [
      "INFO:azure.eventhub:Received event from partition 1\n",
      "INFO:azure.eventhub:Received event from partition 1\n",
      "INFO:azure.eventhub:Received event from partition 1\n",
      "INFO:azure.eventhub:Received event from partition 1\n"
     ]
    },
    {
     "name": "stdout",
     "output_type": "stream",
     "text": [
      "\n",
      "Message received:\n",
      "    Data: <<{'messageCount': 207, 'humidity': 58, 'temperature': 25, 'timestamp': '2022-04-24\\n16:50:35'}>>\n",
      "\n",
      "Message received:\n",
      "    Data: <<{'messageCount': 208, 'humidity': 58, 'temperature': 25, 'timestamp': '2022-04-24\\n16:50:36'}>>\n",
      "\n",
      "Message received:\n",
      "    Data: <<{'messageCount': 209, 'humidity': 58, 'temperature': 25, 'timestamp': '2022-04-24\\n16:50:37'}>>\n"
     ]
    },
    {
     "name": "stderr",
     "output_type": "stream",
     "text": [
      "INFO:azure.eventhub:Received event from partition 1\n",
      "INFO:azure.eventhub:Received event from partition 1\n",
      "INFO:azure.eventhub:Received event from partition 1\n"
     ]
    },
    {
     "name": "stdout",
     "output_type": "stream",
     "text": [
      "\n",
      "Message received:\n",
      "    Data: <<{'messageCount': 210, 'humidity': 58, 'temperature': 25, 'timestamp': '2022-04-24\\n16:50:38'}>>\n",
      "\n",
      "Message received:\n",
      "    Data: <<{'messageCount': 211, 'humidity': 58, 'temperature': 25, 'timestamp': '2022-04-24\\n16:50:40'}>>\n",
      "\n",
      "Message received:\n",
      "    Data: <<{'messageCount': 212, 'humidity': 58, 'temperature': 25, 'timestamp': '2022-04-24\\n16:50:42'}>>\n"
     ]
    },
    {
     "name": "stderr",
     "output_type": "stream",
     "text": [
      "INFO:azure.eventhub:Received event from partition 1\n",
      "INFO:azure.eventhub:Received event from partition 1\n",
      "INFO:azure.eventhub:Received event from partition 1\n"
     ]
    },
    {
     "name": "stdout",
     "output_type": "stream",
     "text": [
      "\n",
      "Message received:\n",
      "    Data: <<{'messageCount': 213, 'humidity': 58, 'temperature': 25, 'timestamp': '2022-04-24\\n16:50:43'}>>\n",
      "\n",
      "Message received:\n",
      "    Data: <<{'messageCount': 214, 'humidity': 58, 'temperature': 25, 'timestamp': '2022-04-24\\n16:50:45'}>>\n",
      "\n",
      "Message received:\n",
      "    Data: <<{'messageCount': 215, 'humidity': 58, 'temperature': 25, 'timestamp': '2022-04-24\\n16:50:48'}>>\n"
     ]
    },
    {
     "name": "stderr",
     "output_type": "stream",
     "text": [
      "INFO:azure.eventhub:Received event from partition 1\n",
      "INFO:azure.eventhub:Received event from partition 1\n",
      "INFO:azure.eventhub:Received event from partition 1\n"
     ]
    },
    {
     "name": "stdout",
     "output_type": "stream",
     "text": [
      "\n",
      "Message received:\n",
      "    Data: <<{'messageCount': 216, 'humidity': 58, 'temperature': 25, 'timestamp': '2022-04-24\\n16:50:49'}>>\n",
      "\n",
      "Message received:\n",
      "    Data: <<{'messageCount': 217, 'humidity': 58, 'temperature': 25, 'timestamp': '2022-04-24\\n16:50:50'}>>\n",
      "\n",
      "Message received:\n",
      "    Data: <<{'messageCount': 218, 'humidity': 58, 'temperature': 25, 'timestamp': '2022-04-24\\n16:50:51'}>>\n",
      "\n",
      "Message received:\n",
      "    Data: <<{'messageCount': 219, 'humidity': 58, 'temperature': 25, 'timestamp': '2022-04-24\\n16:50:53'}>>\n"
     ]
    },
    {
     "name": "stderr",
     "output_type": "stream",
     "text": [
      "INFO:azure.eventhub:Received event from partition 1\n",
      "INFO:azure.eventhub:Received event from partition 1\n",
      "INFO:azure.eventhub:Received event from partition 1\n",
      "INFO:azure.eventhub:Received event from partition 1\n"
     ]
    },
    {
     "name": "stdout",
     "output_type": "stream",
     "text": [
      "\n",
      "Message received:\n",
      "    Data: <<{'messageCount': 220, 'humidity': 58, 'temperature': 25, 'timestamp': '2022-04-24\\n16:50:54'}>>\n",
      "\n",
      "Message received:\n",
      "    Data: <<{'messageCount': 222, 'humidity': 58, 'temperature': 25, 'timestamp': '2022-04-24\\n16:50:56'}>>\n",
      "\n",
      "Message received:\n",
      "    Data: <<{'messageCount': 221, 'humidity': 58, 'temperature': 25, 'timestamp': '2022-04-24\\n16:50:55'}>>\n"
     ]
    },
    {
     "name": "stderr",
     "output_type": "stream",
     "text": [
      "INFO:azure.eventhub:Received event from partition 1\n",
      "INFO:azure.eventhub:Received event from partition 1\n",
      "INFO:azure.eventhub:Received event from partition 1\n"
     ]
    },
    {
     "name": "stdout",
     "output_type": "stream",
     "text": [
      "\n",
      "Message received:\n",
      "    Data: <<{'messageCount': 223, 'humidity': 58, 'temperature': 25, 'timestamp': '2022-04-24\\n16:50:57'}>>\n",
      "\n",
      "Message received:\n",
      "    Data: <<{'messageCount': 225, 'humidity': 58, 'temperature': 25, 'timestamp': '2022-04-24\\n16:51:00'}>>\n",
      "\n",
      "Message received:\n",
      "    Data: <<{'messageCount': 224, 'humidity': 58, 'temperature': 25, 'timestamp': '2022-04-24\\n16:50:58'}>>\n"
     ]
    },
    {
     "name": "stderr",
     "output_type": "stream",
     "text": [
      "INFO:azure.eventhub:Received event from partition 1\n",
      "INFO:azure.eventhub:Received event from partition 1\n",
      "INFO:azure.eventhub:Received event from partition 1\n"
     ]
    },
    {
     "name": "stdout",
     "output_type": "stream",
     "text": [
      "\n",
      "Message received:\n",
      "    Data: <<{'messageCount': 226, 'humidity': 58, 'temperature': 25, 'timestamp': '2022-04-24\\n16:51:01'}>>\n",
      "\n",
      "Message received:\n",
      "    Data: <<{'messageCount': 227, 'humidity': 58, 'temperature': 25, 'timestamp': '2022-04-24\\n16:51:02'}>>\n",
      "\n",
      "Message received:\n",
      "    Data: <<{'messageCount': 228, 'humidity': 58, 'temperature': 25, 'timestamp': '2022-04-24\\n16:51:03'}>>\n"
     ]
    },
    {
     "name": "stderr",
     "output_type": "stream",
     "text": [
      "INFO:azure.eventhub:Received event from partition 1\n",
      "INFO:azure.eventhub:Received event from partition 1\n",
      "INFO:azure.eventhub:Received event from partition 1\n"
     ]
    },
    {
     "name": "stdout",
     "output_type": "stream",
     "text": [
      "\n",
      "Message received:\n",
      "    Data: <<{'messageCount': 229, 'humidity': 58, 'temperature': 25, 'timestamp': '2022-04-24\\n16:51:04'}>>\n",
      "\n",
      "Message received:\n",
      "    Data: <<{'messageCount': 230, 'humidity': 58, 'temperature': 25, 'timestamp': '2022-04-24\\n16:51:05'}>>\n",
      "\n",
      "Message received:\n",
      "    Data: <<{'messageCount': 231, 'humidity': 58, 'temperature': 25, 'timestamp': '2022-04-24\\n16:51:07'}>>\n"
     ]
    },
    {
     "name": "stderr",
     "output_type": "stream",
     "text": [
      "INFO:azure.eventhub:Received event from partition 1\n",
      "INFO:azure.eventhub:Received event from partition 1\n",
      "INFO:azure.eventhub:Received event from partition 1\n"
     ]
    },
    {
     "name": "stdout",
     "output_type": "stream",
     "text": [
      "\n",
      "Message received:\n",
      "    Data: <<{'messageCount': 232, 'humidity': 58, 'temperature': 25, 'timestamp': '2022-04-24\\n16:51:08'}>>\n",
      "\n",
      "Message received:\n",
      "    Data: <<{'messageCount': 233, 'humidity': 58, 'temperature': 24, 'timestamp': '2022-04-24\\n16:51:09'}>>\n",
      "\n",
      "Message received:\n",
      "    Data: <<{'messageCount': 234, 'humidity': 58, 'temperature': 24, 'timestamp': '2022-04-24\\n16:51:10'}>>\n",
      "\n",
      "Message received:\n",
      "    Data: <<{'messageCount': 235, 'humidity': 58, 'temperature': 25, 'timestamp': '2022-04-24\\n16:51:11'}>>\n"
     ]
    },
    {
     "name": "stderr",
     "output_type": "stream",
     "text": [
      "INFO:azure.eventhub:Received event from partition 1\n",
      "INFO:azure.eventhub:Received event from partition 1\n",
      "INFO:azure.eventhub:Received event from partition 1\n",
      "INFO:azure.eventhub:Received event from partition 1\n"
     ]
    },
    {
     "name": "stdout",
     "output_type": "stream",
     "text": [
      "\n",
      "Message received:\n",
      "    Data: <<{'messageCount': 236, 'humidity': 58, 'temperature': 25, 'timestamp': '2022-04-24\\n16:51:12'}>>\n",
      "\n",
      "Message received:\n",
      "    Data: <<{'messageCount': 237, 'humidity': 58, 'temperature': 24, 'timestamp': '2022-04-24\\n16:51:13'}>>\n",
      "\n",
      "Message received:\n",
      "    Data: <<{'messageCount': 238, 'humidity': 58, 'temperature': 24, 'timestamp': '2022-04-24\\n16:51:16'}>>\n"
     ]
    },
    {
     "name": "stderr",
     "output_type": "stream",
     "text": [
      "INFO:azure.eventhub:Received event from partition 1\n",
      "INFO:azure.eventhub:Received event from partition 1\n",
      "INFO:azure.eventhub:Received event from partition 1\n"
     ]
    },
    {
     "name": "stdout",
     "output_type": "stream",
     "text": [
      "\n",
      "Message received:\n",
      "    Data: <<{'messageCount': 239, 'humidity': 58, 'temperature': 24, 'timestamp': '2022-04-24\\n16:51:17'}>>\n",
      "\n",
      "Message received:\n",
      "    Data: <<{'messageCount': 240, 'humidity': 58, 'temperature': 24, 'timestamp': '2022-04-24\\n16:51:19'}>>\n",
      "\n",
      "Message received:\n",
      "    Data: <<{'messageCount': 241, 'humidity': 58, 'temperature': 24, 'timestamp': '2022-04-24\\n16:51:20'}>>\n"
     ]
    },
    {
     "name": "stderr",
     "output_type": "stream",
     "text": [
      "INFO:azure.eventhub:Received event from partition 1\n",
      "INFO:azure.eventhub:Received event from partition 1\n",
      "INFO:azure.eventhub:Received event from partition 1\n"
     ]
    },
    {
     "name": "stdout",
     "output_type": "stream",
     "text": [
      "\n",
      "Message received:\n",
      "    Data: <<{'messageCount': 242, 'humidity': 58, 'temperature': 24, 'timestamp': '2022-04-24\\n16:51:21'}>>\n",
      "\n",
      "Message received:\n",
      "    Data: <<{'messageCount': 243, 'humidity': 58, 'temperature': 24, 'timestamp': '2022-04-24\\n16:51:22'}>>\n",
      "\n",
      "Message received:\n",
      "    Data: <<{'messageCount': 244, 'humidity': 58, 'temperature': 24, 'timestamp': '2022-04-24\\n16:51:23'}>>\n"
     ]
    },
    {
     "name": "stderr",
     "output_type": "stream",
     "text": [
      "INFO:azure.eventhub:Received event from partition 1\n",
      "INFO:azure.eventhub:Received event from partition 1\n",
      "INFO:azure.eventhub:Received event from partition 1\n"
     ]
    },
    {
     "name": "stdout",
     "output_type": "stream",
     "text": [
      "\n",
      "Message received:\n",
      "    Data: <<{'messageCount': 245, 'humidity': 58, 'temperature': 24, 'timestamp': '2022-04-24\\n16:51:24'}>>\n",
      "\n",
      "Message received:\n",
      "    Data: <<{'messageCount': 246, 'humidity': 58, 'temperature': 24, 'timestamp': '2022-04-24\\n16:51:25'}>>\n",
      "\n",
      "Message received:\n",
      "    Data: <<{'messageCount': 247, 'humidity': 58, 'temperature': 24, 'timestamp': '2022-04-24\\n16:51:26'}>>\n"
     ]
    },
    {
     "name": "stderr",
     "output_type": "stream",
     "text": [
      "INFO:azure.eventhub:Received event from partition 1\n",
      "INFO:azure.eventhub:Received event from partition 1\n",
      "INFO:azure.eventhub:Received event from partition 1\n"
     ]
    },
    {
     "name": "stdout",
     "output_type": "stream",
     "text": [
      "\n",
      "Message received:\n",
      "    Data: <<{'messageCount': 248, 'humidity': 58, 'temperature': 24, 'timestamp': '2022-04-24\\n16:51:28'}>>\n",
      "\n",
      "Message received:\n",
      "    Data: <<{'messageCount': 249, 'humidity': 58, 'temperature': 24, 'timestamp': '2022-04-24\\n16:51:29'}>>\n",
      "\n",
      "Message received:\n",
      "    Data: <<{'messageCount': 250, 'humidity': 58, 'temperature': 24, 'timestamp': '2022-04-24\\n16:51:30'}>>\n"
     ]
    },
    {
     "name": "stderr",
     "output_type": "stream",
     "text": [
      "INFO:azure.eventhub:Received event from partition 1\n",
      "INFO:azure.eventhub:Received event from partition 1\n",
      "INFO:azure.eventhub:Received event from partition 1\n"
     ]
    },
    {
     "name": "stdout",
     "output_type": "stream",
     "text": [
      "\n",
      "Message received:\n",
      "    Data: <<{'messageCount': 251, 'humidity': 58, 'temperature': 24, 'timestamp': '2022-04-24\\n16:51:31'}>>\n",
      "\n",
      "Message received:\n",
      "    Data: <<{'messageCount': 252, 'humidity': 58, 'temperature': 24, 'timestamp': '2022-04-24\\n16:51:32'}>>\n",
      "\n",
      "Message received:\n",
      "    Data: <<{'messageCount': 253, 'humidity': 58, 'temperature': 24, 'timestamp': '2022-04-24\\n16:51:33'}>>\n",
      "\n",
      "Message received:\n",
      "    Data: <<{'messageCount': 255, 'humidity': 58, 'temperature': 24, 'timestamp': '2022-04-24\\n16:51:38'}>>\n"
     ]
    },
    {
     "name": "stderr",
     "output_type": "stream",
     "text": [
      "INFO:azure.eventhub:Received event from partition 1\n",
      "INFO:azure.eventhub:Received event from partition 1\n",
      "INFO:azure.eventhub:Received event from partition 1\n",
      "INFO:azure.eventhub:Received event from partition 1\n"
     ]
    },
    {
     "name": "stdout",
     "output_type": "stream",
     "text": [
      "\n",
      "Message received:\n",
      "    Data: <<{'messageCount': 256, 'humidity': 58, 'temperature': 24, 'timestamp': '2022-04-24\\n16:51:39'}>>\n",
      "\n",
      "Message received:\n",
      "    Data: <<{'messageCount': 257, 'humidity': 58, 'temperature': 24, 'timestamp': '2022-04-24\\n16:51:40'}>>\n",
      "\n",
      "Message received:\n",
      "    Data: <<{'messageCount': 258, 'humidity': 58, 'temperature': 24, 'timestamp': '2022-04-24\\n16:51:41'}>>\n"
     ]
    },
    {
     "name": "stderr",
     "output_type": "stream",
     "text": [
      "INFO:azure.eventhub:Received event from partition 1\n",
      "INFO:azure.eventhub:Received event from partition 1\n",
      "INFO:azure.eventhub:Received event from partition 1\n"
     ]
    },
    {
     "name": "stdout",
     "output_type": "stream",
     "text": [
      "\n",
      "Message received:\n",
      "    Data: <<{'messageCount': 259, 'humidity': 58, 'temperature': 24, 'timestamp': '2022-04-24\\n16:51:42'}>>\n",
      "\n",
      "Message received:\n",
      "    Data: <<{'messageCount': 260, 'humidity': 58, 'temperature': 24, 'timestamp': '2022-04-24\\n16:51:43'}>>\n",
      "\n",
      "Message received:\n",
      "    Data: <<{'messageCount': 261, 'humidity': 58, 'temperature': 24, 'timestamp': '2022-04-24\\n16:51:45'}>>\n"
     ]
    },
    {
     "name": "stderr",
     "output_type": "stream",
     "text": [
      "INFO:azure.eventhub:Received event from partition 1\n",
      "INFO:azure.eventhub:Received event from partition 1\n",
      "INFO:azure.eventhub:Received event from partition 1\n"
     ]
    },
    {
     "name": "stdout",
     "output_type": "stream",
     "text": [
      "\n",
      "Message received:\n",
      "    Data: <<{'messageCount': 262, 'humidity': 58, 'temperature': 24, 'timestamp': '2022-04-24\\n16:51:46'}>>\n",
      "\n",
      "Message received:\n",
      "    Data: <<{'messageCount': 263, 'humidity': 58, 'temperature': 24, 'timestamp': '2022-04-24\\n16:51:47'}>>\n",
      "\n",
      "Message received:\n",
      "    Data: <<{'messageCount': 264, 'humidity': 58, 'temperature': 24, 'timestamp': '2022-04-24\\n16:51:48'}>>\n"
     ]
    },
    {
     "name": "stderr",
     "output_type": "stream",
     "text": [
      "INFO:azure.eventhub:Received event from partition 1\n",
      "INFO:azure.eventhub:Received event from partition 1\n",
      "INFO:azure.eventhub:Received event from partition 1\n"
     ]
    },
    {
     "name": "stdout",
     "output_type": "stream",
     "text": [
      "\n",
      "Message received:\n",
      "    Data: <<{'messageCount': 265, 'humidity': 58, 'temperature': 24, 'timestamp': '2022-04-24\\n16:51:49'}>>\n",
      "\n",
      "Message received:\n",
      "    Data: <<{'messageCount': 266, 'humidity': 58, 'temperature': 24, 'timestamp': '2022-04-24\\n16:51:50'}>>\n",
      "\n",
      "Message received:\n",
      "    Data: <<{'messageCount': 267, 'humidity': 58, 'temperature': 24, 'timestamp': '2022-04-24\\n16:51:52'}>>\n"
     ]
    },
    {
     "name": "stderr",
     "output_type": "stream",
     "text": [
      "INFO:azure.eventhub:Received event from partition 1\n",
      "INFO:azure.eventhub:Received event from partition 1\n",
      "INFO:azure.eventhub:Received event from partition 1\n"
     ]
    },
    {
     "name": "stdout",
     "output_type": "stream",
     "text": [
      "\n",
      "Message received:\n",
      "    Data: <<{'messageCount': 268, 'humidity': 58, 'temperature': 24, 'timestamp': '2022-04-24\\n16:51:53'}>>\n",
      "\n",
      "Message received:\n",
      "    Data: <<{'messageCount': 269, 'humidity': 58, 'temperature': 24, 'timestamp': '2022-04-24\\n16:51:54'}>>\n",
      "\n",
      "Message received:\n",
      "    Data: <<{'messageCount': 270, 'humidity': 58, 'temperature': 24, 'timestamp': '2022-04-24\\n16:51:55'}>>\n"
     ]
    },
    {
     "name": "stderr",
     "output_type": "stream",
     "text": [
      "INFO:azure.eventhub:Received event from partition 1\n",
      "INFO:azure.eventhub:Received event from partition 1\n",
      "INFO:azure.eventhub:Received event from partition 1\n"
     ]
    },
    {
     "name": "stdout",
     "output_type": "stream",
     "text": [
      "\n",
      "Message received:\n",
      "    Data: <<{'messageCount': 271, 'humidity': 58, 'temperature': 24, 'timestamp': '2022-04-24\\n16:51:56'}>>\n",
      "\n",
      "Message received:\n",
      "    Data: <<{'messageCount': 272, 'humidity': 58, 'temperature': 24, 'timestamp': '2022-04-24\\n16:51:57'}>>\n",
      "\n",
      "Message received:\n",
      "    Data: <<{'messageCount': 273, 'humidity': 58, 'temperature': 24, 'timestamp': '2022-04-24\\n16:51:58'}>>\n",
      "\n",
      "Message received:\n",
      "    Data: <<{'messageCount': 274, 'humidity': 58, 'temperature': 24, 'timestamp': '2022-04-24\\n16:51:59'}>>\n"
     ]
    },
    {
     "name": "stderr",
     "output_type": "stream",
     "text": [
      "INFO:azure.eventhub:Received event from partition 1\n",
      "INFO:azure.eventhub:Received event from partition 1\n",
      "INFO:azure.eventhub:Received event from partition 1\n",
      "INFO:azure.eventhub:Received event from partition 1\n"
     ]
    },
    {
     "name": "stdout",
     "output_type": "stream",
     "text": [
      "\n",
      "Message received:\n",
      "    Data: <<{'messageCount': 275, 'humidity': 58, 'temperature': 24, 'timestamp': '2022-04-24\\n16:52:01'}>>\n",
      "\n",
      "Message received:\n",
      "    Data: <<{'messageCount': 276, 'humidity': 58, 'temperature': 24, 'timestamp': '2022-04-24\\n16:52:02'}>>\n",
      "\n",
      "Message received:\n",
      "    Data: <<{'messageCount': 277, 'humidity': 58, 'temperature': 24, 'timestamp': '2022-04-24\\n16:52:03'}>>\n"
     ]
    },
    {
     "name": "stderr",
     "output_type": "stream",
     "text": [
      "INFO:azure.eventhub:Received event from partition 1\n",
      "INFO:azure.eventhub:Received event from partition 1\n",
      "INFO:azure.eventhub:Received event from partition 1\n"
     ]
    },
    {
     "name": "stdout",
     "output_type": "stream",
     "text": [
      "\n",
      "Message received:\n",
      "    Data: <<{'messageCount': 278, 'humidity': 58, 'temperature': 24, 'timestamp': '2022-04-24\\n16:52:04'}>>\n",
      "\n",
      "Message received:\n",
      "    Data: <<{'messageCount': 279, 'humidity': 58, 'temperature': 24, 'timestamp': '2022-04-24\\n16:52:05'}>>\n",
      "\n",
      "Message received:\n",
      "    Data: <<{'messageCount': 280, 'humidity': 58, 'temperature': 24, 'timestamp': '2022-04-24\\n16:52:07'}>>\n"
     ]
    },
    {
     "name": "stderr",
     "output_type": "stream",
     "text": [
      "INFO:azure.eventhub:Received event from partition 1\n",
      "INFO:azure.eventhub:Received event from partition 1\n",
      "INFO:azure.eventhub:Received event from partition 1\n"
     ]
    },
    {
     "name": "stdout",
     "output_type": "stream",
     "text": [
      "\n",
      "Message received:\n",
      "    Data: <<{'messageCount': 281, 'humidity': 58, 'temperature': 24, 'timestamp': '2022-04-24\\n16:52:08'}>>\n",
      "\n",
      "Message received:\n",
      "    Data: <<{'messageCount': 282, 'humidity': 58, 'temperature': 24, 'timestamp': '2022-04-24\\n16:52:09'}>>\n",
      "\n",
      "Message received:\n",
      "    Data: <<{'messageCount': 283, 'humidity': 58, 'temperature': 24, 'timestamp': '2022-04-24\\n16:52:10'}>>\n"
     ]
    },
    {
     "name": "stderr",
     "output_type": "stream",
     "text": [
      "INFO:azure.eventhub:Received event from partition 1\n",
      "INFO:azure.eventhub:Received event from partition 1\n",
      "INFO:azure.eventhub:Received event from partition 1\n"
     ]
    },
    {
     "name": "stdout",
     "output_type": "stream",
     "text": [
      "\n",
      "Message received:\n",
      "    Data: <<{'messageCount': 284, 'humidity': 58, 'temperature': 24, 'timestamp': '2022-04-24\\n16:52:11'}>>\n",
      "\n",
      "Message received:\n",
      "    Data: <<{'messageCount': 286, 'humidity': 58, 'temperature': 24, 'timestamp': '2022-04-24\\n16:52:16'}>>\n",
      "\n",
      "Message received:\n",
      "    Data: <<{'messageCount': 287, 'humidity': 58, 'temperature': 24, 'timestamp': '2022-04-24\\n16:52:17'}>>\n"
     ]
    },
    {
     "name": "stderr",
     "output_type": "stream",
     "text": [
      "INFO:azure.eventhub:Received event from partition 1\n",
      "INFO:azure.eventhub:Received event from partition 1\n",
      "INFO:azure.eventhub:Received event from partition 1\n"
     ]
    },
    {
     "name": "stdout",
     "output_type": "stream",
     "text": [
      "\n",
      "Message received:\n",
      "    Data: <<{'messageCount': 288, 'humidity': 58, 'temperature': 24, 'timestamp': '2022-04-24\\n16:52:18'}>>\n",
      "\n",
      "Message received:\n",
      "    Data: <<{'messageCount': 289, 'humidity': 58, 'temperature': 24, 'timestamp': '2022-04-24\\n16:52:19'}>>\n",
      "\n",
      "Message received:\n",
      "    Data: <<{'messageCount': 290, 'humidity': 58, 'temperature': 24, 'timestamp': '2022-04-24\\n16:52:20'}>>\n"
     ]
    },
    {
     "name": "stderr",
     "output_type": "stream",
     "text": [
      "INFO:azure.eventhub:Received event from partition 1\n",
      "INFO:azure.eventhub:Received event from partition 1\n",
      "INFO:azure.eventhub:Received event from partition 1\n"
     ]
    },
    {
     "name": "stdout",
     "output_type": "stream",
     "text": [
      "\n",
      "Message received:\n",
      "    Data: <<{'messageCount': 291, 'humidity': 58, 'temperature': 24, 'timestamp': '2022-04-24\\n16:52:21'}>>\n",
      "\n",
      "Message received:\n",
      "    Data: <<{'messageCount': 292, 'humidity': 58, 'temperature': 24, 'timestamp': '2022-04-24\\n16:52:23'}>>\n",
      "\n",
      "Message received:\n",
      "    Data: <<{'messageCount': 293, 'humidity': 58, 'temperature': 24, 'timestamp': '2022-04-24\\n16:52:24'}>>\n",
      "\n",
      "Message received:\n",
      "    Data: <<{'messageCount': 294, 'humidity': 58, 'temperature': 24, 'timestamp': '2022-04-24\\n16:52:25'}>>\n"
     ]
    },
    {
     "name": "stderr",
     "output_type": "stream",
     "text": [
      "INFO:azure.eventhub:Received event from partition 1\n",
      "INFO:azure.eventhub:Received event from partition 1\n",
      "INFO:azure.eventhub:Received event from partition 1\n",
      "INFO:azure.eventhub:Received event from partition 1\n"
     ]
    },
    {
     "name": "stdout",
     "output_type": "stream",
     "text": [
      "\n",
      "Message received:\n",
      "    Data: <<{'messageCount': 295, 'humidity': 58, 'temperature': 24, 'timestamp': '2022-04-24\\n16:52:26'}>>\n",
      "\n",
      "Message received:\n",
      "    Data: <<{'messageCount': 296, 'humidity': 58, 'temperature': 24, 'timestamp': '2022-04-24\\n16:52:27'}>>\n",
      "\n",
      "Message received:\n",
      "    Data: <<{'messageCount': 297, 'humidity': 58, 'temperature': 24, 'timestamp': '2022-04-24\\n16:52:28'}>>\n"
     ]
    },
    {
     "name": "stderr",
     "output_type": "stream",
     "text": [
      "INFO:azure.eventhub:Received event from partition 1\n",
      "INFO:azure.eventhub:Received event from partition 1\n",
      "INFO:azure.eventhub:Received event from partition 1\n"
     ]
    },
    {
     "name": "stdout",
     "output_type": "stream",
     "text": [
      "\n",
      "Message received:\n",
      "    Data: <<{'messageCount': 298, 'humidity': 58, 'temperature': 24, 'timestamp': '2022-04-24\\n16:52:30'}>>\n",
      "\n",
      "Message received:\n",
      "    Data: <<{'messageCount': 299, 'humidity': 58, 'temperature': 24, 'timestamp': '2022-04-24\\n16:52:32'}>>\n",
      "\n",
      "Message received:\n",
      "    Data: <<{'messageCount': 300, 'humidity': 58, 'temperature': 24, 'timestamp': '2022-04-24\\n16:52:33'}>>\n"
     ]
    },
    {
     "name": "stderr",
     "output_type": "stream",
     "text": [
      "INFO:azure.eventhub:Received event from partition 1\n",
      "INFO:azure.eventhub:Received event from partition 1\n",
      "INFO:azure.eventhub:Received event from partition 1\n"
     ]
    },
    {
     "name": "stdout",
     "output_type": "stream",
     "text": [
      "\n",
      "Message received:\n",
      "    Data: <<{'messageCount': 301, 'humidity': 58, 'temperature': 24, 'timestamp': '2022-04-24\\n16:52:34'}>>\n",
      "\n",
      "Message received:\n",
      "    Data: <<{'messageCount': 302, 'humidity': 58, 'temperature': 24, 'timestamp': '2022-04-24\\n16:52:35'}>>\n",
      "\n",
      "Message received:\n",
      "    Data: <<{'messageCount': 303, 'humidity': 58, 'temperature': 24, 'timestamp': '2022-04-24\\n16:52:36'}>>\n"
     ]
    },
    {
     "name": "stderr",
     "output_type": "stream",
     "text": [
      "INFO:azure.eventhub:Received event from partition 1\n",
      "INFO:azure.eventhub:Received event from partition 1\n",
      "INFO:azure.eventhub:Received event from partition 1\n"
     ]
    },
    {
     "name": "stdout",
     "output_type": "stream",
     "text": [
      "\n",
      "Message received:\n",
      "    Data: <<{'messageCount': 304, 'humidity': 58, 'temperature': 24, 'timestamp': '2022-04-24\\n16:52:37'}>>\n",
      "\n",
      "Message received:\n",
      "    Data: <<{'messageCount': 305, 'humidity': 58, 'temperature': 24, 'timestamp': '2022-04-24\\n16:52:39'}>>\n",
      "\n",
      "Message received:\n",
      "    Data: <<{'messageCount': 306, 'humidity': 58, 'temperature': 24, 'timestamp': '2022-04-24\\n16:52:40'}>>\n",
      "\n",
      "Message received:\n",
      "    Data: <<{'messageCount': 307, 'humidity': 58, 'temperature': 24, 'timestamp': '2022-04-24\\n16:52:41'}>>\n"
     ]
    },
    {
     "name": "stderr",
     "output_type": "stream",
     "text": [
      "INFO:azure.eventhub:Received event from partition 1\n",
      "INFO:azure.eventhub:Received event from partition 1\n",
      "INFO:azure.eventhub:Received event from partition 1\n"
     ]
    },
    {
     "name": "stdout",
     "output_type": "stream",
     "text": [
      "\n",
      "Message received:\n",
      "    Data: <<{'messageCount': 308, 'humidity': 58, 'temperature': 24, 'timestamp': '2022-04-24\\n16:52:42'}>>\n",
      "\n",
      "Message received:\n",
      "    Data: <<{'messageCount': 309, 'humidity': 58, 'temperature': 24, 'timestamp': '2022-04-24\\n16:52:43'}>>\n",
      "\n",
      "Message received:\n",
      "    Data: <<{'messageCount': 310, 'humidity': 58, 'temperature': 24, 'timestamp': '2022-04-24\\n16:52:44'}>>\n"
     ]
    },
    {
     "name": "stderr",
     "output_type": "stream",
     "text": [
      "INFO:azure.eventhub:Received event from partition 1\n",
      "INFO:azure.eventhub:Received event from partition 1\n",
      "INFO:azure.eventhub:Received event from partition 1\n",
      "INFO:azure.eventhub:Received event from partition 1\n"
     ]
    },
    {
     "name": "stdout",
     "output_type": "stream",
     "text": [
      "\n",
      "Message received:\n",
      "    Data: <<{'messageCount': 313, 'humidity': 58, 'temperature': 24, 'timestamp': '2022-04-24\\n16:52:52'}>>\n",
      "\n",
      "Message received:\n",
      "    Data: <<{'messageCount': 314, 'humidity': 58, 'temperature': 24, 'timestamp': '2022-04-24\\n16:52:53'}>>\n",
      "\n",
      "Message received:\n",
      "    Data: <<{'messageCount': 315, 'humidity': 58, 'temperature': 24, 'timestamp': '2022-04-24\\n16:52:54'}>>\n",
      "\n",
      "Message received:\n",
      "    Data: <<{'messageCount': 316, 'humidity': 58, 'temperature': 24, 'timestamp': '2022-04-24\\n16:52:55'}>>\n"
     ]
    },
    {
     "name": "stderr",
     "output_type": "stream",
     "text": [
      "INFO:azure.eventhub:Received event from partition 1\n",
      "INFO:azure.eventhub:Received event from partition 1\n",
      "INFO:azure.eventhub:Received event from partition 1\n",
      "INFO:azure.eventhub:Received event from partition 1\n"
     ]
    },
    {
     "name": "stdout",
     "output_type": "stream",
     "text": [
      "\n",
      "Message received:\n",
      "    Data: <<{'messageCount': 317, 'humidity': 58, 'temperature': 24, 'timestamp': '2022-04-24\\n16:52:57'}>>\n",
      "\n",
      "Message received:\n",
      "    Data: <<{'messageCount': 318, 'humidity': 58, 'temperature': 24, 'timestamp': '2022-04-24\\n16:52:58'}>>\n",
      "\n",
      "Message received:\n",
      "    Data: <<{'messageCount': 319, 'humidity': 58, 'temperature': 24, 'timestamp': '2022-04-24\\n16:52:59'}>>\n",
      "\n",
      "Message received:\n",
      "    Data: <<{'messageCount': 320, 'humidity': 58, 'temperature': 24, 'timestamp': '2022-04-24\\n16:53:00'}>>\n"
     ]
    },
    {
     "name": "stderr",
     "output_type": "stream",
     "text": [
      "INFO:azure.eventhub:Received event from partition 1\n",
      "INFO:azure.eventhub:Received event from partition 1\n",
      "INFO:azure.eventhub:Received event from partition 1\n",
      "INFO:azure.eventhub:Received event from partition 1\n"
     ]
    },
    {
     "name": "stdout",
     "output_type": "stream",
     "text": [
      "\n",
      "Message received:\n",
      "    Data: <<{'messageCount': 321, 'humidity': 57, 'temperature': 24, 'timestamp': '2022-04-24\\n16:53:01'}>>\n",
      "\n",
      "Message received:\n",
      "    Data: <<{'messageCount': 322, 'humidity': 57, 'temperature': 24, 'timestamp': '2022-04-24\\n16:53:02'}>>\n",
      "\n",
      "Message received:\n",
      "    Data: <<{'messageCount': 323, 'humidity': 58, 'temperature': 24, 'timestamp': '2022-04-24\\n16:53:04'}>>\n"
     ]
    },
    {
     "name": "stderr",
     "output_type": "stream",
     "text": [
      "INFO:azure.eventhub:Received event from partition 1\n",
      "INFO:azure.eventhub:Received event from partition 1\n",
      "INFO:azure.eventhub:Received event from partition 1\n"
     ]
    },
    {
     "name": "stdout",
     "output_type": "stream",
     "text": [
      "\n",
      "Message received:\n",
      "    Data: <<{'messageCount': 324, 'humidity': 58, 'temperature': 24, 'timestamp': '2022-04-24\\n16:53:06'}>>\n",
      "\n",
      "Message received:\n",
      "    Data: <<{'messageCount': 325, 'humidity': 58, 'temperature': 24, 'timestamp': '2022-04-24\\n16:53:07'}>>\n",
      "\n",
      "Message received:\n",
      "    Data: <<{'messageCount': 326, 'humidity': 58, 'temperature': 24, 'timestamp': '2022-04-24\\n16:53:08'}>>\n"
     ]
    },
    {
     "name": "stderr",
     "output_type": "stream",
     "text": [
      "INFO:azure.eventhub:Received event from partition 1\n",
      "INFO:azure.eventhub:Received event from partition 1\n",
      "INFO:azure.eventhub:Received event from partition 1\n"
     ]
    },
    {
     "name": "stdout",
     "output_type": "stream",
     "text": [
      "\n",
      "Message received:\n",
      "    Data: <<{'messageCount': 327, 'humidity': 58, 'temperature': 24, 'timestamp': '2022-04-24\\n16:53:09'}>>\n",
      "\n",
      "Message received:\n",
      "    Data: <<{'messageCount': 328, 'humidity': 57, 'temperature': 24, 'timestamp': '2022-04-24\\n16:53:11'}>>\n",
      "\n",
      "Message received:\n",
      "    Data: <<{'messageCount': 329, 'humidity': 57, 'temperature': 24, 'timestamp': '2022-04-24\\n16:53:12'}>>\n"
     ]
    },
    {
     "name": "stderr",
     "output_type": "stream",
     "text": [
      "INFO:azure.eventhub:Received event from partition 1\n",
      "INFO:azure.eventhub:Received event from partition 1\n",
      "INFO:azure.eventhub:Received event from partition 1\n"
     ]
    },
    {
     "name": "stdout",
     "output_type": "stream",
     "text": [
      "\n",
      "Message received:\n",
      "    Data: <<{'messageCount': 330, 'humidity': 57, 'temperature': 24, 'timestamp': '2022-04-24\\n16:53:13'}>>\n",
      "\n",
      "Message received:\n",
      "    Data: <<{'messageCount': 331, 'humidity': 57, 'temperature': 24, 'timestamp': '2022-04-24\\n16:53:14'}>>\n",
      "\n",
      "Message received:\n",
      "    Data: <<{'messageCount': 332, 'humidity': 58, 'temperature': 24, 'timestamp': '2022-04-24\\n16:53:15'}>>\n"
     ]
    },
    {
     "name": "stderr",
     "output_type": "stream",
     "text": [
      "INFO:azure.eventhub:Received event from partition 1\n",
      "INFO:azure.eventhub:Received event from partition 1\n",
      "INFO:azure.eventhub:Received event from partition 1\n"
     ]
    },
    {
     "name": "stdout",
     "output_type": "stream",
     "text": [
      "\n",
      "Message received:\n",
      "    Data: <<{'messageCount': 333, 'humidity': 58, 'temperature': 24, 'timestamp': '2022-04-24\\n16:53:16'}>>\n",
      "\n",
      "Message received:\n",
      "    Data: <<{'messageCount': 334, 'humidity': 57, 'temperature': 24, 'timestamp': '2022-04-24\\n16:53:17'}>>\n",
      "\n",
      "Message received:\n",
      "    Data: <<{'messageCount': 335, 'humidity': 57, 'temperature': 24, 'timestamp': '2022-04-24\\n16:53:18'}>>\n",
      "\n",
      "Message received:\n",
      "    Data: <<{'messageCount': 336, 'humidity': 57, 'temperature': 24, 'timestamp': '2022-04-24\\n16:53:20'}>>\n"
     ]
    },
    {
     "name": "stderr",
     "output_type": "stream",
     "text": [
      "INFO:azure.eventhub:Received event from partition 1\n",
      "INFO:azure.eventhub:Received event from partition 1\n",
      "INFO:azure.eventhub:Received event from partition 1\n",
      "INFO:azure.eventhub:Received event from partition 1\n"
     ]
    },
    {
     "name": "stdout",
     "output_type": "stream",
     "text": [
      "\n",
      "Message received:\n",
      "    Data: <<{'messageCount': 337, 'humidity': 57, 'temperature': 24, 'timestamp': '2022-04-24\\n16:53:21'}>>\n",
      "\n",
      "Message received:\n",
      "    Data: <<{'messageCount': 338, 'humidity': 57, 'temperature': 24, 'timestamp': '2022-04-24\\n16:53:23'}>>\n",
      "\n",
      "Message received:\n",
      "    Data: <<{'messageCount': 339, 'humidity': 57, 'temperature': 24, 'timestamp': '2022-04-24\\n16:53:24'}>>\n"
     ]
    },
    {
     "name": "stderr",
     "output_type": "stream",
     "text": [
      "INFO:azure.eventhub:Received event from partition 1\n",
      "INFO:azure.eventhub:Received event from partition 1\n",
      "INFO:azure.eventhub:Received event from partition 1\n"
     ]
    },
    {
     "name": "stdout",
     "output_type": "stream",
     "text": [
      "\n",
      "Message received:\n",
      "    Data: <<{'messageCount': 340, 'humidity': 57, 'temperature': 24, 'timestamp': '2022-04-24\\n16:53:25'}>>\n",
      "\n",
      "Message received:\n",
      "    Data: <<{'messageCount': 341, 'humidity': 57, 'temperature': 24, 'timestamp': '2022-04-24\\n16:53:26'}>>\n",
      "\n",
      "Message received:\n",
      "    Data: <<{'messageCount': 342, 'humidity': 57, 'temperature': 24, 'timestamp': '2022-04-24\\n16:53:27'}>>\n"
     ]
    },
    {
     "name": "stderr",
     "output_type": "stream",
     "text": [
      "INFO:azure.eventhub:Received event from partition 1\n",
      "INFO:azure.eventhub:Received event from partition 1\n",
      "INFO:azure.eventhub:Received event from partition 1\n"
     ]
    },
    {
     "name": "stdout",
     "output_type": "stream",
     "text": [
      "\n",
      "Message received:\n",
      "    Data: <<{'messageCount': 343, 'humidity': 57, 'temperature': 24, 'timestamp': '2022-04-24\\n16:53:29'}>>\n",
      "\n",
      "Message received:\n",
      "    Data: <<{'messageCount': 344, 'humidity': 57, 'temperature': 24, 'timestamp': '2022-04-24\\n16:53:32'}>>\n",
      "\n",
      "Message received:\n",
      "    Data: <<{'messageCount': 345, 'humidity': 57, 'temperature': 24, 'timestamp': '2022-04-24\\n16:53:33'}>>\n"
     ]
    },
    {
     "name": "stderr",
     "output_type": "stream",
     "text": [
      "INFO:azure.eventhub:Received event from partition 1\n",
      "INFO:azure.eventhub:Received event from partition 1\n",
      "INFO:azure.eventhub:Received event from partition 1\n"
     ]
    },
    {
     "name": "stdout",
     "output_type": "stream",
     "text": [
      "\n",
      "Message received:\n",
      "    Data: <<{'messageCount': 346, 'humidity': 57, 'temperature': 24, 'timestamp': '2022-04-24\\n16:53:34'}>>\n",
      "\n",
      "Message received:\n",
      "    Data: <<{'messageCount': 347, 'humidity': 57, 'temperature': 24, 'timestamp': '2022-04-24\\n16:53:35'}>>\n",
      "\n",
      "Message received:\n",
      "    Data: <<{'messageCount': 348, 'humidity': 57, 'temperature': 24, 'timestamp': '2022-04-24\\n16:53:36'}>>\n"
     ]
    },
    {
     "name": "stderr",
     "output_type": "stream",
     "text": [
      "INFO:azure.eventhub:Received event from partition 1\n",
      "INFO:azure.eventhub:Received event from partition 1\n",
      "INFO:azure.eventhub:Received event from partition 1\n"
     ]
    },
    {
     "name": "stdout",
     "output_type": "stream",
     "text": [
      "\n",
      "Message received:\n",
      "    Data: <<{'messageCount': 349, 'humidity': 57, 'temperature': 24, 'timestamp': '2022-04-24\\n16:53:37'}>>\n",
      "\n",
      "Message received:\n",
      "    Data: <<{'messageCount': 351, 'humidity': 57, 'temperature': 23, 'timestamp': '2022-04-24\\n16:53:41'}>>\n",
      "\n",
      "Message received:\n",
      "    Data: <<{'messageCount': 350, 'humidity': 57, 'temperature': 24, 'timestamp': '2022-04-24\\n16:53:39'}>>\n"
     ]
    },
    {
     "name": "stderr",
     "output_type": "stream",
     "text": [
      "INFO:azure.eventhub:Received event from partition 1\n",
      "INFO:azure.eventhub:Received event from partition 1\n",
      "INFO:azure.eventhub:Received event from partition 1\n"
     ]
    },
    {
     "name": "stdout",
     "output_type": "stream",
     "text": [
      "\n",
      "Message received:\n",
      "    Data: <<{'messageCount': 352, 'humidity': 57, 'temperature': 23, 'timestamp': '2022-04-24\\n16:53:42'}>>\n",
      "\n",
      "Message received:\n",
      "    Data: <<{'messageCount': 353, 'humidity': 57, 'temperature': 24, 'timestamp': '2022-04-24\\n16:53:43'}>>\n",
      "\n",
      "Message received:\n",
      "    Data: <<{'messageCount': 354, 'humidity': 57, 'temperature': 24, 'timestamp': '2022-04-24\\n16:53:44'}>>\n"
     ]
    },
    {
     "name": "stderr",
     "output_type": "stream",
     "text": [
      "INFO:azure.eventhub:Received event from partition 1\n",
      "INFO:azure.eventhub:Received event from partition 1\n",
      "INFO:azure.eventhub:Received event from partition 1\n"
     ]
    },
    {
     "name": "stdout",
     "output_type": "stream",
     "text": [
      "\n",
      "Message received:\n",
      "    Data: <<{'messageCount': 355, 'humidity': 57, 'temperature': 24, 'timestamp': '2022-04-24\\n16:53:45'}>>\n",
      "\n",
      "Message received:\n",
      "    Data: <<{'messageCount': 356, 'humidity': 57, 'temperature': 24, 'timestamp': '2022-04-24\\n16:53:46'}>>\n",
      "\n",
      "Message received:\n",
      "    Data: <<{'messageCount': 357, 'humidity': 57, 'temperature': 24, 'timestamp': '2022-04-24\\n16:53:47'}>>\n"
     ]
    },
    {
     "name": "stderr",
     "output_type": "stream",
     "text": [
      "INFO:azure.eventhub:Received event from partition 1\n",
      "INFO:azure.eventhub:Received event from partition 1\n",
      "INFO:azure.eventhub:Received event from partition 1\n"
     ]
    },
    {
     "name": "stdout",
     "output_type": "stream",
     "text": [
      "\n",
      "Message received:\n",
      "    Data: <<{'messageCount': 358, 'humidity': 57, 'temperature': 24, 'timestamp': '2022-04-24\\n16:53:48'}>>\n",
      "\n",
      "Message received:\n",
      "    Data: <<{'messageCount': 359, 'humidity': 57, 'temperature': 24, 'timestamp': '2022-04-24\\n16:53:50'}>>\n",
      "\n",
      "Message received:\n",
      "    Data: <<{'messageCount': 360, 'humidity': 57, 'temperature': 24, 'timestamp': '2022-04-24\\n16:53:51'}>>\n"
     ]
    },
    {
     "name": "stderr",
     "output_type": "stream",
     "text": [
      "INFO:azure.eventhub:Received event from partition 1\n",
      "INFO:azure.eventhub:Received event from partition 1\n",
      "INFO:azure.eventhub:Received event from partition 1\n"
     ]
    },
    {
     "name": "stdout",
     "output_type": "stream",
     "text": [
      "\n",
      "Message received:\n",
      "    Data: <<{'messageCount': 361, 'humidity': 57, 'temperature': 24, 'timestamp': '2022-04-24\\n16:53:52'}>>\n",
      "\n",
      "Message received:\n",
      "    Data: <<{'messageCount': 362, 'humidity': 57, 'temperature': 24, 'timestamp': '2022-04-24\\n16:53:53'}>>\n",
      "\n",
      "Message received:\n",
      "    Data: <<{'messageCount': 363, 'humidity': 57, 'temperature': 24, 'timestamp': '2022-04-24\\n16:53:54'}>>\n"
     ]
    },
    {
     "name": "stderr",
     "output_type": "stream",
     "text": [
      "INFO:azure.eventhub:Received event from partition 1\n",
      "INFO:azure.eventhub:Received event from partition 1\n",
      "INFO:azure.eventhub:Received event from partition 1\n"
     ]
    },
    {
     "name": "stdout",
     "output_type": "stream",
     "text": [
      "\n",
      "Message received:\n",
      "    Data: <<{'messageCount': 364, 'humidity': 57, 'temperature': 24, 'timestamp': '2022-04-24\\n16:53:55'}>>\n",
      "\n",
      "Message received:\n",
      "    Data: <<{'messageCount': 366, 'humidity': 57, 'temperature': 24, 'timestamp': '2022-04-24\\n16:54:00'}>>\n",
      "\n",
      "Message received:\n",
      "    Data: <<{'messageCount': 367, 'humidity': 57, 'temperature': 24, 'timestamp': '2022-04-24\\n16:54:02'}>>\n",
      "\n",
      "Message received:\n",
      "    Data: <<{'messageCount': 368, 'humidity': 57, 'temperature': 24, 'timestamp': '2022-04-24\\n16:54:03'}>>\n"
     ]
    },
    {
     "name": "stderr",
     "output_type": "stream",
     "text": [
      "INFO:azure.eventhub:Received event from partition 1\n",
      "INFO:azure.eventhub:Received event from partition 1\n",
      "INFO:azure.eventhub:Received event from partition 1\n",
      "INFO:azure.eventhub:Received event from partition 1\n"
     ]
    },
    {
     "name": "stdout",
     "output_type": "stream",
     "text": [
      "\n",
      "Message received:\n",
      "    Data: <<{'messageCount': 369, 'humidity': 57, 'temperature': 24, 'timestamp': '2022-04-24\\n16:54:04'}>>\n",
      "\n",
      "Message received:\n",
      "    Data: <<{'messageCount': 370, 'humidity': 57, 'temperature': 24, 'timestamp': '2022-04-24\\n16:54:05'}>>\n",
      "\n",
      "Message received:\n",
      "    Data: <<{'messageCount': 371, 'humidity': 57, 'temperature': 24, 'timestamp': '2022-04-24\\n16:54:07'}>>\n"
     ]
    },
    {
     "name": "stderr",
     "output_type": "stream",
     "text": [
      "INFO:azure.eventhub:Received event from partition 1\n",
      "INFO:azure.eventhub:Received event from partition 1\n",
      "INFO:azure.eventhub:Received event from partition 1\n"
     ]
    },
    {
     "name": "stdout",
     "output_type": "stream",
     "text": [
      "\n",
      "Message received:\n",
      "    Data: <<{'messageCount': 372, 'humidity': 57, 'temperature': 24, 'timestamp': '2022-04-24\\n16:54:08'}>>\n",
      "\n",
      "Message received:\n",
      "    Data: <<{'messageCount': 373, 'humidity': 57, 'temperature': 24, 'timestamp': '2022-04-24\\n16:54:09'}>>\n",
      "\n",
      "Message received:\n",
      "    Data: <<{'messageCount': 374, 'humidity': 57, 'temperature': 24, 'timestamp': '2022-04-24\\n16:54:10'}>>\n"
     ]
    },
    {
     "name": "stderr",
     "output_type": "stream",
     "text": [
      "INFO:azure.eventhub:Received event from partition 1\n",
      "INFO:azure.eventhub:Received event from partition 1\n",
      "INFO:azure.eventhub:Received event from partition 1\n"
     ]
    },
    {
     "name": "stdout",
     "output_type": "stream",
     "text": [
      "\n",
      "Message received:\n",
      "    Data: <<{'messageCount': 375, 'humidity': 57, 'temperature': 24, 'timestamp': '2022-04-24\\n16:54:11'}>>\n",
      "\n",
      "Message received:\n",
      "    Data: <<{'messageCount': 376, 'humidity': 57, 'temperature': 24, 'timestamp': '2022-04-24\\n16:54:12'}>>\n",
      "\n",
      "Message received:\n",
      "    Data: <<{'messageCount': 377, 'humidity': 57, 'temperature': 24, 'timestamp': '2022-04-24\\n16:54:14'}>>\n"
     ]
    },
    {
     "name": "stderr",
     "output_type": "stream",
     "text": [
      "INFO:azure.eventhub:Received event from partition 1\n",
      "INFO:azure.eventhub:Received event from partition 1\n",
      "INFO:azure.eventhub:Received event from partition 1\n"
     ]
    },
    {
     "name": "stdout",
     "output_type": "stream",
     "text": [
      "\n",
      "Message received:\n",
      "    Data: <<{'messageCount': 378, 'humidity': 57, 'temperature': 24, 'timestamp': '2022-04-24\\n16:54:15'}>>\n",
      "\n",
      "Message received:\n",
      "    Data: <<{'messageCount': 379, 'humidity': 57, 'temperature': 24, 'timestamp': '2022-04-24\\n16:54:16'}>>\n",
      "\n",
      "Message received:\n",
      "    Data: <<{'messageCount': 381, 'humidity': 57, 'temperature': 24, 'timestamp': '2022-04-24\\n16:54:18'}>>\n"
     ]
    },
    {
     "name": "stderr",
     "output_type": "stream",
     "text": [
      "INFO:azure.eventhub:Received event from partition 1\n",
      "INFO:azure.eventhub:Received event from partition 1\n",
      "INFO:azure.eventhub:Received event from partition 1\n"
     ]
    },
    {
     "name": "stdout",
     "output_type": "stream",
     "text": [
      "\n",
      "Message received:\n",
      "    Data: <<{'messageCount': 380, 'humidity': 57, 'temperature': 24, 'timestamp': '2022-04-24\\n16:54:17'}>>\n",
      "\n",
      "Message received:\n",
      "    Data: <<{'messageCount': 382, 'humidity': 57, 'temperature': 24, 'timestamp': '2022-04-24\\n16:54:19'}>>\n",
      "\n",
      "Message received:\n",
      "    Data: <<{'messageCount': 383, 'humidity': 57, 'temperature': 24, 'timestamp': '2022-04-24\\n16:54:21'}>>\n"
     ]
    },
    {
     "name": "stderr",
     "output_type": "stream",
     "text": [
      "INFO:azure.eventhub:Received event from partition 1\n",
      "INFO:azure.eventhub:Received event from partition 1\n",
      "INFO:azure.eventhub:Received event from partition 1\n"
     ]
    },
    {
     "name": "stdout",
     "output_type": "stream",
     "text": [
      "\n",
      "Message received:\n",
      "    Data: <<{'messageCount': 384, 'humidity': 57, 'temperature': 24, 'timestamp': '2022-04-24\\n16:54:22'}>>\n",
      "\n",
      "Message received:\n",
      "    Data: <<{'messageCount': 385, 'humidity': 57, 'temperature': 24, 'timestamp': '2022-04-24\\n16:54:23'}>>\n",
      "\n",
      "Message received:\n",
      "    Data: <<{'messageCount': 386, 'humidity': 57, 'temperature': 24, 'timestamp': '2022-04-24\\n16:54:24'}>>\n",
      "\n",
      "Message received:\n",
      "    Data: <<{'messageCount': 387, 'humidity': 57, 'temperature': 24, 'timestamp': '2022-04-24\\n16:54:25'}>>\n"
     ]
    },
    {
     "name": "stderr",
     "output_type": "stream",
     "text": [
      "INFO:azure.eventhub:Received event from partition 1\n",
      "INFO:azure.eventhub:Received event from partition 1\n",
      "INFO:azure.eventhub:Received event from partition 1\n",
      "INFO:azure.eventhub:Received event from partition 1\n"
     ]
    },
    {
     "name": "stdout",
     "output_type": "stream",
     "text": [
      "\n",
      "Message received:\n",
      "    Data: <<{'messageCount': 388, 'humidity': 57, 'temperature': 24, 'timestamp': '2022-04-24\\n16:54:29'}>>\n",
      "\n",
      "Message received:\n",
      "    Data: <<{'messageCount': 389, 'humidity': 57, 'temperature': 24, 'timestamp': '2022-04-24\\n16:54:30'}>>\n",
      "\n",
      "Message received:\n",
      "    Data: <<{'messageCount': 390, 'humidity': 57, 'temperature': 24, 'timestamp': '2022-04-24\\n16:54:31'}>>\n"
     ]
    },
    {
     "name": "stderr",
     "output_type": "stream",
     "text": [
      "INFO:azure.eventhub:Received event from partition 1\n",
      "INFO:azure.eventhub:Received event from partition 1\n",
      "INFO:azure.eventhub:Received event from partition 1\n"
     ]
    },
    {
     "name": "stdout",
     "output_type": "stream",
     "text": [
      "\n",
      "Message received:\n",
      "    Data: <<{'messageCount': 391, 'humidity': 57, 'temperature': 24, 'timestamp': '2022-04-24\\n16:54:32'}>>\n",
      "\n",
      "Message received:\n",
      "    Data: <<{'messageCount': 392, 'humidity': 57, 'temperature': 24, 'timestamp': '2022-04-24\\n16:54:33'}>>\n",
      "\n",
      "Message received:\n",
      "    Data: <<{'messageCount': 393, 'humidity': 57, 'temperature': 24, 'timestamp': '2022-04-24\\n16:54:34'}>>\n"
     ]
    },
    {
     "name": "stderr",
     "output_type": "stream",
     "text": [
      "INFO:azure.eventhub:Received event from partition 1\n",
      "INFO:azure.eventhub:Received event from partition 1\n",
      "INFO:azure.eventhub:Received event from partition 1\n"
     ]
    },
    {
     "name": "stdout",
     "output_type": "stream",
     "text": [
      "\n",
      "Message received:\n",
      "    Data: <<{'messageCount': 394, 'humidity': 57, 'temperature': 24, 'timestamp': '2022-04-24\\n16:54:36'}>>\n",
      "\n",
      "Message received:\n",
      "    Data: <<{'messageCount': 395, 'humidity': 57, 'temperature': 24, 'timestamp': '2022-04-24\\n16:54:37'}>>\n",
      "\n",
      "Message received:\n",
      "    Data: <<{'messageCount': 396, 'humidity': 57, 'temperature': 24, 'timestamp': '2022-04-24\\n16:54:38'}>>\n"
     ]
    },
    {
     "name": "stderr",
     "output_type": "stream",
     "text": [
      "INFO:azure.eventhub:Received event from partition 1\n",
      "INFO:azure.eventhub:Received event from partition 1\n",
      "INFO:azure.eventhub:Received event from partition 1\n"
     ]
    },
    {
     "name": "stdout",
     "output_type": "stream",
     "text": [
      "\n",
      "Message received:\n",
      "    Data: <<{'messageCount': 397, 'humidity': 57, 'temperature': 24, 'timestamp': '2022-04-24\\n16:54:39'}>>\n",
      "\n",
      "Message received:\n",
      "    Data: <<{'messageCount': 398, 'humidity': 57, 'temperature': 24, 'timestamp': '2022-04-24\\n16:54:40'}>>\n",
      "\n",
      "Message received:\n",
      "    Data: <<{'messageCount': 399, 'humidity': 57, 'temperature': 24, 'timestamp': '2022-04-24\\n16:54:41'}>>\n"
     ]
    },
    {
     "name": "stderr",
     "output_type": "stream",
     "text": [
      "INFO:azure.eventhub:Received event from partition 1\n",
      "INFO:azure.eventhub:Received event from partition 1\n",
      "INFO:azure.eventhub:Received event from partition 1\n"
     ]
    },
    {
     "name": "stdout",
     "output_type": "stream",
     "text": [
      "\n",
      "Message received:\n",
      "    Data: <<{'messageCount': 400, 'humidity': 57, 'temperature': 24, 'timestamp': '2022-04-24\\n16:54:42'}>>\n",
      "\n",
      "Message received:\n",
      "    Data: <<{'messageCount': 401, 'humidity': 57, 'temperature': 24, 'timestamp': '2022-04-24\\n16:54:43'}>>\n",
      "\n",
      "Message received:\n",
      "    Data: <<{'messageCount': 402, 'humidity': 57, 'temperature': 24, 'timestamp': '2022-04-24\\n16:54:45'}>>\n"
     ]
    },
    {
     "name": "stderr",
     "output_type": "stream",
     "text": [
      "INFO:azure.eventhub:Received event from partition 1\n",
      "INFO:azure.eventhub:Received event from partition 1\n",
      "INFO:azure.eventhub:Received event from partition 1\n"
     ]
    },
    {
     "name": "stdout",
     "output_type": "stream",
     "text": [
      "\n",
      "Message received:\n",
      "    Data: <<{'messageCount': 403, 'humidity': 57, 'temperature': 24, 'timestamp': '2022-04-24\\n16:54:46'}>>\n",
      "\n",
      "Message received:\n",
      "    Data: <<{'messageCount': 404, 'humidity': 57, 'temperature': 24, 'timestamp': '2022-04-24\\n16:54:47'}>>\n",
      "\n",
      "Message received:\n",
      "    Data: <<{'messageCount': 405, 'humidity': 57, 'temperature': 24, 'timestamp': '2022-04-24\\n16:54:48'}>>\n",
      "\n",
      "Message received:\n",
      "    Data: <<{'messageCount': 406, 'humidity': 57, 'temperature': 24, 'timestamp': '2022-04-24\\n16:54:49'}>>\n"
     ]
    },
    {
     "name": "stderr",
     "output_type": "stream",
     "text": [
      "INFO:azure.eventhub:Received event from partition 1\n",
      "INFO:azure.eventhub:Received event from partition 1\n",
      "INFO:azure.eventhub:Received event from partition 1\n",
      "INFO:azure.eventhub:Received event from partition 1\n"
     ]
    },
    {
     "name": "stdout",
     "output_type": "stream",
     "text": [
      "\n",
      "Message received:\n",
      "    Data: <<{'messageCount': 407, 'humidity': 57, 'temperature': 24, 'timestamp': '2022-04-24\\n16:54:50'}>>\n",
      "\n",
      "Message received:\n",
      "    Data: <<{'messageCount': 408, 'humidity': 57, 'temperature': 24, 'timestamp': '2022-04-24\\n16:54:52'}>>\n",
      "\n",
      "Message received:\n",
      "    Data: <<{'messageCount': 409, 'humidity': 57, 'temperature': 24, 'timestamp': '2022-04-24\\n16:54:53'}>>\n"
     ]
    },
    {
     "name": "stderr",
     "output_type": "stream",
     "text": [
      "INFO:azure.eventhub:Received event from partition 1\n",
      "INFO:azure.eventhub:Received event from partition 1\n",
      "INFO:azure.eventhub:Received event from partition 1\n"
     ]
    },
    {
     "name": "stdout",
     "output_type": "stream",
     "text": [
      "\n",
      "Message received:\n",
      "    Data: <<{'messageCount': 410, 'humidity': 57, 'temperature': 24, 'timestamp': '2022-04-24\\n16:54:54'}>>\n",
      "\n",
      "Message received:\n",
      "    Data: <<{'messageCount': 411, 'humidity': 57, 'temperature': 24, 'timestamp': '2022-04-24\\n16:54:55'}>>\n",
      "\n",
      "Message received:\n",
      "    Data: <<{'messageCount': 412, 'humidity': 57, 'temperature': 24, 'timestamp': '2022-04-24\\n16:54:56'}>>\n"
     ]
    },
    {
     "name": "stderr",
     "output_type": "stream",
     "text": [
      "INFO:azure.eventhub:Received event from partition 1\n",
      "INFO:azure.eventhub:Received event from partition 1\n",
      "INFO:azure.eventhub:Received event from partition 1\n"
     ]
    },
    {
     "name": "stdout",
     "output_type": "stream",
     "text": [
      "\n",
      "Message received:\n",
      "    Data: <<{'messageCount': 413, 'humidity': 57, 'temperature': 24, 'timestamp': '2022-04-24\\n16:54:57'}>>\n",
      "\n",
      "Message received:\n",
      "    Data: <<{'messageCount': 414, 'humidity': 57, 'temperature': 24, 'timestamp': '2022-04-24\\n16:54:59'}>>\n",
      "\n",
      "Message received:\n",
      "    Data: <<{'messageCount': 415, 'humidity': 57, 'temperature': 24, 'timestamp': '2022-04-24\\n16:55:02'}>>\n"
     ]
    },
    {
     "name": "stderr",
     "output_type": "stream",
     "text": [
      "INFO:azure.eventhub:Received event from partition 1\n",
      "INFO:azure.eventhub:Received event from partition 1\n",
      "INFO:azure.eventhub:Received event from partition 1\n"
     ]
    },
    {
     "name": "stdout",
     "output_type": "stream",
     "text": [
      "\n",
      "Message received:\n",
      "    Data: <<{'messageCount': 416, 'humidity': 57, 'temperature': 24, 'timestamp': '2022-04-24\\n16:55:03'}>>\n",
      "\n",
      "Message received:\n",
      "    Data: <<{'messageCount': 417, 'humidity': 57, 'temperature': 24, 'timestamp': '2022-04-24\\n16:55:04'}>>\n",
      "\n",
      "Message received:\n",
      "    Data: <<{'messageCount': 418, 'humidity': 57, 'temperature': 24, 'timestamp': '2022-04-24\\n16:55:05'}>>\n"
     ]
    },
    {
     "name": "stderr",
     "output_type": "stream",
     "text": [
      "INFO:azure.eventhub:Received event from partition 1\n",
      "INFO:azure.eventhub:Received event from partition 1\n",
      "INFO:azure.eventhub:Received event from partition 1\n"
     ]
    },
    {
     "name": "stdout",
     "output_type": "stream",
     "text": [
      "\n",
      "Message received:\n",
      "    Data: <<{'messageCount': 419, 'humidity': 57, 'temperature': 24, 'timestamp': '2022-04-24\\n16:55:07'}>>\n",
      "\n",
      "Message received:\n",
      "    Data: <<{'messageCount': 420, 'humidity': 57, 'temperature': 24, 'timestamp': '2022-04-24\\n16:55:08'}>>\n",
      "\n",
      "Message received:\n",
      "    Data: <<{'messageCount': 421, 'humidity': 57, 'temperature': 23, 'timestamp': '2022-04-24\\n16:55:09'}>>\n"
     ]
    },
    {
     "name": "stderr",
     "output_type": "stream",
     "text": [
      "INFO:azure.eventhub:Received event from partition 1\n",
      "INFO:azure.eventhub:Received event from partition 1\n",
      "INFO:azure.eventhub:Received event from partition 1\n"
     ]
    },
    {
     "name": "stdout",
     "output_type": "stream",
     "text": [
      "\n",
      "Message received:\n",
      "    Data: <<{'messageCount': 422, 'humidity': 57, 'temperature': 23, 'timestamp': '2022-04-24\\n16:55:10'}>>\n",
      "\n",
      "Message received:\n",
      "    Data: <<{'messageCount': 423, 'humidity': 57, 'temperature': 24, 'timestamp': '2022-04-24\\n16:55:11'}>>\n",
      "\n",
      "Message received:\n",
      "    Data: <<{'messageCount': 424, 'humidity': 57, 'temperature': 24, 'timestamp': '2022-04-24\\n16:55:12'}>>\n",
      "\n",
      "Message received:\n",
      "    Data: <<{'messageCount': 425, 'humidity': 57, 'temperature': 24, 'timestamp': '2022-04-24\\n16:55:14'}>>\n"
     ]
    },
    {
     "name": "stderr",
     "output_type": "stream",
     "text": [
      "INFO:azure.eventhub:Received event from partition 1\n",
      "INFO:azure.eventhub:Received event from partition 1\n",
      "INFO:azure.eventhub:Received event from partition 1\n",
      "INFO:azure.eventhub:Received event from partition 1\n"
     ]
    },
    {
     "name": "stdout",
     "output_type": "stream",
     "text": [
      "\n",
      "Message received:\n",
      "    Data: <<{'messageCount': 426, 'humidity': 57, 'temperature': 24, 'timestamp': '2022-04-24\\n16:55:15'}>>\n",
      "\n",
      "Message received:\n",
      "    Data: <<{'messageCount': 427, 'humidity': 57, 'temperature': 24, 'timestamp': '2022-04-24\\n16:55:16'}>>\n",
      "\n",
      "Message received:\n",
      "    Data: <<{'messageCount': 428, 'humidity': 57, 'temperature': 24, 'timestamp': '2022-04-24\\n16:55:17'}>>\n"
     ]
    },
    {
     "name": "stderr",
     "output_type": "stream",
     "text": [
      "INFO:azure.eventhub:Received event from partition 1\n",
      "INFO:azure.eventhub:Received event from partition 1\n",
      "INFO:azure.eventhub:Received event from partition 1\n"
     ]
    },
    {
     "name": "stdout",
     "output_type": "stream",
     "text": [
      "\n",
      "Message received:\n",
      "    Data: <<{'messageCount': 429, 'humidity': 57, 'temperature': 24, 'timestamp': '2022-04-24\\n16:55:18'}>>\n",
      "\n",
      "Message received:\n",
      "    Data: <<{'messageCount': 430, 'humidity': 57, 'temperature': 24, 'timestamp': '2022-04-24\\n16:55:19'}>>\n",
      "\n",
      "Message received:\n",
      "    Data: <<{'messageCount': 431, 'humidity': 56, 'temperature': 24, 'timestamp': '2022-04-24\\n16:55:20'}>>\n"
     ]
    },
    {
     "name": "stderr",
     "output_type": "stream",
     "text": [
      "INFO:azure.eventhub:Received event from partition 1\n",
      "INFO:azure.eventhub:Received event from partition 1\n",
      "INFO:azure.eventhub:Received event from partition 1\n"
     ]
    },
    {
     "name": "stdout",
     "output_type": "stream",
     "text": [
      "\n",
      "Message received:\n",
      "    Data: <<{'messageCount': 432, 'humidity': 56, 'temperature': 24, 'timestamp': '2022-04-24\\n16:55:21'}>>\n",
      "\n",
      "Message received:\n",
      "    Data: <<{'messageCount': 433, 'humidity': 57, 'temperature': 24, 'timestamp': '2022-04-24\\n16:55:23'}>>\n",
      "\n",
      "Message received:\n",
      "    Data: <<{'messageCount': 434, 'humidity': 57, 'temperature': 24, 'timestamp': '2022-04-24\\n16:55:24'}>>\n"
     ]
    },
    {
     "name": "stderr",
     "output_type": "stream",
     "text": [
      "INFO:azure.eventhub:Received event from partition 1\n",
      "INFO:azure.eventhub:Received event from partition 1\n",
      "INFO:azure.eventhub:Received event from partition 1\n"
     ]
    },
    {
     "name": "stdout",
     "output_type": "stream",
     "text": [
      "\n",
      "Message received:\n",
      "    Data: <<{'messageCount': 435, 'humidity': 57, 'temperature': 24, 'timestamp': '2022-04-24\\n16:55:25'}>>\n",
      "\n",
      "Message received:\n",
      "    Data: <<{'messageCount': 436, 'humidity': 57, 'temperature': 24, 'timestamp': '2022-04-24\\n16:55:26'}>>\n",
      "\n",
      "Message received:\n",
      "    Data: <<{'messageCount': 437, 'humidity': 57, 'temperature': 24, 'timestamp': '2022-04-24\\n16:55:27'}>>\n",
      "\n",
      "Message received:\n",
      "    Data: <<{'messageCount': 438, 'humidity': 57, 'temperature': 24, 'timestamp': '2022-04-24\\n16:55:28'}>>\n"
     ]
    },
    {
     "name": "stderr",
     "output_type": "stream",
     "text": [
      "INFO:azure.eventhub:Received event from partition 1\n",
      "INFO:azure.eventhub:Received event from partition 1\n",
      "INFO:azure.eventhub:Received event from partition 1\n",
      "INFO:azure.eventhub:Received event from partition 1\n"
     ]
    },
    {
     "name": "stdout",
     "output_type": "stream",
     "text": [
      "\n",
      "Message received:\n",
      "    Data: <<{'messageCount': 439, 'humidity': 57, 'temperature': 24, 'timestamp': '2022-04-24\\n16:55:35'}>>\n",
      "\n",
      "Message received:\n",
      "    Data: <<{'messageCount': 440, 'humidity': 57, 'temperature': 24, 'timestamp': '2022-04-24\\n16:55:39'}>>\n",
      "\n",
      "Message received:\n",
      "    Data: <<{'messageCount': 441, 'humidity': 57, 'temperature': 24, 'timestamp': '2022-04-24\\n16:55:40'}>>\n"
     ]
    },
    {
     "name": "stderr",
     "output_type": "stream",
     "text": [
      "INFO:azure.eventhub:Received event from partition 1\n",
      "INFO:azure.eventhub:Received event from partition 1\n",
      "INFO:azure.eventhub:Received event from partition 1\n"
     ]
    },
    {
     "name": "stdout",
     "output_type": "stream",
     "text": [
      "\n",
      "Message received:\n",
      "    Data: <<{'messageCount': 442, 'humidity': 56, 'temperature': 24, 'timestamp': '2022-04-24\\n16:55:41'}>>\n",
      "\n",
      "Message received:\n",
      "    Data: <<{'messageCount': 443, 'humidity': 56, 'temperature': 24, 'timestamp': '2022-04-24\\n16:55:42'}>>\n",
      "\n",
      "Message received:\n",
      "    Data: <<{'messageCount': 444, 'humidity': 57, 'temperature': 23, 'timestamp': '2022-04-24\\n16:55:44'}>>\n"
     ]
    },
    {
     "name": "stderr",
     "output_type": "stream",
     "text": [
      "INFO:azure.eventhub:Received event from partition 1\n",
      "INFO:azure.eventhub:Received event from partition 1\n",
      "INFO:azure.eventhub:Received event from partition 1\n"
     ]
    },
    {
     "name": "stdout",
     "output_type": "stream",
     "text": [
      "\n",
      "Message received:\n",
      "    Data: <<{'messageCount': 445, 'humidity': 57, 'temperature': 23, 'timestamp': '2022-04-24\\n16:55:45'}>>\n",
      "\n",
      "Message received:\n",
      "    Data: <<{'messageCount': 446, 'humidity': 57, 'temperature': 23, 'timestamp': '2022-04-24\\n16:55:46'}>>\n",
      "\n",
      "Message received:\n",
      "    Data: <<{'messageCount': 447, 'humidity': 57, 'temperature': 23, 'timestamp': '2022-04-24\\n16:55:47'}>>\n"
     ]
    },
    {
     "name": "stderr",
     "output_type": "stream",
     "text": [
      "INFO:azure.eventhub:Received event from partition 1\n",
      "INFO:azure.eventhub:Received event from partition 1\n",
      "INFO:azure.eventhub:Received event from partition 1\n"
     ]
    },
    {
     "name": "stdout",
     "output_type": "stream",
     "text": [
      "\n",
      "Message received:\n",
      "    Data: <<{'messageCount': 448, 'humidity': 57, 'temperature': 24, 'timestamp': '2022-04-24\\n16:55:48'}>>\n",
      "\n",
      "Message received:\n",
      "    Data: <<{'messageCount': 449, 'humidity': 57, 'temperature': 24, 'timestamp': '2022-04-24\\n16:55:49'}>>\n",
      "\n",
      "Message received:\n",
      "    Data: <<{'messageCount': 450, 'humidity': 57, 'temperature': 24, 'timestamp': '2022-04-24\\n16:55:51'}>>\n",
      "\n",
      "Message received:\n",
      "    Data: <<{'messageCount': 451, 'humidity': 57, 'temperature': 24, 'timestamp': '2022-04-24\\n16:55:52'}>>\n"
     ]
    },
    {
     "name": "stderr",
     "output_type": "stream",
     "text": [
      "INFO:azure.eventhub:Received event from partition 1\n",
      "INFO:azure.eventhub:Received event from partition 1\n",
      "INFO:azure.eventhub:Received event from partition 1\n",
      "INFO:azure.eventhub:Received event from partition 1\n"
     ]
    },
    {
     "name": "stdout",
     "output_type": "stream",
     "text": [
      "\n",
      "Message received:\n",
      "    Data: <<{'messageCount': 453, 'humidity': 57, 'temperature': 24, 'timestamp': '2022-04-24\\n16:55:54'}>>\n",
      "\n",
      "Message received:\n",
      "    Data: <<{'messageCount': 452, 'humidity': 57, 'temperature': 24, 'timestamp': '2022-04-24\\n16:55:53'}>>\n",
      "\n",
      "Message received:\n",
      "    Data: <<{'messageCount': 454, 'humidity': 57, 'temperature': 23, 'timestamp': '2022-04-24\\n16:55:55'}>>\n"
     ]
    },
    {
     "name": "stderr",
     "output_type": "stream",
     "text": [
      "INFO:azure.eventhub:Received event from partition 1\n",
      "INFO:azure.eventhub:Received event from partition 1\n",
      "INFO:azure.eventhub:Received event from partition 1\n"
     ]
    },
    {
     "name": "stdout",
     "output_type": "stream",
     "text": [
      "\n",
      "Message received:\n",
      "    Data: <<{'messageCount': 455, 'humidity': 57, 'temperature': 23, 'timestamp': '2022-04-24\\n16:55:56'}>>\n",
      "\n",
      "Message received:\n",
      "    Data: <<{'messageCount': 456, 'humidity': 57, 'temperature': 23, 'timestamp': '2022-04-24\\n16:55:58'}>>\n",
      "\n",
      "Message received:\n",
      "    Data: <<{'messageCount': 457, 'humidity': 57, 'temperature': 23, 'timestamp': '2022-04-24\\n16:55:59'}>>\n"
     ]
    },
    {
     "name": "stderr",
     "output_type": "stream",
     "text": [
      "INFO:azure.eventhub:Received event from partition 1\n",
      "INFO:azure.eventhub:Received event from partition 1\n",
      "INFO:azure.eventhub:Received event from partition 1\n"
     ]
    },
    {
     "name": "stdout",
     "output_type": "stream",
     "text": [
      "\n",
      "Message received:\n",
      "    Data: <<{'messageCount': 458, 'humidity': 57, 'temperature': 23, 'timestamp': '2022-04-24\\n16:56:00'}>>\n",
      "\n",
      "Message received:\n",
      "    Data: <<{'messageCount': 459, 'humidity': 57, 'temperature': 23, 'timestamp': '2022-04-24\\n16:56:01'}>>\n",
      "\n",
      "Message received:\n",
      "    Data: <<{'messageCount': 460, 'humidity': 57, 'temperature': 23, 'timestamp': '2022-04-24\\n16:56:02'}>>\n"
     ]
    },
    {
     "name": "stderr",
     "output_type": "stream",
     "text": [
      "INFO:azure.eventhub:Received event from partition 1\n",
      "INFO:azure.eventhub:Received event from partition 1\n",
      "INFO:azure.eventhub:Received event from partition 1\n"
     ]
    },
    {
     "name": "stdout",
     "output_type": "stream",
     "text": [
      "\n",
      "Message received:\n",
      "    Data: <<{'messageCount': 461, 'humidity': 57, 'temperature': 23, 'timestamp': '2022-04-24\\n16:56:04'}>>\n",
      "\n",
      "Message received:\n",
      "    Data: <<{'messageCount': 462, 'humidity': 57, 'temperature': 23, 'timestamp': '2022-04-24\\n16:56:05'}>>\n",
      "\n",
      "Message received:\n",
      "    Data: <<{'messageCount': 463, 'humidity': 57, 'temperature': 23, 'timestamp': '2022-04-24\\n16:56:06'}>>\n"
     ]
    },
    {
     "name": "stderr",
     "output_type": "stream",
     "text": [
      "INFO:azure.eventhub:Received event from partition 1\n",
      "INFO:azure.eventhub:Received event from partition 1\n",
      "INFO:azure.eventhub:Received event from partition 1\n"
     ]
    },
    {
     "name": "stdout",
     "output_type": "stream",
     "text": [
      "\n",
      "Message received:\n",
      "    Data: <<{'messageCount': 464, 'humidity': 57, 'temperature': 24, 'timestamp': '2022-04-24\\n16:56:07'}>>\n",
      "\n",
      "Message received:\n",
      "    Data: <<{'messageCount': 466, 'humidity': 57, 'temperature': 24, 'timestamp': '2022-04-24\\n16:56:09'}>>\n",
      "\n",
      "Message received:\n",
      "    Data: <<{'messageCount': 465, 'humidity': 57, 'temperature': 24, 'timestamp': '2022-04-24\\n16:56:08'}>>\n",
      "\n",
      "Message received:\n",
      "    Data: <<{'messageCount': 467, 'humidity': 57, 'temperature': 24, 'timestamp': '2022-04-24\\n16:56:10'}>>\n"
     ]
    },
    {
     "name": "stderr",
     "output_type": "stream",
     "text": [
      "INFO:azure.eventhub:Received event from partition 1\n",
      "INFO:azure.eventhub:Received event from partition 1\n",
      "INFO:azure.eventhub:Received event from partition 1\n",
      "INFO:azure.eventhub:Received event from partition 1\n"
     ]
    },
    {
     "name": "stdout",
     "output_type": "stream",
     "text": [
      "\n",
      "Message received:\n",
      "    Data: <<{'messageCount': 469, 'humidity': 57, 'temperature': 23, 'timestamp': '2022-04-24\\n16:56:13'}>>\n",
      "\n",
      "Message received:\n",
      "    Data: <<{'messageCount': 468, 'humidity': 57, 'temperature': 23, 'timestamp': '2022-04-24\\n16:56:12'}>>\n",
      "\n",
      "Message received:\n",
      "    Data: <<{'messageCount': 470, 'humidity': 57, 'temperature': 23, 'timestamp': '2022-04-24\\n16:56:14'}>>\n"
     ]
    },
    {
     "name": "stderr",
     "output_type": "stream",
     "text": [
      "INFO:azure.eventhub:Received event from partition 1\n",
      "INFO:azure.eventhub:Received event from partition 1\n",
      "INFO:azure.eventhub:Received event from partition 1\n"
     ]
    },
    {
     "name": "stdout",
     "output_type": "stream",
     "text": [
      "\n",
      "Message received:\n",
      "    Data: <<{'messageCount': 471, 'humidity': 57, 'temperature': 23, 'timestamp': '2022-04-24\\n16:56:15'}>>\n",
      "\n",
      "Message received:\n",
      "    Data: <<{'messageCount': 472, 'humidity': 57, 'temperature': 24, 'timestamp': '2022-04-24\\n16:56:16'}>>\n",
      "\n",
      "Message received:\n",
      "    Data: <<{'messageCount': 473, 'humidity': 57, 'temperature': 24, 'timestamp': '2022-04-24\\n16:56:17'}>>\n"
     ]
    },
    {
     "name": "stderr",
     "output_type": "stream",
     "text": [
      "INFO:azure.eventhub:Received event from partition 1\n",
      "INFO:azure.eventhub:Received event from partition 1\n",
      "INFO:azure.eventhub:Received event from partition 1\n"
     ]
    },
    {
     "name": "stdout",
     "output_type": "stream",
     "text": [
      "\n",
      "Message received:\n",
      "    Data: <<{'messageCount': 474, 'humidity': 57, 'temperature': 23, 'timestamp': '2022-04-24\\n16:56:19'}>>\n",
      "\n",
      "Message received:\n",
      "    Data: <<{'messageCount': 475, 'humidity': 57, 'temperature': 23, 'timestamp': '2022-04-24\\n16:56:20'}>>\n",
      "\n",
      "Message received:\n",
      "    Data: <<{'messageCount': 476, 'humidity': 57, 'temperature': 24, 'timestamp': '2022-04-24\\n16:56:21'}>>\n"
     ]
    },
    {
     "name": "stderr",
     "output_type": "stream",
     "text": [
      "INFO:azure.eventhub:Received event from partition 1\n",
      "INFO:azure.eventhub:Received event from partition 1\n",
      "INFO:azure.eventhub:Received event from partition 1\n"
     ]
    },
    {
     "name": "stdout",
     "output_type": "stream",
     "text": [
      "\n",
      "Message received:\n",
      "    Data: <<{'messageCount': 477, 'humidity': 57, 'temperature': 24, 'timestamp': '2022-04-24\\n16:56:22'}>>\n",
      "\n",
      "Message received:\n",
      "    Data: <<{'messageCount': 478, 'humidity': 57, 'temperature': 23, 'timestamp': '2022-04-24\\n16:56:23'}>>\n",
      "\n",
      "Message received:\n",
      "    Data: <<{'messageCount': 479, 'humidity': 57, 'temperature': 23, 'timestamp': '2022-04-24\\n16:56:24'}>>\n",
      "\n",
      "Message received:\n",
      "    Data: <<{'messageCount': 480, 'humidity': 57, 'temperature': 23, 'timestamp': '2022-04-24\\n16:56:26'}>>\n"
     ]
    },
    {
     "name": "stderr",
     "output_type": "stream",
     "text": [
      "INFO:azure.eventhub:Received event from partition 1\n",
      "INFO:azure.eventhub:Received event from partition 1\n",
      "INFO:azure.eventhub:Received event from partition 1\n",
      "INFO:azure.eventhub:Received event from partition 1\n"
     ]
    },
    {
     "name": "stdout",
     "output_type": "stream",
     "text": [
      "\n",
      "Message received:\n",
      "    Data: <<{'messageCount': 481, 'humidity': 57, 'temperature': 23, 'timestamp': '2022-04-24\\n16:56:27'}>>\n",
      "\n",
      "Message received:\n",
      "    Data: <<{'messageCount': 482, 'humidity': 57, 'temperature': 23, 'timestamp': '2022-04-24\\n16:56:28'}>>\n",
      "\n",
      "Message received:\n",
      "    Data: <<{'messageCount': 483, 'humidity': 57, 'temperature': 23, 'timestamp': '2022-04-24\\n16:56:29'}>>\n"
     ]
    },
    {
     "name": "stderr",
     "output_type": "stream",
     "text": [
      "INFO:azure.eventhub:Received event from partition 1\n",
      "INFO:azure.eventhub:Received event from partition 1\n",
      "INFO:azure.eventhub:Received event from partition 1\n"
     ]
    },
    {
     "name": "stdout",
     "output_type": "stream",
     "text": [
      "\n",
      "Message received:\n",
      "    Data: <<{'messageCount': 484, 'humidity': 57, 'temperature': 23, 'timestamp': '2022-04-24\\n16:56:30'}>>\n",
      "\n",
      "Message received:\n",
      "    Data: <<{'messageCount': 486, 'humidity': 57, 'temperature': 23, 'timestamp': '2022-04-24\\n16:56:32'}>>\n",
      "\n",
      "Message received:\n",
      "    Data: <<{'messageCount': 485, 'humidity': 57, 'temperature': 23, 'timestamp': '2022-04-24\\n16:56:31'}>>\n"
     ]
    },
    {
     "name": "stderr",
     "output_type": "stream",
     "text": [
      "INFO:azure.eventhub:Received event from partition 1\n",
      "INFO:azure.eventhub:Received event from partition 1\n",
      "INFO:azure.eventhub:Received event from partition 1\n"
     ]
    },
    {
     "name": "stdout",
     "output_type": "stream",
     "text": [
      "\n",
      "Message received:\n",
      "    Data: <<{'messageCount': 487, 'humidity': 57, 'temperature': 23, 'timestamp': '2022-04-24\\n16:56:33'}>>\n",
      "\n",
      "Message received:\n",
      "    Data: <<{'messageCount': 488, 'humidity': 57, 'temperature': 23, 'timestamp': '2022-04-24\\n16:56:35'}>>\n",
      "\n",
      "Message received:\n",
      "    Data: <<{'messageCount': 489, 'humidity': 57, 'temperature': 24, 'timestamp': '2022-04-24\\n16:56:37'}>>\n"
     ]
    },
    {
     "name": "stderr",
     "output_type": "stream",
     "text": [
      "INFO:azure.eventhub:Received event from partition 1\n",
      "INFO:azure.eventhub:Received event from partition 1\n",
      "INFO:azure.eventhub:Received event from partition 1\n"
     ]
    },
    {
     "name": "stdout",
     "output_type": "stream",
     "text": [
      "\n",
      "Message received:\n",
      "    Data: <<{'messageCount': 490, 'humidity': 57, 'temperature': 24, 'timestamp': '2022-04-24\\n16:56:38'}>>\n",
      "\n",
      "Message received:\n",
      "    Data: <<{'messageCount': 491, 'humidity': 57, 'temperature': 24, 'timestamp': '2022-04-24\\n16:56:39'}>>\n",
      "\n",
      "Message received:\n",
      "    Data: <<{'messageCount': 492, 'humidity': 57, 'temperature': 24, 'timestamp': '2022-04-24\\n16:56:40'}>>\n"
     ]
    },
    {
     "name": "stderr",
     "output_type": "stream",
     "text": [
      "INFO:azure.eventhub:Received event from partition 1\n",
      "INFO:azure.eventhub:Received event from partition 1\n",
      "INFO:azure.eventhub:Received event from partition 1\n"
     ]
    },
    {
     "name": "stdout",
     "output_type": "stream",
     "text": [
      "\n",
      "Message received:\n",
      "    Data: <<{'messageCount': 493, 'humidity': 57, 'temperature': 24, 'timestamp': '2022-04-24\\n16:56:41'}>>\n",
      "\n",
      "Message received:\n",
      "    Data: <<{'messageCount': 494, 'humidity': 57, 'temperature': 24, 'timestamp': '2022-04-24\\n16:56:43'}>>\n",
      "\n",
      "Message received:\n",
      "    Data: <<{'messageCount': 495, 'humidity': 57, 'temperature': 24, 'timestamp': '2022-04-24\\n16:56:44'}>>\n"
     ]
    },
    {
     "name": "stderr",
     "output_type": "stream",
     "text": [
      "INFO:azure.eventhub:Received event from partition 1\n",
      "INFO:azure.eventhub:Received event from partition 1\n",
      "INFO:azure.eventhub:Received event from partition 1\n"
     ]
    },
    {
     "name": "stdout",
     "output_type": "stream",
     "text": [
      "\n",
      "Message received:\n",
      "    Data: <<{'messageCount': 496, 'humidity': 57, 'temperature': 24, 'timestamp': '2022-04-24\\n16:56:45'}>>\n",
      "\n",
      "Message received:\n",
      "    Data: <<{'messageCount': 499, 'humidity': 57, 'temperature': 23, 'timestamp': '2022-04-24\\n16:56:53'}>>\n",
      "\n",
      "Message received:\n",
      "    Data: <<{'messageCount': 500, 'humidity': 57, 'temperature': 23, 'timestamp': '2022-04-24\\n16:56:54'}>>\n",
      "\n",
      "Message received:\n",
      "    Data: <<{'messageCount': 501, 'humidity': 56, 'temperature': 24, 'timestamp': '2022-04-24\\n16:56:55'}>>\n"
     ]
    },
    {
     "name": "stderr",
     "output_type": "stream",
     "text": [
      "INFO:azure.eventhub:Received event from partition 1\n",
      "INFO:azure.eventhub:Received event from partition 1\n",
      "INFO:azure.eventhub:Received event from partition 1\n",
      "INFO:azure.eventhub:Received event from partition 1\n"
     ]
    },
    {
     "name": "stdout",
     "output_type": "stream",
     "text": [
      "\n",
      "Message received:\n",
      "    Data: <<{'messageCount': 502, 'humidity': 56, 'temperature': 24, 'timestamp': '2022-04-24\\n16:56:56'}>>\n",
      "\n",
      "Message received:\n",
      "    Data: <<{'messageCount': 504, 'humidity': 56, 'temperature': 23, 'timestamp': '2022-04-24\\n16:57:01'}>>\n",
      "\n",
      "Message received:\n",
      "    Data: <<{'messageCount': 505, 'humidity': 56, 'temperature': 23, 'timestamp': '2022-04-24\\n16:57:02'}>>\n"
     ]
    },
    {
     "name": "stderr",
     "output_type": "stream",
     "text": [
      "INFO:azure.eventhub:Received event from partition 1\n",
      "INFO:azure.eventhub:Received event from partition 1\n",
      "INFO:azure.eventhub:Received event from partition 1\n"
     ]
    },
    {
     "name": "stdout",
     "output_type": "stream",
     "text": [
      "\n",
      "Message received:\n",
      "    Data: <<{'messageCount': 506, 'humidity': 57, 'temperature': 23, 'timestamp': '2022-04-24\\n16:57:03'}>>\n",
      "\n",
      "Message received:\n",
      "    Data: <<{'messageCount': 507, 'humidity': 57, 'temperature': 23, 'timestamp': '2022-04-24\\n16:57:04'}>>\n",
      "\n",
      "Message received:\n",
      "    Data: <<{'messageCount': 509, 'humidity': 57, 'temperature': 23, 'timestamp': '2022-04-24\\n16:57:09'}>>\n"
     ]
    },
    {
     "name": "stderr",
     "output_type": "stream",
     "text": [
      "INFO:azure.eventhub:Received event from partition 1\n",
      "INFO:azure.eventhub:Received event from partition 1\n",
      "INFO:azure.eventhub:Received event from partition 1\n"
     ]
    },
    {
     "name": "stdout",
     "output_type": "stream",
     "text": [
      "\n",
      "Message received:\n",
      "    Data: <<{'messageCount': 510, 'humidity': 57, 'temperature': 24, 'timestamp': '2022-04-24\\n16:57:11'}>>\n",
      "\n",
      "Message received:\n",
      "    Data: <<{'messageCount': 511, 'humidity': 57, 'temperature': 23, 'timestamp': '2022-04-24\\n16:57:14'}>>\n",
      "\n",
      "Message received:\n",
      "    Data: <<{'messageCount': 512, 'humidity': 57, 'temperature': 23, 'timestamp': '2022-04-24\\n16:57:15'}>>\n"
     ]
    },
    {
     "name": "stderr",
     "output_type": "stream",
     "text": [
      "INFO:azure.eventhub:Received event from partition 1\n",
      "INFO:azure.eventhub:Received event from partition 1\n",
      "INFO:azure.eventhub:Received event from partition 1\n"
     ]
    },
    {
     "name": "stdout",
     "output_type": "stream",
     "text": [
      "\n",
      "Message received:\n",
      "    Data: <<{'messageCount': 513, 'humidity': 57, 'temperature': 23, 'timestamp': '2022-04-24\\n16:57:17'}>>\n",
      "\n",
      "Message received:\n",
      "    Data: <<{'messageCount': 514, 'humidity': 57, 'temperature': 23, 'timestamp': '2022-04-24\\n16:57:18'}>>\n",
      "\n",
      "Message received:\n",
      "    Data: <<{'messageCount': 515, 'humidity': 57, 'temperature': 23, 'timestamp': '2022-04-24\\n16:57:20'}>>\n"
     ]
    },
    {
     "name": "stderr",
     "output_type": "stream",
     "text": [
      "INFO:azure.eventhub:Received event from partition 1\n",
      "INFO:azure.eventhub:Received event from partition 1\n",
      "INFO:azure.eventhub:Received event from partition 1\n"
     ]
    },
    {
     "name": "stdout",
     "output_type": "stream",
     "text": [
      "\n",
      "Message received:\n",
      "    Data: <<{'messageCount': 516, 'humidity': 57, 'temperature': 23, 'timestamp': '2022-04-24\\n16:57:21'}>>\n",
      "\n",
      "Message received:\n",
      "    Data: <<{'messageCount': 517, 'humidity': 57, 'temperature': 23, 'timestamp': '2022-04-24\\n16:57:31'}>>\n",
      "\n",
      "Message received:\n",
      "    Data: <<{'messageCount': 518, 'humidity': 56, 'temperature': 23, 'timestamp': '2022-04-24\\n16:57:33'}>>\n"
     ]
    },
    {
     "name": "stderr",
     "output_type": "stream",
     "text": [
      "INFO:azure.eventhub:Received event from partition 1\n",
      "INFO:azure.eventhub:Received event from partition 1\n",
      "INFO:azure.eventhub:Received event from partition 1\n"
     ]
    },
    {
     "name": "stdout",
     "output_type": "stream",
     "text": [
      "\n",
      "Message received:\n",
      "    Data: <<{'messageCount': 519, 'humidity': 56, 'temperature': 23, 'timestamp': '2022-04-24\\n16:57:34'}>>\n",
      "\n",
      "Message received:\n",
      "    Data: <<{'messageCount': 520, 'humidity': 56, 'temperature': 23, 'timestamp': '2022-04-24\\n16:57:36'}>>\n",
      "\n",
      "Message received:\n",
      "    Data: <<{'messageCount': 521, 'humidity': 56, 'temperature': 23, 'timestamp': '2022-04-24\\n16:57:37'}>>\n",
      "\n",
      "Message received:\n",
      "    Data: <<{'messageCount': 11, 'humidity': 55, 'temperature': 23, 'timestamp': '2022-04-24\\n17:20:57'}>>\n"
     ]
    },
    {
     "name": "stderr",
     "output_type": "stream",
     "text": [
      "INFO:azure.eventhub:Received event from partition 1\n",
      "INFO:azure.eventhub:Received event from partition 1\n",
      "INFO:azure.eventhub:Received event from partition 1\n",
      "INFO:azure.eventhub:Received event from partition 1\n"
     ]
    },
    {
     "name": "stdout",
     "output_type": "stream",
     "text": [
      "\n",
      "Message received:\n",
      "    Data: <<{'messageCount': 12, 'humidity': 55, 'temperature': 23, 'timestamp': '2022-04-24\\n17:21:02'}>>\n",
      "\n",
      "Message received:\n",
      "    Data: <<{'messageCount': 13, 'humidity': 55, 'temperature': 23, 'timestamp': '2022-04-24\\n17:21:03'}>>\n",
      "\n",
      "Message received:\n",
      "    Data: <<{'messageCount': 14, 'humidity': 55, 'temperature': 23, 'timestamp': '2022-04-24\\n17:21:05'}>>\n"
     ]
    },
    {
     "name": "stderr",
     "output_type": "stream",
     "text": [
      "INFO:azure.eventhub:Received event from partition 1\n",
      "INFO:azure.eventhub:Received event from partition 1\n",
      "INFO:azure.eventhub:Received event from partition 1\n"
     ]
    },
    {
     "name": "stdout",
     "output_type": "stream",
     "text": [
      "\n",
      "Message received:\n",
      "    Data: <<{'messageCount': 15, 'humidity': 55, 'temperature': 23, 'timestamp': '2022-04-24\\n17:21:06'}>>\n",
      "\n",
      "Message received:\n",
      "    Data: <<{'messageCount': 16, 'humidity': 55, 'temperature': 23, 'timestamp': '2022-04-24\\n17:21:07'}>>\n",
      "\n",
      "Message received:\n",
      "    Data: <<{'messageCount': 17, 'humidity': 55, 'temperature': 23, 'timestamp': '2022-04-24\\n17:21:08'}>>\n"
     ]
    },
    {
     "name": "stderr",
     "output_type": "stream",
     "text": [
      "INFO:azure.eventhub:Received event from partition 1\n",
      "INFO:azure.eventhub:Received event from partition 1\n",
      "INFO:azure.eventhub:Received event from partition 1\n"
     ]
    },
    {
     "name": "stdout",
     "output_type": "stream",
     "text": [
      "\n",
      "Message received:\n",
      "    Data: <<{'messageCount': 18, 'humidity': 55, 'temperature': 23, 'timestamp': '2022-04-24\\n17:21:09'}>>\n",
      "\n",
      "Message received:\n",
      "    Data: <<{'messageCount': 19, 'humidity': 55, 'temperature': 23, 'timestamp': '2022-04-24\\n17:21:10'}>>\n",
      "\n",
      "Message received:\n",
      "    Data: <<{'messageCount': 20, 'humidity': 55, 'temperature': 23, 'timestamp': '2022-04-24\\n17:21:12'}>>\n"
     ]
    },
    {
     "name": "stderr",
     "output_type": "stream",
     "text": [
      "INFO:azure.eventhub:Received event from partition 1\n",
      "INFO:azure.eventhub:Received event from partition 1\n",
      "INFO:azure.eventhub:Received event from partition 1\n"
     ]
    },
    {
     "name": "stdout",
     "output_type": "stream",
     "text": [
      "\n",
      "Message received:\n",
      "    Data: <<{'messageCount': 21, 'humidity': 55, 'temperature': 23, 'timestamp': '2022-04-24\\n17:21:13'}>>\n",
      "\n",
      "Message received:\n",
      "    Data: <<{'messageCount': 22, 'humidity': 55, 'temperature': 23, 'timestamp': '2022-04-24\\n17:21:14'}>>\n",
      "\n",
      "Message received:\n",
      "    Data: <<{'messageCount': 23, 'humidity': 55, 'temperature': 23, 'timestamp': '2022-04-24\\n17:21:16'}>>\n"
     ]
    },
    {
     "name": "stderr",
     "output_type": "stream",
     "text": [
      "INFO:azure.eventhub:Received event from partition 1\n",
      "INFO:azure.eventhub:Received event from partition 1\n",
      "INFO:azure.eventhub:Received event from partition 1\n"
     ]
    },
    {
     "name": "stdout",
     "output_type": "stream",
     "text": [
      "\n",
      "Message received:\n",
      "    Data: <<{'messageCount': 24, 'humidity': 55, 'temperature': 23, 'timestamp': '2022-04-24\\n17:21:17'}>>\n",
      "\n",
      "Message received:\n",
      "    Data: <<{'messageCount': 25, 'humidity': 55, 'temperature': 23, 'timestamp': '2022-04-24\\n17:21:18'}>>\n",
      "\n",
      "Message received:\n",
      "    Data: <<{'messageCount': 26, 'humidity': 54, 'temperature': 23, 'timestamp': '2022-04-24\\n17:21:19'}>>\n",
      "\n",
      "Message received:\n",
      "    Data: <<{'messageCount': 27, 'humidity': 54, 'temperature': 23, 'timestamp': '2022-04-24\\n17:21:20'}>>\n"
     ]
    },
    {
     "name": "stderr",
     "output_type": "stream",
     "text": [
      "INFO:azure.eventhub:Received event from partition 1\n",
      "INFO:azure.eventhub:Received event from partition 1\n",
      "INFO:azure.eventhub:Received event from partition 1\n",
      "INFO:azure.eventhub:Received event from partition 1\n"
     ]
    },
    {
     "name": "stdout",
     "output_type": "stream",
     "text": [
      "\n",
      "Message received:\n",
      "    Data: <<{'messageCount': 28, 'humidity': 54, 'temperature': 23, 'timestamp': '2022-04-24\\n17:21:22'}>>\n",
      "\n",
      "Message received:\n",
      "    Data: <<{'messageCount': 29, 'humidity': 54, 'temperature': 23, 'timestamp': '2022-04-24\\n17:21:23'}>>\n",
      "\n",
      "Message received:\n",
      "    Data: <<{'messageCount': 30, 'humidity': 54, 'temperature': 23, 'timestamp': '2022-04-24\\n17:21:25'}>>\n"
     ]
    },
    {
     "name": "stderr",
     "output_type": "stream",
     "text": [
      "INFO:azure.eventhub:Received event from partition 1\n",
      "INFO:azure.eventhub:Received event from partition 1\n",
      "INFO:azure.eventhub:Received event from partition 1\n"
     ]
    },
    {
     "name": "stdout",
     "output_type": "stream",
     "text": [
      "\n",
      "Message received:\n",
      "    Data: <<{'messageCount': 31, 'humidity': 54, 'temperature': 23, 'timestamp': '2022-04-24\\n17:21:26'}>>\n",
      "\n",
      "Message received:\n",
      "    Data: <<{'messageCount': 32, 'humidity': 54, 'temperature': 23, 'timestamp': '2022-04-24\\n17:21:27'}>>\n",
      "\n",
      "Message received:\n",
      "    Data: <<{'messageCount': 33, 'humidity': 54, 'temperature': 23, 'timestamp': '2022-04-24\\n17:21:28'}>>\n"
     ]
    },
    {
     "name": "stderr",
     "output_type": "stream",
     "text": [
      "INFO:azure.eventhub:Received event from partition 1\n",
      "INFO:azure.eventhub:Received event from partition 1\n",
      "INFO:azure.eventhub:Received event from partition 1\n"
     ]
    },
    {
     "name": "stdout",
     "output_type": "stream",
     "text": [
      "\n",
      "Message received:\n",
      "    Data: <<{'messageCount': 34, 'humidity': 54, 'temperature': 23, 'timestamp': '2022-04-24\\n17:21:30'}>>\n",
      "\n",
      "Message received:\n",
      "    Data: <<{'messageCount': 35, 'humidity': 54, 'temperature': 23, 'timestamp': '2022-04-24\\n17:21:31'}>>\n",
      "\n",
      "Message received:\n",
      "    Data: <<{'messageCount': 36, 'humidity': 54, 'temperature': 23, 'timestamp': '2022-04-24\\n17:21:32'}>>\n"
     ]
    },
    {
     "name": "stderr",
     "output_type": "stream",
     "text": [
      "INFO:azure.eventhub:Received event from partition 1\n",
      "INFO:azure.eventhub:Received event from partition 1\n",
      "INFO:azure.eventhub:Received event from partition 1\n"
     ]
    },
    {
     "name": "stdout",
     "output_type": "stream",
     "text": [
      "\n",
      "Message received:\n",
      "    Data: <<{'messageCount': 37, 'humidity': 54, 'temperature': 23, 'timestamp': '2022-04-24\\n17:21:33'}>>\n",
      "\n",
      "Message received:\n",
      "    Data: <<{'messageCount': 38, 'humidity': 54, 'temperature': 23, 'timestamp': '2022-04-24\\n17:21:34'}>>\n",
      "\n",
      "Message received:\n",
      "    Data: <<{'messageCount': 39, 'humidity': 54, 'temperature': 23, 'timestamp': '2022-04-24\\n17:21:40'}>>\n",
      "\n",
      "Message received:\n",
      "    Data: <<{'messageCount': 41, 'humidity': 54, 'temperature': 23, 'timestamp': '2022-04-24\\n17:21:42'}>>\n"
     ]
    },
    {
     "name": "stderr",
     "output_type": "stream",
     "text": [
      "INFO:azure.eventhub:Received event from partition 1\n",
      "INFO:azure.eventhub:Received event from partition 1\n",
      "INFO:azure.eventhub:Received event from partition 1\n"
     ]
    },
    {
     "name": "stdout",
     "output_type": "stream",
     "text": [
      "\n",
      "Message received:\n",
      "    Data: <<{'messageCount': 40, 'humidity': 54, 'temperature': 23, 'timestamp': '2022-04-24\\n17:21:41'}>>\n",
      "\n",
      "Message received:\n",
      "    Data: <<{'messageCount': 42, 'humidity': 54, 'temperature': 23, 'timestamp': '2022-04-24\\n17:21:44'}>>\n",
      "\n",
      "Message received:\n",
      "    Data: <<{'messageCount': 43, 'humidity': 54, 'temperature': 23, 'timestamp': '2022-04-24\\n17:21:45'}>>\n"
     ]
    },
    {
     "name": "stderr",
     "output_type": "stream",
     "text": [
      "INFO:azure.eventhub:Received event from partition 1\n",
      "INFO:azure.eventhub:Received event from partition 1\n",
      "INFO:azure.eventhub:Received event from partition 1\n",
      "INFO:azure.eventhub:Received event from partition 1\n"
     ]
    },
    {
     "name": "stdout",
     "output_type": "stream",
     "text": [
      "\n",
      "Message received:\n",
      "    Data: <<{'messageCount': 44, 'humidity': 54, 'temperature': 23, 'timestamp': '2022-04-24\\n17:21:46'}>>\n",
      "\n",
      "Message received:\n",
      "    Data: <<{'messageCount': 45, 'humidity': 54, 'temperature': 23, 'timestamp': '2022-04-24\\n17:21:48'}>>\n",
      "\n",
      "Message received:\n",
      "    Data: <<{'messageCount': 46, 'humidity': 54, 'temperature': 23, 'timestamp': '2022-04-24\\n17:21:49'}>>\n",
      "\n",
      "Message received:\n",
      "    Data: <<{'messageCount': 47, 'humidity': 54, 'temperature': 23, 'timestamp': '2022-04-24\\n17:21:50'}>>\n"
     ]
    },
    {
     "name": "stderr",
     "output_type": "stream",
     "text": [
      "INFO:azure.eventhub:Received event from partition 1\n",
      "INFO:azure.eventhub:Received event from partition 1\n",
      "INFO:azure.eventhub:Received event from partition 1\n",
      "INFO:azure.eventhub:Received event from partition 1\n"
     ]
    },
    {
     "name": "stdout",
     "output_type": "stream",
     "text": [
      "\n",
      "Message received:\n",
      "    Data: <<{'messageCount': 48, 'humidity': 54, 'temperature': 23, 'timestamp': '2022-04-24\\n17:21:51'}>>\n",
      "\n",
      "Message received:\n",
      "    Data: <<{'messageCount': 49, 'humidity': 55, 'temperature': 23, 'timestamp': '2022-04-24\\n17:21:52'}>>\n",
      "\n",
      "Message received:\n",
      "    Data: <<{'messageCount': 51, 'humidity': 55, 'temperature': 23, 'timestamp': '2022-04-24\\n17:21:55'}>>\n"
     ]
    },
    {
     "name": "stderr",
     "output_type": "stream",
     "text": [
      "INFO:azure.eventhub:Received event from partition 1\n",
      "INFO:azure.eventhub:Received event from partition 1\n",
      "INFO:azure.eventhub:Received event from partition 1\n"
     ]
    },
    {
     "name": "stdout",
     "output_type": "stream",
     "text": [
      "\n",
      "Message received:\n",
      "    Data: <<{'messageCount': 50, 'humidity': 55, 'temperature': 23, 'timestamp': '2022-04-24\\n17:21:54'}>>\n",
      "\n",
      "Message received:\n",
      "    Data: <<{'messageCount': 52, 'humidity': 55, 'temperature': 23, 'timestamp': '2022-04-24\\n17:21:56'}>>\n",
      "\n",
      "Message received:\n",
      "    Data: <<{'messageCount': 53, 'humidity': 55, 'temperature': 23, 'timestamp': '2022-04-24\\n17:21:58'}>>\n"
     ]
    },
    {
     "name": "stderr",
     "output_type": "stream",
     "text": [
      "INFO:azure.eventhub:Received event from partition 1\n",
      "INFO:azure.eventhub:Received event from partition 1\n",
      "INFO:azure.eventhub:Received event from partition 1\n"
     ]
    },
    {
     "name": "stdout",
     "output_type": "stream",
     "text": [
      "\n",
      "Message received:\n",
      "    Data: <<{'messageCount': 54, 'humidity': 55, 'temperature': 23, 'timestamp': '2022-04-24\\n17:21:59'}>>\n",
      "\n",
      "Message received:\n",
      "    Data: <<{'messageCount': 55, 'humidity': 55, 'temperature': 23, 'timestamp': '2022-04-24\\n17:22:00'}>>\n",
      "\n",
      "Message received:\n",
      "    Data: <<{'messageCount': 56, 'humidity': 55, 'temperature': 23, 'timestamp': '2022-04-24\\n17:22:01'}>>\n"
     ]
    },
    {
     "name": "stderr",
     "output_type": "stream",
     "text": [
      "INFO:azure.eventhub:Received event from partition 1\n",
      "INFO:azure.eventhub:Received event from partition 1\n",
      "INFO:azure.eventhub:Received event from partition 1\n"
     ]
    },
    {
     "name": "stdout",
     "output_type": "stream",
     "text": [
      "\n",
      "Message received:\n",
      "    Data: <<{'messageCount': 57, 'humidity': 55, 'temperature': 23, 'timestamp': '2022-04-24\\n17:22:02'}>>\n",
      "\n",
      "Message received:\n",
      "    Data: <<{'messageCount': 58, 'humidity': 55, 'temperature': 23, 'timestamp': '2022-04-24\\n17:22:03'}>>\n",
      "\n",
      "Message received:\n",
      "    Data: <<{'messageCount': 59, 'humidity': 56, 'temperature': 23, 'timestamp': '2022-04-24\\n17:22:05'}>>\n"
     ]
    },
    {
     "name": "stderr",
     "output_type": "stream",
     "text": [
      "INFO:azure.eventhub:Received event from partition 1\n",
      "INFO:azure.eventhub:Received event from partition 1\n",
      "INFO:azure.eventhub:Received event from partition 1\n"
     ]
    },
    {
     "name": "stdout",
     "output_type": "stream",
     "text": [
      "\n",
      "Message received:\n",
      "    Data: <<{'messageCount': 60, 'humidity': 56, 'temperature': 23, 'timestamp': '2022-04-24\\n17:22:06'}>>\n",
      "\n",
      "Message received:\n",
      "    Data: <<{'messageCount': 61, 'humidity': 56, 'temperature': 23, 'timestamp': '2022-04-24\\n17:22:07'}>>\n",
      "\n",
      "Message received:\n",
      "    Data: <<{'messageCount': 62, 'humidity': 56, 'temperature': 23, 'timestamp': '2022-04-24\\n17:22:08'}>>\n",
      "\n",
      "Message received:\n",
      "    Data: <<{'messageCount': 63, 'humidity': 55, 'temperature': 23, 'timestamp': '2022-04-24\\n17:22:10'}>>\n"
     ]
    },
    {
     "name": "stderr",
     "output_type": "stream",
     "text": [
      "INFO:azure.eventhub:Received event from partition 1\n",
      "INFO:azure.eventhub:Received event from partition 1\n",
      "INFO:azure.eventhub:Received event from partition 1\n"
     ]
    },
    {
     "name": "stdout",
     "output_type": "stream",
     "text": [
      "\n",
      "Message received:\n",
      "    Data: <<{'messageCount': 64, 'humidity': 55, 'temperature': 23, 'timestamp': '2022-04-24\\n17:22:11'}>>\n",
      "\n",
      "Message received:\n",
      "    Data: <<{'messageCount': 65, 'humidity': 55, 'temperature': 23, 'timestamp': '2022-04-24\\n17:22:12'}>>\n",
      "\n",
      "Message received:\n",
      "    Data: <<{'messageCount': 66, 'humidity': 55, 'temperature': 23, 'timestamp': '2022-04-24\\n17:22:13'}>>\n"
     ]
    },
    {
     "name": "stderr",
     "output_type": "stream",
     "text": [
      "INFO:azure.eventhub:Received event from partition 1\n",
      "INFO:azure.eventhub:Received event from partition 1\n",
      "INFO:azure.eventhub:Received event from partition 1\n",
      "INFO:azure.eventhub:Received event from partition 1\n"
     ]
    },
    {
     "name": "stdout",
     "output_type": "stream",
     "text": [
      "\n",
      "Message received:\n",
      "    Data: <<{'messageCount': 67, 'humidity': 55, 'temperature': 23, 'timestamp': '2022-04-24\\n17:22:14'}>>\n",
      "\n",
      "Message received:\n",
      "    Data: <<{'messageCount': 68, 'humidity': 55, 'temperature': 23, 'timestamp': '2022-04-24\\n17:22:15'}>>\n",
      "\n",
      "Message received:\n",
      "    Data: <<{'messageCount': 69, 'humidity': 55, 'temperature': 23, 'timestamp': '2022-04-24\\n17:22:17'}>>\n"
     ]
    },
    {
     "name": "stderr",
     "output_type": "stream",
     "text": [
      "INFO:azure.eventhub:Received event from partition 1\n",
      "INFO:azure.eventhub:Received event from partition 1\n",
      "INFO:azure.eventhub:Received event from partition 1\n"
     ]
    },
    {
     "name": "stdout",
     "output_type": "stream",
     "text": [
      "\n",
      "Message received:\n",
      "    Data: <<{'messageCount': 70, 'humidity': 55, 'temperature': 23, 'timestamp': '2022-04-24\\n17:22:18'}>>\n",
      "\n",
      "Message received:\n",
      "    Data: <<{'messageCount': 71, 'humidity': 55, 'temperature': 23, 'timestamp': '2022-04-24\\n17:22:19'}>>\n",
      "\n",
      "Message received:\n",
      "    Data: <<{'messageCount': 72, 'humidity': 55, 'temperature': 23, 'timestamp': '2022-04-24\\n17:22:20'}>>\n"
     ]
    },
    {
     "name": "stderr",
     "output_type": "stream",
     "text": [
      "INFO:azure.eventhub:Received event from partition 1\n",
      "INFO:azure.eventhub:Received event from partition 1\n",
      "INFO:azure.eventhub:Received event from partition 1\n"
     ]
    },
    {
     "name": "stdout",
     "output_type": "stream",
     "text": [
      "\n",
      "Message received:\n",
      "    Data: <<{'messageCount': 73, 'humidity': 55, 'temperature': 23, 'timestamp': '2022-04-24\\n17:22:21'}>>\n",
      "\n",
      "Message received:\n",
      "    Data: <<{'messageCount': 74, 'humidity': 55, 'temperature': 23, 'timestamp': '2022-04-24\\n17:22:22'}>>\n",
      "\n",
      "Message received:\n",
      "    Data: <<{'messageCount': 75, 'humidity': 55, 'temperature': 23, 'timestamp': '2022-04-24\\n17:22:23'}>>\n"
     ]
    },
    {
     "name": "stderr",
     "output_type": "stream",
     "text": [
      "INFO:azure.eventhub:Received event from partition 1\n",
      "INFO:azure.eventhub:Received event from partition 1\n",
      "INFO:azure.eventhub:Received event from partition 1\n"
     ]
    },
    {
     "name": "stdout",
     "output_type": "stream",
     "text": [
      "\n",
      "Message received:\n",
      "    Data: <<{'messageCount': 76, 'humidity': 55, 'temperature': 23, 'timestamp': '2022-04-24\\n17:22:24'}>>\n",
      "\n",
      "Message received:\n",
      "    Data: <<{'messageCount': 77, 'humidity': 54, 'temperature': 23, 'timestamp': '2022-04-24\\n17:22:26'}>>\n",
      "\n",
      "Message received:\n",
      "    Data: <<{'messageCount': 78, 'humidity': 54, 'temperature': 23, 'timestamp': '2022-04-24\\n17:22:27'}>>\n"
     ]
    },
    {
     "name": "stderr",
     "output_type": "stream",
     "text": [
      "INFO:azure.eventhub:Received event from partition 1\n",
      "INFO:azure.eventhub:Received event from partition 1\n",
      "INFO:azure.eventhub:Received event from partition 1\n"
     ]
    },
    {
     "name": "stdout",
     "output_type": "stream",
     "text": [
      "\n",
      "Message received:\n",
      "    Data: <<{'messageCount': 79, 'humidity': 54, 'temperature': 23, 'timestamp': '2022-04-24\\n17:22:28'}>>\n",
      "\n",
      "Message received:\n",
      "    Data: <<{'messageCount': 80, 'humidity': 54, 'temperature': 23, 'timestamp': '2022-04-24\\n17:22:29'}>>\n",
      "\n",
      "Message received:\n",
      "    Data: <<{'messageCount': 81, 'humidity': 54, 'temperature': 23, 'timestamp': '2022-04-24\\n17:22:30'}>>\n",
      "\n",
      "Message received:\n",
      "    Data: <<{'messageCount': 82, 'humidity': 54, 'temperature': 23, 'timestamp': '2022-04-24\\n17:22:31'}>>\n"
     ]
    },
    {
     "name": "stderr",
     "output_type": "stream",
     "text": [
      "INFO:azure.eventhub:Received event from partition 1\n",
      "INFO:azure.eventhub:Received event from partition 1\n",
      "INFO:azure.eventhub:Received event from partition 1\n",
      "INFO:azure.eventhub:Received event from partition 1\n"
     ]
    },
    {
     "name": "stdout",
     "output_type": "stream",
     "text": [
      "\n",
      "Message received:\n",
      "    Data: <<{'messageCount': 83, 'humidity': 54, 'temperature': 23, 'timestamp': '2022-04-24\\n17:22:33'}>>\n",
      "\n",
      "Message received:\n",
      "    Data: <<{'messageCount': 84, 'humidity': 54, 'temperature': 23, 'timestamp': '2022-04-24\\n17:22:34'}>>\n",
      "\n",
      "Message received:\n",
      "    Data: <<{'messageCount': 85, 'humidity': 54, 'temperature': 23, 'timestamp': '2022-04-24\\n17:22:35'}>>\n"
     ]
    },
    {
     "name": "stderr",
     "output_type": "stream",
     "text": [
      "INFO:azure.eventhub:Received event from partition 1\n",
      "INFO:azure.eventhub:Received event from partition 1\n",
      "INFO:azure.eventhub:Received event from partition 1\n"
     ]
    },
    {
     "name": "stdout",
     "output_type": "stream",
     "text": [
      "\n",
      "Message received:\n",
      "    Data: <<{'messageCount': 86, 'humidity': 54, 'temperature': 23, 'timestamp': '2022-04-24\\n17:22:36'}>>\n",
      "\n",
      "Message received:\n",
      "    Data: <<{'messageCount': 87, 'humidity': 54, 'temperature': 23, 'timestamp': '2022-04-24\\n17:22:37'}>>\n",
      "\n",
      "Message received:\n",
      "    Data: <<{'messageCount': 88, 'humidity': 54, 'temperature': 23, 'timestamp': '2022-04-24\\n17:22:38'}>>\n"
     ]
    },
    {
     "name": "stderr",
     "output_type": "stream",
     "text": [
      "INFO:azure.eventhub:Received event from partition 1\n",
      "INFO:azure.eventhub:Received event from partition 1\n",
      "INFO:azure.eventhub:Received event from partition 1\n"
     ]
    },
    {
     "name": "stdout",
     "output_type": "stream",
     "text": [
      "\n",
      "Message received:\n",
      "    Data: <<{'messageCount': 89, 'humidity': 54, 'temperature': 23, 'timestamp': '2022-04-24\\n17:22:40'}>>\n",
      "\n",
      "Message received:\n",
      "    Data: <<{'messageCount': 90, 'humidity': 54, 'temperature': 23, 'timestamp': '2022-04-24\\n17:22:41'}>>\n",
      "\n",
      "Message received:\n",
      "    Data: <<{'messageCount': 91, 'humidity': 54, 'temperature': 23, 'timestamp': '2022-04-24\\n17:22:42'}>>\n"
     ]
    },
    {
     "name": "stderr",
     "output_type": "stream",
     "text": [
      "INFO:azure.eventhub:Received event from partition 1\n",
      "INFO:azure.eventhub:Received event from partition 1\n",
      "INFO:azure.eventhub:Received event from partition 1\n"
     ]
    },
    {
     "name": "stdout",
     "output_type": "stream",
     "text": [
      "\n",
      "Message received:\n",
      "    Data: <<{'messageCount': 92, 'humidity': 54, 'temperature': 23, 'timestamp': '2022-04-24\\n17:22:43'}>>\n",
      "\n",
      "Message received:\n",
      "    Data: <<{'messageCount': 93, 'humidity': 54, 'temperature': 23, 'timestamp': '2022-04-24\\n17:22:44'}>>\n",
      "\n",
      "Message received:\n",
      "    Data: <<{'messageCount': 94, 'humidity': 54, 'temperature': 23, 'timestamp': '2022-04-24\\n17:22:45'}>>\n"
     ]
    },
    {
     "name": "stderr",
     "output_type": "stream",
     "text": [
      "INFO:azure.eventhub:Received event from partition 1\n",
      "INFO:azure.eventhub:Received event from partition 1\n",
      "INFO:azure.eventhub:Received event from partition 1\n"
     ]
    },
    {
     "name": "stdout",
     "output_type": "stream",
     "text": [
      "\n",
      "Message received:\n",
      "    Data: <<{'messageCount': 95, 'humidity': 54, 'temperature': 23, 'timestamp': '2022-04-24\\n17:22:46'}>>\n",
      "\n",
      "Message received:\n",
      "    Data: <<{'messageCount': 96, 'humidity': 54, 'temperature': 23, 'timestamp': '2022-04-24\\n17:22:47'}>>\n",
      "\n",
      "Message received:\n",
      "    Data: <<{'messageCount': 97, 'humidity': 54, 'temperature': 23, 'timestamp': '2022-04-24\\n17:22:49'}>>\n"
     ]
    },
    {
     "name": "stderr",
     "output_type": "stream",
     "text": [
      "INFO:azure.eventhub:Received event from partition 1\n",
      "INFO:azure.eventhub:Received event from partition 1\n",
      "INFO:azure.eventhub:Received event from partition 1\n"
     ]
    },
    {
     "name": "stdout",
     "output_type": "stream",
     "text": [
      "\n",
      "Message received:\n",
      "    Data: <<{'messageCount': 98, 'humidity': 54, 'temperature': 23, 'timestamp': '2022-04-24\\n17:22:50'}>>\n",
      "\n",
      "Message received:\n",
      "    Data: <<{'messageCount': 99, 'humidity': 54, 'temperature': 23, 'timestamp': '2022-04-24\\n17:22:51'}>>\n",
      "\n",
      "Message received:\n",
      "    Data: <<{'messageCount': 100, 'humidity': 54, 'temperature': 23, 'timestamp': '2022-04-24\\n17:22:52'}>>\n",
      "\n",
      "Message received:\n",
      "    Data: <<{'messageCount': 101, 'humidity': 54, 'temperature': 23, 'timestamp': '2022-04-24\\n17:22:53'}>>\n"
     ]
    },
    {
     "name": "stderr",
     "output_type": "stream",
     "text": [
      "INFO:azure.eventhub:Received event from partition 1\n",
      "INFO:azure.eventhub:Received event from partition 1\n",
      "INFO:azure.eventhub:Received event from partition 1\n",
      "INFO:azure.eventhub:Received event from partition 1\n"
     ]
    },
    {
     "name": "stdout",
     "output_type": "stream",
     "text": [
      "\n",
      "Message received:\n",
      "    Data: <<{'messageCount': 102, 'humidity': 54, 'temperature': 23, 'timestamp': '2022-04-24\\n17:22:54'}>>\n",
      "\n",
      "Message received:\n",
      "    Data: <<{'messageCount': 103, 'humidity': 53, 'temperature': 23, 'timestamp': '2022-04-24\\n17:22:56'}>>\n",
      "\n",
      "Message received:\n",
      "    Data: <<{'messageCount': 104, 'humidity': 53, 'temperature': 23, 'timestamp': '2022-04-24\\n17:22:57'}>>\n"
     ]
    },
    {
     "name": "stderr",
     "output_type": "stream",
     "text": [
      "INFO:azure.eventhub:Received event from partition 1\n"
     ]
    },
    {
     "name": "stdout",
     "output_type": "stream",
     "text": [
      "\n",
      "Message received:\n",
      "    Data: <<{'messageCount': 105, 'humidity': 53, 'temperature': 23, 'timestamp': '2022-04-24\\n17:22:58'}>>\n",
      "\n",
      "Message received:\n",
      "    Data: <<{'messageCount': 106, 'humidity': 53, 'temperature': 23, 'timestamp': '2022-04-24\\n17:22:59'}>>\n"
     ]
    },
    {
     "name": "stderr",
     "output_type": "stream",
     "text": [
      "INFO:azure.eventhub:Received event from partition 1\n",
      "INFO:azure.eventhub:Received event from partition 1\n",
      "INFO:azure.eventhub:Received event from partition 1\n",
      "INFO:azure.eventhub:Received event from partition 1\n"
     ]
    },
    {
     "name": "stdout",
     "output_type": "stream",
     "text": [
      "\n",
      "Message received:\n",
      "    Data: <<{'messageCount': 107, 'humidity': 53, 'temperature': 23, 'timestamp': '2022-04-24\\n17:23:02'}>>\n",
      "\n",
      "Message received:\n",
      "    Data: <<{'messageCount': 108, 'humidity': 53, 'temperature': 23, 'timestamp': '2022-04-24\\n17:23:03'}>>\n",
      "\n",
      "Message received:\n",
      "    Data: <<{'messageCount': 109, 'humidity': 54, 'temperature': 23, 'timestamp': '2022-04-24\\n17:23:04'}>>\n"
     ]
    },
    {
     "name": "stderr",
     "output_type": "stream",
     "text": [
      "INFO:azure.eventhub:Received event from partition 1\n",
      "INFO:azure.eventhub:Received event from partition 1\n",
      "INFO:azure.eventhub:Received event from partition 1\n"
     ]
    },
    {
     "name": "stdout",
     "output_type": "stream",
     "text": [
      "\n",
      "Message received:\n",
      "    Data: <<{'messageCount': 110, 'humidity': 54, 'temperature': 23, 'timestamp': '2022-04-24\\n17:23:11'}>>\n",
      "\n",
      "Message received:\n",
      "    Data: <<{'messageCount': 111, 'humidity': 54, 'temperature': 23, 'timestamp': '2022-04-24\\n17:23:12'}>>\n",
      "\n",
      "Message received:\n",
      "    Data: <<{'messageCount': 112, 'humidity': 53, 'temperature': 23, 'timestamp': '2022-04-24\\n17:23:13'}>>\n",
      "\n",
      "Message received:\n",
      "    Data: <<{'messageCount': 113, 'humidity': 53, 'temperature': 23, 'timestamp': '2022-04-24\\n17:23:14'}>>\n"
     ]
    },
    {
     "name": "stderr",
     "output_type": "stream",
     "text": [
      "INFO:azure.eventhub:Received event from partition 1\n",
      "INFO:azure.eventhub:Received event from partition 1\n",
      "INFO:azure.eventhub:Received event from partition 1\n",
      "INFO:azure.eventhub:Received event from partition 1\n"
     ]
    },
    {
     "name": "stdout",
     "output_type": "stream",
     "text": [
      "\n",
      "Message received:\n",
      "    Data: <<{'messageCount': 114, 'humidity': 53, 'temperature': 22, 'timestamp': '2022-04-24\\n17:23:15'}>>\n",
      "\n",
      "Message received:\n",
      "    Data: <<{'messageCount': 115, 'humidity': 53, 'temperature': 22, 'timestamp': '2022-04-24\\n17:23:16'}>>\n",
      "\n",
      "Message received:\n",
      "    Data: <<{'messageCount': 116, 'humidity': 54, 'temperature': 23, 'timestamp': '2022-04-24\\n17:23:18'}>>\n"
     ]
    },
    {
     "name": "stderr",
     "output_type": "stream",
     "text": [
      "INFO:azure.eventhub:Received event from partition 1\n",
      "INFO:azure.eventhub:Received event from partition 1\n",
      "INFO:azure.eventhub:Received event from partition 1\n"
     ]
    },
    {
     "name": "stdout",
     "output_type": "stream",
     "text": [
      "\n",
      "Message received:\n",
      "    Data: <<{'messageCount': 117, 'humidity': 54, 'temperature': 23, 'timestamp': '2022-04-24\\n17:23:19'}>>\n",
      "\n",
      "Message received:\n",
      "    Data: <<{'messageCount': 118, 'humidity': 54, 'temperature': 23, 'timestamp': '2022-04-24\\n17:23:20'}>>\n",
      "\n",
      "Message received:\n",
      "    Data: <<{'messageCount': 119, 'humidity': 54, 'temperature': 23, 'timestamp': '2022-04-24\\n17:23:21'}>>\n"
     ]
    },
    {
     "name": "stderr",
     "output_type": "stream",
     "text": [
      "INFO:azure.eventhub:Received event from partition 1\n",
      "INFO:azure.eventhub:Received event from partition 1\n",
      "INFO:azure.eventhub:Received event from partition 1\n"
     ]
    },
    {
     "name": "stdout",
     "output_type": "stream",
     "text": [
      "\n",
      "Message received:\n",
      "    Data: <<{'messageCount': 120, 'humidity': 54, 'temperature': 23, 'timestamp': '2022-04-24\\n17:23:22'}>>\n",
      "\n",
      "Message received:\n",
      "    Data: <<{'messageCount': 121, 'humidity': 54, 'temperature': 23, 'timestamp': '2022-04-24\\n17:23:23'}>>\n",
      "\n",
      "Message received:\n",
      "    Data: <<{'messageCount': 122, 'humidity': 54, 'temperature': 23, 'timestamp': '2022-04-24\\n17:23:24'}>>\n"
     ]
    },
    {
     "name": "stderr",
     "output_type": "stream",
     "text": [
      "INFO:azure.eventhub:Received event from partition 1\n",
      "INFO:azure.eventhub:Received event from partition 1\n",
      "INFO:azure.eventhub:Received event from partition 1\n"
     ]
    },
    {
     "name": "stdout",
     "output_type": "stream",
     "text": [
      "\n",
      "Message received:\n",
      "    Data: <<{'messageCount': 123, 'humidity': 54, 'temperature': 23, 'timestamp': '2022-04-24\\n17:23:26'}>>\n",
      "\n",
      "Message received:\n",
      "    Data: <<{'messageCount': 124, 'humidity': 54, 'temperature': 23, 'timestamp': '2022-04-24\\n17:23:27'}>>\n",
      "\n",
      "Message received:\n",
      "    Data: <<{'messageCount': 125, 'humidity': 54, 'temperature': 23, 'timestamp': '2022-04-24\\n17:23:28'}>>\n"
     ]
    },
    {
     "name": "stderr",
     "output_type": "stream",
     "text": [
      "INFO:azure.eventhub:Received event from partition 1\n",
      "INFO:azure.eventhub:Received event from partition 1\n",
      "INFO:azure.eventhub:Received event from partition 1\n"
     ]
    },
    {
     "name": "stdout",
     "output_type": "stream",
     "text": [
      "\n",
      "Message received:\n",
      "    Data: <<{'messageCount': 126, 'humidity': 53, 'temperature': 23, 'timestamp': '2022-04-24\\n17:23:29'}>>\n",
      "\n",
      "Message received:\n",
      "    Data: <<{'messageCount': 127, 'humidity': 53, 'temperature': 23, 'timestamp': '2022-04-24\\n17:23:30'}>>\n",
      "\n",
      "Message received:\n",
      "    Data: <<{'messageCount': 128, 'humidity': 53, 'temperature': 23, 'timestamp': '2022-04-24\\n17:23:31'}>>\n"
     ]
    },
    {
     "name": "stderr",
     "output_type": "stream",
     "text": [
      "INFO:azure.eventhub:Received event from partition 1\n",
      "INFO:azure.eventhub:Received event from partition 1\n",
      "INFO:azure.eventhub:Received event from partition 1\n"
     ]
    },
    {
     "name": "stdout",
     "output_type": "stream",
     "text": [
      "\n",
      "Message received:\n",
      "    Data: <<{'messageCount': 129, 'humidity': 53, 'temperature': 23, 'timestamp': '2022-04-24\\n17:23:32'}>>\n",
      "\n",
      "Message received:\n",
      "    Data: <<{'messageCount': 130, 'humidity': 53, 'temperature': 23, 'timestamp': '2022-04-24\\n17:23:34'}>>\n",
      "\n",
      "Message received:\n",
      "    Data: <<{'messageCount': 131, 'humidity': 53, 'temperature': 23, 'timestamp': '2022-04-24\\n17:23:35'}>>\n"
     ]
    },
    {
     "name": "stderr",
     "output_type": "stream",
     "text": [
      "INFO:azure.eventhub:Received event from partition 1\n",
      "INFO:azure.eventhub:Received event from partition 1\n",
      "INFO:azure.eventhub:Received event from partition 1\n"
     ]
    },
    {
     "name": "stdout",
     "output_type": "stream",
     "text": [
      "\n",
      "Message received:\n",
      "    Data: <<{'messageCount': 132, 'humidity': 53, 'temperature': 23, 'timestamp': '2022-04-24\\n17:23:36'}>>\n",
      "\n",
      "Message received:\n",
      "    Data: <<{'messageCount': 133, 'humidity': 53, 'temperature': 23, 'timestamp': '2022-04-24\\n17:23:37'}>>\n",
      "\n",
      "Message received:\n",
      "    Data: <<{'messageCount': 134, 'humidity': 53, 'temperature': 23, 'timestamp': '2022-04-24\\n17:23:38'}>>\n"
     ]
    },
    {
     "name": "stderr",
     "output_type": "stream",
     "text": [
      "INFO:azure.eventhub:Received event from partition 1\n",
      "INFO:azure.eventhub:Received event from partition 1\n",
      "INFO:azure.eventhub:Received event from partition 1\n"
     ]
    },
    {
     "name": "stdout",
     "output_type": "stream",
     "text": [
      "\n",
      "Message received:\n",
      "    Data: <<{'messageCount': 135, 'humidity': 53, 'temperature': 23, 'timestamp': '2022-04-24\\n17:23:39'}>>\n",
      "\n",
      "Message received:\n",
      "    Data: <<{'messageCount': 137, 'humidity': 53, 'temperature': 23, 'timestamp': '2022-04-24\\n17:23:44'}>>\n",
      "\n",
      "Message received:\n",
      "    Data: <<{'messageCount': 138, 'humidity': 53, 'temperature': 23, 'timestamp': '2022-04-24\\n17:23:45'}>>\n",
      "\n",
      "Message received:\n",
      "    Data: <<{'messageCount': 139, 'humidity': 53, 'temperature': 23, 'timestamp': '2022-04-24\\n17:23:46'}>>\n"
     ]
    },
    {
     "name": "stderr",
     "output_type": "stream",
     "text": [
      "INFO:azure.eventhub:Received event from partition 1\n",
      "INFO:azure.eventhub:Received event from partition 1\n",
      "INFO:azure.eventhub:Received event from partition 1\n",
      "INFO:azure.eventhub:Received event from partition 1\n"
     ]
    },
    {
     "name": "stdout",
     "output_type": "stream",
     "text": [
      "\n",
      "Message received:\n",
      "    Data: <<{'messageCount': 140, 'humidity': 53, 'temperature': 23, 'timestamp': '2022-04-24\\n17:23:47'}>>\n",
      "\n",
      "Message received:\n",
      "    Data: <<{'messageCount': 141, 'humidity': 53, 'temperature': 23, 'timestamp': '2022-04-24\\n17:23:48'}>>\n",
      "\n",
      "Message received:\n",
      "    Data: <<{'messageCount': 142, 'humidity': 53, 'temperature': 23, 'timestamp': '2022-04-24\\n17:23:49'}>>\n",
      "\n",
      "Message received:\n",
      "    Data: <<{'messageCount': 143, 'humidity': 53, 'temperature': 23, 'timestamp': '2022-04-24\\n17:23:51'}>>\n"
     ]
    },
    {
     "name": "stderr",
     "output_type": "stream",
     "text": [
      "INFO:azure.eventhub:Received event from partition 1\n",
      "INFO:azure.eventhub:Received event from partition 1\n",
      "INFO:azure.eventhub:Received event from partition 1\n",
      "INFO:azure.eventhub:Received event from partition 1\n"
     ]
    },
    {
     "name": "stdout",
     "output_type": "stream",
     "text": [
      "\n",
      "Message received:\n",
      "    Data: <<{'messageCount': 144, 'humidity': 53, 'temperature': 23, 'timestamp': '2022-04-24\\n17:23:52'}>>\n",
      "\n",
      "Message received:\n",
      "    Data: <<{'messageCount': 145, 'humidity': 53, 'temperature': 23, 'timestamp': '2022-04-24\\n17:23:53'}>>\n",
      "\n",
      "Message received:\n",
      "    Data: <<{'messageCount': 146, 'humidity': 53, 'temperature': 23, 'timestamp': '2022-04-24\\n17:23:54'}>>\n"
     ]
    },
    {
     "name": "stderr",
     "output_type": "stream",
     "text": [
      "INFO:azure.eventhub:Received event from partition 1\n",
      "INFO:azure.eventhub:Received event from partition 1\n",
      "INFO:azure.eventhub:Received event from partition 1\n"
     ]
    },
    {
     "name": "stdout",
     "output_type": "stream",
     "text": [
      "\n",
      "Message received:\n",
      "    Data: <<{'messageCount': 147, 'humidity': 53, 'temperature': 23, 'timestamp': '2022-04-24\\n17:23:55'}>>\n",
      "\n",
      "Message received:\n",
      "    Data: <<{'messageCount': 148, 'humidity': 53, 'temperature': 23, 'timestamp': '2022-04-24\\n17:23:56'}>>\n",
      "\n",
      "Message received:\n",
      "    Data: <<{'messageCount': 149, 'humidity': 53, 'temperature': 23, 'timestamp': '2022-04-24\\n17:23:58'}>>\n"
     ]
    },
    {
     "name": "stderr",
     "output_type": "stream",
     "text": [
      "INFO:azure.eventhub:Received event from partition 1\n",
      "INFO:azure.eventhub:Received event from partition 1\n",
      "INFO:azure.eventhub:Received event from partition 1\n"
     ]
    },
    {
     "name": "stdout",
     "output_type": "stream",
     "text": [
      "\n",
      "Message received:\n",
      "    Data: <<{'messageCount': 151, 'humidity': 53, 'temperature': 23, 'timestamp': '2022-04-24\\n17:24:00'}>>\n",
      "\n",
      "Message received:\n",
      "    Data: <<{'messageCount': 150, 'humidity': 53, 'temperature': 23, 'timestamp': '2022-04-24\\n17:23:59'}>>\n",
      "\n",
      "Message received:\n",
      "    Data: <<{'messageCount': 152, 'humidity': 53, 'temperature': 23, 'timestamp': '2022-04-24\\n17:24:01'}>>\n"
     ]
    },
    {
     "name": "stderr",
     "output_type": "stream",
     "text": [
      "INFO:azure.eventhub:Received event from partition 1\n",
      "INFO:azure.eventhub:Received event from partition 1\n",
      "INFO:azure.eventhub:Received event from partition 1\n",
      "INFO:azure.eventhub:Received event from partition 1\n"
     ]
    },
    {
     "name": "stdout",
     "output_type": "stream",
     "text": [
      "\n",
      "Message received:\n",
      "    Data: <<{'messageCount': 153, 'humidity': 53, 'temperature': 23, 'timestamp': '2022-04-24\\n17:24:02'}>>\n",
      "\n",
      "Message received:\n",
      "    Data: <<{'messageCount': 154, 'humidity': 53, 'temperature': 23, 'timestamp': '2022-04-24\\n17:24:03'}>>\n",
      "\n",
      "Message received:\n",
      "    Data: <<{'messageCount': 155, 'humidity': 53, 'temperature': 23, 'timestamp': '2022-04-24\\n17:24:05'}>>\n",
      "\n",
      "Message received:\n",
      "    Data: <<{'messageCount': 156, 'humidity': 53, 'temperature': 23, 'timestamp': '2022-04-24\\n17:24:06'}>>\n",
      "\n",
      "Message received:\n",
      "    Data: <<{'messageCount': 157, 'humidity': 53, 'temperature': 23, 'timestamp': '2022-04-24\\n17:24:07'}>>\n"
     ]
    },
    {
     "name": "stderr",
     "output_type": "stream",
     "text": [
      "INFO:azure.eventhub:Received event from partition 1\n",
      "INFO:azure.eventhub:Received event from partition 1\n",
      "INFO:azure.eventhub:Received event from partition 1\n",
      "INFO:azure.eventhub:Received event from partition 1\n"
     ]
    },
    {
     "name": "stdout",
     "output_type": "stream",
     "text": [
      "\n",
      "Message received:\n",
      "    Data: <<{'messageCount': 158, 'humidity': 53, 'temperature': 23, 'timestamp': '2022-04-24\\n17:24:08'}>>\n",
      "\n",
      "Message received:\n",
      "    Data: <<{'messageCount': 159, 'humidity': 53, 'temperature': 23, 'timestamp': '2022-04-24\\n17:24:09'}>>\n",
      "\n",
      "Message received:\n",
      "    Data: <<{'messageCount': 160, 'humidity': 53, 'temperature': 23, 'timestamp': '2022-04-24\\n17:24:10'}>>\n"
     ]
    },
    {
     "name": "stderr",
     "output_type": "stream",
     "text": [
      "INFO:azure.eventhub:Received event from partition 1\n",
      "INFO:azure.eventhub:Received event from partition 1\n",
      "INFO:azure.eventhub:Received event from partition 1\n"
     ]
    },
    {
     "name": "stdout",
     "output_type": "stream",
     "text": [
      "\n",
      "Message received:\n",
      "    Data: <<{'messageCount': 161, 'humidity': 53, 'temperature': 23, 'timestamp': '2022-04-24\\n17:24:12'}>>\n",
      "\n",
      "Message received:\n",
      "    Data: <<{'messageCount': 162, 'humidity': 53, 'temperature': 23, 'timestamp': '2022-04-24\\n17:24:13'}>>\n",
      "\n",
      "Message received:\n",
      "    Data: <<{'messageCount': 163, 'humidity': 53, 'temperature': 23, 'timestamp': '2022-04-24\\n17:24:14'}>>\n"
     ]
    },
    {
     "name": "stderr",
     "output_type": "stream",
     "text": [
      "INFO:azure.eventhub:Received event from partition 1\n",
      "INFO:azure.eventhub:Received event from partition 1\n",
      "INFO:azure.eventhub:Received event from partition 1\n"
     ]
    },
    {
     "name": "stdout",
     "output_type": "stream",
     "text": [
      "\n",
      "Message received:\n",
      "    Data: <<{'messageCount': 164, 'humidity': 53, 'temperature': 23, 'timestamp': '2022-04-24\\n17:24:14'}>>\n",
      "\n",
      "Message received:\n",
      "    Data: <<{'messageCount': 165, 'humidity': 53, 'temperature': 23, 'timestamp': '2022-04-24\\n17:24:16'}>>\n",
      "\n",
      "Message received:\n",
      "    Data: <<{'messageCount': 166, 'humidity': 53, 'temperature': 23, 'timestamp': '2022-04-24\\n17:24:17'}>>\n",
      "\n",
      "Message received:\n",
      "    Data: <<{'messageCount': 167, 'humidity': 53, 'temperature': 23, 'timestamp': '2022-04-24\\n17:24:18'}>>\n"
     ]
    },
    {
     "name": "stderr",
     "output_type": "stream",
     "text": [
      "INFO:azure.eventhub:Received event from partition 1\n",
      "INFO:azure.eventhub:Received event from partition 1\n",
      "INFO:azure.eventhub:Received event from partition 1\n",
      "INFO:azure.eventhub:Received event from partition 1\n"
     ]
    },
    {
     "name": "stdout",
     "output_type": "stream",
     "text": [
      "\n",
      "Message received:\n",
      "    Data: <<{'messageCount': 168, 'humidity': 53, 'temperature': 23, 'timestamp': '2022-04-24\\n17:24:19'}>>\n",
      "\n",
      "Message received:\n",
      "    Data: <<{'messageCount': 169, 'humidity': 53, 'temperature': 23, 'timestamp': '2022-04-24\\n17:24:21'}>>\n",
      "\n",
      "Message received:\n",
      "    Data: <<{'messageCount': 170, 'humidity': 53, 'temperature': 23, 'timestamp': '2022-04-24\\n17:24:22'}>>\n"
     ]
    },
    {
     "name": "stderr",
     "output_type": "stream",
     "text": [
      "INFO:azure.eventhub:Received event from partition 1\n",
      "INFO:azure.eventhub:Received event from partition 1\n",
      "INFO:azure.eventhub:Received event from partition 1\n"
     ]
    },
    {
     "name": "stdout",
     "output_type": "stream",
     "text": [
      "\n",
      "Message received:\n",
      "    Data: <<{'messageCount': 171, 'humidity': 53, 'temperature': 23, 'timestamp': '2022-04-24\\n17:24:23'}>>\n",
      "\n",
      "Message received:\n",
      "    Data: <<{'messageCount': 172, 'humidity': 53, 'temperature': 23, 'timestamp': '2022-04-24\\n17:24:24'}>>\n",
      "\n",
      "Message received:\n",
      "    Data: <<{'messageCount': 173, 'humidity': 53, 'temperature': 23, 'timestamp': '2022-04-24\\n17:24:25'}>>\n"
     ]
    },
    {
     "name": "stderr",
     "output_type": "stream",
     "text": [
      "INFO:azure.eventhub:Received event from partition 1\n",
      "INFO:azure.eventhub:Received event from partition 1\n",
      "INFO:azure.eventhub:Received event from partition 1\n"
     ]
    },
    {
     "name": "stdout",
     "output_type": "stream",
     "text": [
      "\n",
      "Message received:\n",
      "    Data: <<{'messageCount': 174, 'humidity': 53, 'temperature': 23, 'timestamp': '2022-04-24\\n17:24:26'}>>\n",
      "\n",
      "Message received:\n",
      "    Data: <<{'messageCount': 175, 'humidity': 53, 'temperature': 23, 'timestamp': '2022-04-24\\n17:24:28'}>>\n",
      "\n",
      "Message received:\n",
      "    Data: <<{'messageCount': 176, 'humidity': 53, 'temperature': 23, 'timestamp': '2022-04-24\\n17:24:29'}>>\n",
      "\n",
      "Message received:\n",
      "    Data: <<{'messageCount': 177, 'humidity': 53, 'temperature': 23, 'timestamp': '2022-04-24\\n17:24:31'}>>\n"
     ]
    },
    {
     "name": "stderr",
     "output_type": "stream",
     "text": [
      "INFO:azure.eventhub:Received event from partition 1\n",
      "INFO:azure.eventhub:Received event from partition 1\n",
      "INFO:azure.eventhub:Received event from partition 1\n",
      "INFO:azure.eventhub:Received event from partition 1\n"
     ]
    },
    {
     "name": "stdout",
     "output_type": "stream",
     "text": [
      "\n",
      "Message received:\n",
      "    Data: <<{'messageCount': 178, 'humidity': 53, 'temperature': 23, 'timestamp': '2022-04-24\\n17:24:32'}>>\n",
      "\n",
      "Message received:\n",
      "    Data: <<{'messageCount': 180, 'humidity': 53, 'temperature': 23, 'timestamp': '2022-04-24\\n17:24:34'}>>\n",
      "\n",
      "Message received:\n",
      "    Data: <<{'messageCount': 179, 'humidity': 53, 'temperature': 23, 'timestamp': '2022-04-24\\n17:24:33'}>>\n"
     ]
    },
    {
     "name": "stderr",
     "output_type": "stream",
     "text": [
      "INFO:azure.eventhub:Received event from partition 1\n",
      "INFO:azure.eventhub:Received event from partition 1\n",
      "INFO:azure.eventhub:Received event from partition 1\n"
     ]
    },
    {
     "name": "stdout",
     "output_type": "stream",
     "text": [
      "\n",
      "Message received:\n",
      "    Data: <<{'messageCount': 181, 'humidity': 53, 'temperature': 23, 'timestamp': '2022-04-24\\n17:24:35'}>>\n",
      "\n",
      "Message received:\n",
      "    Data: <<{'messageCount': 182, 'humidity': 53, 'temperature': 23, 'timestamp': '2022-04-24\\n17:24:36'}>>\n",
      "\n",
      "Message received:\n",
      "    Data: <<{'messageCount': 183, 'humidity': 53, 'temperature': 23, 'timestamp': '2022-04-24\\n17:24:37'}>>\n"
     ]
    },
    {
     "name": "stderr",
     "output_type": "stream",
     "text": [
      "INFO:azure.eventhub:Received event from partition 1\n",
      "INFO:azure.eventhub:Received event from partition 1\n",
      "INFO:azure.eventhub:Received event from partition 1\n"
     ]
    },
    {
     "name": "stdout",
     "output_type": "stream",
     "text": [
      "\n",
      "Message received:\n",
      "    Data: <<{'messageCount': 184, 'humidity': 53, 'temperature': 23, 'timestamp': '2022-04-24\\n17:24:38'}>>\n",
      "\n",
      "Message received:\n",
      "    Data: <<{'messageCount': 185, 'humidity': 53, 'temperature': 23, 'timestamp': '2022-04-24\\n17:24:40'}>>\n",
      "\n",
      "Message received:\n",
      "    Data: <<{'messageCount': 186, 'humidity': 53, 'temperature': 23, 'timestamp': '2022-04-24\\n17:24:41'}>>\n"
     ]
    },
    {
     "name": "stderr",
     "output_type": "stream",
     "text": [
      "INFO:azure.eventhub:Received event from partition 1\n",
      "INFO:azure.eventhub:Received event from partition 1\n",
      "INFO:azure.eventhub:Received event from partition 1\n"
     ]
    },
    {
     "name": "stdout",
     "output_type": "stream",
     "text": [
      "\n",
      "Message received:\n",
      "    Data: <<{'messageCount': 187, 'humidity': 53, 'temperature': 23, 'timestamp': '2022-04-24\\n17:24:42'}>>\n",
      "\n",
      "Message received:\n",
      "    Data: <<{'messageCount': 188, 'humidity': 53, 'temperature': 23, 'timestamp': '2022-04-24\\n17:24:43'}>>\n",
      "\n",
      "Message received:\n",
      "    Data: <<{'messageCount': 189, 'humidity': 53, 'temperature': 23, 'timestamp': '2022-04-24\\n17:24:44'}>>\n",
      "\n",
      "Message received:\n",
      "    Data: <<{'messageCount': 190, 'humidity': 53, 'temperature': 23, 'timestamp': '2022-04-24\\n17:24:45'}>>\n"
     ]
    },
    {
     "name": "stderr",
     "output_type": "stream",
     "text": [
      "INFO:azure.eventhub:Received event from partition 1\n",
      "INFO:azure.eventhub:Received event from partition 1\n",
      "INFO:azure.eventhub:Received event from partition 1\n",
      "INFO:azure.eventhub:Received event from partition 1\n"
     ]
    },
    {
     "name": "stdout",
     "output_type": "stream",
     "text": [
      "\n",
      "Message received:\n",
      "    Data: <<{'messageCount': 191, 'humidity': 53, 'temperature': 23, 'timestamp': '2022-04-24\\n17:24:47'}>>\n",
      "\n",
      "Message received:\n",
      "    Data: <<{'messageCount': 192, 'humidity': 53, 'temperature': 23, 'timestamp': '2022-04-24\\n17:24:48'}>>\n",
      "\n",
      "Message received:\n",
      "    Data: <<{'messageCount': 193, 'humidity': 53, 'temperature': 23, 'timestamp': '2022-04-24\\n17:24:50'}>>\n"
     ]
    },
    {
     "name": "stderr",
     "output_type": "stream",
     "text": [
      "INFO:azure.eventhub:Received event from partition 1\n",
      "INFO:azure.eventhub:Received event from partition 1\n",
      "INFO:azure.eventhub:Received event from partition 1\n"
     ]
    },
    {
     "name": "stdout",
     "output_type": "stream",
     "text": [
      "\n",
      "Message received:\n",
      "    Data: <<{'messageCount': 194, 'humidity': 53, 'temperature': 23, 'timestamp': '2022-04-24\\n17:24:51'}>>\n",
      "\n",
      "Message received:\n",
      "    Data: <<{'messageCount': 195, 'humidity': 53, 'temperature': 23, 'timestamp': '2022-04-24\\n17:24:52'}>>\n",
      "\n",
      "Message received:\n",
      "    Data: <<{'messageCount': 196, 'humidity': 53, 'temperature': 23, 'timestamp': '2022-04-24\\n17:24:53'}>>\n"
     ]
    },
    {
     "name": "stderr",
     "output_type": "stream",
     "text": [
      "INFO:azure.eventhub:Received event from partition 1\n",
      "INFO:azure.eventhub:Received event from partition 1\n",
      "INFO:azure.eventhub:Received event from partition 1\n"
     ]
    },
    {
     "name": "stdout",
     "output_type": "stream",
     "text": [
      "\n",
      "Message received:\n",
      "    Data: <<{'messageCount': 197, 'humidity': 53, 'temperature': 23, 'timestamp': '2022-04-24\\n17:24:54'}>>\n",
      "\n",
      "Message received:\n",
      "    Data: <<{'messageCount': 198, 'humidity': 53, 'temperature': 23, 'timestamp': '2022-04-24\\n17:24:55'}>>\n",
      "\n",
      "Message received:\n",
      "    Data: <<{'messageCount': 199, 'humidity': 53, 'temperature': 23, 'timestamp': '2022-04-24\\n17:24:57'}>>\n"
     ]
    },
    {
     "name": "stderr",
     "output_type": "stream",
     "text": [
      "INFO:azure.eventhub:Received event from partition 1\n",
      "INFO:azure.eventhub:Received event from partition 1\n",
      "INFO:azure.eventhub:Received event from partition 1\n"
     ]
    },
    {
     "name": "stdout",
     "output_type": "stream",
     "text": [
      "\n",
      "Message received:\n",
      "    Data: <<{'messageCount': 200, 'humidity': 53, 'temperature': 23, 'timestamp': '2022-04-24\\n17:24:58'}>>\n",
      "\n",
      "Message received:\n",
      "    Data: <<{'messageCount': 201, 'humidity': 53, 'temperature': 23, 'timestamp': '2022-04-24\\n17:24:59'}>>\n",
      "\n",
      "Message received:\n",
      "    Data: <<{'messageCount': 202, 'humidity': 53, 'temperature': 23, 'timestamp': '2022-04-24\\n17:25:00'}>>\n",
      "\n",
      "Message received:\n",
      "    Data: <<{'messageCount': 203, 'humidity': 53, 'temperature': 23, 'timestamp': '2022-04-24\\n17:25:01'}>>\n"
     ]
    },
    {
     "name": "stderr",
     "output_type": "stream",
     "text": [
      "INFO:azure.eventhub:Received event from partition 1\n",
      "INFO:azure.eventhub:Received event from partition 1\n",
      "INFO:azure.eventhub:Received event from partition 1\n",
      "INFO:azure.eventhub:Received event from partition 1\n"
     ]
    },
    {
     "name": "stdout",
     "output_type": "stream",
     "text": [
      "\n",
      "Message received:\n",
      "    Data: <<{'messageCount': 204, 'humidity': 53, 'temperature': 23, 'timestamp': '2022-04-24\\n17:25:02'}>>\n",
      "\n",
      "Message received:\n",
      "    Data: <<{'messageCount': 205, 'humidity': 53, 'temperature': 23, 'timestamp': '2022-04-24\\n17:25:04'}>>\n",
      "\n",
      "Message received:\n",
      "    Data: <<{'messageCount': 206, 'humidity': 53, 'temperature': 23, 'timestamp': '2022-04-24\\n17:25:05'}>>\n"
     ]
    },
    {
     "name": "stderr",
     "output_type": "stream",
     "text": [
      "INFO:azure.eventhub:Received event from partition 1\n",
      "INFO:azure.eventhub:Received event from partition 1\n",
      "INFO:azure.eventhub:Received event from partition 1\n"
     ]
    },
    {
     "name": "stdout",
     "output_type": "stream",
     "text": [
      "\n",
      "Message received:\n",
      "    Data: <<{'messageCount': 207, 'humidity': 53, 'temperature': 23, 'timestamp': '2022-04-24\\n17:25:06'}>>\n",
      "\n",
      "Message received:\n",
      "    Data: <<{'messageCount': 208, 'humidity': 53, 'temperature': 23, 'timestamp': '2022-04-24\\n17:25:07'}>>\n",
      "\n",
      "Message received:\n",
      "    Data: <<{'messageCount': 209, 'humidity': 53, 'temperature': 23, 'timestamp': '2022-04-24\\n17:25:08'}>>\n"
     ]
    },
    {
     "name": "stderr",
     "output_type": "stream",
     "text": [
      "INFO:azure.eventhub:Received event from partition 1\n",
      "INFO:azure.eventhub:Received event from partition 1\n",
      "INFO:azure.eventhub:Received event from partition 1\n"
     ]
    },
    {
     "name": "stdout",
     "output_type": "stream",
     "text": [
      "\n",
      "Message received:\n",
      "    Data: <<{'messageCount': 210, 'humidity': 53, 'temperature': 23, 'timestamp': '2022-04-24\\n17:25:09'}>>\n",
      "\n",
      "Message received:\n",
      "    Data: <<{'messageCount': 211, 'humidity': 53, 'temperature': 23, 'timestamp': '2022-04-24\\n17:25:10'}>>\n",
      "\n",
      "Message received:\n",
      "    Data: <<{'messageCount': 212, 'humidity': 53, 'temperature': 23, 'timestamp': '2022-04-24\\n17:25:11'}>>\n"
     ]
    },
    {
     "name": "stderr",
     "output_type": "stream",
     "text": [
      "INFO:azure.eventhub:Received event from partition 1\n",
      "INFO:azure.eventhub:Received event from partition 1\n",
      "INFO:azure.eventhub:Received event from partition 1\n"
     ]
    },
    {
     "name": "stdout",
     "output_type": "stream",
     "text": [
      "\n",
      "Message received:\n",
      "    Data: <<{'messageCount': 213, 'humidity': 53, 'temperature': 23, 'timestamp': '2022-04-24\\n17:25:13'}>>\n",
      "\n",
      "Message received:\n",
      "    Data: <<{'messageCount': 214, 'humidity': 53, 'temperature': 23, 'timestamp': '2022-04-24\\n17:25:14'}>>\n",
      "\n",
      "Message received:\n",
      "    Data: <<{'messageCount': 215, 'humidity': 53, 'temperature': 23, 'timestamp': '2022-04-24\\n17:25:15'}>>\n"
     ]
    },
    {
     "name": "stderr",
     "output_type": "stream",
     "text": [
      "INFO:azure.eventhub:Received event from partition 1\n",
      "INFO:azure.eventhub:Received event from partition 1\n",
      "INFO:azure.eventhub:Received event from partition 1\n"
     ]
    },
    {
     "name": "stdout",
     "output_type": "stream",
     "text": [
      "\n",
      "Message received:\n",
      "    Data: <<{'messageCount': 216, 'humidity': 53, 'temperature': 23, 'timestamp': '2022-04-24\\n17:25:16'}>>\n",
      "\n",
      "Message received:\n",
      "    Data: <<{'messageCount': 217, 'humidity': 53, 'temperature': 23, 'timestamp': '2022-04-24\\n17:25:18'}>>\n",
      "\n",
      "Message received:\n",
      "    Data: <<{'messageCount': 218, 'humidity': 53, 'temperature': 23, 'timestamp': '2022-04-24\\n17:25:19'}>>\n",
      "\n",
      "Message received:\n",
      "    Data: <<{'messageCount': 219, 'humidity': 52, 'temperature': 23, 'timestamp': '2022-04-24\\n17:25:20'}>>\n"
     ]
    },
    {
     "name": "stderr",
     "output_type": "stream",
     "text": [
      "INFO:azure.eventhub:Received event from partition 1\n",
      "INFO:azure.eventhub:Received event from partition 1\n",
      "INFO:azure.eventhub:Received event from partition 1\n",
      "INFO:azure.eventhub:Received event from partition 1\n"
     ]
    },
    {
     "name": "stdout",
     "output_type": "stream",
     "text": [
      "\n",
      "Message received:\n",
      "    Data: <<{'messageCount': 220, 'humidity': 52, 'temperature': 23, 'timestamp': '2022-04-24\\n17:25:21'}>>\n",
      "\n",
      "Message received:\n",
      "    Data: <<{'messageCount': 221, 'humidity': 53, 'temperature': 23, 'timestamp': '2022-04-24\\n17:25:22'}>>\n",
      "\n",
      "Message received:\n",
      "    Data: <<{'messageCount': 222, 'humidity': 53, 'temperature': 23, 'timestamp': '2022-04-24\\n17:25:23'}>>\n"
     ]
    },
    {
     "name": "stderr",
     "output_type": "stream",
     "text": [
      "INFO:azure.eventhub:Received event from partition 1\n",
      "INFO:azure.eventhub:Received event from partition 1\n",
      "INFO:azure.eventhub:Received event from partition 1\n"
     ]
    },
    {
     "name": "stdout",
     "output_type": "stream",
     "text": [
      "\n",
      "Message received:\n",
      "    Data: <<{'messageCount': 224, 'humidity': 53, 'temperature': 23, 'timestamp': '2022-04-24\\n17:25:26'}>>\n",
      "\n",
      "Message received:\n",
      "    Data: <<{'messageCount': 223, 'humidity': 53, 'temperature': 23, 'timestamp': '2022-04-24\\n17:25:25'}>>\n",
      "\n",
      "Message received:\n",
      "    Data: <<{'messageCount': 226, 'humidity': 53, 'temperature': 23, 'timestamp': '2022-04-24\\n17:25:30'}>>\n"
     ]
    },
    {
     "name": "stderr",
     "output_type": "stream",
     "text": [
      "INFO:azure.eventhub:Received event from partition 1\n",
      "INFO:azure.eventhub:Received event from partition 1\n",
      "INFO:azure.eventhub:Received event from partition 1\n"
     ]
    },
    {
     "name": "stdout",
     "output_type": "stream",
     "text": [
      "\n",
      "Message received:\n",
      "    Data: <<{'messageCount': 227, 'humidity': 53, 'temperature': 23, 'timestamp': '2022-04-24\\n17:25:31'}>>\n",
      "\n",
      "Message received:\n",
      "    Data: <<{'messageCount': 229, 'humidity': 53, 'temperature': 23, 'timestamp': '2022-04-24\\n17:25:36'}>>\n",
      "\n",
      "Message received:\n",
      "    Data: <<{'messageCount': 230, 'humidity': 53, 'temperature': 23, 'timestamp': '2022-04-24\\n17:25:37'}>>\n"
     ]
    },
    {
     "name": "stderr",
     "output_type": "stream",
     "text": [
      "INFO:azure.eventhub:Received event from partition 1\n",
      "INFO:azure.eventhub:Received event from partition 1\n",
      "INFO:azure.eventhub:Received event from partition 1\n"
     ]
    },
    {
     "name": "stdout",
     "output_type": "stream",
     "text": [
      "\n",
      "Message received:\n",
      "    Data: <<{'messageCount': 231, 'humidity': 53, 'temperature': 23, 'timestamp': '2022-04-24\\n17:25:38'}>>\n",
      "\n",
      "Message received:\n",
      "    Data: <<{'messageCount': 233, 'humidity': 53, 'temperature': 23, 'timestamp': '2022-04-24\\n17:25:40'}>>\n",
      "\n",
      "Message received:\n",
      "    Data: <<{'messageCount': 232, 'humidity': 53, 'temperature': 23, 'timestamp': '2022-04-24\\n17:25:39'}>>\n"
     ]
    },
    {
     "name": "stderr",
     "output_type": "stream",
     "text": [
      "INFO:azure.eventhub:Received event from partition 1\n",
      "INFO:azure.eventhub:Received event from partition 1\n",
      "INFO:azure.eventhub:Received event from partition 1\n"
     ]
    },
    {
     "name": "stdout",
     "output_type": "stream",
     "text": [
      "\n",
      "Message received:\n",
      "    Data: <<{'messageCount': 234, 'humidity': 53, 'temperature': 23, 'timestamp': '2022-04-24\\n17:25:43'}>>\n",
      "\n",
      "Message received:\n",
      "    Data: <<{'messageCount': 236, 'humidity': 52, 'temperature': 23, 'timestamp': '2022-04-24\\n17:25:45'}>>\n",
      "\n",
      "Message received:\n",
      "    Data: <<{'messageCount': 235, 'humidity': 53, 'temperature': 23, 'timestamp': '2022-04-24\\n17:25:44'}>>\n"
     ]
    },
    {
     "name": "stderr",
     "output_type": "stream",
     "text": [
      "INFO:azure.eventhub:Received event from partition 1\n",
      "INFO:azure.eventhub:Received event from partition 1\n",
      "INFO:azure.eventhub:Received event from partition 1\n"
     ]
    },
    {
     "name": "stdout",
     "output_type": "stream",
     "text": [
      "\n",
      "Message received:\n",
      "    Data: <<{'messageCount': 237, 'humidity': 52, 'temperature': 23, 'timestamp': '2022-04-24\\n17:25:46'}>>\n",
      "\n",
      "Message received:\n",
      "    Data: <<{'messageCount': 238, 'humidity': 52, 'temperature': 23, 'timestamp': '2022-04-24\\n17:25:48'}>>\n",
      "\n",
      "Message received:\n",
      "    Data: <<{'messageCount': 239, 'humidity': 52, 'temperature': 23, 'timestamp': '2022-04-24\\n17:25:49'}>>\n"
     ]
    },
    {
     "name": "stderr",
     "output_type": "stream",
     "text": [
      "INFO:azure.eventhub:Received event from partition 1\n",
      "INFO:azure.eventhub:Received event from partition 1\n",
      "INFO:azure.eventhub:Received event from partition 1\n"
     ]
    },
    {
     "name": "stdout",
     "output_type": "stream",
     "text": [
      "\n",
      "Message received:\n",
      "    Data: <<{'messageCount': 240, 'humidity': 52, 'temperature': 23, 'timestamp': '2022-04-24\\n17:25:50'}>>\n",
      "\n",
      "Message received:\n",
      "    Data: <<{'messageCount': 241, 'humidity': 52, 'temperature': 23, 'timestamp': '2022-04-24\\n17:25:51'}>>\n",
      "\n",
      "Message received:\n",
      "    Data: <<{'messageCount': 242, 'humidity': 52, 'temperature': 23, 'timestamp': '2022-04-24\\n17:25:52'}>>\n",
      "\n",
      "Message received:\n",
      "    Data: <<{'messageCount': 243, 'humidity': 52, 'temperature': 23, 'timestamp': '2022-04-24\\n17:25:53'}>>\n"
     ]
    },
    {
     "name": "stderr",
     "output_type": "stream",
     "text": [
      "INFO:azure.eventhub:Received event from partition 1\n",
      "INFO:azure.eventhub:Received event from partition 1\n",
      "INFO:azure.eventhub:Received event from partition 1\n",
      "INFO:azure.eventhub:Received event from partition 1\n"
     ]
    },
    {
     "name": "stdout",
     "output_type": "stream",
     "text": [
      "\n",
      "Message received:\n",
      "    Data: <<{'messageCount': 244, 'humidity': 52, 'temperature': 23, 'timestamp': '2022-04-24\\n17:25:55'}>>\n",
      "\n",
      "Message received:\n",
      "    Data: <<{'messageCount': 245, 'humidity': 52, 'temperature': 23, 'timestamp': '2022-04-24\\n17:25:55'}>>\n",
      "\n",
      "Message received:\n",
      "    Data: <<{'messageCount': 246, 'humidity': 52, 'temperature': 23, 'timestamp': '2022-04-24\\n17:25:57'}>>\n"
     ]
    },
    {
     "name": "stderr",
     "output_type": "stream",
     "text": [
      "INFO:azure.eventhub:Received event from partition 1\n",
      "INFO:azure.eventhub:Received event from partition 1\n",
      "INFO:azure.eventhub:Received event from partition 1\n"
     ]
    },
    {
     "name": "stdout",
     "output_type": "stream",
     "text": [
      "\n",
      "Message received:\n",
      "    Data: <<{'messageCount': 247, 'humidity': 52, 'temperature': 23, 'timestamp': '2022-04-24\\n17:25:58'}>>\n",
      "\n",
      "Message received:\n",
      "    Data: <<{'messageCount': 248, 'humidity': 52, 'temperature': 23, 'timestamp': '2022-04-24\\n17:25:59'}>>\n",
      "\n",
      "Message received:\n",
      "    Data: <<{'messageCount': 249, 'humidity': 52, 'temperature': 23, 'timestamp': '2022-04-24\\n17:26:00'}>>\n"
     ]
    },
    {
     "name": "stderr",
     "output_type": "stream",
     "text": [
      "INFO:azure.eventhub:Received event from partition 1\n",
      "INFO:azure.eventhub:Received event from partition 1\n"
     ]
    },
    {
     "name": "stdout",
     "output_type": "stream",
     "text": [
      "\n",
      "Message received:\n",
      "    Data: <<{'messageCount': 250, 'humidity': 52, 'temperature': 23, 'timestamp': '2022-04-24\\n17:26:01'}>>\n",
      "\n",
      "Message received:\n",
      "    Data: <<{'messageCount': 251, 'humidity': 52, 'temperature': 23, 'timestamp': '2022-04-24\\n17:26:02'}>>\n",
      "\n",
      "Message received:\n",
      "    Data: <<{'messageCount': 252, 'humidity': 52, 'temperature': 23, 'timestamp': '2022-04-24\\n17:26:03'}>>\n"
     ]
    },
    {
     "name": "stderr",
     "output_type": "stream",
     "text": [
      "INFO:azure.eventhub:Received event from partition 1\n",
      "INFO:azure.eventhub:Received event from partition 1\n",
      "INFO:azure.eventhub:Received event from partition 1\n",
      "INFO:azure.eventhub:Received event from partition 1\n"
     ]
    },
    {
     "name": "stdout",
     "output_type": "stream",
     "text": [
      "\n",
      "Message received:\n",
      "    Data: <<{'messageCount': 253, 'humidity': 52, 'temperature': 23, 'timestamp': '2022-04-24\\n17:26:04'}>>\n",
      "\n",
      "Message received:\n",
      "    Data: <<{'messageCount': 254, 'humidity': 52, 'temperature': 23, 'timestamp': '2022-04-24\\n17:26:06'}>>\n",
      "\n",
      "Message received:\n",
      "    Data: <<{'messageCount': 255, 'humidity': 52, 'temperature': 23, 'timestamp': '2022-04-24\\n17:26:07'}>>\n"
     ]
    },
    {
     "name": "stderr",
     "output_type": "stream",
     "text": [
      "INFO:azure.eventhub:Received event from partition 1\n",
      "INFO:azure.eventhub:Received event from partition 1\n",
      "INFO:azure.eventhub:Received event from partition 1\n"
     ]
    },
    {
     "name": "stdout",
     "output_type": "stream",
     "text": [
      "\n",
      "Message received:\n",
      "    Data: <<{'messageCount': 256, 'humidity': 52, 'temperature': 23, 'timestamp': '2022-04-24\\n17:26:08'}>>\n",
      "\n",
      "Message received:\n",
      "    Data: <<{'messageCount': 257, 'humidity': 52, 'temperature': 23, 'timestamp': '2022-04-24\\n17:26:09'}>>\n",
      "\n",
      "Message received:\n",
      "    Data: <<{'messageCount': 258, 'humidity': 52, 'temperature': 23, 'timestamp': '2022-04-24\\n17:26:10'}>>\n"
     ]
    },
    {
     "name": "stderr",
     "output_type": "stream",
     "text": [
      "INFO:azure.eventhub:Received event from partition 1\n",
      "INFO:azure.eventhub:Received event from partition 1\n",
      "INFO:azure.eventhub:Received event from partition 1\n"
     ]
    },
    {
     "name": "stdout",
     "output_type": "stream",
     "text": [
      "\n",
      "Message received:\n",
      "    Data: <<{'messageCount': 259, 'humidity': 52, 'temperature': 23, 'timestamp': '2022-04-24\\n17:26:11'}>>\n",
      "\n",
      "Message received:\n",
      "    Data: <<{'messageCount': 260, 'humidity': 52, 'temperature': 23, 'timestamp': '2022-04-24\\n17:26:13'}>>\n",
      "\n",
      "Message received:\n",
      "    Data: <<{'messageCount': 261, 'humidity': 52, 'temperature': 23, 'timestamp': '2022-04-24\\n17:26:14'}>>\n"
     ]
    },
    {
     "name": "stderr",
     "output_type": "stream",
     "text": [
      "INFO:azure.eventhub:Received event from partition 1\n",
      "INFO:azure.eventhub:Received event from partition 1\n",
      "INFO:azure.eventhub:Received event from partition 1\n"
     ]
    },
    {
     "name": "stdout",
     "output_type": "stream",
     "text": [
      "\n",
      "Message received:\n",
      "    Data: <<{'messageCount': 262, 'humidity': 52, 'temperature': 23, 'timestamp': '2022-04-24\\n17:26:15'}>>\n",
      "\n",
      "Message received:\n",
      "    Data: <<{'messageCount': 263, 'humidity': 52, 'temperature': 23, 'timestamp': '2022-04-24\\n17:26:16'}>>\n",
      "\n",
      "Message received:\n",
      "    Data: <<{'messageCount': 264, 'humidity': 52, 'temperature': 23, 'timestamp': '2022-04-24\\n17:26:17'}>>\n",
      "\n",
      "Message received:\n",
      "    Data: <<{'messageCount': 265, 'humidity': 52, 'temperature': 23, 'timestamp': '2022-04-24\\n17:26:18'}>>\n"
     ]
    },
    {
     "name": "stderr",
     "output_type": "stream",
     "text": [
      "INFO:azure.eventhub:Received event from partition 1\n",
      "INFO:azure.eventhub:Received event from partition 1\n",
      "INFO:azure.eventhub:Received event from partition 1\n"
     ]
    },
    {
     "name": "stdout",
     "output_type": "stream",
     "text": [
      "\n",
      "Message received:\n",
      "    Data: <<{'messageCount': 266, 'humidity': 52, 'temperature': 23, 'timestamp': '2022-04-24\\n17:26:20'}>>\n",
      "\n",
      "Message received:\n",
      "    Data: <<{'messageCount': 267, 'humidity': 52, 'temperature': 23, 'timestamp': '2022-04-24\\n17:26:21'}>>\n",
      "\n",
      "Message received:\n",
      "    Data: <<{'messageCount': 268, 'humidity': 52, 'temperature': 23, 'timestamp': '2022-04-24\\n17:26:22'}>>\n"
     ]
    },
    {
     "name": "stderr",
     "output_type": "stream",
     "text": [
      "INFO:azure.eventhub:Received event from partition 1\n",
      "INFO:azure.eventhub:Received event from partition 1\n",
      "INFO:azure.eventhub:Received event from partition 1\n",
      "INFO:azure.eventhub:Received event from partition 1\n"
     ]
    },
    {
     "name": "stdout",
     "output_type": "stream",
     "text": [
      "\n",
      "Message received:\n",
      "    Data: <<{'messageCount': 269, 'humidity': 52, 'temperature': 23, 'timestamp': '2022-04-24\\n17:26:23'}>>\n",
      "\n",
      "Message received:\n",
      "    Data: <<{'messageCount': 270, 'humidity': 52, 'temperature': 23, 'timestamp': '2022-04-24\\n17:26:24'}>>\n",
      "\n",
      "Message received:\n",
      "    Data: <<{'messageCount': 271, 'humidity': 52, 'temperature': 23, 'timestamp': '2022-04-24\\n17:26:25'}>>\n"
     ]
    },
    {
     "name": "stderr",
     "output_type": "stream",
     "text": [
      "INFO:azure.eventhub:Received event from partition 1\n",
      "INFO:azure.eventhub:Received event from partition 1\n",
      "INFO:azure.eventhub:Received event from partition 1\n"
     ]
    },
    {
     "name": "stdout",
     "output_type": "stream",
     "text": [
      "\n",
      "Message received:\n",
      "    Data: <<{'messageCount': 272, 'humidity': 52, 'temperature': 23, 'timestamp': '2022-04-24\\n17:26:26'}>>\n",
      "\n",
      "Message received:\n",
      "    Data: <<{'messageCount': 273, 'humidity': 52, 'temperature': 23, 'timestamp': '2022-04-24\\n17:26:27'}>>\n",
      "\n",
      "Message received:\n",
      "    Data: <<{'messageCount': 274, 'humidity': 52, 'temperature': 23, 'timestamp': '2022-04-24\\n17:26:29'}>>\n"
     ]
    },
    {
     "name": "stderr",
     "output_type": "stream",
     "text": [
      "INFO:azure.eventhub:Received event from partition 1\n",
      "INFO:azure.eventhub:Received event from partition 1\n",
      "INFO:azure.eventhub:Received event from partition 1\n"
     ]
    },
    {
     "name": "stdout",
     "output_type": "stream",
     "text": [
      "\n",
      "Message received:\n",
      "    Data: <<{'messageCount': 275, 'humidity': 52, 'temperature': 23, 'timestamp': '2022-04-24\\n17:26:30'}>>\n",
      "\n",
      "Message received:\n",
      "    Data: <<{'messageCount': 276, 'humidity': 52, 'temperature': 23, 'timestamp': '2022-04-24\\n17:26:31'}>>\n",
      "\n",
      "Message received:\n",
      "    Data: <<{'messageCount': 277, 'humidity': 52, 'temperature': 23, 'timestamp': '2022-04-24\\n17:26:32'}>>\n",
      "\n",
      "Message received:\n",
      "    Data: <<{'messageCount': 278, 'humidity': 52, 'temperature': 23, 'timestamp': '2022-04-24\\n17:26:33'}>>\n"
     ]
    },
    {
     "name": "stderr",
     "output_type": "stream",
     "text": [
      "INFO:azure.eventhub:Received event from partition 1\n",
      "INFO:azure.eventhub:Received event from partition 1\n",
      "INFO:azure.eventhub:Received event from partition 1\n",
      "INFO:azure.eventhub:Received event from partition 1\n"
     ]
    },
    {
     "name": "stdout",
     "output_type": "stream",
     "text": [
      "\n",
      "Message received:\n",
      "    Data: <<{'messageCount': 279, 'humidity': 52, 'temperature': 23, 'timestamp': '2022-04-24\\n17:26:34'}>>\n",
      "\n",
      "Message received:\n",
      "    Data: <<{'messageCount': 280, 'humidity': 52, 'temperature': 23, 'timestamp': '2022-04-24\\n17:26:36'}>>\n",
      "\n",
      "Message received:\n",
      "    Data: <<{'messageCount': 281, 'humidity': 52, 'temperature': 23, 'timestamp': '2022-04-24\\n17:26:37'}>>\n"
     ]
    },
    {
     "name": "stderr",
     "output_type": "stream",
     "text": [
      "INFO:azure.eventhub:Received event from partition 1\n",
      "INFO:azure.eventhub:Received event from partition 1\n",
      "INFO:azure.eventhub:Received event from partition 1\n"
     ]
    },
    {
     "name": "stdout",
     "output_type": "stream",
     "text": [
      "\n",
      "Message received:\n",
      "    Data: <<{'messageCount': 282, 'humidity': 52, 'temperature': 23, 'timestamp': '2022-04-24\\n17:26:38'}>>\n",
      "\n",
      "Message received:\n",
      "    Data: <<{'messageCount': 283, 'humidity': 52, 'temperature': 23, 'timestamp': '2022-04-24\\n17:26:39'}>>\n",
      "\n",
      "Message received:\n",
      "    Data: <<{'messageCount': 284, 'humidity': 52, 'temperature': 23, 'timestamp': '2022-04-24\\n17:26:40'}>>\n"
     ]
    },
    {
     "name": "stderr",
     "output_type": "stream",
     "text": [
      "INFO:azure.eventhub:Received event from partition 1\n",
      "INFO:azure.eventhub:Received event from partition 1\n",
      "INFO:azure.eventhub:Received event from partition 1\n"
     ]
    },
    {
     "name": "stdout",
     "output_type": "stream",
     "text": [
      "\n",
      "Message received:\n",
      "    Data: <<{'messageCount': 285, 'humidity': 52, 'temperature': 23, 'timestamp': '2022-04-24\\n17:26:41'}>>\n",
      "\n",
      "Message received:\n",
      "    Data: <<{'messageCount': 286, 'humidity': 52, 'temperature': 23, 'timestamp': '2022-04-24\\n17:26:43'}>>\n",
      "\n",
      "Message received:\n",
      "    Data: <<{'messageCount': 287, 'humidity': 52, 'temperature': 23, 'timestamp': '2022-04-24\\n17:26:44'}>>\n"
     ]
    },
    {
     "name": "stderr",
     "output_type": "stream",
     "text": [
      "INFO:azure.eventhub:Received event from partition 1\n",
      "INFO:azure.eventhub:Received event from partition 1\n",
      "INFO:azure.eventhub:Received event from partition 1\n"
     ]
    },
    {
     "name": "stdout",
     "output_type": "stream",
     "text": [
      "\n",
      "Message received:\n",
      "    Data: <<{'messageCount': 288, 'humidity': 52, 'temperature': 23, 'timestamp': '2022-04-24\\n17:26:45'}>>\n",
      "\n",
      "Message received:\n",
      "    Data: <<{'messageCount': 289, 'humidity': 52, 'temperature': 23, 'timestamp': '2022-04-24\\n17:26:46'}>>\n",
      "\n",
      "Message received:\n",
      "    Data: <<{'messageCount': 290, 'humidity': 52, 'temperature': 23, 'timestamp': '2022-04-24\\n17:26:47'}>>\n"
     ]
    },
    {
     "name": "stderr",
     "output_type": "stream",
     "text": [
      "INFO:azure.eventhub:Received event from partition 1\n",
      "INFO:azure.eventhub:Received event from partition 1\n",
      "INFO:azure.eventhub:Received event from partition 1\n"
     ]
    },
    {
     "name": "stdout",
     "output_type": "stream",
     "text": [
      "\n",
      "Message received:\n",
      "    Data: <<{'messageCount': 291, 'humidity': 52, 'temperature': 23, 'timestamp': '2022-04-24\\n17:26:48'}>>\n",
      "\n",
      "Message received:\n",
      "    Data: <<{'messageCount': 293, 'humidity': 52, 'temperature': 23, 'timestamp': '2022-04-24\\n17:26:53'}>>\n",
      "\n",
      "Message received:\n",
      "    Data: <<{'messageCount': 294, 'humidity': 52, 'temperature': 23, 'timestamp': '2022-04-24\\n17:26:54'}>>\n",
      "\n",
      "Message received:\n",
      "    Data: <<{'messageCount': 295, 'humidity': 52, 'temperature': 23, 'timestamp': '2022-04-24\\n17:26:55'}>>\n"
     ]
    },
    {
     "name": "stderr",
     "output_type": "stream",
     "text": [
      "INFO:azure.eventhub:Received event from partition 1\n",
      "INFO:azure.eventhub:Received event from partition 1\n",
      "INFO:azure.eventhub:Received event from partition 1\n"
     ]
    },
    {
     "name": "stdout",
     "output_type": "stream",
     "text": [
      "\n",
      "Message received:\n",
      "    Data: <<{'messageCount': 296, 'humidity': 52, 'temperature': 23, 'timestamp': '2022-04-24\\n17:26:56'}>>\n",
      "\n",
      "Message received:\n",
      "    Data: <<{'messageCount': 297, 'humidity': 52, 'temperature': 23, 'timestamp': '2022-04-24\\n17:26:57'}>>\n",
      "\n",
      "Message received:\n",
      "    Data: <<{'messageCount': 298, 'humidity': 52, 'temperature': 23, 'timestamp': '2022-04-24\\n17:26:58'}>>\n"
     ]
    },
    {
     "name": "stderr",
     "output_type": "stream",
     "text": [
      "INFO:azure.eventhub:Received event from partition 1\n",
      "INFO:azure.eventhub:Received event from partition 1\n",
      "INFO:azure.eventhub:Received event from partition 1\n",
      "INFO:azure.eventhub:Received event from partition 1\n"
     ]
    },
    {
     "name": "stdout",
     "output_type": "stream",
     "text": [
      "\n",
      "Message received:\n",
      "    Data: <<{'messageCount': 299, 'humidity': 52, 'temperature': 23, 'timestamp': '2022-04-24\\n17:27:00'}>>\n",
      "\n",
      "Message received:\n",
      "    Data: <<{'messageCount': 300, 'humidity': 52, 'temperature': 23, 'timestamp': '2022-04-24\\n17:27:01'}>>\n",
      "\n",
      "Message received:\n",
      "    Data: <<{'messageCount': 302, 'humidity': 52, 'temperature': 23, 'timestamp': '2022-04-24\\n17:27:03'}>>\n"
     ]
    },
    {
     "name": "stderr",
     "output_type": "stream",
     "text": [
      "INFO:azure.eventhub:Received event from partition 1\n",
      "INFO:azure.eventhub:Received event from partition 1\n",
      "INFO:azure.eventhub:Received event from partition 1\n"
     ]
    },
    {
     "name": "stdout",
     "output_type": "stream",
     "text": [
      "\n",
      "Message received:\n",
      "    Data: <<{'messageCount': 301, 'humidity': 52, 'temperature': 23, 'timestamp': '2022-04-24\\n17:27:02'}>>\n",
      "\n",
      "Message received:\n",
      "    Data: <<{'messageCount': 303, 'humidity': 52, 'temperature': 23, 'timestamp': '2022-04-24\\n17:27:05'}>>\n",
      "\n",
      "Message received:\n",
      "    Data: <<{'messageCount': 304, 'humidity': 52, 'temperature': 23, 'timestamp': '2022-04-24\\n17:27:06'}>>\n"
     ]
    },
    {
     "name": "stderr",
     "output_type": "stream",
     "text": [
      "INFO:azure.eventhub:Received event from partition 1\n",
      "INFO:azure.eventhub:Received event from partition 1\n",
      "INFO:azure.eventhub:Received event from partition 1\n"
     ]
    },
    {
     "name": "stdout",
     "output_type": "stream",
     "text": [
      "\n",
      "Message received:\n",
      "    Data: <<{'messageCount': 305, 'humidity': 52, 'temperature': 23, 'timestamp': '2022-04-24\\n17:27:07'}>>\n",
      "\n",
      "Message received:\n",
      "    Data: <<{'messageCount': 306, 'humidity': 52, 'temperature': 23, 'timestamp': '2022-04-24\\n17:27:08'}>>\n",
      "\n",
      "Message received:\n",
      "    Data: <<{'messageCount': 307, 'humidity': 52, 'temperature': 23, 'timestamp': '2022-04-24\\n17:27:10'}>>\n"
     ]
    },
    {
     "name": "stderr",
     "output_type": "stream",
     "text": [
      "INFO:azure.eventhub:Received event from partition 1\n",
      "INFO:azure.eventhub:Received event from partition 1\n",
      "INFO:azure.eventhub:Received event from partition 1\n"
     ]
    },
    {
     "name": "stdout",
     "output_type": "stream",
     "text": [
      "\n",
      "Message received:\n",
      "    Data: <<{'messageCount': 308, 'humidity': 52, 'temperature': 23, 'timestamp': '2022-04-24\\n17:27:11'}>>\n",
      "\n",
      "Message received:\n",
      "    Data: <<{'messageCount': 309, 'humidity': 52, 'temperature': 23, 'timestamp': '2022-04-24\\n17:27:12'}>>\n",
      "\n",
      "Message received:\n",
      "    Data: <<{'messageCount': 310, 'humidity': 52, 'temperature': 23, 'timestamp': '2022-04-24\\n17:27:13'}>>\n",
      "\n",
      "Message received:\n",
      "    Data: <<{'messageCount': 311, 'humidity': 52, 'temperature': 23, 'timestamp': '2022-04-24\\n17:27:15'}>>\n"
     ]
    },
    {
     "name": "stderr",
     "output_type": "stream",
     "text": [
      "INFO:azure.eventhub:Received event from partition 1\n",
      "INFO:azure.eventhub:Received event from partition 1\n",
      "INFO:azure.eventhub:Received event from partition 1\n",
      "INFO:azure.eventhub:Received event from partition 1\n"
     ]
    },
    {
     "name": "stdout",
     "output_type": "stream",
     "text": [
      "\n",
      "Message received:\n",
      "    Data: <<{'messageCount': 312, 'humidity': 52, 'temperature': 23, 'timestamp': '2022-04-24\\n17:27:16'}>>\n",
      "\n",
      "Message received:\n",
      "    Data: <<{'messageCount': 313, 'humidity': 52, 'temperature': 23, 'timestamp': '2022-04-24\\n17:27:18'}>>\n",
      "\n",
      "Message received:\n",
      "    Data: <<{'messageCount': 314, 'humidity': 52, 'temperature': 23, 'timestamp': '2022-04-24\\n17:27:19'}>>\n",
      "\n",
      "Message received:\n",
      "    Data: <<{'messageCount': 315, 'humidity': 52, 'temperature': 23, 'timestamp': '2022-04-24\\n17:27:20'}>>\n"
     ]
    },
    {
     "name": "stderr",
     "output_type": "stream",
     "text": [
      "INFO:azure.eventhub:Received event from partition 1\n",
      "INFO:azure.eventhub:Received event from partition 1\n",
      "INFO:azure.eventhub:Received event from partition 1\n",
      "INFO:azure.eventhub:Received event from partition 1\n"
     ]
    },
    {
     "name": "stdout",
     "output_type": "stream",
     "text": [
      "\n",
      "Message received:\n",
      "    Data: <<{'messageCount': 316, 'humidity': 52, 'temperature': 23, 'timestamp': '2022-04-24\\n17:27:21'}>>\n",
      "\n",
      "Message received:\n",
      "    Data: <<{'messageCount': 317, 'humidity': 52, 'temperature': 23, 'timestamp': '2022-04-24\\n17:27:22'}>>\n",
      "\n",
      "Message received:\n",
      "    Data: <<{'messageCount': 318, 'humidity': 52, 'temperature': 23, 'timestamp': '2022-04-24\\n17:27:23'}>>\n"
     ]
    },
    {
     "name": "stderr",
     "output_type": "stream",
     "text": [
      "INFO:azure.eventhub:Received event from partition 1\n",
      "INFO:azure.eventhub:Received event from partition 1\n",
      "INFO:azure.eventhub:Received event from partition 1\n"
     ]
    },
    {
     "name": "stdout",
     "output_type": "stream",
     "text": [
      "\n",
      "Message received:\n",
      "    Data: <<{'messageCount': 319, 'humidity': 52, 'temperature': 23, 'timestamp': '2022-04-24\\n17:27:25'}>>\n",
      "\n",
      "Message received:\n",
      "    Data: <<{'messageCount': 320, 'humidity': 52, 'temperature': 23, 'timestamp': '2022-04-24\\n17:27:26'}>>\n",
      "\n",
      "Message received:\n",
      "    Data: <<{'messageCount': 321, 'humidity': 52, 'temperature': 23, 'timestamp': '2022-04-24\\n17:27:27'}>>\n"
     ]
    },
    {
     "name": "stderr",
     "output_type": "stream",
     "text": [
      "INFO:azure.eventhub:Received event from partition 1\n",
      "INFO:azure.eventhub:Received event from partition 1\n",
      "INFO:azure.eventhub:Received event from partition 1\n"
     ]
    },
    {
     "name": "stdout",
     "output_type": "stream",
     "text": [
      "\n",
      "Message received:\n",
      "    Data: <<{'messageCount': 322, 'humidity': 52, 'temperature': 23, 'timestamp': '2022-04-24\\n17:27:29'}>>\n",
      "\n",
      "Message received:\n",
      "    Data: <<{'messageCount': 323, 'humidity': 52, 'temperature': 23, 'timestamp': '2022-04-24\\n17:27:30'}>>\n",
      "\n",
      "Message received:\n",
      "    Data: <<{'messageCount': 324, 'humidity': 52, 'temperature': 23, 'timestamp': '2022-04-24\\n17:27:31'}>>\n"
     ]
    },
    {
     "name": "stderr",
     "output_type": "stream",
     "text": [
      "INFO:azure.eventhub:Received event from partition 1\n",
      "INFO:azure.eventhub:Received event from partition 1\n",
      "INFO:azure.eventhub:Received event from partition 1\n"
     ]
    },
    {
     "name": "stdout",
     "output_type": "stream",
     "text": [
      "\n",
      "Message received:\n",
      "    Data: <<{'messageCount': 325, 'humidity': 52, 'temperature': 23, 'timestamp': '2022-04-24\\n17:27:32'}>>\n",
      "\n",
      "Message received:\n",
      "    Data: <<{'messageCount': 326, 'humidity': 52, 'temperature': 23, 'timestamp': '2022-04-24\\n17:27:33'}>>\n",
      "\n",
      "Message received:\n",
      "    Data: <<{'messageCount': 327, 'humidity': 52, 'temperature': 23, 'timestamp': '2022-04-24\\n17:27:34'}>>\n"
     ]
    },
    {
     "name": "stderr",
     "output_type": "stream",
     "text": [
      "INFO:azure.eventhub:Received event from partition 1\n",
      "INFO:azure.eventhub:Received event from partition 1\n",
      "INFO:azure.eventhub:Received event from partition 1\n",
      "INFO:azure.eventhub:Received event from partition 1\n"
     ]
    },
    {
     "name": "stdout",
     "output_type": "stream",
     "text": [
      "\n",
      "Message received:\n",
      "    Data: <<{'messageCount': 328, 'humidity': 52, 'temperature': 23, 'timestamp': '2022-04-24\\n17:27:35'}>>\n",
      "\n",
      "Message received:\n",
      "    Data: <<{'messageCount': 329, 'humidity': 52, 'temperature': 23, 'timestamp': '2022-04-24\\n17:27:37'}>>\n",
      "\n",
      "Message received:\n",
      "    Data: <<{'messageCount': 330, 'humidity': 52, 'temperature': 23, 'timestamp': '2022-04-24\\n17:27:38'}>>\n",
      "\n",
      "Message received:\n",
      "    Data: <<{'messageCount': 331, 'humidity': 52, 'temperature': 23, 'timestamp': '2022-04-24\\n17:27:39'}>>\n",
      "\n",
      "Message received:\n",
      "    Data: <<{'messageCount': 332, 'humidity': 52, 'temperature': 23, 'timestamp': '2022-04-24\\n17:27:40'}>>\n"
     ]
    },
    {
     "name": "stderr",
     "output_type": "stream",
     "text": [
      "INFO:azure.eventhub:Received event from partition 1\n",
      "INFO:azure.eventhub:Received event from partition 1\n",
      "INFO:azure.eventhub:Received event from partition 1\n",
      "INFO:azure.eventhub:Received event from partition 1\n"
     ]
    },
    {
     "name": "stdout",
     "output_type": "stream",
     "text": [
      "\n",
      "Message received:\n",
      "    Data: <<{'messageCount': 333, 'humidity': 52, 'temperature': 23, 'timestamp': '2022-04-24\\n17:27:41'}>>\n",
      "\n",
      "Message received:\n",
      "    Data: <<{'messageCount': 334, 'humidity': 52, 'temperature': 23, 'timestamp': '2022-04-24\\n17:27:42'}>>\n",
      "\n",
      "Message received:\n",
      "    Data: <<{'messageCount': 336, 'humidity': 52, 'temperature': 23, 'timestamp': '2022-04-24\\n17:27:45'}>>\n"
     ]
    },
    {
     "name": "stderr",
     "output_type": "stream",
     "text": [
      "INFO:azure.eventhub:Received event from partition 1\n",
      "INFO:azure.eventhub:Received event from partition 1\n",
      "INFO:azure.eventhub:Received event from partition 1\n"
     ]
    },
    {
     "name": "stdout",
     "output_type": "stream",
     "text": [
      "\n",
      "Message received:\n",
      "    Data: <<{'messageCount': 335, 'humidity': 52, 'temperature': 23, 'timestamp': '2022-04-24\\n17:27:44'}>>\n",
      "\n",
      "Message received:\n",
      "    Data: <<{'messageCount': 337, 'humidity': 52, 'temperature': 23, 'timestamp': '2022-04-24\\n17:27:46'}>>\n",
      "\n",
      "Message received:\n",
      "    Data: <<{'messageCount': 338, 'humidity': 52, 'temperature': 23, 'timestamp': '2022-04-24\\n17:27:47'}>>\n"
     ]
    },
    {
     "name": "stderr",
     "output_type": "stream",
     "text": [
      "INFO:azure.eventhub:Received event from partition 1\n",
      "INFO:azure.eventhub:Received event from partition 1\n",
      "INFO:azure.eventhub:Received event from partition 1\n"
     ]
    },
    {
     "name": "stdout",
     "output_type": "stream",
     "text": [
      "\n",
      "Message received:\n",
      "    Data: <<{'messageCount': 339, 'humidity': 52, 'temperature': 23, 'timestamp': '2022-04-24\\n17:27:52'}>>\n",
      "\n",
      "Message received:\n",
      "    Data: <<{'messageCount': 340, 'humidity': 52, 'temperature': 23, 'timestamp': '2022-04-24\\n17:27:53'}>>\n",
      "\n",
      "Message received:\n",
      "    Data: <<{'messageCount': 341, 'humidity': 52, 'temperature': 23, 'timestamp': '2022-04-24\\n17:27:54'}>>\n",
      "\n",
      "Message received:\n",
      "    Data: <<{'messageCount': 342, 'humidity': 52, 'temperature': 23, 'timestamp': '2022-04-24\\n17:27:55'}>>\n"
     ]
    },
    {
     "name": "stderr",
     "output_type": "stream",
     "text": [
      "INFO:azure.eventhub:Received event from partition 1\n",
      "INFO:azure.eventhub:Received event from partition 1\n",
      "INFO:azure.eventhub:Received event from partition 1\n",
      "INFO:azure.eventhub:Received event from partition 1\n"
     ]
    },
    {
     "name": "stdout",
     "output_type": "stream",
     "text": [
      "\n",
      "Message received:\n",
      "    Data: <<{'messageCount': 343, 'humidity': 52, 'temperature': 23, 'timestamp': '2022-04-24\\n17:27:56'}>>\n",
      "\n",
      "Message received:\n",
      "    Data: <<{'messageCount': 344, 'humidity': 52, 'temperature': 23, 'timestamp': '2022-04-24\\n17:27:57'}>>\n",
      "\n",
      "Message received:\n",
      "    Data: <<{'messageCount': 345, 'humidity': 52, 'temperature': 23, 'timestamp': '2022-04-24\\n17:27:58'}>>\n"
     ]
    },
    {
     "name": "stderr",
     "output_type": "stream",
     "text": [
      "INFO:azure.eventhub:Received event from partition 1\n",
      "INFO:azure.eventhub:Received event from partition 1\n",
      "INFO:azure.eventhub:Received event from partition 1\n"
     ]
    },
    {
     "name": "stdout",
     "output_type": "stream",
     "text": [
      "\n",
      "Message received:\n",
      "    Data: <<{'messageCount': 346, 'humidity': 52, 'temperature': 23, 'timestamp': '2022-04-24\\n17:28:00'}>>\n",
      "\n",
      "Message received:\n",
      "    Data: <<{'messageCount': 349, 'humidity': 52, 'temperature': 23, 'timestamp': '2022-04-24\\n17:28:08'}>>\n",
      "\n",
      "Message received:\n",
      "    Data: <<{'messageCount': 350, 'humidity': 52, 'temperature': 23, 'timestamp': '2022-04-24\\n17:28:10'}>>\n"
     ]
    },
    {
     "name": "stderr",
     "output_type": "stream",
     "text": [
      "INFO:azure.eventhub:Received event from partition 1\n",
      "INFO:azure.eventhub:Received event from partition 1\n",
      "INFO:azure.eventhub:Received event from partition 1\n"
     ]
    },
    {
     "name": "stdout",
     "output_type": "stream",
     "text": [
      "\n",
      "Message received:\n",
      "    Data: <<{'messageCount': 351, 'humidity': 52, 'temperature': 23, 'timestamp': '2022-04-24\\n17:28:11'}>>\n",
      "\n",
      "Message received:\n",
      "    Data: <<{'messageCount': 352, 'humidity': 52, 'temperature': 23, 'timestamp': '2022-04-24\\n17:28:12'}>>\n",
      "\n",
      "Message received:\n",
      "    Data: <<{'messageCount': 353, 'humidity': 52, 'temperature': 23, 'timestamp': '2022-04-24\\n17:28:13'}>>\n"
     ]
    },
    {
     "name": "stderr",
     "output_type": "stream",
     "text": [
      "INFO:azure.eventhub:Received event from partition 1\n",
      "INFO:azure.eventhub:Received event from partition 1\n",
      "INFO:azure.eventhub:Received event from partition 1\n"
     ]
    },
    {
     "name": "stdout",
     "output_type": "stream",
     "text": [
      "\n",
      "Message received:\n",
      "    Data: <<{'messageCount': 355, 'humidity': 52, 'temperature': 23, 'timestamp': '2022-04-24\\n17:28:19'}>>\n",
      "\n",
      "Message received:\n",
      "    Data: <<{'messageCount': 356, 'humidity': 52, 'temperature': 23, 'timestamp': '2022-04-24\\n17:28:20'}>>\n",
      "\n",
      "Message received:\n",
      "    Data: <<{'messageCount': 358, 'humidity': 52, 'temperature': 23, 'timestamp': '2022-04-24\\n17:28:30'}>>\n"
     ]
    },
    {
     "name": "stderr",
     "output_type": "stream",
     "text": [
      "INFO:azure.eventhub:Received event from partition 1\n",
      "INFO:azure.eventhub:Received event from partition 1\n",
      "INFO:azure.eventhub:Received event from partition 1\n"
     ]
    },
    {
     "name": "stdout",
     "output_type": "stream",
     "text": [
      "\n",
      "Message received:\n",
      "    Data: <<{'messageCount': 359, 'humidity': 52, 'temperature': 23, 'timestamp': '2022-04-24\\n17:28:31'}>>\n",
      "\n",
      "Message received:\n",
      "    Data: <<{'messageCount': 360, 'humidity': 52, 'temperature': 23, 'timestamp': '2022-04-24\\n17:28:32'}>>\n",
      "\n",
      "Message received:\n",
      "    Data: <<{'messageCount': 361, 'humidity': 52, 'temperature': 23, 'timestamp': '2022-04-24\\n17:28:33'}>>\n",
      "\n",
      "Message received:\n",
      "    Data: <<{'messageCount': 362, 'humidity': 52, 'temperature': 23, 'timestamp': '2022-04-24\\n17:28:35'}>>\n"
     ]
    },
    {
     "name": "stderr",
     "output_type": "stream",
     "text": [
      "INFO:azure.eventhub:Received event from partition 1\n",
      "INFO:azure.eventhub:Received event from partition 1\n",
      "INFO:azure.eventhub:Received event from partition 1\n",
      "INFO:azure.eventhub:Received event from partition 1\n"
     ]
    },
    {
     "name": "stdout",
     "output_type": "stream",
     "text": [
      "\n",
      "Message received:\n",
      "    Data: <<{'messageCount': 363, 'humidity': 52, 'temperature': 23, 'timestamp': '2022-04-24\\n17:28:36'}>>\n",
      "\n",
      "Message received:\n",
      "    Data: <<{'messageCount': 364, 'humidity': 52, 'temperature': 23, 'timestamp': '2022-04-24\\n17:28:39'}>>\n",
      "\n",
      "Message received:\n",
      "    Data: <<{'messageCount': 365, 'humidity': 52, 'temperature': 23, 'timestamp': '2022-04-24\\n17:28:40'}>>\n"
     ]
    },
    {
     "name": "stderr",
     "output_type": "stream",
     "text": [
      "INFO:azure.eventhub:Received event from partition 1\n",
      "INFO:azure.eventhub:Received event from partition 1\n",
      "INFO:azure.eventhub:Received event from partition 1\n"
     ]
    },
    {
     "name": "stdout",
     "output_type": "stream",
     "text": [
      "\n",
      "Message received:\n",
      "    Data: <<{'messageCount': 366, 'humidity': 52, 'temperature': 23, 'timestamp': '2022-04-24\\n17:28:48'}>>\n",
      "\n",
      "Message received:\n",
      "    Data: <<{'messageCount': 367, 'humidity': 52, 'temperature': 23, 'timestamp': '2022-04-24\\n17:28:49'}>>\n",
      "\n",
      "Message received:\n",
      "    Data: <<{'messageCount': 368, 'humidity': 52, 'temperature': 23, 'timestamp': '2022-04-24\\n17:28:51'}>>\n"
     ]
    },
    {
     "name": "stderr",
     "output_type": "stream",
     "text": [
      "INFO:azure.eventhub:Received event from partition 1\n",
      "INFO:azure.eventhub:Received event from partition 1\n",
      "INFO:azure.eventhub:Received event from partition 1\n"
     ]
    },
    {
     "name": "stdout",
     "output_type": "stream",
     "text": [
      "\n",
      "Message received:\n",
      "    Data: <<{'messageCount': 369, 'humidity': 52, 'temperature': 23, 'timestamp': '2022-04-24\\n17:28:52'}>>\n",
      "\n",
      "Message received:\n",
      "    Data: <<{'messageCount': 370, 'humidity': 52, 'temperature': 23, 'timestamp': '2022-04-24\\n17:29:00'}>>\n",
      "\n",
      "Message received:\n",
      "    Data: <<{'messageCount': 372, 'humidity': 52, 'temperature': 23, 'timestamp': '2022-04-24\\n17:29:03'}>>\n"
     ]
    },
    {
     "name": "stderr",
     "output_type": "stream",
     "text": [
      "INFO:azure.eventhub:Received event from partition 1\n",
      "INFO:azure.eventhub:Received event from partition 1\n",
      "INFO:azure.eventhub:Received event from partition 1\n"
     ]
    },
    {
     "name": "stdout",
     "output_type": "stream",
     "text": [
      "\n",
      "Message received:\n",
      "    Data: <<{'messageCount': 371, 'humidity': 52, 'temperature': 23, 'timestamp': '2022-04-24\\n17:29:01'}>>\n",
      "\n",
      "Message received:\n",
      "    Data: <<{'messageCount': 373, 'humidity': 52, 'temperature': 23, 'timestamp': '2022-04-24\\n17:29:04'}>>\n",
      "\n",
      "Message received:\n",
      "    Data: <<{'messageCount': 374, 'humidity': 52, 'temperature': 23, 'timestamp': '2022-04-24\\n17:29:05'}>>\n"
     ]
    },
    {
     "name": "stderr",
     "output_type": "stream",
     "text": [
      "INFO:azure.eventhub:Received event from partition 1\n",
      "INFO:azure.eventhub:Received event from partition 1\n",
      "INFO:azure.eventhub:Received event from partition 1\n"
     ]
    },
    {
     "name": "stdout",
     "output_type": "stream",
     "text": [
      "\n",
      "Message received:\n",
      "    Data: <<{'messageCount': 375, 'humidity': 52, 'temperature': 23, 'timestamp': '2022-04-24\\n17:29:06'}>>\n",
      "\n",
      "Message received:\n",
      "    Data: <<{'messageCount': 377, 'humidity': 52, 'temperature': 23, 'timestamp': '2022-04-24\\n17:29:08'}>>\n",
      "\n",
      "Message received:\n",
      "    Data: <<{'messageCount': 376, 'humidity': 52, 'temperature': 23, 'timestamp': '2022-04-24\\n17:29:07'}>>\n"
     ]
    },
    {
     "name": "stderr",
     "output_type": "stream",
     "text": [
      "INFO:azure.eventhub:Received event from partition 1\n",
      "INFO:azure.eventhub:Received event from partition 1\n",
      "INFO:azure.eventhub:Received event from partition 1\n"
     ]
    },
    {
     "name": "stdout",
     "output_type": "stream",
     "text": [
      "\n",
      "Message received:\n",
      "    Data: <<{'messageCount': 378, 'humidity': 52, 'temperature': 23, 'timestamp': '2022-04-24\\n17:29:10'}>>\n",
      "\n",
      "Message received:\n",
      "    Data: <<{'messageCount': 379, 'humidity': 52, 'temperature': 23, 'timestamp': '2022-04-24\\n17:29:11'}>>\n",
      "\n",
      "Message received:\n",
      "    Data: <<{'messageCount': 380, 'humidity': 52, 'temperature': 23, 'timestamp': '2022-04-24\\n17:29:12'}>>\n"
     ]
    },
    {
     "name": "stderr",
     "output_type": "stream",
     "text": [
      "INFO:azure.eventhub:Received event from partition 1\n",
      "INFO:azure.eventhub:Received event from partition 1\n",
      "INFO:azure.eventhub:Received event from partition 1\n"
     ]
    },
    {
     "name": "stdout",
     "output_type": "stream",
     "text": [
      "\n",
      "Message received:\n",
      "    Data: <<{'messageCount': 381, 'humidity': 52, 'temperature': 23, 'timestamp': '2022-04-24\\n17:29:13'}>>\n",
      "\n",
      "Message received:\n",
      "    Data: <<{'messageCount': 382, 'humidity': 52, 'temperature': 23, 'timestamp': '2022-04-24\\n17:29:14'}>>\n",
      "\n",
      "Message received:\n",
      "    Data: <<{'messageCount': 384, 'humidity': 52, 'temperature': 23, 'timestamp': '2022-04-24\\n17:29:17'}>>\n",
      "\n",
      "Message received:\n",
      "    Data: <<{'messageCount': 383, 'humidity': 52, 'temperature': 23, 'timestamp': '2022-04-24\\n17:29:15'}>>\n"
     ]
    },
    {
     "name": "stderr",
     "output_type": "stream",
     "text": [
      "INFO:azure.eventhub:Received event from partition 1\n",
      "INFO:azure.eventhub:Received event from partition 1\n",
      "INFO:azure.eventhub:Received event from partition 1\n",
      "INFO:azure.eventhub:Received event from partition 1\n"
     ]
    },
    {
     "name": "stdout",
     "output_type": "stream",
     "text": [
      "\n",
      "Message received:\n",
      "    Data: <<{'messageCount': 385, 'humidity': 52, 'temperature': 23, 'timestamp': '2022-04-24\\n17:29:18'}>>\n",
      "\n",
      "Message received:\n",
      "    Data: <<{'messageCount': 386, 'humidity': 52, 'temperature': 23, 'timestamp': '2022-04-24\\n17:29:19'}>>\n",
      "\n",
      "Message received:\n",
      "    Data: <<{'messageCount': 387, 'humidity': 52, 'temperature': 23, 'timestamp': '2022-04-24\\n17:29:20'}>>\n"
     ]
    },
    {
     "name": "stderr",
     "output_type": "stream",
     "text": [
      "INFO:azure.eventhub:Received event from partition 1\n",
      "INFO:azure.eventhub:Received event from partition 1\n",
      "INFO:azure.eventhub:Received event from partition 1\n"
     ]
    },
    {
     "name": "stdout",
     "output_type": "stream",
     "text": [
      "\n",
      "Message received:\n",
      "    Data: <<{'messageCount': 388, 'humidity': 52, 'temperature': 23, 'timestamp': '2022-04-24\\n17:29:21'}>>\n",
      "\n",
      "Message received:\n",
      "    Data: <<{'messageCount': 389, 'humidity': 52, 'temperature': 23, 'timestamp': '2022-04-24\\n17:29:22'}>>\n",
      "\n",
      "Message received:\n",
      "    Data: <<{'messageCount': 390, 'humidity': 52, 'temperature': 23, 'timestamp': '2022-04-24\\n17:29:24'}>>\n"
     ]
    },
    {
     "name": "stderr",
     "output_type": "stream",
     "text": [
      "INFO:azure.eventhub:Received event from partition 1\n",
      "INFO:azure.eventhub:Received event from partition 1\n",
      "INFO:azure.eventhub:Received event from partition 1\n"
     ]
    },
    {
     "name": "stdout",
     "output_type": "stream",
     "text": [
      "\n",
      "Message received:\n",
      "    Data: <<{'messageCount': 391, 'humidity': 52, 'temperature': 23, 'timestamp': '2022-04-24\\n17:29:25'}>>\n",
      "\n",
      "Message received:\n",
      "    Data: <<{'messageCount': 392, 'humidity': 52, 'temperature': 23, 'timestamp': '2022-04-24\\n17:29:26'}>>\n",
      "\n",
      "Message received:\n",
      "    Data: <<{'messageCount': 393, 'humidity': 52, 'temperature': 23, 'timestamp': '2022-04-24\\n17:29:27'}>>\n",
      "\n",
      "Message received:\n",
      "    Data: <<{'messageCount': 394, 'humidity': 52, 'temperature': 23, 'timestamp': '2022-04-24\\n17:29:33'}>>\n"
     ]
    },
    {
     "name": "stderr",
     "output_type": "stream",
     "text": [
      "INFO:azure.eventhub:Received event from partition 1\n",
      "INFO:azure.eventhub:Received event from partition 1\n",
      "INFO:azure.eventhub:Received event from partition 1\n",
      "INFO:azure.eventhub:Received event from partition 1\n"
     ]
    },
    {
     "name": "stdout",
     "output_type": "stream",
     "text": [
      "\n",
      "Message received:\n",
      "    Data: <<{'messageCount': 395, 'humidity': 52, 'temperature': 23, 'timestamp': '2022-04-24\\n17:29:38'}>>\n",
      "\n",
      "Message received:\n",
      "    Data: <<{'messageCount': 396, 'humidity': 52, 'temperature': 23, 'timestamp': '2022-04-24\\n17:29:40'}>>\n",
      "\n",
      "Message received:\n",
      "    Data: <<{'messageCount': 397, 'humidity': 52, 'temperature': 23, 'timestamp': '2022-04-24\\n17:29:41'}>>\n"
     ]
    },
    {
     "name": "stderr",
     "output_type": "stream",
     "text": [
      "INFO:azure.eventhub:Received event from partition 1\n",
      "INFO:azure.eventhub:Received event from partition 1\n",
      "INFO:azure.eventhub:Received event from partition 1\n"
     ]
    },
    {
     "name": "stdout",
     "output_type": "stream",
     "text": [
      "\n",
      "Message received:\n",
      "    Data: <<{'messageCount': 398, 'humidity': 52, 'temperature': 23, 'timestamp': '2022-04-24\\n17:29:42'}>>\n",
      "\n",
      "Message received:\n",
      "    Data: <<{'messageCount': 399, 'humidity': 52, 'temperature': 23, 'timestamp': '2022-04-24\\n17:29:43'}>>\n",
      "\n",
      "Message received:\n",
      "    Data: <<{'messageCount': 400, 'humidity': 52, 'temperature': 23, 'timestamp': '2022-04-24\\n17:29:45'}>>\n"
     ]
    },
    {
     "name": "stderr",
     "output_type": "stream",
     "text": [
      "INFO:azure.eventhub:Received event from partition 1\n",
      "INFO:azure.eventhub:Received event from partition 1\n",
      "INFO:azure.eventhub:Received event from partition 1\n"
     ]
    },
    {
     "name": "stdout",
     "output_type": "stream",
     "text": [
      "\n",
      "Message received:\n",
      "    Data: <<{'messageCount': 401, 'humidity': 52, 'temperature': 23, 'timestamp': '2022-04-24\\n17:29:46'}>>\n",
      "\n",
      "Message received:\n",
      "    Data: <<{'messageCount': 402, 'humidity': 52, 'temperature': 23, 'timestamp': '2022-04-24\\n17:29:47'}>>\n",
      "\n",
      "Message received:\n",
      "    Data: <<{'messageCount': 403, 'humidity': 52, 'temperature': 23, 'timestamp': '2022-04-24\\n17:29:48'}>>\n"
     ]
    },
    {
     "name": "stderr",
     "output_type": "stream",
     "text": [
      "INFO:azure.eventhub:Received event from partition 1\n",
      "INFO:azure.eventhub:Received event from partition 1\n",
      "INFO:azure.eventhub:Received event from partition 1\n"
     ]
    },
    {
     "name": "stdout",
     "output_type": "stream",
     "text": [
      "\n",
      "Message received:\n",
      "    Data: <<{'messageCount': 404, 'humidity': 52, 'temperature': 23, 'timestamp': '2022-04-24\\n17:29:51'}>>\n",
      "\n",
      "Message received:\n",
      "    Data: <<{'messageCount': 405, 'humidity': 52, 'temperature': 23, 'timestamp': '2022-04-24\\n17:29:52'}>>\n",
      "\n",
      "Message received:\n",
      "    Data: <<{'messageCount': 406, 'humidity': 52, 'temperature': 23, 'timestamp': '2022-04-24\\n17:29:53'}>>\n"
     ]
    },
    {
     "name": "stderr",
     "output_type": "stream",
     "text": [
      "INFO:azure.eventhub:Received event from partition 1\n",
      "INFO:azure.eventhub:Received event from partition 1\n",
      "INFO:azure.eventhub:Received event from partition 1\n"
     ]
    },
    {
     "name": "stdout",
     "output_type": "stream",
     "text": [
      "\n",
      "Message received:\n",
      "    Data: <<{'messageCount': 407, 'humidity': 52, 'temperature': 23, 'timestamp': '2022-04-24\\n17:29:54'}>>\n",
      "\n",
      "Message received:\n",
      "    Data: <<{'messageCount': 408, 'humidity': 52, 'temperature': 23, 'timestamp': '2022-04-24\\n17:29:57'}>>\n",
      "\n",
      "Message received:\n",
      "    Data: <<{'messageCount': 409, 'humidity': 52, 'temperature': 23, 'timestamp': '2022-04-24\\n17:29:58'}>>\n",
      "\n",
      "Message received:\n",
      "    Data: <<{'messageCount': 410, 'humidity': 52, 'temperature': 23, 'timestamp': '2022-04-24\\n17:29:59'}>>\n"
     ]
    },
    {
     "name": "stderr",
     "output_type": "stream",
     "text": [
      "INFO:azure.eventhub:Received event from partition 1\n",
      "INFO:azure.eventhub:Received event from partition 1\n",
      "INFO:azure.eventhub:Received event from partition 1\n",
      "INFO:azure.eventhub:Received event from partition 1\n"
     ]
    },
    {
     "name": "stdout",
     "output_type": "stream",
     "text": [
      "\n",
      "Message received:\n",
      "    Data: <<{'messageCount': 411, 'humidity': 52, 'temperature': 23, 'timestamp': '2022-04-24\\n17:30:00'}>>\n",
      "\n",
      "Message received:\n",
      "    Data: <<{'messageCount': 412, 'humidity': 52, 'temperature': 23, 'timestamp': '2022-04-24\\n17:30:01'}>>\n",
      "\n",
      "Message received:\n",
      "    Data: <<{'messageCount': 413, 'humidity': 52, 'temperature': 23, 'timestamp': '2022-04-24\\n17:30:02'}>>\n",
      "\n",
      "Message received:\n",
      "    Data: <<{'messageCount': 414, 'humidity': 52, 'temperature': 23, 'timestamp': '2022-04-24\\n17:30:04'}>>\n"
     ]
    },
    {
     "name": "stderr",
     "output_type": "stream",
     "text": [
      "INFO:azure.eventhub:Received event from partition 1\n",
      "INFO:azure.eventhub:Received event from partition 1\n",
      "INFO:azure.eventhub:Received event from partition 1\n",
      "INFO:azure.eventhub:Received event from partition 1\n"
     ]
    },
    {
     "name": "stdout",
     "output_type": "stream",
     "text": [
      "\n",
      "Message received:\n",
      "    Data: <<{'messageCount': 415, 'humidity': 52, 'temperature': 23, 'timestamp': '2022-04-24\\n17:30:05'}>>\n",
      "\n",
      "Message received:\n",
      "    Data: <<{'messageCount': 416, 'humidity': 52, 'temperature': 23, 'timestamp': '2022-04-24\\n17:30:06'}>>\n",
      "\n",
      "Message received:\n",
      "    Data: <<{'messageCount': 417, 'humidity': 52, 'temperature': 23, 'timestamp': '2022-04-24\\n17:30:07'}>>\n"
     ]
    },
    {
     "name": "stderr",
     "output_type": "stream",
     "text": [
      "INFO:azure.eventhub:Received event from partition 1\n",
      "INFO:azure.eventhub:Received event from partition 1\n",
      "INFO:azure.eventhub:Received event from partition 1\n"
     ]
    },
    {
     "name": "stdout",
     "output_type": "stream",
     "text": [
      "\n",
      "Message received:\n",
      "    Data: <<{'messageCount': 418, 'humidity': 52, 'temperature': 23, 'timestamp': '2022-04-24\\n17:30:09'}>>\n",
      "\n",
      "Message received:\n",
      "    Data: <<{'messageCount': 419, 'humidity': 52, 'temperature': 23, 'timestamp': '2022-04-24\\n17:30:10'}>>\n",
      "\n",
      "Message received:\n",
      "    Data: <<{'messageCount': 420, 'humidity': 52, 'temperature': 23, 'timestamp': '2022-04-24\\n17:30:11'}>>\n",
      "\n",
      "Message received:\n",
      "    Data: <<{'messageCount': 421, 'humidity': 52, 'temperature': 23, 'timestamp': '2022-04-24\\n17:30:12'}>>\n"
     ]
    },
    {
     "name": "stderr",
     "output_type": "stream",
     "text": [
      "INFO:azure.eventhub:Received event from partition 1\n",
      "INFO:azure.eventhub:Received event from partition 1\n",
      "INFO:azure.eventhub:Received event from partition 1\n",
      "INFO:azure.eventhub:Received event from partition 1\n"
     ]
    },
    {
     "name": "stdout",
     "output_type": "stream",
     "text": [
      "\n",
      "Message received:\n",
      "    Data: <<{'messageCount': 422, 'humidity': 51, 'temperature': 23, 'timestamp': '2022-04-24\\n17:30:13'}>>\n",
      "\n",
      "Message received:\n",
      "    Data: <<{'messageCount': 423, 'humidity': 51, 'temperature': 23, 'timestamp': '2022-04-24\\n17:30:14'}>>\n",
      "\n",
      "Message received:\n",
      "    Data: <<{'messageCount': 424, 'humidity': 51, 'temperature': 23, 'timestamp': '2022-04-24\\n17:30:16'}>>\n"
     ]
    },
    {
     "name": "stderr",
     "output_type": "stream",
     "text": [
      "INFO:azure.eventhub:Received event from partition 1\n",
      "INFO:azure.eventhub:Received event from partition 1\n",
      "INFO:azure.eventhub:Received event from partition 1\n"
     ]
    },
    {
     "name": "stdout",
     "output_type": "stream",
     "text": [
      "\n",
      "Message received:\n",
      "    Data: <<{'messageCount': 425, 'humidity': 51, 'temperature': 23, 'timestamp': '2022-04-24\\n17:30:17'}>>\n",
      "\n",
      "Message received:\n",
      "    Data: <<{'messageCount': 426, 'humidity': 52, 'temperature': 23, 'timestamp': '2022-04-24\\n17:30:18'}>>\n",
      "\n",
      "Message received:\n",
      "    Data: <<{'messageCount': 427, 'humidity': 52, 'temperature': 23, 'timestamp': '2022-04-24\\n17:30:19'}>>\n"
     ]
    },
    {
     "name": "stderr",
     "output_type": "stream",
     "text": [
      "INFO:azure.eventhub:Received event from partition 1\n",
      "INFO:azure.eventhub:Received event from partition 1\n",
      "INFO:azure.eventhub:Received event from partition 1\n"
     ]
    },
    {
     "name": "stdout",
     "output_type": "stream",
     "text": [
      "\n",
      "Message received:\n",
      "    Data: <<{'messageCount': 428, 'humidity': 52, 'temperature': 23, 'timestamp': '2022-04-24\\n17:30:20'}>>\n",
      "\n",
      "Message received:\n",
      "    Data: <<{'messageCount': 430, 'humidity': 51, 'temperature': 23, 'timestamp': '2022-04-24\\n17:30:23'}>>\n",
      "\n",
      "Message received:\n",
      "    Data: <<{'messageCount': 429, 'humidity': 52, 'temperature': 23, 'timestamp': '2022-04-24\\n17:30:21'}>>\n"
     ]
    },
    {
     "name": "stderr",
     "output_type": "stream",
     "text": [
      "INFO:azure.eventhub:Received event from partition 1\n",
      "INFO:azure.eventhub:Received event from partition 1\n",
      "INFO:azure.eventhub:Received event from partition 1\n"
     ]
    },
    {
     "name": "stdout",
     "output_type": "stream",
     "text": [
      "\n",
      "Message received:\n",
      "    Data: <<{'messageCount': 431, 'humidity': 51, 'temperature': 23, 'timestamp': '2022-04-24\\n17:30:24'}>>\n",
      "\n",
      "Message received:\n",
      "    Data: <<{'messageCount': 432, 'humidity': 52, 'temperature': 23, 'timestamp': '2022-04-24\\n17:30:25'}>>\n",
      "\n",
      "Message received:\n",
      "    Data: <<{'messageCount': 433, 'humidity': 52, 'temperature': 23, 'timestamp': '2022-04-24\\n17:30:26'}>>\n"
     ]
    },
    {
     "name": "stderr",
     "output_type": "stream",
     "text": [
      "INFO:azure.eventhub:Received event from partition 1\n",
      "INFO:azure.eventhub:Received event from partition 1\n",
      "INFO:azure.eventhub:Received event from partition 1\n"
     ]
    },
    {
     "name": "stdout",
     "output_type": "stream",
     "text": [
      "\n",
      "Message received:\n",
      "    Data: <<{'messageCount': 434, 'humidity': 52, 'temperature': 23, 'timestamp': '2022-04-24\\n17:30:27'}>>\n",
      "\n",
      "Message received:\n",
      "    Data: <<{'messageCount': 435, 'humidity': 52, 'temperature': 23, 'timestamp': '2022-04-24\\n17:30:28'}>>\n",
      "\n",
      "Message received:\n",
      "    Data: <<{'messageCount': 436, 'humidity': 51, 'temperature': 23, 'timestamp': '2022-04-24\\n17:30:29'}>>\n"
     ]
    },
    {
     "name": "stderr",
     "output_type": "stream",
     "text": [
      "INFO:azure.eventhub:Received event from partition 1\n",
      "INFO:azure.eventhub:Received event from partition 1\n",
      "INFO:azure.eventhub:Received event from partition 1\n"
     ]
    },
    {
     "name": "stdout",
     "output_type": "stream",
     "text": [
      "\n",
      "Message received:\n",
      "    Data: <<{'messageCount': 438, 'humidity': 52, 'temperature': 23, 'timestamp': '2022-04-24\\n17:30:32'}>>\n",
      "\n",
      "Message received:\n",
      "    Data: <<{'messageCount': 437, 'humidity': 51, 'temperature': 23, 'timestamp': '2022-04-24\\n17:30:30'}>>\n",
      "\n",
      "Message received:\n",
      "    Data: <<{'messageCount': 439, 'humidity': 52, 'temperature': 23, 'timestamp': '2022-04-24\\n17:30:33'}>>\n"
     ]
    },
    {
     "name": "stderr",
     "output_type": "stream",
     "text": [
      "INFO:azure.eventhub:Received event from partition 1\n",
      "INFO:azure.eventhub:Received event from partition 1\n",
      "INFO:azure.eventhub:Received event from partition 1\n"
     ]
    },
    {
     "name": "stdout",
     "output_type": "stream",
     "text": [
      "\n",
      "Message received:\n",
      "    Data: <<{'messageCount': 440, 'humidity': 52, 'temperature': 23, 'timestamp': '2022-04-24\\n17:30:34'}>>\n",
      "\n",
      "Message received:\n",
      "    Data: <<{'messageCount': 441, 'humidity': 52, 'temperature': 23, 'timestamp': '2022-04-24\\n17:30:35'}>>\n",
      "\n",
      "Message received:\n",
      "    Data: <<{'messageCount': 442, 'humidity': 51, 'temperature': 23, 'timestamp': '2022-04-24\\n17:30:36'}>>\n"
     ]
    },
    {
     "name": "stderr",
     "output_type": "stream",
     "text": [
      "INFO:azure.eventhub:Received event from partition 1\n",
      "INFO:azure.eventhub:Received event from partition 1\n",
      "INFO:azure.eventhub:Received event from partition 1\n"
     ]
    },
    {
     "name": "stdout",
     "output_type": "stream",
     "text": [
      "\n",
      "Message received:\n",
      "    Data: <<{'messageCount': 443, 'humidity': 51, 'temperature': 23, 'timestamp': '2022-04-24\\n17:30:37'}>>\n",
      "\n",
      "Message received:\n",
      "    Data: <<{'messageCount': 444, 'humidity': 51, 'temperature': 23, 'timestamp': '2022-04-24\\n17:30:39'}>>\n",
      "\n",
      "Message received:\n",
      "    Data: <<{'messageCount': 445, 'humidity': 51, 'temperature': 23, 'timestamp': '2022-04-24\\n17:30:40'}>>\n"
     ]
    },
    {
     "name": "stderr",
     "output_type": "stream",
     "text": [
      "INFO:azure.eventhub:Received event from partition 1\n",
      "INFO:azure.eventhub:Received event from partition 1\n",
      "INFO:azure.eventhub:Received event from partition 1\n"
     ]
    },
    {
     "name": "stdout",
     "output_type": "stream",
     "text": [
      "\n",
      "Message received:\n",
      "    Data: <<{'messageCount': 446, 'humidity': 52, 'temperature': 23, 'timestamp': '2022-04-24\\n17:30:41'}>>\n",
      "\n",
      "Message received:\n",
      "    Data: <<{'messageCount': 447, 'humidity': 52, 'temperature': 23, 'timestamp': '2022-04-24\\n17:30:42'}>>\n",
      "\n",
      "Message received:\n",
      "    Data: <<{'messageCount': 448, 'humidity': 52, 'temperature': 23, 'timestamp': '2022-04-24\\n17:30:43'}>>\n",
      "\n",
      "Message received:\n",
      "    Data: <<{'messageCount': 449, 'humidity': 52, 'temperature': 23, 'timestamp': '2022-04-24\\n17:30:44'}>>\n"
     ]
    },
    {
     "name": "stderr",
     "output_type": "stream",
     "text": [
      "INFO:azure.eventhub:Received event from partition 1\n",
      "INFO:azure.eventhub:Received event from partition 1\n",
      "INFO:azure.eventhub:Received event from partition 1\n",
      "INFO:azure.eventhub:Received event from partition 1\n"
     ]
    },
    {
     "name": "stdout",
     "output_type": "stream",
     "text": [
      "\n",
      "Message received:\n",
      "    Data: <<{'messageCount': 450, 'humidity': 52, 'temperature': 23, 'timestamp': '2022-04-24\\n17:30:46'}>>\n",
      "\n",
      "Message received:\n",
      "    Data: <<{'messageCount': 452, 'humidity': 51, 'temperature': 23, 'timestamp': '2022-04-24\\n17:30:48'}>>\n",
      "\n",
      "Message received:\n",
      "    Data: <<{'messageCount': 451, 'humidity': 52, 'temperature': 23, 'timestamp': '2022-04-24\\n17:30:47'}>>\n",
      "\n",
      "Message received:\n",
      "    Data: <<{'messageCount': 453, 'humidity': 51, 'temperature': 23, 'timestamp': '2022-04-24\\n17:30:49'}>>\n"
     ]
    },
    {
     "name": "stderr",
     "output_type": "stream",
     "text": [
      "INFO:azure.eventhub:Received event from partition 1\n",
      "INFO:azure.eventhub:Received event from partition 1\n",
      "INFO:azure.eventhub:Received event from partition 1\n",
      "INFO:azure.eventhub:Received event from partition 1\n"
     ]
    },
    {
     "name": "stdout",
     "output_type": "stream",
     "text": [
      "\n",
      "Message received:\n",
      "    Data: <<{'messageCount': 454, 'humidity': 52, 'temperature': 23, 'timestamp': '2022-04-24\\n17:30:50'}>>\n",
      "\n",
      "Message received:\n",
      "    Data: <<{'messageCount': 455, 'humidity': 52, 'temperature': 23, 'timestamp': '2022-04-24\\n17:30:51'}>>\n",
      "\n",
      "Message received:\n",
      "    Data: <<{'messageCount': 457, 'humidity': 52, 'temperature': 23, 'timestamp': '2022-04-24\\n17:30:53'}>>\n"
     ]
    },
    {
     "name": "stderr",
     "output_type": "stream",
     "text": [
      "INFO:azure.eventhub:Received event from partition 1\n",
      "INFO:azure.eventhub:Received event from partition 1\n",
      "INFO:azure.eventhub:Received event from partition 1\n"
     ]
    },
    {
     "name": "stdout",
     "output_type": "stream",
     "text": [
      "\n",
      "Message received:\n",
      "    Data: <<{'messageCount': 456, 'humidity': 52, 'temperature': 23, 'timestamp': '2022-04-24\\n17:30:52'}>>\n",
      "\n",
      "Message received:\n",
      "    Data: <<{'messageCount': 458, 'humidity': 52, 'temperature': 23, 'timestamp': '2022-04-24\\n17:30:55'}>>\n",
      "\n",
      "Message received:\n",
      "    Data: <<{'messageCount': 459, 'humidity': 52, 'temperature': 23, 'timestamp': '2022-04-24\\n17:30:56'}>>\n"
     ]
    },
    {
     "name": "stderr",
     "output_type": "stream",
     "text": [
      "INFO:azure.eventhub:Received event from partition 1\n",
      "INFO:azure.eventhub:Received event from partition 1\n",
      "INFO:azure.eventhub:Received event from partition 1\n"
     ]
    },
    {
     "name": "stdout",
     "output_type": "stream",
     "text": [
      "\n",
      "Message received:\n",
      "    Data: <<{'messageCount': 460, 'humidity': 52, 'temperature': 23, 'timestamp': '2022-04-24\\n17:30:57'}>>\n",
      "\n",
      "Message received:\n",
      "    Data: <<{'messageCount': 461, 'humidity': 52, 'temperature': 23, 'timestamp': '2022-04-24\\n17:30:58'}>>\n",
      "\n",
      "Message received:\n",
      "    Data: <<{'messageCount': 462, 'humidity': 52, 'temperature': 23, 'timestamp': '2022-04-24\\n17:30:59'}>>\n"
     ]
    },
    {
     "name": "stderr",
     "output_type": "stream",
     "text": [
      "INFO:azure.eventhub:Received event from partition 1\n",
      "INFO:azure.eventhub:Received event from partition 1\n",
      "INFO:azure.eventhub:Received event from partition 1\n"
     ]
    },
    {
     "name": "stdout",
     "output_type": "stream",
     "text": [
      "\n",
      "Message received:\n",
      "    Data: <<{'messageCount': 463, 'humidity': 52, 'temperature': 23, 'timestamp': '2022-04-24\\n17:31:00'}>>\n",
      "\n",
      "Message received:\n",
      "    Data: <<{'messageCount': 464, 'humidity': 52, 'temperature': 23, 'timestamp': '2022-04-24\\n17:31:02'}>>\n",
      "\n",
      "Message received:\n",
      "    Data: <<{'messageCount': 465, 'humidity': 52, 'temperature': 23, 'timestamp': '2022-04-24\\n17:31:03'}>>\n",
      "\n",
      "Message received:\n",
      "    Data: <<{'messageCount': 466, 'humidity': 52, 'temperature': 23, 'timestamp': '2022-04-24\\n17:31:04'}>>\n"
     ]
    },
    {
     "name": "stderr",
     "output_type": "stream",
     "text": [
      "INFO:azure.eventhub:Received event from partition 1\n",
      "INFO:azure.eventhub:Received event from partition 1\n",
      "INFO:azure.eventhub:Received event from partition 1\n",
      "INFO:azure.eventhub:Received event from partition 1\n"
     ]
    },
    {
     "name": "stdout",
     "output_type": "stream",
     "text": [
      "\n",
      "Message received:\n",
      "    Data: <<{'messageCount': 467, 'humidity': 52, 'temperature': 23, 'timestamp': '2022-04-24\\n17:31:05'}>>\n",
      "\n",
      "Message received:\n",
      "    Data: <<{'messageCount': 468, 'humidity': 52, 'temperature': 23, 'timestamp': '2022-04-24\\n17:31:06'}>>\n",
      "\n",
      "Message received:\n",
      "    Data: <<{'messageCount': 469, 'humidity': 52, 'temperature': 23, 'timestamp': '2022-04-24\\n17:31:07'}>>\n"
     ]
    },
    {
     "name": "stderr",
     "output_type": "stream",
     "text": [
      "INFO:azure.eventhub:Received event from partition 1\n",
      "INFO:azure.eventhub:Received event from partition 1\n",
      "INFO:azure.eventhub:Received event from partition 1\n"
     ]
    },
    {
     "name": "stdout",
     "output_type": "stream",
     "text": [
      "\n",
      "Message received:\n",
      "    Data: <<{'messageCount': 470, 'humidity': 52, 'temperature': 23, 'timestamp': '2022-04-24\\n17:31:09'}>>\n",
      "\n",
      "Message received:\n",
      "    Data: <<{'messageCount': 471, 'humidity': 52, 'temperature': 23, 'timestamp': '2022-04-24\\n17:31:10'}>>\n",
      "\n",
      "Message received:\n",
      "    Data: <<{'messageCount': 472, 'humidity': 52, 'temperature': 23, 'timestamp': '2022-04-24\\n17:31:11'}>>\n"
     ]
    },
    {
     "name": "stderr",
     "output_type": "stream",
     "text": [
      "INFO:azure.eventhub:Received event from partition 1\n",
      "INFO:azure.eventhub:Received event from partition 1\n",
      "INFO:azure.eventhub:Received event from partition 1\n"
     ]
    },
    {
     "name": "stdout",
     "output_type": "stream",
     "text": [
      "\n",
      "Message received:\n",
      "    Data: <<{'messageCount': 473, 'humidity': 52, 'temperature': 23, 'timestamp': '2022-04-24\\n17:31:12'}>>\n",
      "\n",
      "Message received:\n",
      "    Data: <<{'messageCount': 474, 'humidity': 52, 'temperature': 23, 'timestamp': '2022-04-24\\n17:31:13'}>>\n",
      "\n",
      "Message received:\n",
      "    Data: <<{'messageCount': 475, 'humidity': 52, 'temperature': 23, 'timestamp': '2022-04-24\\n17:31:14'}>>\n"
     ]
    },
    {
     "name": "stderr",
     "output_type": "stream",
     "text": [
      "INFO:azure.eventhub:Received event from partition 1\n",
      "INFO:azure.eventhub:Received event from partition 1\n",
      "INFO:azure.eventhub:Received event from partition 1\n"
     ]
    },
    {
     "name": "stdout",
     "output_type": "stream",
     "text": [
      "\n",
      "Message received:\n",
      "    Data: <<{'messageCount': 476, 'humidity': 52, 'temperature': 23, 'timestamp': '2022-04-24\\n17:31:16'}>>\n",
      "\n",
      "Message received:\n",
      "    Data: <<{'messageCount': 477, 'humidity': 52, 'temperature': 23, 'timestamp': '2022-04-24\\n17:31:17'}>>\n",
      "\n",
      "Message received:\n",
      "    Data: <<{'messageCount': 478, 'humidity': 51, 'temperature': 23, 'timestamp': '2022-04-24\\n17:31:18'}>>\n"
     ]
    },
    {
     "name": "stderr",
     "output_type": "stream",
     "text": [
      "INFO:azure.eventhub:Received event from partition 1\n",
      "INFO:azure.eventhub:Received event from partition 1\n",
      "INFO:azure.eventhub:Received event from partition 1\n"
     ]
    },
    {
     "name": "stdout",
     "output_type": "stream",
     "text": [
      "\n",
      "Message received:\n",
      "    Data: <<{'messageCount': 479, 'humidity': 51, 'temperature': 23, 'timestamp': '2022-04-24\\n17:31:19'}>>\n",
      "\n",
      "Message received:\n",
      "    Data: <<{'messageCount': 480, 'humidity': 51, 'temperature': 23, 'timestamp': '2022-04-24\\n17:31:20'}>>\n",
      "\n",
      "Message received:\n",
      "    Data: <<{'messageCount': 481, 'humidity': 51, 'temperature': 23, 'timestamp': '2022-04-24\\n17:31:21'}>>\n",
      "\n",
      "Message received:\n",
      "    Data: <<{'messageCount': 482, 'humidity': 51, 'temperature': 23, 'timestamp': '2022-04-24\\n17:31:22'}>>\n"
     ]
    },
    {
     "name": "stderr",
     "output_type": "stream",
     "text": [
      "INFO:azure.eventhub:Received event from partition 1\n",
      "INFO:azure.eventhub:Received event from partition 1\n",
      "INFO:azure.eventhub:Received event from partition 1\n",
      "INFO:azure.eventhub:Received event from partition 1\n"
     ]
    },
    {
     "name": "stdout",
     "output_type": "stream",
     "text": [
      "\n",
      "Message received:\n",
      "    Data: <<{'messageCount': 483, 'humidity': 51, 'temperature': 23, 'timestamp': '2022-04-24\\n17:31:23'}>>\n",
      "\n",
      "Message received:\n",
      "    Data: <<{'messageCount': 484, 'humidity': 51, 'temperature': 23, 'timestamp': '2022-04-24\\n17:31:25'}>>\n",
      "\n",
      "Message received:\n",
      "    Data: <<{'messageCount': 485, 'humidity': 51, 'temperature': 23, 'timestamp': '2022-04-24\\n17:31:26'}>>\n"
     ]
    },
    {
     "name": "stderr",
     "output_type": "stream",
     "text": [
      "INFO:azure.eventhub:Received event from partition 1\n",
      "INFO:azure.eventhub:Received event from partition 1\n",
      "INFO:azure.eventhub:Received event from partition 1\n"
     ]
    },
    {
     "name": "stdout",
     "output_type": "stream",
     "text": [
      "\n",
      "Message received:\n",
      "    Data: <<{'messageCount': 486, 'humidity': 51, 'temperature': 23, 'timestamp': '2022-04-24\\n17:31:28'}>>\n",
      "\n",
      "Message received:\n",
      "    Data: <<{'messageCount': 487, 'humidity': 51, 'temperature': 23, 'timestamp': '2022-04-24\\n17:31:30'}>>\n",
      "\n",
      "Message received:\n",
      "    Data: <<{'messageCount': 488, 'humidity': 51, 'temperature': 23, 'timestamp': '2022-04-24\\n17:31:31'}>>\n"
     ]
    },
    {
     "name": "stderr",
     "output_type": "stream",
     "text": [
      "INFO:azure.eventhub:Received event from partition 1\n",
      "INFO:azure.eventhub:Received event from partition 1\n",
      "INFO:azure.eventhub:Received event from partition 1\n"
     ]
    },
    {
     "name": "stdout",
     "output_type": "stream",
     "text": [
      "\n",
      "Message received:\n",
      "    Data: <<{'messageCount': 489, 'humidity': 51, 'temperature': 23, 'timestamp': '2022-04-24\\n17:31:32'}>>\n",
      "\n",
      "Message received:\n",
      "    Data: <<{'messageCount': 490, 'humidity': 51, 'temperature': 23, 'timestamp': '2022-04-24\\n17:31:33'}>>\n",
      "\n",
      "Message received:\n",
      "    Data: <<{'messageCount': 492, 'humidity': 51, 'temperature': 23, 'timestamp': '2022-04-24\\n17:31:35'}>>\n"
     ]
    },
    {
     "name": "stderr",
     "output_type": "stream",
     "text": [
      "INFO:azure.eventhub:Received event from partition 1\n",
      "INFO:azure.eventhub:Received event from partition 1\n",
      "INFO:azure.eventhub:Received event from partition 1\n"
     ]
    },
    {
     "name": "stdout",
     "output_type": "stream",
     "text": [
      "\n",
      "Message received:\n",
      "    Data: <<{'messageCount': 491, 'humidity': 51, 'temperature': 23, 'timestamp': '2022-04-24\\n17:31:34'}>>\n",
      "\n",
      "Message received:\n",
      "    Data: <<{'messageCount': 493, 'humidity': 51, 'temperature': 23, 'timestamp': '2022-04-24\\n17:31:36'}>>\n",
      "\n",
      "Message received:\n",
      "    Data: <<{'messageCount': 494, 'humidity': 51, 'temperature': 23, 'timestamp': '2022-04-24\\n17:31:38'}>>\n"
     ]
    },
    {
     "name": "stderr",
     "output_type": "stream",
     "text": [
      "INFO:azure.eventhub:Received event from partition 1\n",
      "INFO:azure.eventhub:Received event from partition 1\n",
      "INFO:azure.eventhub:Received event from partition 1\n"
     ]
    },
    {
     "name": "stdout",
     "output_type": "stream",
     "text": [
      "\n",
      "Message received:\n",
      "    Data: <<{'messageCount': 495, 'humidity': 51, 'temperature': 23, 'timestamp': '2022-04-24\\n17:31:39'}>>\n",
      "\n",
      "Message received:\n",
      "    Data: <<{'messageCount': 496, 'humidity': 51, 'temperature': 23, 'timestamp': '2022-04-24\\n17:31:40'}>>\n",
      "\n",
      "Message received:\n",
      "    Data: <<{'messageCount': 497, 'humidity': 51, 'temperature': 23, 'timestamp': '2022-04-24\\n17:31:41'}>>\n",
      "\n",
      "Message received:\n",
      "    Data: <<{'messageCount': 498, 'humidity': 52, 'temperature': 23, 'timestamp': '2022-04-24\\n17:31:42'}>>\n"
     ]
    },
    {
     "name": "stderr",
     "output_type": "stream",
     "text": [
      "INFO:azure.eventhub:Received event from partition 1\n",
      "INFO:azure.eventhub:Received event from partition 1\n",
      "INFO:azure.eventhub:Received event from partition 1\n",
      "INFO:azure.eventhub:Received event from partition 1\n"
     ]
    },
    {
     "name": "stdout",
     "output_type": "stream",
     "text": [
      "\n",
      "Message received:\n",
      "    Data: <<{'messageCount': 499, 'humidity': 52, 'temperature': 23, 'timestamp': '2022-04-24\\n17:31:43'}>>\n",
      "\n",
      "Message received:\n",
      "    Data: <<{'messageCount': 501, 'humidity': 52, 'temperature': 23, 'timestamp': '2022-04-24\\n17:31:46'}>>\n",
      "\n",
      "Message received:\n",
      "    Data: <<{'messageCount': 500, 'humidity': 52, 'temperature': 23, 'timestamp': '2022-04-24\\n17:31:45'}>>\n"
     ]
    },
    {
     "name": "stderr",
     "output_type": "stream",
     "text": [
      "INFO:azure.eventhub:Received event from partition 1\n",
      "INFO:azure.eventhub:Received event from partition 1\n",
      "INFO:azure.eventhub:Received event from partition 1\n"
     ]
    },
    {
     "name": "stdout",
     "output_type": "stream",
     "text": [
      "\n",
      "Message received:\n",
      "    Data: <<{'messageCount': 502, 'humidity': 52, 'temperature': 23, 'timestamp': '2022-04-24\\n17:31:47'}>>\n",
      "\n",
      "Message received:\n",
      "    Data: <<{'messageCount': 504, 'humidity': 52, 'temperature': 23, 'timestamp': '2022-04-24\\n17:31:49'}>>\n",
      "\n",
      "Message received:\n",
      "    Data: <<{'messageCount': 503, 'humidity': 52, 'temperature': 23, 'timestamp': '2022-04-24\\n17:31:48'}>>\n"
     ]
    },
    {
     "name": "stderr",
     "output_type": "stream",
     "text": [
      "INFO:azure.eventhub:Received event from partition 1\n",
      "INFO:azure.eventhub:Received event from partition 1\n",
      "INFO:azure.eventhub:Received event from partition 1\n"
     ]
    },
    {
     "name": "stdout",
     "output_type": "stream",
     "text": [
      "\n",
      "Message received:\n",
      "    Data: <<{'messageCount': 505, 'humidity': 52, 'temperature': 23, 'timestamp': '2022-04-24\\n17:31:50'}>>\n",
      "\n",
      "Message received:\n",
      "    Data: <<{'messageCount': 506, 'humidity': 52, 'temperature': 23, 'timestamp': '2022-04-24\\n17:31:52'}>>\n",
      "\n",
      "Message received:\n",
      "    Data: <<{'messageCount': 507, 'humidity': 52, 'temperature': 23, 'timestamp': '2022-04-24\\n17:31:53'}>>\n"
     ]
    },
    {
     "name": "stderr",
     "output_type": "stream",
     "text": [
      "INFO:azure.eventhub:Received event from partition 1\n",
      "INFO:azure.eventhub:Received event from partition 1\n",
      "INFO:azure.eventhub:Received event from partition 1\n"
     ]
    },
    {
     "name": "stdout",
     "output_type": "stream",
     "text": [
      "\n",
      "Message received:\n",
      "    Data: <<{'messageCount': 508, 'humidity': 52, 'temperature': 23, 'timestamp': '2022-04-24\\n17:31:54'}>>\n",
      "\n",
      "Message received:\n",
      "    Data: <<{'messageCount': 509, 'humidity': 52, 'temperature': 23, 'timestamp': '2022-04-24\\n17:31:55'}>>\n",
      "\n",
      "Message received:\n",
      "    Data: <<{'messageCount': 510, 'humidity': 52, 'temperature': 23, 'timestamp': '2022-04-24\\n17:31:56'}>>\n"
     ]
    },
    {
     "name": "stderr",
     "output_type": "stream",
     "text": [
      "INFO:azure.eventhub:Received event from partition 1\n",
      "INFO:azure.eventhub:Received event from partition 1\n",
      "INFO:azure.eventhub:Received event from partition 1\n"
     ]
    },
    {
     "name": "stdout",
     "output_type": "stream",
     "text": [
      "\n",
      "Message received:\n",
      "    Data: <<{'messageCount': 511, 'humidity': 52, 'temperature': 23, 'timestamp': '2022-04-24\\n17:31:57'}>>\n",
      "\n",
      "Message received:\n",
      "    Data: <<{'messageCount': 512, 'humidity': 52, 'temperature': 23, 'timestamp': '2022-04-24\\n17:31:58'}>>\n",
      "\n",
      "Message received:\n",
      "    Data: <<{'messageCount': 513, 'humidity': 52, 'temperature': 23, 'timestamp': '2022-04-24\\n17:31:59'}>>\n",
      "\n",
      "Message received:\n",
      "    Data: <<{'messageCount': 514, 'humidity': 52, 'temperature': 23, 'timestamp': '2022-04-24\\n17:32:01'}>>\n"
     ]
    },
    {
     "name": "stderr",
     "output_type": "stream",
     "text": [
      "INFO:azure.eventhub:Received event from partition 1\n",
      "INFO:azure.eventhub:Received event from partition 1\n",
      "INFO:azure.eventhub:Received event from partition 1\n",
      "INFO:azure.eventhub:Received event from partition 1\n"
     ]
    },
    {
     "name": "stdout",
     "output_type": "stream",
     "text": [
      "\n",
      "Message received:\n",
      "    Data: <<{'messageCount': 515, 'humidity': 52, 'temperature': 23, 'timestamp': '2022-04-24\\n17:32:02'}>>\n",
      "\n",
      "Message received:\n",
      "    Data: <<{'messageCount': 516, 'humidity': 52, 'temperature': 23, 'timestamp': '2022-04-24\\n17:32:03'}>>\n",
      "\n",
      "Message received:\n",
      "    Data: <<{'messageCount': 517, 'humidity': 52, 'temperature': 23, 'timestamp': '2022-04-24\\n17:32:04'}>>\n",
      "\n",
      "Message received:\n",
      "    Data: <<{'messageCount': 518, 'humidity': 52, 'temperature': 23, 'timestamp': '2022-04-24\\n17:32:05'}>>\n"
     ]
    },
    {
     "name": "stderr",
     "output_type": "stream",
     "text": [
      "INFO:azure.eventhub:Received event from partition 1\n",
      "INFO:azure.eventhub:Received event from partition 1\n",
      "INFO:azure.eventhub:Received event from partition 1\n",
      "INFO:azure.eventhub:Received event from partition 1\n"
     ]
    },
    {
     "name": "stdout",
     "output_type": "stream",
     "text": [
      "\n",
      "Message received:\n",
      "    Data: <<{'messageCount': 519, 'humidity': 52, 'temperature': 23, 'timestamp': '2022-04-24\\n17:32:06'}>>\n",
      "\n",
      "Message received:\n",
      "    Data: <<{'messageCount': 520, 'humidity': 52, 'temperature': 23, 'timestamp': '2022-04-24\\n17:32:08'}>>\n",
      "\n",
      "Message received:\n",
      "    Data: <<{'messageCount': 521, 'humidity': 52, 'temperature': 23, 'timestamp': '2022-04-24\\n17:32:09'}>>\n"
     ]
    },
    {
     "name": "stderr",
     "output_type": "stream",
     "text": [
      "INFO:azure.eventhub:Received event from partition 1\n",
      "INFO:azure.eventhub:Received event from partition 1\n",
      "INFO:azure.eventhub:Received event from partition 1\n"
     ]
    },
    {
     "name": "stdout",
     "output_type": "stream",
     "text": [
      "\n",
      "Message received:\n",
      "    Data: <<{'messageCount': 522, 'humidity': 52, 'temperature': 23, 'timestamp': '2022-04-24\\n17:32:10'}>>\n",
      "\n",
      "Message received:\n",
      "    Data: <<{'messageCount': 523, 'humidity': 52, 'temperature': 23, 'timestamp': '2022-04-24\\n17:32:11'}>>\n",
      "\n",
      "Message received:\n",
      "    Data: <<{'messageCount': 524, 'humidity': 52, 'temperature': 23, 'timestamp': '2022-04-24\\n17:32:12'}>>\n"
     ]
    },
    {
     "name": "stderr",
     "output_type": "stream",
     "text": [
      "INFO:azure.eventhub:Received event from partition 1\n",
      "INFO:azure.eventhub:Received event from partition 1\n",
      "INFO:azure.eventhub:Received event from partition 1\n"
     ]
    },
    {
     "name": "stdout",
     "output_type": "stream",
     "text": [
      "\n",
      "Message received:\n",
      "    Data: <<{'messageCount': 525, 'humidity': 52, 'temperature': 23, 'timestamp': '2022-04-24\\n17:32:13'}>>\n",
      "\n",
      "Message received:\n",
      "    Data: <<{'messageCount': 526, 'humidity': 52, 'temperature': 23, 'timestamp': '2022-04-24\\n17:32:15'}>>\n",
      "\n",
      "Message received:\n",
      "    Data: <<{'messageCount': 527, 'humidity': 52, 'temperature': 23, 'timestamp': '2022-04-24\\n17:32:16'}>>\n"
     ]
    },
    {
     "name": "stderr",
     "output_type": "stream",
     "text": [
      "INFO:azure.eventhub:Received event from partition 1\n",
      "INFO:azure.eventhub:Received event from partition 1\n",
      "INFO:azure.eventhub:Received event from partition 1\n"
     ]
    },
    {
     "name": "stdout",
     "output_type": "stream",
     "text": [
      "\n",
      "Message received:\n",
      "    Data: <<{'messageCount': 528, 'humidity': 52, 'temperature': 23, 'timestamp': '2022-04-24\\n17:32:17'}>>\n",
      "\n",
      "Message received:\n",
      "    Data: <<{'messageCount': 529, 'humidity': 52, 'temperature': 23, 'timestamp': '2022-04-24\\n17:32:18'}>>\n",
      "\n",
      "Message received:\n",
      "    Data: <<{'messageCount': 530, 'humidity': 52, 'temperature': 23, 'timestamp': '2022-04-24\\n17:32:19'}>>\n"
     ]
    },
    {
     "name": "stderr",
     "output_type": "stream",
     "text": [
      "INFO:azure.eventhub:Received event from partition 1\n",
      "INFO:azure.eventhub:Received event from partition 1\n",
      "INFO:azure.eventhub:Received event from partition 1\n"
     ]
    },
    {
     "name": "stdout",
     "output_type": "stream",
     "text": [
      "\n",
      "Message received:\n",
      "    Data: <<{'messageCount': 531, 'humidity': 52, 'temperature': 23, 'timestamp': '2022-04-24\\n17:32:20'}>>\n",
      "\n",
      "Message received:\n",
      "    Data: <<{'messageCount': 532, 'humidity': 52, 'temperature': 23, 'timestamp': '2022-04-24\\n17:32:22'}>>\n",
      "\n",
      "Message received:\n",
      "    Data: <<{'messageCount': 533, 'humidity': 52, 'temperature': 23, 'timestamp': '2022-04-24\\n17:32:23'}>>\n"
     ]
    },
    {
     "name": "stderr",
     "output_type": "stream",
     "text": [
      "INFO:azure.eventhub:Received event from partition 1\n",
      "INFO:azure.eventhub:Received event from partition 1\n",
      "INFO:azure.eventhub:Received event from partition 1\n"
     ]
    },
    {
     "name": "stdout",
     "output_type": "stream",
     "text": [
      "\n",
      "Message received:\n",
      "    Data: <<{'messageCount': 534, 'humidity': 52, 'temperature': 23, 'timestamp': '2022-04-24\\n17:32:24'}>>\n",
      "\n",
      "Message received:\n",
      "    Data: <<{'messageCount': 535, 'humidity': 52, 'temperature': 23, 'timestamp': '2022-04-24\\n17:32:25'}>>\n",
      "\n",
      "Message received:\n",
      "    Data: <<{'messageCount': 536, 'humidity': 52, 'temperature': 23, 'timestamp': '2022-04-24\\n17:32:27'}>>\n"
     ]
    },
    {
     "name": "stderr",
     "output_type": "stream",
     "text": [
      "INFO:azure.eventhub:Received event from partition 1\n",
      "INFO:azure.eventhub:Received event from partition 1\n",
      "INFO:azure.eventhub:Received event from partition 1\n"
     ]
    },
    {
     "name": "stdout",
     "output_type": "stream",
     "text": [
      "\n",
      "Message received:\n",
      "    Data: <<{'messageCount': 537, 'humidity': 52, 'temperature': 23, 'timestamp': '2022-04-24\\n17:32:28'}>>\n",
      "\n",
      "Message received:\n",
      "    Data: <<{'messageCount': 538, 'humidity': 52, 'temperature': 23, 'timestamp': '2022-04-24\\n17:32:29'}>>\n",
      "\n",
      "Message received:\n",
      "    Data: <<{'messageCount': 539, 'humidity': 52, 'temperature': 23, 'timestamp': '2022-04-24\\n17:32:30'}>>\n"
     ]
    },
    {
     "name": "stderr",
     "output_type": "stream",
     "text": [
      "INFO:azure.eventhub:Received event from partition 1\n",
      "INFO:azure.eventhub:Received event from partition 1\n",
      "INFO:azure.eventhub:Received event from partition 1\n"
     ]
    },
    {
     "name": "stdout",
     "output_type": "stream",
     "text": [
      "\n",
      "Message received:\n",
      "    Data: <<{'messageCount': 540, 'humidity': 52, 'temperature': 23, 'timestamp': '2022-04-24\\n17:32:31'}>>\n",
      "\n",
      "Message received:\n",
      "    Data: <<{'messageCount': 541, 'humidity': 52, 'temperature': 23, 'timestamp': '2022-04-24\\n17:32:32'}>>\n",
      "\n",
      "Message received:\n",
      "    Data: <<{'messageCount': 542, 'humidity': 52, 'temperature': 23, 'timestamp': '2022-04-24\\n17:32:34'}>>\n",
      "\n",
      "Message received:\n",
      "    Data: <<{'messageCount': 544, 'humidity': 52, 'temperature': 23, 'timestamp': '2022-04-24\\n17:32:36'}>>\n"
     ]
    },
    {
     "name": "stderr",
     "output_type": "stream",
     "text": [
      "INFO:azure.eventhub:Received event from partition 1\n",
      "INFO:azure.eventhub:Received event from partition 1\n",
      "INFO:azure.eventhub:Received event from partition 1\n",
      "INFO:azure.eventhub:Received event from partition 1\n"
     ]
    },
    {
     "name": "stdout",
     "output_type": "stream",
     "text": [
      "\n",
      "Message received:\n",
      "    Data: <<{'messageCount': 543, 'humidity': 52, 'temperature': 23, 'timestamp': '2022-04-24\\n17:32:35'}>>\n",
      "\n",
      "Message received:\n",
      "    Data: <<{'messageCount': 545, 'humidity': 52, 'temperature': 23, 'timestamp': '2022-04-24\\n17:32:37'}>>\n",
      "\n",
      "Message received:\n",
      "    Data: <<{'messageCount': 546, 'humidity': 52, 'temperature': 23, 'timestamp': '2022-04-24\\n17:32:39'}>>\n"
     ]
    },
    {
     "name": "stderr",
     "output_type": "stream",
     "text": [
      "INFO:azure.eventhub:Received event from partition 1\n",
      "INFO:azure.eventhub:Received event from partition 1\n",
      "INFO:azure.eventhub:Received event from partition 1\n"
     ]
    },
    {
     "name": "stdout",
     "output_type": "stream",
     "text": [
      "\n",
      "Message received:\n",
      "    Data: <<{'messageCount': 547, 'humidity': 52, 'temperature': 23, 'timestamp': '2022-04-24\\n17:32:40'}>>\n",
      "\n",
      "Message received:\n",
      "    Data: <<{'messageCount': 548, 'humidity': 52, 'temperature': 23, 'timestamp': '2022-04-24\\n17:32:41'}>>\n",
      "\n",
      "Message received:\n",
      "    Data: <<{'messageCount': 549, 'humidity': 52, 'temperature': 23, 'timestamp': '2022-04-24\\n17:32:42'}>>\n"
     ]
    },
    {
     "name": "stderr",
     "output_type": "stream",
     "text": [
      "INFO:azure.eventhub:Received event from partition 1\n",
      "INFO:azure.eventhub:Received event from partition 1\n",
      "INFO:azure.eventhub:Received event from partition 1\n"
     ]
    },
    {
     "name": "stdout",
     "output_type": "stream",
     "text": [
      "\n",
      "Message received:\n",
      "    Data: <<{'messageCount': 550, 'humidity': 52, 'temperature': 23, 'timestamp': '2022-04-24\\n17:32:43'}>>\n",
      "\n",
      "Message received:\n",
      "    Data: <<{'messageCount': 551, 'humidity': 52, 'temperature': 23, 'timestamp': '2022-04-24\\n17:32:44'}>>\n",
      "\n",
      "Message received:\n",
      "    Data: <<{'messageCount': 552, 'humidity': 52, 'temperature': 23, 'timestamp': '2022-04-24\\n17:32:46'}>>\n"
     ]
    },
    {
     "name": "stderr",
     "output_type": "stream",
     "text": [
      "INFO:azure.eventhub:Received event from partition 1\n",
      "INFO:azure.eventhub:Received event from partition 1\n",
      "INFO:azure.eventhub:Received event from partition 1\n"
     ]
    },
    {
     "name": "stdout",
     "output_type": "stream",
     "text": [
      "\n",
      "Message received:\n",
      "    Data: <<{'messageCount': 553, 'humidity': 52, 'temperature': 23, 'timestamp': '2022-04-24\\n17:32:47'}>>\n",
      "\n",
      "Message received:\n",
      "    Data: <<{'messageCount': 554, 'humidity': 52, 'temperature': 23, 'timestamp': '2022-04-24\\n17:32:48'}>>\n",
      "\n",
      "Message received:\n",
      "    Data: <<{'messageCount': 555, 'humidity': 52, 'temperature': 23, 'timestamp': '2022-04-24\\n17:32:49'}>>\n"
     ]
    },
    {
     "name": "stderr",
     "output_type": "stream",
     "text": [
      "INFO:azure.eventhub:Received event from partition 1\n",
      "INFO:azure.eventhub:Received event from partition 1\n",
      "INFO:azure.eventhub:Received event from partition 1\n"
     ]
    },
    {
     "name": "stdout",
     "output_type": "stream",
     "text": [
      "\n",
      "Message received:\n",
      "    Data: <<{'messageCount': 556, 'humidity': 52, 'temperature': 23, 'timestamp': '2022-04-24\\n17:32:50'}>>\n",
      "\n",
      "Message received:\n",
      "    Data: <<{'messageCount': 557, 'humidity': 52, 'temperature': 23, 'timestamp': '2022-04-24\\n17:32:51'}>>\n",
      "\n",
      "Message received:\n",
      "    Data: <<{'messageCount': 558, 'humidity': 52, 'temperature': 23, 'timestamp': '2022-04-24\\n17:32:52'}>>\n"
     ]
    },
    {
     "name": "stderr",
     "output_type": "stream",
     "text": [
      "INFO:azure.eventhub:Received event from partition 1\n",
      "INFO:azure.eventhub:Received event from partition 1\n",
      "INFO:azure.eventhub:Received event from partition 1\n"
     ]
    },
    {
     "name": "stdout",
     "output_type": "stream",
     "text": [
      "\n",
      "Message received:\n",
      "    Data: <<{'messageCount': 559, 'humidity': 52, 'temperature': 23, 'timestamp': '2022-04-24\\n17:32:54'}>>\n",
      "\n",
      "Message received:\n",
      "    Data: <<{'messageCount': 560, 'humidity': 52, 'temperature': 23, 'timestamp': '2022-04-24\\n17:32:55'}>>\n",
      "\n",
      "Message received:\n",
      "    Data: <<{'messageCount': 561, 'humidity': 52, 'temperature': 23, 'timestamp': '2022-04-24\\n17:32:56'}>>\n",
      "\n",
      "Message received:\n",
      "    Data: <<{'messageCount': 562, 'humidity': 52, 'temperature': 23, 'timestamp': '2022-04-24\\n17:32:57'}>>\n"
     ]
    },
    {
     "name": "stderr",
     "output_type": "stream",
     "text": [
      "INFO:azure.eventhub:Received event from partition 1\n",
      "INFO:azure.eventhub:Received event from partition 1\n",
      "INFO:azure.eventhub:Received event from partition 1\n",
      "INFO:azure.eventhub:Received event from partition 1\n"
     ]
    },
    {
     "name": "stdout",
     "output_type": "stream",
     "text": [
      "\n",
      "Message received:\n",
      "    Data: <<{'messageCount': 563, 'humidity': 52, 'temperature': 23, 'timestamp': '2022-04-24\\n17:32:58'}>>\n",
      "\n",
      "Message received:\n",
      "    Data: <<{'messageCount': 564, 'humidity': 52, 'temperature': 23, 'timestamp': '2022-04-24\\n17:32:59'}>>\n",
      "\n",
      "Message received:\n",
      "    Data: <<{'messageCount': 565, 'humidity': 52, 'temperature': 23, 'timestamp': '2022-04-24\\n17:33:00'}>>\n"
     ]
    },
    {
     "name": "stderr",
     "output_type": "stream",
     "text": [
      "INFO:azure.eventhub:Received event from partition 1\n",
      "INFO:azure.eventhub:Received event from partition 1\n",
      "INFO:azure.eventhub:Received event from partition 1\n"
     ]
    },
    {
     "name": "stdout",
     "output_type": "stream",
     "text": [
      "\n",
      "Message received:\n",
      "    Data: <<{'messageCount': 566, 'humidity': 52, 'temperature': 23, 'timestamp': '2022-04-24\\n17:33:02'}>>\n",
      "\n",
      "Message received:\n",
      "    Data: <<{'messageCount': 567, 'humidity': 52, 'temperature': 23, 'timestamp': '2022-04-24\\n17:33:03'}>>\n",
      "\n",
      "Message received:\n",
      "    Data: <<{'messageCount': 568, 'humidity': 52, 'temperature': 23, 'timestamp': '2022-04-24\\n17:33:04'}>>\n"
     ]
    },
    {
     "name": "stderr",
     "output_type": "stream",
     "text": [
      "INFO:azure.eventhub:Received event from partition 1\n",
      "INFO:azure.eventhub:Received event from partition 1\n",
      "INFO:azure.eventhub:Received event from partition 1\n"
     ]
    },
    {
     "name": "stdout",
     "output_type": "stream",
     "text": [
      "\n",
      "Message received:\n",
      "    Data: <<{'messageCount': 569, 'humidity': 52, 'temperature': 23, 'timestamp': '2022-04-24\\n17:33:05'}>>\n",
      "\n",
      "Message received:\n",
      "    Data: <<{'messageCount': 570, 'humidity': 53, 'temperature': 23, 'timestamp': '2022-04-24\\n17:33:06'}>>\n",
      "\n",
      "Message received:\n",
      "    Data: <<{'messageCount': 571, 'humidity': 53, 'temperature': 23, 'timestamp': '2022-04-24\\n17:33:07'}>>\n"
     ]
    },
    {
     "name": "stderr",
     "output_type": "stream",
     "text": [
      "INFO:azure.eventhub:Received event from partition 1\n",
      "INFO:azure.eventhub:Received event from partition 1\n",
      "INFO:azure.eventhub:Received event from partition 1\n"
     ]
    },
    {
     "name": "stdout",
     "output_type": "stream",
     "text": [
      "\n",
      "Message received:\n",
      "    Data: <<{'messageCount': 572, 'humidity': 53, 'temperature': 23, 'timestamp': '2022-04-24\\n17:33:09'}>>\n",
      "\n",
      "Message received:\n",
      "    Data: <<{'messageCount': 573, 'humidity': 53, 'temperature': 23, 'timestamp': '2022-04-24\\n17:33:10'}>>\n",
      "\n",
      "Message received:\n",
      "    Data: <<{'messageCount': 574, 'humidity': 52, 'temperature': 23, 'timestamp': '2022-04-24\\n17:33:11'}>>\n"
     ]
    },
    {
     "name": "stderr",
     "output_type": "stream",
     "text": [
      "INFO:azure.eventhub:Received event from partition 1\n",
      "INFO:azure.eventhub:Received event from partition 1\n",
      "INFO:azure.eventhub:Received event from partition 1\n"
     ]
    },
    {
     "name": "stdout",
     "output_type": "stream",
     "text": [
      "\n",
      "Message received:\n",
      "    Data: <<{'messageCount': 575, 'humidity': 52, 'temperature': 23, 'timestamp': '2022-04-24\\n17:33:12'}>>\n",
      "\n",
      "Message received:\n",
      "    Data: <<{'messageCount': 576, 'humidity': 52, 'temperature': 23, 'timestamp': '2022-04-24\\n17:33:13'}>>\n",
      "\n",
      "Message received:\n",
      "    Data: <<{'messageCount': 577, 'humidity': 52, 'temperature': 23, 'timestamp': '2022-04-24\\n17:33:14'}>>\n",
      "\n",
      "Message received:\n",
      "    Data: <<{'messageCount': 578, 'humidity': 52, 'temperature': 23, 'timestamp': '2022-04-24\\n17:33:15'}>>\n"
     ]
    },
    {
     "name": "stderr",
     "output_type": "stream",
     "text": [
      "INFO:azure.eventhub:Received event from partition 1\n",
      "INFO:azure.eventhub:Received event from partition 1\n",
      "INFO:azure.eventhub:Received event from partition 1\n"
     ]
    },
    {
     "name": "stdout",
     "output_type": "stream",
     "text": [
      "\n",
      "Message received:\n",
      "    Data: <<{'messageCount': 579, 'humidity': 52, 'temperature': 23, 'timestamp': '2022-04-24\\n17:33:16'}>>\n",
      "\n",
      "Message received:\n",
      "    Data: <<{'messageCount': 580, 'humidity': 52, 'temperature': 23, 'timestamp': '2022-04-24\\n17:33:18'}>>\n",
      "\n",
      "Message received:\n",
      "    Data: <<{'messageCount': 581, 'humidity': 52, 'temperature': 23, 'timestamp': '2022-04-24\\n17:33:19'}>>\n"
     ]
    },
    {
     "name": "stderr",
     "output_type": "stream",
     "text": [
      "INFO:azure.eventhub:Received event from partition 1\n",
      "INFO:azure.eventhub:Received event from partition 1\n",
      "INFO:azure.eventhub:Received event from partition 1\n",
      "INFO:azure.eventhub:Received event from partition 1\n"
     ]
    },
    {
     "name": "stdout",
     "output_type": "stream",
     "text": [
      "\n",
      "Message received:\n",
      "    Data: <<{'messageCount': 582, 'humidity': 52, 'temperature': 23, 'timestamp': '2022-04-24\\n17:33:20'}>>\n",
      "\n",
      "Message received:\n",
      "    Data: <<{'messageCount': 583, 'humidity': 52, 'temperature': 23, 'timestamp': '2022-04-24\\n17:33:21'}>>\n",
      "\n",
      "Message received:\n",
      "    Data: <<{'messageCount': 584, 'humidity': 52, 'temperature': 23, 'timestamp': '2022-04-24\\n17:33:22'}>>\n"
     ]
    },
    {
     "name": "stderr",
     "output_type": "stream",
     "text": [
      "INFO:azure.eventhub:Received event from partition 1\n",
      "INFO:azure.eventhub:Received event from partition 1\n",
      "INFO:azure.eventhub:Received event from partition 1\n"
     ]
    },
    {
     "name": "stdout",
     "output_type": "stream",
     "text": [
      "\n",
      "Message received:\n",
      "    Data: <<{'messageCount': 585, 'humidity': 52, 'temperature': 23, 'timestamp': '2022-04-24\\n17:33:23'}>>\n",
      "\n",
      "Message received:\n",
      "    Data: <<{'messageCount': 586, 'humidity': 52, 'temperature': 23, 'timestamp': '2022-04-24\\n17:33:25'}>>\n",
      "\n",
      "Message received:\n",
      "    Data: <<{'messageCount': 587, 'humidity': 52, 'temperature': 23, 'timestamp': '2022-04-24\\n17:33:26'}>>\n"
     ]
    },
    {
     "name": "stderr",
     "output_type": "stream",
     "text": [
      "INFO:azure.eventhub:Received event from partition 1\n",
      "INFO:azure.eventhub:Received event from partition 1\n",
      "INFO:azure.eventhub:Received event from partition 1\n"
     ]
    },
    {
     "name": "stdout",
     "output_type": "stream",
     "text": [
      "\n",
      "Message received:\n",
      "    Data: <<{'messageCount': 588, 'humidity': 52, 'temperature': 23, 'timestamp': '2022-04-24\\n17:33:27'}>>\n",
      "\n",
      "Message received:\n",
      "    Data: <<{'messageCount': 589, 'humidity': 52, 'temperature': 23, 'timestamp': '2022-04-24\\n17:33:28'}>>\n",
      "\n",
      "Message received:\n",
      "    Data: <<{'messageCount': 591, 'humidity': 52, 'temperature': 23, 'timestamp': '2022-04-24\\n17:33:33'}>>\n"
     ]
    },
    {
     "name": "stderr",
     "output_type": "stream",
     "text": [
      "INFO:azure.eventhub:Received event from partition 1\n",
      "INFO:azure.eventhub:Received event from partition 1\n",
      "INFO:azure.eventhub:Received event from partition 1\n"
     ]
    },
    {
     "name": "stdout",
     "output_type": "stream",
     "text": [
      "\n",
      "Message received:\n",
      "    Data: <<{'messageCount': 592, 'humidity': 52, 'temperature': 23, 'timestamp': '2022-04-24\\n17:33:34'}>>\n",
      "\n",
      "Message received:\n",
      "    Data: <<{'messageCount': 593, 'humidity': 52, 'temperature': 23, 'timestamp': '2022-04-24\\n17:33:35'}>>\n",
      "\n",
      "Message received:\n",
      "    Data: <<{'messageCount': 594, 'humidity': 52, 'temperature': 23, 'timestamp': '2022-04-24\\n17:33:36'}>>\n"
     ]
    },
    {
     "name": "stderr",
     "output_type": "stream",
     "text": [
      "INFO:azure.eventhub:Received event from partition 1\n",
      "INFO:azure.eventhub:Received event from partition 1\n",
      "INFO:azure.eventhub:Received event from partition 1\n"
     ]
    },
    {
     "name": "stdout",
     "output_type": "stream",
     "text": [
      "\n",
      "Message received:\n",
      "    Data: <<{'messageCount': 595, 'humidity': 52, 'temperature': 23, 'timestamp': '2022-04-24\\n17:33:37'}>>\n",
      "\n",
      "Message received:\n",
      "    Data: <<{'messageCount': 596, 'humidity': 52, 'temperature': 23, 'timestamp': '2022-04-24\\n17:33:38'}>>\n",
      "\n",
      "Message received:\n",
      "    Data: <<{'messageCount': 597, 'humidity': 52, 'temperature': 23, 'timestamp': '2022-04-24\\n17:33:39'}>>\n"
     ]
    },
    {
     "name": "stderr",
     "output_type": "stream",
     "text": [
      "INFO:azure.eventhub:Received event from partition 1\n",
      "INFO:azure.eventhub:Received event from partition 1\n",
      "INFO:azure.eventhub:Received event from partition 1\n"
     ]
    },
    {
     "name": "stdout",
     "output_type": "stream",
     "text": [
      "\n",
      "Message received:\n",
      "    Data: <<{'messageCount': 598, 'humidity': 52, 'temperature': 23, 'timestamp': '2022-04-24\\n17:33:40'}>>\n",
      "\n",
      "Message received:\n",
      "    Data: <<{'messageCount': 599, 'humidity': 52, 'temperature': 23, 'timestamp': '2022-04-24\\n17:33:42'}>>\n",
      "\n",
      "Message received:\n",
      "    Data: <<{'messageCount': 600, 'humidity': 52, 'temperature': 23, 'timestamp': '2022-04-24\\n17:33:43'}>>\n"
     ]
    },
    {
     "name": "stderr",
     "output_type": "stream",
     "text": [
      "INFO:azure.eventhub:Received event from partition 1\n",
      "INFO:azure.eventhub:Received event from partition 1\n",
      "INFO:azure.eventhub:Received event from partition 1\n"
     ]
    },
    {
     "name": "stdout",
     "output_type": "stream",
     "text": [
      "\n",
      "Message received:\n",
      "    Data: <<{'messageCount': 601, 'humidity': 52, 'temperature': 23, 'timestamp': '2022-04-24\\n17:33:44'}>>\n",
      "\n",
      "Message received:\n",
      "    Data: <<{'messageCount': 602, 'humidity': 52, 'temperature': 23, 'timestamp': '2022-04-24\\n17:33:45'}>>\n",
      "\n",
      "Message received:\n",
      "    Data: <<{'messageCount': 603, 'humidity': 52, 'temperature': 23, 'timestamp': '2022-04-24\\n17:33:46'}>>\n"
     ]
    },
    {
     "name": "stderr",
     "output_type": "stream",
     "text": [
      "INFO:azure.eventhub:Received event from partition 1\n",
      "INFO:azure.eventhub:Received event from partition 1\n",
      "INFO:azure.eventhub:Received event from partition 1\n"
     ]
    },
    {
     "name": "stdout",
     "output_type": "stream",
     "text": [
      "\n",
      "Message received:\n",
      "    Data: <<{'messageCount': 604, 'humidity': 52, 'temperature': 23, 'timestamp': '2022-04-24\\n17:33:47'}>>\n",
      "\n",
      "Message received:\n",
      "    Data: <<{'messageCount': 605, 'humidity': 52, 'temperature': 23, 'timestamp': '2022-04-24\\n17:33:49'}>>\n",
      "\n",
      "Message received:\n",
      "    Data: <<{'messageCount': 606, 'humidity': 52, 'temperature': 23, 'timestamp': '2022-04-24\\n17:33:50'}>>\n"
     ]
    },
    {
     "name": "stderr",
     "output_type": "stream",
     "text": [
      "INFO:azure.eventhub:Received event from partition 1\n",
      "INFO:azure.eventhub:Received event from partition 1\n",
      "INFO:azure.eventhub:Received event from partition 1\n"
     ]
    },
    {
     "name": "stdout",
     "output_type": "stream",
     "text": [
      "\n",
      "Message received:\n",
      "    Data: <<{'messageCount': 607, 'humidity': 52, 'temperature': 23, 'timestamp': '2022-04-24\\n17:33:50'}>>\n",
      "\n",
      "Message received:\n",
      "    Data: <<{'messageCount': 608, 'humidity': 52, 'temperature': 23, 'timestamp': '2022-04-24\\n17:33:51'}>>\n",
      "\n",
      "Message received:\n",
      "    Data: <<{'messageCount': 609, 'humidity': 52, 'temperature': 23, 'timestamp': '2022-04-24\\n17:33:53'}>>\n"
     ]
    },
    {
     "name": "stderr",
     "output_type": "stream",
     "text": [
      "INFO:azure.eventhub:Received event from partition 1\n",
      "INFO:azure.eventhub:Received event from partition 1\n",
      "INFO:azure.eventhub:Received event from partition 1\n"
     ]
    },
    {
     "name": "stdout",
     "output_type": "stream",
     "text": [
      "\n",
      "Message received:\n",
      "    Data: <<{'messageCount': 610, 'humidity': 52, 'temperature': 23, 'timestamp': '2022-04-24\\n17:33:54'}>>\n",
      "\n",
      "Message received:\n",
      "    Data: <<{'messageCount': 611, 'humidity': 52, 'temperature': 23, 'timestamp': '2022-04-24\\n17:33:55'}>>\n",
      "\n",
      "Message received:\n",
      "    Data: <<{'messageCount': 612, 'humidity': 52, 'temperature': 23, 'timestamp': '2022-04-24\\n17:33:56'}>>\n"
     ]
    },
    {
     "name": "stderr",
     "output_type": "stream",
     "text": [
      "INFO:azure.eventhub:Received event from partition 1\n",
      "INFO:azure.eventhub:Received event from partition 1\n",
      "INFO:azure.eventhub:Received event from partition 1\n"
     ]
    },
    {
     "name": "stdout",
     "output_type": "stream",
     "text": [
      "\n",
      "Message received:\n",
      "    Data: <<{'messageCount': 613, 'humidity': 52, 'temperature': 23, 'timestamp': '2022-04-24\\n17:33:57'}>>\n",
      "\n",
      "Message received:\n",
      "    Data: <<{'messageCount': 614, 'humidity': 52, 'temperature': 23, 'timestamp': '2022-04-24\\n17:33:58'}>>\n",
      "\n",
      "Message received:\n",
      "    Data: <<{'messageCount': 615, 'humidity': 52, 'temperature': 23, 'timestamp': '2022-04-24\\n17:34:00'}>>\n",
      "\n",
      "Message received:\n",
      "    Data: <<{'messageCount': 616, 'humidity': 52, 'temperature': 23, 'timestamp': '2022-04-24\\n17:34:01'}>>\n"
     ]
    },
    {
     "name": "stderr",
     "output_type": "stream",
     "text": [
      "INFO:azure.eventhub:Received event from partition 1\n",
      "INFO:azure.eventhub:Received event from partition 1\n",
      "INFO:azure.eventhub:Received event from partition 1\n",
      "INFO:azure.eventhub:Received event from partition 1\n"
     ]
    },
    {
     "name": "stdout",
     "output_type": "stream",
     "text": [
      "\n",
      "Message received:\n",
      "    Data: <<{'messageCount': 618, 'humidity': 52, 'temperature': 23, 'timestamp': '2022-04-24\\n17:34:03'}>>\n",
      "\n",
      "Message received:\n",
      "    Data: <<{'messageCount': 617, 'humidity': 52, 'temperature': 23, 'timestamp': '2022-04-24\\n17:34:02'}>>\n",
      "\n",
      "Message received:\n",
      "    Data: <<{'messageCount': 619, 'humidity': 52, 'temperature': 23, 'timestamp': '2022-04-24\\n17:34:04'}>>\n"
     ]
    },
    {
     "name": "stderr",
     "output_type": "stream",
     "text": [
      "INFO:azure.eventhub:Received event from partition 1\n",
      "INFO:azure.eventhub:Received event from partition 1\n",
      "INFO:azure.eventhub:Received event from partition 1\n"
     ]
    },
    {
     "name": "stdout",
     "output_type": "stream",
     "text": [
      "\n",
      "Message received:\n",
      "    Data: <<{'messageCount': 620, 'humidity': 52, 'temperature': 23, 'timestamp': '2022-04-24\\n17:34:05'}>>\n",
      "\n",
      "Message received:\n",
      "    Data: <<{'messageCount': 621, 'humidity': 52, 'temperature': 23, 'timestamp': '2022-04-24\\n17:34:07'}>>\n",
      "\n",
      "Message received:\n",
      "    Data: <<{'messageCount': 622, 'humidity': 52, 'temperature': 23, 'timestamp': '2022-04-24\\n17:34:08'}>>\n"
     ]
    },
    {
     "name": "stderr",
     "output_type": "stream",
     "text": [
      "INFO:azure.eventhub:Received event from partition 1\n",
      "INFO:azure.eventhub:Received event from partition 1\n",
      "INFO:azure.eventhub:Received event from partition 1\n"
     ]
    },
    {
     "name": "stdout",
     "output_type": "stream",
     "text": [
      "\n",
      "Message received:\n",
      "    Data: <<{'messageCount': 623, 'humidity': 52, 'temperature': 22, 'timestamp': '2022-04-24\\n17:34:09'}>>\n",
      "\n",
      "Message received:\n",
      "    Data: <<{'messageCount': 624, 'humidity': 52, 'temperature': 22, 'timestamp': '2022-04-24\\n17:34:10'}>>\n",
      "\n",
      "Message received:\n",
      "    Data: <<{'messageCount': 625, 'humidity': 52, 'temperature': 23, 'timestamp': '2022-04-24\\n17:34:11'}>>\n"
     ]
    },
    {
     "name": "stderr",
     "output_type": "stream",
     "text": [
      "INFO:azure.eventhub:Received event from partition 1\n",
      "INFO:azure.eventhub:Received event from partition 1\n",
      "INFO:azure.eventhub:Received event from partition 1\n"
     ]
    },
    {
     "name": "stdout",
     "output_type": "stream",
     "text": [
      "\n",
      "Message received:\n",
      "    Data: <<{'messageCount': 626, 'humidity': 52, 'temperature': 23, 'timestamp': '2022-04-24\\n17:34:12'}>>\n",
      "\n",
      "Message received:\n",
      "    Data: <<{'messageCount': 627, 'humidity': 52, 'temperature': 23, 'timestamp': '2022-04-24\\n17:34:13'}>>\n",
      "\n",
      "Message received:\n",
      "    Data: <<{'messageCount': 628, 'humidity': 52, 'temperature': 23, 'timestamp': '2022-04-24\\n17:34:14'}>>\n"
     ]
    },
    {
     "name": "stderr",
     "output_type": "stream",
     "text": [
      "INFO:azure.eventhub:Received event from partition 1\n",
      "INFO:azure.eventhub:Received event from partition 1\n",
      "INFO:azure.eventhub:Received event from partition 1\n"
     ]
    },
    {
     "name": "stdout",
     "output_type": "stream",
     "text": [
      "\n",
      "Message received:\n",
      "    Data: <<{'messageCount': 629, 'humidity': 52, 'temperature': 23, 'timestamp': '2022-04-24\\n17:34:16'}>>\n",
      "\n",
      "Message received:\n",
      "    Data: <<{'messageCount': 630, 'humidity': 52, 'temperature': 23, 'timestamp': '2022-04-24\\n17:34:17'}>>\n",
      "\n",
      "Message received:\n",
      "    Data: <<{'messageCount': 631, 'humidity': 52, 'temperature': 23, 'timestamp': '2022-04-24\\n17:34:18'}>>\n"
     ]
    },
    {
     "name": "stderr",
     "output_type": "stream",
     "text": [
      "INFO:azure.eventhub:Received event from partition 1\n",
      "INFO:azure.eventhub:Received event from partition 1\n",
      "INFO:azure.eventhub:Received event from partition 1\n"
     ]
    },
    {
     "name": "stdout",
     "output_type": "stream",
     "text": [
      "\n",
      "Message received:\n",
      "    Data: <<{'messageCount': 632, 'humidity': 52, 'temperature': 23, 'timestamp': '2022-04-24\\n17:34:19'}>>\n",
      "\n",
      "Message received:\n",
      "    Data: <<{'messageCount': 633, 'humidity': 52, 'temperature': 23, 'timestamp': '2022-04-24\\n17:34:20'}>>\n",
      "\n",
      "Message received:\n",
      "    Data: <<{'messageCount': 634, 'humidity': 52, 'temperature': 23, 'timestamp': '2022-04-24\\n17:34:21'}>>\n"
     ]
    },
    {
     "name": "stderr",
     "output_type": "stream",
     "text": [
      "INFO:azure.eventhub:Received event from partition 1\n",
      "INFO:azure.eventhub:Received event from partition 1\n",
      "INFO:azure.eventhub:Received event from partition 1\n"
     ]
    },
    {
     "name": "stdout",
     "output_type": "stream",
     "text": [
      "\n",
      "Message received:\n",
      "    Data: <<{'messageCount': 635, 'humidity': 52, 'temperature': 23, 'timestamp': '2022-04-24\\n17:34:23'}>>\n",
      "\n",
      "Message received:\n",
      "    Data: <<{'messageCount': 636, 'humidity': 52, 'temperature': 23, 'timestamp': '2022-04-24\\n17:34:24'}>>\n",
      "\n",
      "Message received:\n",
      "    Data: <<{'messageCount': 637, 'humidity': 52, 'temperature': 23, 'timestamp': '2022-04-24\\n17:34:25'}>>\n",
      "\n",
      "Message received:\n",
      "    Data: <<{'messageCount': 638, 'humidity': 52, 'temperature': 23, 'timestamp': '2022-04-24\\n17:34:26'}>>\n"
     ]
    },
    {
     "name": "stderr",
     "output_type": "stream",
     "text": [
      "INFO:azure.eventhub:Received event from partition 1\n",
      "INFO:azure.eventhub:Received event from partition 1\n",
      "INFO:azure.eventhub:Received event from partition 1\n",
      "INFO:azure.eventhub:Received event from partition 1\n"
     ]
    },
    {
     "name": "stdout",
     "output_type": "stream",
     "text": [
      "\n",
      "Message received:\n",
      "    Data: <<{'messageCount': 639, 'humidity': 52, 'temperature': 23, 'timestamp': '2022-04-24\\n17:34:27'}>>\n",
      "\n",
      "Message received:\n",
      "    Data: <<{'messageCount': 640, 'humidity': 52, 'temperature': 23, 'timestamp': '2022-04-24\\n17:34:28'}>>\n",
      "\n",
      "Message received:\n",
      "    Data: <<{'messageCount': 641, 'humidity': 52, 'temperature': 23, 'timestamp': '2022-04-24\\n17:34:30'}>>\n",
      "\n",
      "Message received:\n",
      "    Data: <<{'messageCount': 642, 'humidity': 52, 'temperature': 23, 'timestamp': '2022-04-24\\n17:34:31'}>>\n"
     ]
    },
    {
     "name": "stderr",
     "output_type": "stream",
     "text": [
      "INFO:azure.eventhub:Received event from partition 1\n",
      "INFO:azure.eventhub:Received event from partition 1\n",
      "INFO:azure.eventhub:Received event from partition 1\n",
      "INFO:azure.eventhub:Received event from partition 1\n"
     ]
    },
    {
     "name": "stdout",
     "output_type": "stream",
     "text": [
      "\n",
      "Message received:\n",
      "    Data: <<{'messageCount': 643, 'humidity': 52, 'temperature': 23, 'timestamp': '2022-04-24\\n17:34:32'}>>\n",
      "\n",
      "Message received:\n",
      "    Data: <<{'messageCount': 644, 'humidity': 52, 'temperature': 23, 'timestamp': '2022-04-24\\n17:34:33'}>>\n",
      "\n",
      "Message received:\n",
      "    Data: <<{'messageCount': 645, 'humidity': 52, 'temperature': 23, 'timestamp': '2022-04-24\\n17:34:34'}>>\n"
     ]
    },
    {
     "name": "stderr",
     "output_type": "stream",
     "text": [
      "INFO:azure.eventhub:Received event from partition 1\n",
      "INFO:azure.eventhub:Received event from partition 1\n",
      "INFO:azure.eventhub:Received event from partition 1\n"
     ]
    },
    {
     "name": "stdout",
     "output_type": "stream",
     "text": [
      "\n",
      "Message received:\n",
      "    Data: <<{'messageCount': 646, 'humidity': 52, 'temperature': 23, 'timestamp': '2022-04-24\\n17:34:35'}>>\n",
      "\n",
      "Message received:\n",
      "    Data: <<{'messageCount': 647, 'humidity': 52, 'temperature': 23, 'timestamp': '2022-04-24\\n17:34:37'}>>\n",
      "\n",
      "Message received:\n",
      "    Data: <<{'messageCount': 648, 'humidity': 52, 'temperature': 23, 'timestamp': '2022-04-24\\n17:34:38'}>>\n"
     ]
    },
    {
     "name": "stderr",
     "output_type": "stream",
     "text": [
      "INFO:azure.eventhub:Received event from partition 1\n",
      "INFO:azure.eventhub:Received event from partition 1\n",
      "INFO:azure.eventhub:Received event from partition 1\n"
     ]
    },
    {
     "name": "stdout",
     "output_type": "stream",
     "text": [
      "\n",
      "Message received:\n",
      "    Data: <<{'messageCount': 649, 'humidity': 52, 'temperature': 23, 'timestamp': '2022-04-24\\n17:34:39'}>>\n",
      "\n",
      "Message received:\n",
      "    Data: <<{'messageCount': 650, 'humidity': 52, 'temperature': 23, 'timestamp': '2022-04-24\\n17:34:40'}>>\n",
      "\n",
      "Message received:\n",
      "    Data: <<{'messageCount': 651, 'humidity': 52, 'temperature': 23, 'timestamp': '2022-04-24\\n17:34:41'}>>\n"
     ]
    },
    {
     "name": "stderr",
     "output_type": "stream",
     "text": [
      "INFO:azure.eventhub:Received event from partition 1\n",
      "INFO:azure.eventhub:Received event from partition 1\n",
      "INFO:azure.eventhub:Received event from partition 1\n"
     ]
    },
    {
     "name": "stdout",
     "output_type": "stream",
     "text": [
      "\n",
      "Message received:\n",
      "    Data: <<{'messageCount': 652, 'humidity': 52, 'temperature': 23, 'timestamp': '2022-04-24\\n17:34:42'}>>\n",
      "\n",
      "Message received:\n",
      "    Data: <<{'messageCount': 653, 'humidity': 52, 'temperature': 23, 'timestamp': '2022-04-24\\n17:34:44'}>>\n",
      "\n",
      "Message received:\n",
      "    Data: <<{'messageCount': 654, 'humidity': 52, 'temperature': 23, 'timestamp': '2022-04-24\\n17:34:45'}>>\n"
     ]
    },
    {
     "name": "stderr",
     "output_type": "stream",
     "text": [
      "INFO:azure.eventhub:Received event from partition 1\n",
      "INFO:azure.eventhub:Received event from partition 1\n",
      "INFO:azure.eventhub:Received event from partition 1\n"
     ]
    },
    {
     "name": "stdout",
     "output_type": "stream",
     "text": [
      "\n",
      "Message received:\n",
      "    Data: <<{'messageCount': 655, 'humidity': 52, 'temperature': 23, 'timestamp': '2022-04-24\\n17:34:46'}>>\n",
      "\n",
      "Message received:\n",
      "    Data: <<{'messageCount': 656, 'humidity': 52, 'temperature': 23, 'timestamp': '2022-04-24\\n17:34:47'}>>\n",
      "\n",
      "Message received:\n",
      "    Data: <<{'messageCount': 657, 'humidity': 52, 'temperature': 23, 'timestamp': '2022-04-24\\n17:34:48'}>>\n"
     ]
    },
    {
     "name": "stderr",
     "output_type": "stream",
     "text": [
      "INFO:azure.eventhub:Received event from partition 1\n",
      "INFO:azure.eventhub:Received event from partition 1\n",
      "INFO:azure.eventhub:Received event from partition 1\n"
     ]
    },
    {
     "name": "stdout",
     "output_type": "stream",
     "text": [
      "\n",
      "Message received:\n",
      "    Data: <<{'messageCount': 658, 'humidity': 52, 'temperature': 23, 'timestamp': '2022-04-24\\n17:34:49'}>>\n",
      "\n",
      "Message received:\n",
      "    Data: <<{'messageCount': 659, 'humidity': 52, 'temperature': 23, 'timestamp': '2022-04-24\\n17:34:51'}>>\n",
      "\n",
      "Message received:\n",
      "    Data: <<{'messageCount': 660, 'humidity': 52, 'temperature': 23, 'timestamp': '2022-04-24\\n17:34:52'}>>\n"
     ]
    },
    {
     "name": "stderr",
     "output_type": "stream",
     "text": [
      "INFO:azure.eventhub:Received event from partition 1\n",
      "INFO:azure.eventhub:Received event from partition 1\n",
      "INFO:azure.eventhub:Received event from partition 1\n"
     ]
    },
    {
     "name": "stdout",
     "output_type": "stream",
     "text": [
      "\n",
      "Message received:\n",
      "    Data: <<{'messageCount': 662, 'humidity': 52, 'temperature': 23, 'timestamp': '2022-04-24\\n17:34:54'}>>\n",
      "\n",
      "Message received:\n",
      "    Data: <<{'messageCount': 661, 'humidity': 52, 'temperature': 23, 'timestamp': '2022-04-24\\n17:34:53'}>>\n",
      "\n",
      "Message received:\n",
      "    Data: <<{'messageCount': 663, 'humidity': 52, 'temperature': 23, 'timestamp': '2022-04-24\\n17:34:55'}>>\n"
     ]
    },
    {
     "name": "stderr",
     "output_type": "stream",
     "text": [
      "INFO:azure.eventhub:Received event from partition 1\n",
      "INFO:azure.eventhub:Received event from partition 1\n",
      "INFO:azure.eventhub:Received event from partition 1\n"
     ]
    },
    {
     "name": "stdout",
     "output_type": "stream",
     "text": [
      "\n",
      "Message received:\n",
      "    Data: <<{'messageCount': 664, 'humidity': 52, 'temperature': 23, 'timestamp': '2022-04-24\\n17:34:56'}>>\n",
      "\n",
      "Message received:\n",
      "    Data: <<{'messageCount': 665, 'humidity': 52, 'temperature': 23, 'timestamp': '2022-04-24\\n17:34:57'}>>\n",
      "\n",
      "Message received:\n",
      "    Data: <<{'messageCount': 666, 'humidity': 52, 'temperature': 23, 'timestamp': '2022-04-24\\n17:34:58'}>>\n",
      "\n",
      "Message received:\n",
      "    Data: <<{'messageCount': 667, 'humidity': 52, 'temperature': 23, 'timestamp': '2022-04-24\\n17:35:00'}>>\n"
     ]
    },
    {
     "name": "stderr",
     "output_type": "stream",
     "text": [
      "INFO:azure.eventhub:Received event from partition 1\n",
      "INFO:azure.eventhub:Received event from partition 1\n",
      "INFO:azure.eventhub:Received event from partition 1\n",
      "INFO:azure.eventhub:Received event from partition 1\n"
     ]
    },
    {
     "name": "stdout",
     "output_type": "stream",
     "text": [
      "\n",
      "Message received:\n",
      "    Data: <<{'messageCount': 668, 'humidity': 52, 'temperature': 23, 'timestamp': '2022-04-24\\n17:35:01'}>>\n",
      "\n",
      "Message received:\n",
      "    Data: <<{'messageCount': 669, 'humidity': 51, 'temperature': 23, 'timestamp': '2022-04-24\\n17:35:02'}>>\n",
      "\n",
      "Message received:\n",
      "    Data: <<{'messageCount': 670, 'humidity': 51, 'temperature': 23, 'timestamp': '2022-04-24\\n17:35:03'}>>\n"
     ]
    },
    {
     "name": "stderr",
     "output_type": "stream",
     "text": [
      "INFO:azure.eventhub:Received event from partition 1\n",
      "INFO:azure.eventhub:Received event from partition 1\n",
      "INFO:azure.eventhub:Received event from partition 1\n"
     ]
    },
    {
     "name": "stdout",
     "output_type": "stream",
     "text": [
      "\n",
      "Message received:\n",
      "    Data: <<{'messageCount': 671, 'humidity': 52, 'temperature': 23, 'timestamp': '2022-04-24\\n17:35:04'}>>\n",
      "\n",
      "Message received:\n",
      "    Data: <<{'messageCount': 672, 'humidity': 52, 'temperature': 23, 'timestamp': '2022-04-24\\n17:35:05'}>>\n",
      "\n",
      "Message received:\n",
      "    Data: <<{'messageCount': 673, 'humidity': 52, 'temperature': 23, 'timestamp': '2022-04-24\\n17:35:07'}>>\n"
     ]
    },
    {
     "name": "stderr",
     "output_type": "stream",
     "text": [
      "INFO:azure.eventhub:Received event from partition 1\n",
      "INFO:azure.eventhub:Received event from partition 1\n",
      "INFO:azure.eventhub:Received event from partition 1\n"
     ]
    },
    {
     "name": "stdout",
     "output_type": "stream",
     "text": [
      "\n",
      "Message received:\n",
      "    Data: <<{'messageCount': 674, 'humidity': 52, 'temperature': 23, 'timestamp': '2022-04-24\\n17:35:08'}>>\n",
      "\n",
      "Message received:\n",
      "    Data: <<{'messageCount': 675, 'humidity': 51, 'temperature': 23, 'timestamp': '2022-04-24\\n17:35:10'}>>\n",
      "\n",
      "Message received:\n",
      "    Data: <<{'messageCount': 676, 'humidity': 51, 'temperature': 23, 'timestamp': '2022-04-24\\n17:35:11'}>>\n"
     ]
    },
    {
     "name": "stderr",
     "output_type": "stream",
     "text": [
      "INFO:azure.eventhub:Received event from partition 1\n",
      "INFO:azure.eventhub:Received event from partition 1\n",
      "INFO:azure.eventhub:Received event from partition 1\n"
     ]
    },
    {
     "name": "stdout",
     "output_type": "stream",
     "text": [
      "\n",
      "Message received:\n",
      "    Data: <<{'messageCount': 677, 'humidity': 51, 'temperature': 23, 'timestamp': '2022-04-24\\n17:35:13'}>>\n",
      "\n",
      "Message received:\n",
      "    Data: <<{'messageCount': 678, 'humidity': 51, 'temperature': 23, 'timestamp': '2022-04-24\\n17:35:14'}>>\n",
      "\n",
      "Message received:\n",
      "    Data: <<{'messageCount': 679, 'humidity': 51, 'temperature': 23, 'timestamp': '2022-04-24\\n17:35:15'}>>\n",
      "\n",
      "Message received:\n",
      "    Data: <<{'messageCount': 680, 'humidity': 51, 'temperature': 23, 'timestamp': '2022-04-24\\n17:35:16'}>>\n"
     ]
    },
    {
     "name": "stderr",
     "output_type": "stream",
     "text": [
      "INFO:azure.eventhub:Received event from partition 1\n",
      "INFO:azure.eventhub:Received event from partition 1\n",
      "INFO:azure.eventhub:Received event from partition 1\n",
      "INFO:azure.eventhub:Received event from partition 1\n"
     ]
    },
    {
     "name": "stdout",
     "output_type": "stream",
     "text": [
      "\n",
      "Message received:\n",
      "    Data: <<{'messageCount': 681, 'humidity': 51, 'temperature': 23, 'timestamp': '2022-04-24\\n17:35:17'}>>\n",
      "\n",
      "Message received:\n",
      "    Data: <<{'messageCount': 682, 'humidity': 51, 'temperature': 23, 'timestamp': '2022-04-24\\n17:35:18'}>>\n",
      "\n",
      "Message received:\n",
      "    Data: <<{'messageCount': 683, 'humidity': 51, 'temperature': 23, 'timestamp': '2022-04-24\\n17:35:20'}>>\n"
     ]
    },
    {
     "name": "stderr",
     "output_type": "stream",
     "text": [
      "INFO:azure.eventhub:Received event from partition 1\n",
      "INFO:azure.eventhub:Received event from partition 1\n",
      "INFO:azure.eventhub:Received event from partition 1\n"
     ]
    },
    {
     "name": "stdout",
     "output_type": "stream",
     "text": [
      "\n",
      "Message received:\n",
      "    Data: <<{'messageCount': 684, 'humidity': 51, 'temperature': 23, 'timestamp': '2022-04-24\\n17:35:21'}>>\n",
      "\n",
      "Message received:\n",
      "    Data: <<{'messageCount': 685, 'humidity': 52, 'temperature': 23, 'timestamp': '2022-04-24\\n17:35:22'}>>\n",
      "\n",
      "Message received:\n",
      "    Data: <<{'messageCount': 686, 'humidity': 52, 'temperature': 23, 'timestamp': '2022-04-24\\n17:35:23'}>>\n"
     ]
    },
    {
     "name": "stderr",
     "output_type": "stream",
     "text": [
      "INFO:azure.eventhub:Received event from partition 1\n",
      "INFO:azure.eventhub:Received event from partition 1\n",
      "INFO:azure.eventhub:Received event from partition 1\n"
     ]
    },
    {
     "name": "stdout",
     "output_type": "stream",
     "text": [
      "\n",
      "Message received:\n",
      "    Data: <<{'messageCount': 687, 'humidity': 52, 'temperature': 23, 'timestamp': '2022-04-24\\n17:35:24'}>>\n",
      "\n",
      "Message received:\n",
      "    Data: <<{'messageCount': 688, 'humidity': 52, 'temperature': 23, 'timestamp': '2022-04-24\\n17:35:25'}>>\n",
      "\n",
      "Message received:\n",
      "    Data: <<{'messageCount': 689, 'humidity': 51, 'temperature': 23, 'timestamp': '2022-04-24\\n17:35:26'}>>\n"
     ]
    },
    {
     "name": "stderr",
     "output_type": "stream",
     "text": [
      "INFO:azure.eventhub:Received event from partition 1\n",
      "INFO:azure.eventhub:Received event from partition 1\n",
      "INFO:azure.eventhub:Received event from partition 1\n"
     ]
    },
    {
     "name": "stdout",
     "output_type": "stream",
     "text": [
      "\n",
      "Message received:\n",
      "    Data: <<{'messageCount': 690, 'humidity': 51, 'temperature': 23, 'timestamp': '2022-04-24\\n17:35:28'}>>\n",
      "\n",
      "Message received:\n",
      "    Data: <<{'messageCount': 691, 'humidity': 51, 'temperature': 23, 'timestamp': '2022-04-24\\n17:35:29'}>>\n",
      "\n",
      "Message received:\n",
      "    Data: <<{'messageCount': 692, 'humidity': 51, 'temperature': 23, 'timestamp': '2022-04-24\\n17:35:30'}>>\n"
     ]
    },
    {
     "name": "stderr",
     "output_type": "stream",
     "text": [
      "INFO:azure.eventhub:Received event from partition 1\n",
      "INFO:azure.eventhub:Received event from partition 1\n",
      "INFO:azure.eventhub:Received event from partition 1\n"
     ]
    },
    {
     "name": "stdout",
     "output_type": "stream",
     "text": [
      "\n",
      "Message received:\n",
      "    Data: <<{'messageCount': 693, 'humidity': 52, 'temperature': 23, 'timestamp': '2022-04-24\\n17:35:31'}>>\n",
      "\n",
      "Message received:\n",
      "    Data: <<{'messageCount': 694, 'humidity': 52, 'temperature': 23, 'timestamp': '2022-04-24\\n17:35:32'}>>\n",
      "\n",
      "Message received:\n",
      "    Data: <<{'messageCount': 695, 'humidity': 52, 'temperature': 22, 'timestamp': '2022-04-24\\n17:35:33'}>>\n",
      "\n",
      "Message received:\n",
      "    Data: <<{'messageCount': 696, 'humidity': 52, 'temperature': 22, 'timestamp': '2022-04-24\\n17:35:34'}>>\n"
     ]
    },
    {
     "name": "stderr",
     "output_type": "stream",
     "text": [
      "INFO:azure.eventhub:Received event from partition 1\n",
      "INFO:azure.eventhub:Received event from partition 1\n",
      "INFO:azure.eventhub:Received event from partition 1\n",
      "INFO:azure.eventhub:Received event from partition 1\n"
     ]
    },
    {
     "name": "stdout",
     "output_type": "stream",
     "text": [
      "\n",
      "Message received:\n",
      "    Data: <<{'messageCount': 697, 'humidity': 51, 'temperature': 23, 'timestamp': '2022-04-24\\n17:35:35'}>>\n",
      "\n",
      "Message received:\n",
      "    Data: <<{'messageCount': 699, 'humidity': 51, 'temperature': 23, 'timestamp': '2022-04-24\\n17:35:37'}>>\n",
      "\n",
      "Message received:\n",
      "    Data: <<{'messageCount': 698, 'humidity': 51, 'temperature': 23, 'timestamp': '2022-04-24\\n17:35:36'}>>\n"
     ]
    },
    {
     "name": "stderr",
     "output_type": "stream",
     "text": [
      "INFO:azure.eventhub:Received event from partition 1\n",
      "INFO:azure.eventhub:Received event from partition 1\n",
      "INFO:azure.eventhub:Received event from partition 1\n"
     ]
    },
    {
     "name": "stdout",
     "output_type": "stream",
     "text": [
      "\n",
      "Message received:\n",
      "    Data: <<{'messageCount': 700, 'humidity': 51, 'temperature': 23, 'timestamp': '2022-04-24\\n17:35:38'}>>\n",
      "\n",
      "Message received:\n",
      "    Data: <<{'messageCount': 701, 'humidity': 51, 'temperature': 23, 'timestamp': '2022-04-24\\n17:35:40'}>>\n",
      "\n",
      "Message received:\n",
      "    Data: <<{'messageCount': 702, 'humidity': 51, 'temperature': 23, 'timestamp': '2022-04-24\\n17:35:41'}>>\n"
     ]
    },
    {
     "name": "stderr",
     "output_type": "stream",
     "text": [
      "INFO:azure.eventhub:Received event from partition 1\n",
      "INFO:azure.eventhub:Received event from partition 1\n",
      "INFO:azure.eventhub:Received event from partition 1\n"
     ]
    },
    {
     "name": "stdout",
     "output_type": "stream",
     "text": [
      "\n",
      "Message received:\n",
      "    Data: <<{'messageCount': 703, 'humidity': 51, 'temperature': 23, 'timestamp': '2022-04-24\\n17:35:42'}>>\n",
      "\n",
      "Message received:\n",
      "    Data: <<{'messageCount': 704, 'humidity': 51, 'temperature': 23, 'timestamp': '2022-04-24\\n17:35:43'}>>\n",
      "\n",
      "Message received:\n",
      "    Data: <<{'messageCount': 705, 'humidity': 51, 'temperature': 23, 'timestamp': '2022-04-24\\n17:35:44'}>>\n"
     ]
    },
    {
     "name": "stderr",
     "output_type": "stream",
     "text": [
      "INFO:azure.eventhub:Received event from partition 1\n",
      "INFO:azure.eventhub:Received event from partition 1\n",
      "INFO:azure.eventhub:Received event from partition 1\n"
     ]
    },
    {
     "name": "stdout",
     "output_type": "stream",
     "text": [
      "\n",
      "Message received:\n",
      "    Data: <<{'messageCount': 706, 'humidity': 51, 'temperature': 23, 'timestamp': '2022-04-24\\n17:35:45'}>>\n",
      "\n",
      "Message received:\n",
      "    Data: <<{'messageCount': 707, 'humidity': 51, 'temperature': 23, 'timestamp': '2022-04-24\\n17:35:47'}>>\n",
      "\n",
      "Message received:\n",
      "    Data: <<{'messageCount': 709, 'humidity': 51, 'temperature': 23, 'timestamp': '2022-04-24\\n17:35:49'}>>\n",
      "\n",
      "Message received:\n",
      "    Data: <<{'messageCount': 708, 'humidity': 51, 'temperature': 23, 'timestamp': '2022-04-24\\n17:35:48'}>>\n"
     ]
    },
    {
     "name": "stderr",
     "output_type": "stream",
     "text": [
      "INFO:azure.eventhub:Received event from partition 1\n",
      "INFO:azure.eventhub:Received event from partition 1\n",
      "INFO:azure.eventhub:Received event from partition 1\n",
      "INFO:azure.eventhub:Received event from partition 1\n"
     ]
    },
    {
     "name": "stdout",
     "output_type": "stream",
     "text": [
      "\n",
      "Message received:\n",
      "    Data: <<{'messageCount': 710, 'humidity': 51, 'temperature': 23, 'timestamp': '2022-04-24\\n17:35:50'}>>\n",
      "\n",
      "Message received:\n",
      "    Data: <<{'messageCount': 711, 'humidity': 51, 'temperature': 23, 'timestamp': '2022-04-24\\n17:35:51'}>>\n",
      "\n",
      "Message received:\n",
      "    Data: <<{'messageCount': 712, 'humidity': 51, 'temperature': 23, 'timestamp': '2022-04-24\\n17:35:52'}>>\n"
     ]
    },
    {
     "name": "stderr",
     "output_type": "stream",
     "text": [
      "INFO:azure.eventhub:Received event from partition 1\n",
      "INFO:azure.eventhub:Received event from partition 1\n"
     ]
    },
    {
     "name": "stdout",
     "output_type": "stream",
     "text": [
      "\n",
      "Message received:\n",
      "    Data: <<{'messageCount': 713, 'humidity': 52, 'temperature': 23, 'timestamp': '2022-04-24\\n17:35:54'}>>\n",
      "\n",
      "Message received:\n",
      "    Data: <<{'messageCount': 714, 'humidity': 52, 'temperature': 23, 'timestamp': '2022-04-24\\n17:35:55'}>>\n",
      "\n",
      "Message received:\n",
      "    Data: <<{'messageCount': 715, 'humidity': 51, 'temperature': 23, 'timestamp': '2022-04-24\\n17:35:56'}>>\n"
     ]
    },
    {
     "name": "stderr",
     "output_type": "stream",
     "text": [
      "INFO:azure.eventhub:Received event from partition 1\n",
      "INFO:azure.eventhub:Received event from partition 1\n",
      "INFO:azure.eventhub:Received event from partition 1\n",
      "INFO:azure.eventhub:Received event from partition 1\n"
     ]
    },
    {
     "name": "stdout",
     "output_type": "stream",
     "text": [
      "\n",
      "Message received:\n",
      "    Data: <<{'messageCount': 716, 'humidity': 51, 'temperature': 23, 'timestamp': '2022-04-24\\n17:35:57'}>>\n",
      "\n",
      "Message received:\n",
      "    Data: <<{'messageCount': 717, 'humidity': 51, 'temperature': 23, 'timestamp': '2022-04-24\\n17:35:58'}>>\n",
      "\n",
      "Message received:\n",
      "    Data: <<{'messageCount': 718, 'humidity': 51, 'temperature': 23, 'timestamp': '2022-04-24\\n17:35:59'}>>\n"
     ]
    },
    {
     "name": "stderr",
     "output_type": "stream",
     "text": [
      "INFO:azure.eventhub:Received event from partition 1\n",
      "INFO:azure.eventhub:Received event from partition 1\n",
      "INFO:azure.eventhub:Received event from partition 1\n"
     ]
    },
    {
     "name": "stdout",
     "output_type": "stream",
     "text": [
      "\n",
      "Message received:\n",
      "    Data: <<{'messageCount': 719, 'humidity': 51, 'temperature': 23, 'timestamp': '2022-04-24\\n17:36:01'}>>\n",
      "\n",
      "Message received:\n",
      "    Data: <<{'messageCount': 721, 'humidity': 51, 'temperature': 23, 'timestamp': '2022-04-24\\n17:36:04'}>>\n",
      "\n",
      "Message received:\n",
      "    Data: <<{'messageCount': 720, 'humidity': 51, 'temperature': 23, 'timestamp': '2022-04-24\\n17:36:02'}>>\n"
     ]
    },
    {
     "name": "stderr",
     "output_type": "stream",
     "text": [
      "INFO:azure.eventhub:Received event from partition 1\n",
      "INFO:azure.eventhub:Received event from partition 1\n",
      "INFO:azure.eventhub:Received event from partition 1\n"
     ]
    },
    {
     "name": "stdout",
     "output_type": "stream",
     "text": [
      "\n",
      "Message received:\n",
      "    Data: <<{'messageCount': 722, 'humidity': 51, 'temperature': 23, 'timestamp': '2022-04-24\\n17:36:05'}>>\n",
      "\n",
      "Message received:\n",
      "    Data: <<{'messageCount': 723, 'humidity': 51, 'temperature': 23, 'timestamp': '2022-04-24\\n17:36:06'}>>\n",
      "\n",
      "Message received:\n",
      "    Data: <<{'messageCount': 724, 'humidity': 51, 'temperature': 23, 'timestamp': '2022-04-24\\n17:36:07'}>>\n",
      "\n",
      "Message received:\n",
      "    Data: <<{'messageCount': 725, 'humidity': 52, 'temperature': 23, 'timestamp': '2022-04-24\\n17:36:08'}>>\n"
     ]
    },
    {
     "name": "stderr",
     "output_type": "stream",
     "text": [
      "INFO:azure.eventhub:Received event from partition 1\n",
      "INFO:azure.eventhub:Received event from partition 1\n",
      "INFO:azure.eventhub:Received event from partition 1\n",
      "INFO:azure.eventhub:Received event from partition 1\n"
     ]
    },
    {
     "name": "stdout",
     "output_type": "stream",
     "text": [
      "\n",
      "Message received:\n",
      "    Data: <<{'messageCount': 726, 'humidity': 52, 'temperature': 23, 'timestamp': '2022-04-24\\n17:36:09'}>>\n",
      "\n",
      "Message received:\n",
      "    Data: <<{'messageCount': 727, 'humidity': 52, 'temperature': 23, 'timestamp': '2022-04-24\\n17:36:11'}>>\n",
      "\n",
      "Message received:\n",
      "    Data: <<{'messageCount': 728, 'humidity': 52, 'temperature': 23, 'timestamp': '2022-04-24\\n17:36:12'}>>\n"
     ]
    },
    {
     "name": "stderr",
     "output_type": "stream",
     "text": [
      "INFO:azure.eventhub:Received event from partition 1\n",
      "INFO:azure.eventhub:Received event from partition 1\n",
      "INFO:azure.eventhub:Received event from partition 1\n"
     ]
    },
    {
     "name": "stdout",
     "output_type": "stream",
     "text": [
      "\n",
      "Message received:\n",
      "    Data: <<{'messageCount': 729, 'humidity': 51, 'temperature': 22, 'timestamp': '2022-04-24\\n17:36:13'}>>\n",
      "\n",
      "Message received:\n",
      "    Data: <<{'messageCount': 730, 'humidity': 51, 'temperature': 22, 'timestamp': '2022-04-24\\n17:36:14'}>>\n",
      "\n",
      "Message received:\n",
      "    Data: <<{'messageCount': 731, 'humidity': 51, 'temperature': 23, 'timestamp': '2022-04-24\\n17:36:15'}>>\n"
     ]
    },
    {
     "name": "stderr",
     "output_type": "stream",
     "text": [
      "INFO:azure.eventhub:Received event from partition 1\n",
      "INFO:azure.eventhub:Received event from partition 1\n",
      "INFO:azure.eventhub:Received event from partition 1\n"
     ]
    },
    {
     "name": "stdout",
     "output_type": "stream",
     "text": [
      "\n",
      "Message received:\n",
      "    Data: <<{'messageCount': 732, 'humidity': 51, 'temperature': 23, 'timestamp': '2022-04-24\\n17:36:16'}>>\n",
      "\n",
      "Message received:\n",
      "    Data: <<{'messageCount': 733, 'humidity': 51, 'temperature': 23, 'timestamp': '2022-04-24\\n17:36:18'}>>\n",
      "\n",
      "Message received:\n",
      "    Data: <<{'messageCount': 734, 'humidity': 51, 'temperature': 23, 'timestamp': '2022-04-24\\n17:36:20'}>>\n"
     ]
    },
    {
     "name": "stderr",
     "output_type": "stream",
     "text": [
      "INFO:azure.eventhub:Received event from partition 1\n",
      "INFO:azure.eventhub:Received event from partition 1\n",
      "INFO:azure.eventhub:Received event from partition 1\n"
     ]
    },
    {
     "name": "stdout",
     "output_type": "stream",
     "text": [
      "\n",
      "Message received:\n",
      "    Data: <<{'messageCount': 735, 'humidity': 51, 'temperature': 23, 'timestamp': '2022-04-24\\n17:36:21'}>>\n",
      "\n",
      "Message received:\n",
      "    Data: <<{'messageCount': 736, 'humidity': 51, 'temperature': 23, 'timestamp': '2022-04-24\\n17:36:22'}>>\n",
      "\n",
      "Message received:\n",
      "    Data: <<{'messageCount': 737, 'humidity': 51, 'temperature': 23, 'timestamp': '2022-04-24\\n17:36:23'}>>\n",
      "\n",
      "Message received:\n",
      "    Data: <<{'messageCount': 740, 'humidity': 51, 'temperature': 22, 'timestamp': '2022-04-24\\n17:36:27'}>>\n"
     ]
    },
    {
     "name": "stderr",
     "output_type": "stream",
     "text": [
      "INFO:azure.eventhub:Received event from partition 1\n",
      "INFO:azure.eventhub:Received event from partition 1\n",
      "INFO:azure.eventhub:Received event from partition 1\n",
      "INFO:azure.eventhub:Received event from partition 1\n"
     ]
    },
    {
     "name": "stdout",
     "output_type": "stream",
     "text": [
      "\n",
      "Message received:\n",
      "    Data: <<{'messageCount': 738, 'humidity': 51, 'temperature': 23, 'timestamp': '2022-04-24\\n17:36:24'}>>\n",
      "\n",
      "Message received:\n",
      "    Data: <<{'messageCount': 739, 'humidity': 51, 'temperature': 23, 'timestamp': '2022-04-24\\n17:36:25'}>>\n",
      "\n",
      "Message received:\n",
      "    Data: <<{'messageCount': 741, 'humidity': 51, 'temperature': 22, 'timestamp': '2022-04-24\\n17:36:28'}>>\n"
     ]
    },
    {
     "name": "stderr",
     "output_type": "stream",
     "text": [
      "INFO:azure.eventhub:Received event from partition 1\n",
      "INFO:azure.eventhub:Received event from partition 1\n",
      "INFO:azure.eventhub:Received event from partition 1\n"
     ]
    },
    {
     "name": "stdout",
     "output_type": "stream",
     "text": [
      "\n",
      "Message received:\n",
      "    Data: <<{'messageCount': 744, 'humidity': 51, 'temperature': 23, 'timestamp': '2022-04-24\\n17:36:31'}>>\n",
      "\n",
      "Message received:\n",
      "    Data: <<{'messageCount': 743, 'humidity': 51, 'temperature': 23, 'timestamp': '2022-04-24\\n17:36:30'}>>\n",
      "\n",
      "Message received:\n",
      "    Data: <<{'messageCount': 742, 'humidity': 51, 'temperature': 23, 'timestamp': '2022-04-24\\n17:36:29'}>>\n"
     ]
    },
    {
     "name": "stderr",
     "output_type": "stream",
     "text": [
      "INFO:azure.eventhub:Received event from partition 1\n",
      "INFO:azure.eventhub:Received event from partition 1\n",
      "INFO:azure.eventhub:Received event from partition 1\n"
     ]
    },
    {
     "name": "stdout",
     "output_type": "stream",
     "text": [
      "\n",
      "Message received:\n",
      "    Data: <<{'messageCount': 745, 'humidity': 51, 'temperature': 23, 'timestamp': '2022-04-24\\n17:36:32'}>>\n",
      "\n",
      "Message received:\n",
      "    Data: <<{'messageCount': 747, 'humidity': 51, 'temperature': 23, 'timestamp': '2022-04-24\\n17:36:35'}>>\n",
      "\n",
      "Message received:\n",
      "    Data: <<{'messageCount': 746, 'humidity': 51, 'temperature': 23, 'timestamp': '2022-04-24\\n17:36:34'}>>\n"
     ]
    },
    {
     "name": "stderr",
     "output_type": "stream",
     "text": [
      "INFO:azure.eventhub:Received event from partition 1\n",
      "INFO:azure.eventhub:Received event from partition 1\n",
      "INFO:azure.eventhub:Received event from partition 1\n"
     ]
    },
    {
     "name": "stdout",
     "output_type": "stream",
     "text": [
      "\n",
      "Message received:\n",
      "    Data: <<{'messageCount': 749, 'humidity': 51, 'temperature': 22, 'timestamp': '2022-04-24\\n17:36:37'}>>\n",
      "\n",
      "Message received:\n",
      "    Data: <<{'messageCount': 748, 'humidity': 51, 'temperature': 22, 'timestamp': '2022-04-24\\n17:36:36'}>>\n",
      "\n",
      "Message received:\n",
      "    Data: <<{'messageCount': 750, 'humidity': 51, 'temperature': 23, 'timestamp': '2022-04-24\\n17:36:38'}>>\n",
      "\n",
      "Message received:\n",
      "    Data: <<{'messageCount': 751, 'humidity': 51, 'temperature': 23, 'timestamp': '2022-04-24\\n17:36:39'}>>\n"
     ]
    },
    {
     "name": "stderr",
     "output_type": "stream",
     "text": [
      "INFO:azure.eventhub:Received event from partition 1\n",
      "INFO:azure.eventhub:Received event from partition 1\n",
      "INFO:azure.eventhub:Received event from partition 1\n",
      "INFO:azure.eventhub:Received event from partition 1\n"
     ]
    },
    {
     "name": "stdout",
     "output_type": "stream",
     "text": [
      "\n",
      "Message received:\n",
      "    Data: <<{'messageCount': 752, 'humidity': 51, 'temperature': 23, 'timestamp': '2022-04-24\\n17:36:41'}>>\n",
      "\n",
      "Message received:\n",
      "    Data: <<{'messageCount': 753, 'humidity': 51, 'temperature': 23, 'timestamp': '2022-04-24\\n17:36:42'}>>\n",
      "\n",
      "Message received:\n",
      "    Data: <<{'messageCount': 754, 'humidity': 51, 'temperature': 23, 'timestamp': '2022-04-24\\n17:36:43'}>>\n",
      "\n",
      "Message received:\n",
      "    Data: <<{'messageCount': 755, 'humidity': 51, 'temperature': 23, 'timestamp': '2022-04-24\\n17:36:44'}>>\n"
     ]
    },
    {
     "name": "stderr",
     "output_type": "stream",
     "text": [
      "INFO:azure.eventhub:Received event from partition 1\n",
      "INFO:azure.eventhub:Received event from partition 1\n",
      "INFO:azure.eventhub:Received event from partition 1\n",
      "INFO:azure.eventhub:Received event from partition 1\n"
     ]
    },
    {
     "name": "stdout",
     "output_type": "stream",
     "text": [
      "\n",
      "Message received:\n",
      "    Data: <<{'messageCount': 756, 'humidity': 51, 'temperature': 23, 'timestamp': '2022-04-24\\n17:36:45'}>>\n",
      "\n",
      "Message received:\n",
      "    Data: <<{'messageCount': 757, 'humidity': 51, 'temperature': 23, 'timestamp': '2022-04-24\\n17:36:46'}>>\n",
      "\n",
      "Message received:\n",
      "    Data: <<{'messageCount': 759, 'humidity': 51, 'temperature': 23, 'timestamp': '2022-04-24\\n17:36:49'}>>\n"
     ]
    },
    {
     "name": "stderr",
     "output_type": "stream",
     "text": [
      "INFO:azure.eventhub:Received event from partition 1\n",
      "INFO:azure.eventhub:Received event from partition 1\n",
      "INFO:azure.eventhub:Received event from partition 1\n"
     ]
    },
    {
     "name": "stdout",
     "output_type": "stream",
     "text": [
      "\n",
      "Message received:\n",
      "    Data: <<{'messageCount': 758, 'humidity': 51, 'temperature': 23, 'timestamp': '2022-04-24\\n17:36:48'}>>\n",
      "\n",
      "Message received:\n",
      "    Data: <<{'messageCount': 760, 'humidity': 51, 'temperature': 23, 'timestamp': '2022-04-24\\n17:36:50'}>>\n",
      "\n",
      "Message received:\n",
      "    Data: <<{'messageCount': 761, 'humidity': 51, 'temperature': 23, 'timestamp': '2022-04-24\\n17:36:51'}>>\n"
     ]
    },
    {
     "name": "stderr",
     "output_type": "stream",
     "text": [
      "INFO:azure.eventhub:Received event from partition 1\n",
      "INFO:azure.eventhub:Received event from partition 1\n",
      "INFO:azure.eventhub:Received event from partition 1\n"
     ]
    },
    {
     "name": "stdout",
     "output_type": "stream",
     "text": [
      "\n",
      "Message received:\n",
      "    Data: <<{'messageCount': 762, 'humidity': 51, 'temperature': 23, 'timestamp': '2022-04-24\\n17:36:52'}>>\n",
      "\n",
      "Message received:\n",
      "    Data: <<{'messageCount': 763, 'humidity': 51, 'temperature': 23, 'timestamp': '2022-04-24\\n17:36:53'}>>\n",
      "\n",
      "Message received:\n",
      "    Data: <<{'messageCount': 764, 'humidity': 51, 'temperature': 23, 'timestamp': '2022-04-24\\n17:36:55'}>>\n"
     ]
    },
    {
     "name": "stderr",
     "output_type": "stream",
     "text": [
      "INFO:azure.eventhub:Received event from partition 1\n",
      "INFO:azure.eventhub:Received event from partition 1\n",
      "INFO:azure.eventhub:Received event from partition 1\n",
      "INFO:azure.eventhub:Received event from partition 1\n"
     ]
    },
    {
     "name": "stdout",
     "output_type": "stream",
     "text": [
      "\n",
      "Message received:\n",
      "    Data: <<{'messageCount': 765, 'humidity': 51, 'temperature': 23, 'timestamp': '2022-04-24\\n17:36:56'}>>\n",
      "\n",
      "Message received:\n",
      "    Data: <<{'messageCount': 766, 'humidity': 51, 'temperature': 23, 'timestamp': '2022-04-24\\n17:36:57'}>>\n",
      "\n",
      "Message received:\n",
      "    Data: <<{'messageCount': 767, 'humidity': 51, 'temperature': 23, 'timestamp': '2022-04-24\\n17:36:58'}>>\n",
      "\n",
      "Message received:\n",
      "    Data: <<{'messageCount': 768, 'humidity': 51, 'temperature': 23, 'timestamp': '2022-04-24\\n17:36:59'}>>\n"
     ]
    },
    {
     "name": "stderr",
     "output_type": "stream",
     "text": [
      "INFO:azure.eventhub:Received event from partition 1\n",
      "INFO:azure.eventhub:Received event from partition 1\n",
      "INFO:azure.eventhub:Received event from partition 1\n"
     ]
    },
    {
     "name": "stdout",
     "output_type": "stream",
     "text": [
      "\n",
      "Message received:\n",
      "    Data: <<{'messageCount': 769, 'humidity': 51, 'temperature': 23, 'timestamp': '2022-04-24\\n17:37:00'}>>\n",
      "\n",
      "Message received:\n",
      "    Data: <<{'messageCount': 770, 'humidity': 51, 'temperature': 23, 'timestamp': '2022-04-24\\n17:37:01'}>>\n",
      "\n",
      "Message received:\n",
      "    Data: <<{'messageCount': 771, 'humidity': 51, 'temperature': 23, 'timestamp': '2022-04-24\\n17:37:02'}>>\n"
     ]
    },
    {
     "name": "stderr",
     "output_type": "stream",
     "text": [
      "INFO:azure.eventhub:Received event from partition 1\n",
      "INFO:azure.eventhub:Received event from partition 1\n",
      "INFO:azure.eventhub:Received event from partition 1\n"
     ]
    },
    {
     "name": "stdout",
     "output_type": "stream",
     "text": [
      "\n",
      "Message received:\n",
      "    Data: <<{'messageCount': 772, 'humidity': 51, 'temperature': 23, 'timestamp': '2022-04-24\\n17:37:04'}>>\n",
      "\n",
      "Message received:\n",
      "    Data: <<{'messageCount': 773, 'humidity': 51, 'temperature': 23, 'timestamp': '2022-04-24\\n17:37:05'}>>\n",
      "\n",
      "Message received:\n",
      "    Data: <<{'messageCount': 775, 'humidity': 51, 'temperature': 23, 'timestamp': '2022-04-24\\n17:37:07'}>>\n"
     ]
    },
    {
     "name": "stderr",
     "output_type": "stream",
     "text": [
      "INFO:azure.eventhub:Received event from partition 1\n",
      "INFO:azure.eventhub:Received event from partition 1\n",
      "INFO:azure.eventhub:Received event from partition 1\n"
     ]
    },
    {
     "name": "stdout",
     "output_type": "stream",
     "text": [
      "\n",
      "Message received:\n",
      "    Data: <<{'messageCount': 774, 'humidity': 51, 'temperature': 23, 'timestamp': '2022-04-24\\n17:37:06'}>>\n",
      "\n",
      "Message received:\n",
      "    Data: <<{'messageCount': 776, 'humidity': 51, 'temperature': 23, 'timestamp': '2022-04-24\\n17:37:09'}>>\n",
      "\n",
      "Message received:\n",
      "    Data: <<{'messageCount': 777, 'humidity': 51, 'temperature': 23, 'timestamp': '2022-04-24\\n17:37:10'}>>\n"
     ]
    },
    {
     "name": "stderr",
     "output_type": "stream",
     "text": [
      "INFO:azure.eventhub:Received event from partition 1\n",
      "INFO:azure.eventhub:Received event from partition 1\n",
      "INFO:azure.eventhub:Received event from partition 1\n"
     ]
    },
    {
     "name": "stdout",
     "output_type": "stream",
     "text": [
      "\n",
      "Message received:\n",
      "    Data: <<{'messageCount': 778, 'humidity': 51, 'temperature': 23, 'timestamp': '2022-04-24\\n17:37:11'}>>\n",
      "\n",
      "Message received:\n",
      "    Data: <<{'messageCount': 779, 'humidity': 51, 'temperature': 23, 'timestamp': '2022-04-24\\n17:37:12'}>>\n",
      "\n",
      "Message received:\n",
      "    Data: <<{'messageCount': 780, 'humidity': 51, 'temperature': 23, 'timestamp': '2022-04-24\\n17:37:13'}>>\n",
      "\n",
      "Message received:\n",
      "    Data: <<{'messageCount': 781, 'humidity': 51, 'temperature': 23, 'timestamp': '2022-04-24\\n17:37:14'}>>\n"
     ]
    },
    {
     "name": "stderr",
     "output_type": "stream",
     "text": [
      "INFO:azure.eventhub:Received event from partition 1\n",
      "INFO:azure.eventhub:Received event from partition 1\n",
      "INFO:azure.eventhub:Received event from partition 1\n"
     ]
    },
    {
     "name": "stdout",
     "output_type": "stream",
     "text": [
      "\n",
      "Message received:\n",
      "    Data: <<{'messageCount': 782, 'humidity': 51, 'temperature': 23, 'timestamp': '2022-04-24\\n17:37:15'}>>\n",
      "\n",
      "Message received:\n",
      "    Data: <<{'messageCount': 783, 'humidity': 51, 'temperature': 23, 'timestamp': '2022-04-24\\n17:37:16'}>>\n",
      "\n",
      "Message received:\n",
      "    Data: <<{'messageCount': 784, 'humidity': 51, 'temperature': 23, 'timestamp': '2022-04-24\\n17:37:18'}>>\n"
     ]
    },
    {
     "name": "stderr",
     "output_type": "stream",
     "text": [
      "INFO:azure.eventhub:Received event from partition 1\n",
      "INFO:azure.eventhub:Received event from partition 1\n",
      "INFO:azure.eventhub:Received event from partition 1\n",
      "INFO:azure.eventhub:Received event from partition 1\n"
     ]
    },
    {
     "name": "stdout",
     "output_type": "stream",
     "text": [
      "\n",
      "Message received:\n",
      "    Data: <<{'messageCount': 785, 'humidity': 51, 'temperature': 23, 'timestamp': '2022-04-24\\n17:37:19'}>>\n",
      "\n",
      "Message received:\n",
      "    Data: <<{'messageCount': 786, 'humidity': 51, 'temperature': 23, 'timestamp': '2022-04-24\\n17:37:20'}>>\n",
      "\n",
      "Message received:\n",
      "    Data: <<{'messageCount': 787, 'humidity': 51, 'temperature': 23, 'timestamp': '2022-04-24\\n17:37:21'}>>\n"
     ]
    },
    {
     "name": "stderr",
     "output_type": "stream",
     "text": [
      "INFO:azure.eventhub:Received event from partition 1\n",
      "INFO:azure.eventhub:Received event from partition 1\n",
      "INFO:azure.eventhub:Received event from partition 1\n"
     ]
    },
    {
     "name": "stdout",
     "output_type": "stream",
     "text": [
      "\n",
      "Message received:\n",
      "    Data: <<{'messageCount': 788, 'humidity': 51, 'temperature': 23, 'timestamp': '2022-04-24\\n17:37:22'}>>\n",
      "\n",
      "Message received:\n",
      "    Data: <<{'messageCount': 789, 'humidity': 51, 'temperature': 23, 'timestamp': '2022-04-24\\n17:37:23'}>>\n",
      "\n",
      "Message received:\n",
      "    Data: <<{'messageCount': 790, 'humidity': 51, 'temperature': 23, 'timestamp': '2022-04-24\\n17:37:25'}>>\n"
     ]
    },
    {
     "name": "stderr",
     "output_type": "stream",
     "text": [
      "INFO:azure.eventhub:Received event from partition 1\n",
      "INFO:azure.eventhub:Received event from partition 1\n",
      "INFO:azure.eventhub:Received event from partition 1\n"
     ]
    },
    {
     "name": "stdout",
     "output_type": "stream",
     "text": [
      "\n",
      "Message received:\n",
      "    Data: <<{'messageCount': 791, 'humidity': 51, 'temperature': 23, 'timestamp': '2022-04-24\\n17:37:26'}>>\n",
      "\n",
      "Message received:\n",
      "    Data: <<{'messageCount': 792, 'humidity': 51, 'temperature': 23, 'timestamp': '2022-04-24\\n17:37:27'}>>\n",
      "\n",
      "Message received:\n",
      "    Data: <<{'messageCount': 793, 'humidity': 51, 'temperature': 23, 'timestamp': '2022-04-24\\n17:37:28'}>>\n"
     ]
    },
    {
     "name": "stderr",
     "output_type": "stream",
     "text": [
      "INFO:azure.eventhub:Received event from partition 1\n",
      "INFO:azure.eventhub:Received event from partition 1\n",
      "INFO:azure.eventhub:Received event from partition 1\n"
     ]
    },
    {
     "name": "stdout",
     "output_type": "stream",
     "text": [
      "\n",
      "Message received:\n",
      "    Data: <<{'messageCount': 794, 'humidity': 51, 'temperature': 23, 'timestamp': '2022-04-24\\n17:37:29'}>>\n",
      "\n",
      "Message received:\n",
      "    Data: <<{'messageCount': 795, 'humidity': 51, 'temperature': 23, 'timestamp': '2022-04-24\\n17:37:30'}>>\n",
      "\n",
      "Message received:\n",
      "    Data: <<{'messageCount': 796, 'humidity': 51, 'temperature': 23, 'timestamp': '2022-04-24\\n17:37:32'}>>\n",
      "\n",
      "Message received:\n",
      "    Data: <<{'messageCount': 797, 'humidity': 51, 'temperature': 23, 'timestamp': '2022-04-24\\n17:37:33'}>>\n"
     ]
    },
    {
     "name": "stderr",
     "output_type": "stream",
     "text": [
      "INFO:azure.eventhub:Received event from partition 1\n",
      "INFO:azure.eventhub:Received event from partition 1\n",
      "INFO:azure.eventhub:Received event from partition 1\n",
      "INFO:azure.eventhub:Received event from partition 1\n"
     ]
    },
    {
     "name": "stdout",
     "output_type": "stream",
     "text": [
      "\n",
      "Message received:\n",
      "    Data: <<{'messageCount': 798, 'humidity': 51, 'temperature': 22, 'timestamp': '2022-04-24\\n17:37:34'}>>\n",
      "\n",
      "Message received:\n",
      "    Data: <<{'messageCount': 799, 'humidity': 51, 'temperature': 22, 'timestamp': '2022-04-24\\n17:37:35'}>>\n",
      "\n",
      "Message received:\n",
      "    Data: <<{'messageCount': 800, 'humidity': 51, 'temperature': 23, 'timestamp': '2022-04-24\\n17:37:36'}>>\n"
     ]
    },
    {
     "name": "stderr",
     "output_type": "stream",
     "text": [
      "INFO:azure.eventhub:Received event from partition 1\n",
      "INFO:azure.eventhub:Received event from partition 1\n",
      "INFO:azure.eventhub:Received event from partition 1\n"
     ]
    },
    {
     "name": "stdout",
     "output_type": "stream",
     "text": [
      "\n",
      "Message received:\n",
      "    Data: <<{'messageCount': 801, 'humidity': 51, 'temperature': 23, 'timestamp': '2022-04-24\\n17:37:37'}>>\n",
      "\n",
      "Message received:\n",
      "    Data: <<{'messageCount': 802, 'humidity': 51, 'temperature': 23, 'timestamp': '2022-04-24\\n17:37:38'}>>\n",
      "\n",
      "Message received:\n",
      "    Data: <<{'messageCount': 803, 'humidity': 51, 'temperature': 23, 'timestamp': '2022-04-24\\n17:37:39'}>>\n"
     ]
    },
    {
     "name": "stderr",
     "output_type": "stream",
     "text": [
      "INFO:azure.eventhub:Received event from partition 1\n",
      "INFO:azure.eventhub:Received event from partition 1\n",
      "INFO:azure.eventhub:Received event from partition 1\n"
     ]
    },
    {
     "name": "stdout",
     "output_type": "stream",
     "text": [
      "\n",
      "Message received:\n",
      "    Data: <<{'messageCount': 804, 'humidity': 51, 'temperature': 23, 'timestamp': '2022-04-24\\n17:37:41'}>>\n",
      "\n",
      "Message received:\n",
      "    Data: <<{'messageCount': 805, 'humidity': 51, 'temperature': 23, 'timestamp': '2022-04-24\\n17:37:42'}>>\n",
      "\n",
      "Message received:\n",
      "    Data: <<{'messageCount': 806, 'humidity': 51, 'temperature': 23, 'timestamp': '2022-04-24\\n17:37:43'}>>\n"
     ]
    },
    {
     "name": "stderr",
     "output_type": "stream",
     "text": [
      "INFO:azure.eventhub:Received event from partition 1\n",
      "INFO:azure.eventhub:Received event from partition 1\n",
      "INFO:azure.eventhub:Received event from partition 1\n"
     ]
    },
    {
     "name": "stdout",
     "output_type": "stream",
     "text": [
      "\n",
      "Message received:\n",
      "    Data: <<{'messageCount': 807, 'humidity': 51, 'temperature': 23, 'timestamp': '2022-04-24\\n17:37:44'}>>\n",
      "\n",
      "Message received:\n",
      "    Data: <<{'messageCount': 808, 'humidity': 51, 'temperature': 23, 'timestamp': '2022-04-24\\n17:37:45'}>>\n",
      "\n",
      "Message received:\n",
      "    Data: <<{'messageCount': 809, 'humidity': 51, 'temperature': 23, 'timestamp': '2022-04-24\\n17:37:46'}>>\n"
     ]
    },
    {
     "name": "stderr",
     "output_type": "stream",
     "text": [
      "INFO:azure.eventhub:Received event from partition 1\n",
      "INFO:azure.eventhub:Received event from partition 1\n",
      "INFO:azure.eventhub:Received event from partition 1\n"
     ]
    },
    {
     "name": "stdout",
     "output_type": "stream",
     "text": [
      "\n",
      "Message received:\n",
      "    Data: <<{'messageCount': 810, 'humidity': 51, 'temperature': 23, 'timestamp': '2022-04-24\\n17:37:48'}>>\n",
      "\n",
      "Message received:\n",
      "    Data: <<{'messageCount': 811, 'humidity': 51, 'temperature': 23, 'timestamp': '2022-04-24\\n17:37:49'}>>\n",
      "\n",
      "Message received:\n",
      "    Data: <<{'messageCount': 812, 'humidity': 51, 'temperature': 23, 'timestamp': '2022-04-24\\n17:37:50'}>>\n",
      "\n",
      "Message received:\n",
      "    Data: <<{'messageCount': 813, 'humidity': 51, 'temperature': 23, 'timestamp': '2022-04-24\\n17:37:51'}>>\n"
     ]
    },
    {
     "name": "stderr",
     "output_type": "stream",
     "text": [
      "INFO:azure.eventhub:Received event from partition 1\n",
      "INFO:azure.eventhub:Received event from partition 1\n",
      "INFO:azure.eventhub:Received event from partition 1\n",
      "INFO:azure.eventhub:Received event from partition 1\n"
     ]
    },
    {
     "name": "stdout",
     "output_type": "stream",
     "text": [
      "\n",
      "Message received:\n",
      "    Data: <<{'messageCount': 814, 'humidity': 51, 'temperature': 23, 'timestamp': '2022-04-24\\n17:37:52'}>>\n",
      "\n",
      "Message received:\n",
      "    Data: <<{'messageCount': 815, 'humidity': 51, 'temperature': 23, 'timestamp': '2022-04-24\\n17:37:54'}>>\n",
      "\n",
      "Message received:\n",
      "    Data: <<{'messageCount': 817, 'humidity': 51, 'temperature': 23, 'timestamp': '2022-04-24\\n17:37:56'}>>\n"
     ]
    },
    {
     "name": "stderr",
     "output_type": "stream",
     "text": [
      "INFO:azure.eventhub:Received event from partition 1\n",
      "INFO:azure.eventhub:Received event from partition 1\n",
      "INFO:azure.eventhub:Received event from partition 1\n"
     ]
    },
    {
     "name": "stdout",
     "output_type": "stream",
     "text": [
      "\n",
      "Message received:\n",
      "    Data: <<{'messageCount': 816, 'humidity': 51, 'temperature': 23, 'timestamp': '2022-04-24\\n17:37:55'}>>\n",
      "\n",
      "Message received:\n",
      "    Data: <<{'messageCount': 818, 'humidity': 51, 'temperature': 22, 'timestamp': '2022-04-24\\n17:37:58'}>>\n",
      "\n",
      "Message received:\n",
      "    Data: <<{'messageCount': 819, 'humidity': 51, 'temperature': 22, 'timestamp': '2022-04-24\\n17:37:59'}>>\n"
     ]
    },
    {
     "name": "stderr",
     "output_type": "stream",
     "text": [
      "INFO:azure.eventhub:Received event from partition 1\n",
      "INFO:azure.eventhub:Received event from partition 1\n",
      "INFO:azure.eventhub:Received event from partition 1\n"
     ]
    },
    {
     "name": "stdout",
     "output_type": "stream",
     "text": [
      "\n",
      "Message received:\n",
      "    Data: <<{'messageCount': 820, 'humidity': 51, 'temperature': 23, 'timestamp': '2022-04-24\\n17:38:01'}>>\n",
      "\n",
      "Message received:\n",
      "    Data: <<{'messageCount': 821, 'humidity': 51, 'temperature': 23, 'timestamp': '2022-04-24\\n17:38:02'}>>\n",
      "\n",
      "Message received:\n",
      "    Data: <<{'messageCount': 822, 'humidity': 51, 'temperature': 23, 'timestamp': '2022-04-24\\n17:38:03'}>>\n"
     ]
    },
    {
     "name": "stderr",
     "output_type": "stream",
     "text": [
      "INFO:azure.eventhub:Received event from partition 1\n",
      "INFO:azure.eventhub:Received event from partition 1\n",
      "INFO:azure.eventhub:Received event from partition 1\n"
     ]
    },
    {
     "name": "stdout",
     "output_type": "stream",
     "text": [
      "\n",
      "Message received:\n",
      "    Data: <<{'messageCount': 823, 'humidity': 51, 'temperature': 23, 'timestamp': '2022-04-24\\n17:38:04'}>>\n",
      "\n",
      "Message received:\n",
      "    Data: <<{'messageCount': 824, 'humidity': 51, 'temperature': 23, 'timestamp': '2022-04-24\\n17:38:05'}>>\n",
      "\n",
      "Message received:\n",
      "    Data: <<{'messageCount': 825, 'humidity': 51, 'temperature': 23, 'timestamp': '2022-04-24\\n17:38:06'}>>\n"
     ]
    },
    {
     "name": "stderr",
     "output_type": "stream",
     "text": [
      "INFO:azure.eventhub:Received event from partition 1\n",
      "INFO:azure.eventhub:Received event from partition 1\n",
      "INFO:azure.eventhub:Received event from partition 1\n"
     ]
    },
    {
     "name": "stdout",
     "output_type": "stream",
     "text": [
      "\n",
      "Message received:\n",
      "    Data: <<{'messageCount': 826, 'humidity': 51, 'temperature': 23, 'timestamp': '2022-04-24\\n17:38:08'}>>\n",
      "\n",
      "Message received:\n",
      "    Data: <<{'messageCount': 827, 'humidity': 51, 'temperature': 23, 'timestamp': '2022-04-24\\n17:38:09'}>>\n",
      "\n",
      "Message received:\n",
      "    Data: <<{'messageCount': 829, 'humidity': 51, 'temperature': 23, 'timestamp': '2022-04-24\\n17:38:13'}>>\n"
     ]
    },
    {
     "name": "stderr",
     "output_type": "stream",
     "text": [
      "INFO:azure.eventhub:Received event from partition 1\n",
      "INFO:azure.eventhub:Received event from partition 1\n",
      "INFO:azure.eventhub:Received event from partition 1\n"
     ]
    },
    {
     "name": "stdout",
     "output_type": "stream",
     "text": [
      "\n",
      "Message received:\n",
      "    Data: <<{'messageCount': 830, 'humidity': 51, 'temperature': 23, 'timestamp': '2022-04-24\\n17:38:14'}>>\n",
      "\n",
      "Message received:\n",
      "    Data: <<{'messageCount': 831, 'humidity': 51, 'temperature': 23, 'timestamp': '2022-04-24\\n17:38:16'}>>\n",
      "\n",
      "Message received:\n",
      "    Data: <<{'messageCount': 832, 'humidity': 51, 'temperature': 23, 'timestamp': '2022-04-24\\n17:38:17'}>>\n",
      "\n",
      "Message received:\n",
      "    Data: <<{'messageCount': 833, 'humidity': 51, 'temperature': 23, 'timestamp': '2022-04-24\\n17:38:18'}>>\n"
     ]
    },
    {
     "name": "stderr",
     "output_type": "stream",
     "text": [
      "INFO:azure.eventhub:Received event from partition 1\n",
      "INFO:azure.eventhub:Received event from partition 1\n",
      "INFO:azure.eventhub:Received event from partition 1\n",
      "INFO:azure.eventhub:Received event from partition 1\n"
     ]
    },
    {
     "name": "stdout",
     "output_type": "stream",
     "text": [
      "\n",
      "Message received:\n",
      "    Data: <<{'messageCount': 834, 'humidity': 51, 'temperature': 23, 'timestamp': '2022-04-24\\n17:38:19'}>>\n",
      "\n",
      "Message received:\n",
      "    Data: <<{'messageCount': 835, 'humidity': 51, 'temperature': 23, 'timestamp': '2022-04-24\\n17:38:20'}>>\n",
      "\n",
      "Message received:\n",
      "    Data: <<{'messageCount': 836, 'humidity': 51, 'temperature': 23, 'timestamp': '2022-04-24\\n17:38:21'}>>\n"
     ]
    },
    {
     "name": "stderr",
     "output_type": "stream",
     "text": [
      "INFO:azure.eventhub:Received event from partition 1\n",
      "INFO:azure.eventhub:Received event from partition 1\n",
      "INFO:azure.eventhub:Received event from partition 1\n"
     ]
    },
    {
     "name": "stdout",
     "output_type": "stream",
     "text": [
      "\n",
      "Message received:\n",
      "    Data: <<{'messageCount': 837, 'humidity': 51, 'temperature': 23, 'timestamp': '2022-04-24\\n17:38:23'}>>\n",
      "\n",
      "Message received:\n",
      "    Data: <<{'messageCount': 838, 'humidity': 51, 'temperature': 23, 'timestamp': '2022-04-24\\n17:38:24'}>>\n",
      "\n",
      "Message received:\n",
      "    Data: <<{'messageCount': 839, 'humidity': 51, 'temperature': 23, 'timestamp': '2022-04-24\\n17:38:25'}>>\n"
     ]
    },
    {
     "name": "stderr",
     "output_type": "stream",
     "text": [
      "INFO:azure.eventhub:Received event from partition 1\n",
      "INFO:azure.eventhub:Received event from partition 1\n",
      "INFO:azure.eventhub:Received event from partition 1\n"
     ]
    },
    {
     "name": "stdout",
     "output_type": "stream",
     "text": [
      "\n",
      "Message received:\n",
      "    Data: <<{'messageCount': 840, 'humidity': 51, 'temperature': 23, 'timestamp': '2022-04-24\\n17:38:26'}>>\n",
      "\n",
      "Message received:\n",
      "    Data: <<{'messageCount': 842, 'humidity': 51, 'temperature': 23, 'timestamp': '2022-04-24\\n17:38:28'}>>\n",
      "\n",
      "Message received:\n",
      "    Data: <<{'messageCount': 841, 'humidity': 51, 'temperature': 23, 'timestamp': '2022-04-24\\n17:38:27'}>>\n"
     ]
    },
    {
     "name": "stderr",
     "output_type": "stream",
     "text": [
      "INFO:azure.eventhub:Received event from partition 1\n",
      "INFO:azure.eventhub:Received event from partition 1\n",
      "INFO:azure.eventhub:Received event from partition 1\n"
     ]
    },
    {
     "name": "stdout",
     "output_type": "stream",
     "text": [
      "\n",
      "Message received:\n",
      "    Data: <<{'messageCount': 843, 'humidity': 51, 'temperature': 22, 'timestamp': '2022-04-24\\n17:38:30'}>>\n",
      "\n",
      "Message received:\n",
      "    Data: <<{'messageCount': 845, 'humidity': 51, 'temperature': 23, 'timestamp': '2022-04-24\\n17:38:32'}>>\n",
      "\n",
      "Message received:\n",
      "    Data: <<{'messageCount': 844, 'humidity': 51, 'temperature': 22, 'timestamp': '2022-04-24\\n17:38:31'}>>\n"
     ]
    },
    {
     "name": "stderr",
     "output_type": "stream",
     "text": [
      "INFO:azure.eventhub:Received event from partition 1\n",
      "INFO:azure.eventhub:Received event from partition 1\n",
      "INFO:azure.eventhub:Received event from partition 1\n"
     ]
    },
    {
     "name": "stdout",
     "output_type": "stream",
     "text": [
      "\n",
      "Message received:\n",
      "    Data: <<{'messageCount': 846, 'humidity': 51, 'temperature': 23, 'timestamp': '2022-04-24\\n17:38:33'}>>\n",
      "\n",
      "Message received:\n",
      "    Data: <<{'messageCount': 848, 'humidity': 51, 'temperature': 23, 'timestamp': '2022-04-24\\n17:38:38'}>>\n",
      "\n",
      "Message received:\n",
      "    Data: <<{'messageCount': 849, 'humidity': 51, 'temperature': 23, 'timestamp': '2022-04-24\\n17:38:39'}>>\n"
     ]
    },
    {
     "name": "stderr",
     "output_type": "stream",
     "text": [
      "INFO:azure.eventhub:Received event from partition 1\n",
      "INFO:azure.eventhub:Received event from partition 1\n",
      "INFO:azure.eventhub:Received event from partition 1\n"
     ]
    },
    {
     "name": "stdout",
     "output_type": "stream",
     "text": [
      "\n",
      "Message received:\n",
      "    Data: <<{'messageCount': 850, 'humidity': 51, 'temperature': 22, 'timestamp': '2022-04-24\\n17:38:40'}>>\n",
      "\n",
      "Message received:\n",
      "    Data: <<{'messageCount': 851, 'humidity': 51, 'temperature': 22, 'timestamp': '2022-04-24\\n17:38:41'}>>\n",
      "\n",
      "Message received:\n",
      "    Data: <<{'messageCount': 852, 'humidity': 51, 'temperature': 23, 'timestamp': '2022-04-24\\n17:38:43'}>>\n"
     ]
    },
    {
     "name": "stderr",
     "output_type": "stream",
     "text": [
      "INFO:azure.eventhub:Received event from partition 1\n",
      "INFO:azure.eventhub:Received event from partition 1\n",
      "INFO:azure.eventhub:Received event from partition 1\n"
     ]
    },
    {
     "name": "stdout",
     "output_type": "stream",
     "text": [
      "\n",
      "Message received:\n",
      "    Data: <<{'messageCount': 853, 'humidity': 51, 'temperature': 23, 'timestamp': '2022-04-24\\n17:38:44'}>>\n",
      "\n",
      "Message received:\n",
      "    Data: <<{'messageCount': 854, 'humidity': 51, 'temperature': 23, 'timestamp': '2022-04-24\\n17:38:45'}>>\n",
      "\n",
      "Message received:\n",
      "    Data: <<{'messageCount': 855, 'humidity': 51, 'temperature': 23, 'timestamp': '2022-04-24\\n17:38:46'}>>\n"
     ]
    },
    {
     "name": "stderr",
     "output_type": "stream",
     "text": [
      "INFO:azure.eventhub:Received event from partition 1\n",
      "INFO:azure.eventhub:Received event from partition 1\n",
      "INFO:azure.eventhub:Received event from partition 1\n",
      "INFO:azure.eventhub:Received event from partition 1\n"
     ]
    },
    {
     "name": "stdout",
     "output_type": "stream",
     "text": [
      "\n",
      "Message received:\n",
      "    Data: <<{'messageCount': 857, 'humidity': 51, 'temperature': 22, 'timestamp': '2022-04-24\\n17:38:48'}>>\n",
      "\n",
      "Message received:\n",
      "    Data: <<{'messageCount': 856, 'humidity': 51, 'temperature': 22, 'timestamp': '2022-04-24\\n17:38:47'}>>\n",
      "\n",
      "Message received:\n",
      "    Data: <<{'messageCount': 859, 'humidity': 51, 'temperature': 23, 'timestamp': '2022-04-24\\n17:38:53'}>>\n",
      "\n",
      "Message received:\n",
      "    Data: <<{'messageCount': 861, 'humidity': 51, 'temperature': 23, 'timestamp': '2022-04-24\\n17:38:55'}>>\n",
      "\n",
      "Message received:\n",
      "    Data: <<{'messageCount': 860, 'humidity': 51, 'temperature': 23, 'timestamp': '2022-04-24\\n17:38:54'}>>\n"
     ]
    },
    {
     "name": "stderr",
     "output_type": "stream",
     "text": [
      "INFO:azure.eventhub:Received event from partition 1\n",
      "INFO:azure.eventhub:Received event from partition 1\n",
      "INFO:azure.eventhub:Received event from partition 1\n",
      "INFO:azure.eventhub:Received event from partition 1\n"
     ]
    },
    {
     "name": "stdout",
     "output_type": "stream",
     "text": [
      "\n",
      "Message received:\n",
      "    Data: <<{'messageCount': 863, 'humidity': 51, 'temperature': 23, 'timestamp': '2022-04-24\\n17:38:57'}>>\n",
      "\n",
      "Message received:\n",
      "    Data: <<{'messageCount': 862, 'humidity': 51, 'temperature': 23, 'timestamp': '2022-04-24\\n17:38:56'}>>\n",
      "\n",
      "Message received:\n",
      "    Data: <<{'messageCount': 864, 'humidity': 51, 'temperature': 23, 'timestamp': '2022-04-24\\n17:38:58'}>>\n"
     ]
    },
    {
     "name": "stderr",
     "output_type": "stream",
     "text": [
      "INFO:azure.eventhub:Received event from partition 1\n",
      "INFO:azure.eventhub:Received event from partition 1\n",
      "INFO:azure.eventhub:Received event from partition 1\n"
     ]
    },
    {
     "name": "stdout",
     "output_type": "stream",
     "text": [
      "\n",
      "Message received:\n",
      "    Data: <<{'messageCount': 865, 'humidity': 51, 'temperature': 23, 'timestamp': '2022-04-24\\n17:39:00'}>>\n",
      "\n",
      "Message received:\n",
      "    Data: <<{'messageCount': 866, 'humidity': 51, 'temperature': 23, 'timestamp': '2022-04-24\\n17:39:02'}>>\n",
      "\n",
      "Message received:\n",
      "    Data: <<{'messageCount': 867, 'humidity': 51, 'temperature': 23, 'timestamp': '2022-04-24\\n17:39:03'}>>\n"
     ]
    },
    {
     "name": "stderr",
     "output_type": "stream",
     "text": [
      "INFO:azure.eventhub:Received event from partition 1\n",
      "INFO:azure.eventhub:Received event from partition 1\n",
      "INFO:azure.eventhub:Received event from partition 1\n"
     ]
    },
    {
     "name": "stdout",
     "output_type": "stream",
     "text": [
      "\n",
      "Message received:\n",
      "    Data: <<{'messageCount': 868, 'humidity': 51, 'temperature': 23, 'timestamp': '2022-04-24\\n17:39:04'}>>\n",
      "\n",
      "Message received:\n",
      "    Data: <<{'messageCount': 869, 'humidity': 51, 'temperature': 23, 'timestamp': '2022-04-24\\n17:39:05'}>>\n",
      "\n",
      "Message received:\n",
      "    Data: <<{'messageCount': 870, 'humidity': 51, 'temperature': 23, 'timestamp': '2022-04-24\\n17:39:08'}>>\n"
     ]
    },
    {
     "name": "stderr",
     "output_type": "stream",
     "text": [
      "INFO:azure.eventhub:Received event from partition 1\n",
      "INFO:azure.eventhub:Received event from partition 1\n",
      "INFO:azure.eventhub:Received event from partition 1\n"
     ]
    },
    {
     "name": "stdout",
     "output_type": "stream",
     "text": [
      "\n",
      "Message received:\n",
      "    Data: <<{'messageCount': 871, 'humidity': 51, 'temperature': 23, 'timestamp': '2022-04-24\\n17:39:09'}>>\n",
      "\n",
      "Message received:\n",
      "    Data: <<{'messageCount': 872, 'humidity': 51, 'temperature': 22, 'timestamp': '2022-04-24\\n17:39:11'}>>\n",
      "\n",
      "Message received:\n",
      "    Data: <<{'messageCount': 873, 'humidity': 51, 'temperature': 22, 'timestamp': '2022-04-24\\n17:39:12'}>>\n"
     ]
    },
    {
     "name": "stderr",
     "output_type": "stream",
     "text": [
      "INFO:azure.eventhub:Received event from partition 1\n",
      "INFO:azure.eventhub:Received event from partition 1\n",
      "INFO:azure.eventhub:Received event from partition 1\n"
     ]
    },
    {
     "name": "stdout",
     "output_type": "stream",
     "text": [
      "\n",
      "Message received:\n",
      "    Data: <<{'messageCount': 874, 'humidity': 51, 'temperature': 23, 'timestamp': '2022-04-24\\n17:39:13'}>>\n",
      "\n",
      "Message received:\n",
      "    Data: <<{'messageCount': 875, 'humidity': 51, 'temperature': 23, 'timestamp': '2022-04-24\\n17:39:14'}>>\n",
      "\n",
      "Message received:\n",
      "    Data: <<{'messageCount': 876, 'humidity': 51, 'temperature': 23, 'timestamp': '2022-04-24\\n17:39:16'}>>\n"
     ]
    },
    {
     "name": "stderr",
     "output_type": "stream",
     "text": [
      "INFO:azure.eventhub:Received event from partition 1\n",
      "INFO:azure.eventhub:Received event from partition 1\n",
      "INFO:azure.eventhub:Received event from partition 1\n"
     ]
    },
    {
     "name": "stdout",
     "output_type": "stream",
     "text": [
      "\n",
      "Message received:\n",
      "    Data: <<{'messageCount': 877, 'humidity': 51, 'temperature': 23, 'timestamp': '2022-04-24\\n17:39:17'}>>\n",
      "\n",
      "Message received:\n",
      "    Data: <<{'messageCount': 878, 'humidity': 51, 'temperature': 23, 'timestamp': '2022-04-24\\n17:39:18'}>>\n",
      "\n",
      "Message received:\n",
      "    Data: <<{'messageCount': 879, 'humidity': 51, 'temperature': 23, 'timestamp': '2022-04-24\\n17:39:19'}>>\n"
     ]
    },
    {
     "name": "stderr",
     "output_type": "stream",
     "text": [
      "INFO:azure.eventhub:Received event from partition 1\n",
      "INFO:azure.eventhub:Received event from partition 1\n",
      "INFO:azure.eventhub:Received event from partition 1\n"
     ]
    },
    {
     "name": "stdout",
     "output_type": "stream",
     "text": [
      "\n",
      "Message received:\n",
      "    Data: <<{'messageCount': 880, 'humidity': 51, 'temperature': 23, 'timestamp': '2022-04-24\\n17:39:23'}>>\n",
      "\n",
      "Message received:\n",
      "    Data: <<{'messageCount': 881, 'humidity': 51, 'temperature': 23, 'timestamp': '2022-04-24\\n17:39:24'}>>\n",
      "\n",
      "Message received:\n",
      "    Data: <<{'messageCount': 882, 'humidity': 51, 'temperature': 22, 'timestamp': '2022-04-24\\n17:39:25'}>>\n"
     ]
    },
    {
     "name": "stderr",
     "output_type": "stream",
     "text": [
      "INFO:azure.eventhub:Received event from partition 1\n",
      "INFO:azure.eventhub:Received event from partition 1\n",
      "INFO:azure.eventhub:Received event from partition 1\n"
     ]
    },
    {
     "name": "stdout",
     "output_type": "stream",
     "text": [
      "\n",
      "Message received:\n",
      "    Data: <<{'messageCount': 883, 'humidity': 51, 'temperature': 22, 'timestamp': '2022-04-24\\n17:39:26'}>>\n",
      "\n",
      "Message received:\n",
      "    Data: <<{'messageCount': 884, 'humidity': 51, 'temperature': 23, 'timestamp': '2022-04-24\\n17:39:28'}>>\n",
      "\n",
      "Message received:\n",
      "    Data: <<{'messageCount': 885, 'humidity': 51, 'temperature': 23, 'timestamp': '2022-04-24\\n17:39:33'}>>\n"
     ]
    },
    {
     "name": "stderr",
     "output_type": "stream",
     "text": [
      "INFO:azure.eventhub:Received event from partition 1\n",
      "INFO:azure.eventhub:Received event from partition 1\n",
      "INFO:azure.eventhub:Received event from partition 1\n"
     ]
    },
    {
     "name": "stdout",
     "output_type": "stream",
     "text": [
      "\n",
      "Message received:\n",
      "    Data: <<{'messageCount': 886, 'humidity': 51, 'temperature': 23, 'timestamp': '2022-04-24\\n17:39:34'}>>\n",
      "\n",
      "Message received:\n",
      "    Data: <<{'messageCount': 887, 'humidity': 50, 'temperature': 22, 'timestamp': '2022-04-24\\n17:39:35'}>>\n",
      "\n",
      "Message received:\n",
      "    Data: <<{'messageCount': 888, 'humidity': 50, 'temperature': 22, 'timestamp': '2022-04-24\\n17:39:36'}>>\n",
      "\n",
      "Message received:\n",
      "    Data: <<{'messageCount': 889, 'humidity': 51, 'temperature': 23, 'timestamp': '2022-04-24\\n17:39:38'}>>\n"
     ]
    },
    {
     "name": "stderr",
     "output_type": "stream",
     "text": [
      "INFO:azure.eventhub:Received event from partition 1\n",
      "INFO:azure.eventhub:Received event from partition 1\n",
      "INFO:azure.eventhub:Received event from partition 1\n",
      "INFO:azure.eventhub:Received event from partition 1\n"
     ]
    },
    {
     "name": "stdout",
     "output_type": "stream",
     "text": [
      "\n",
      "Message received:\n",
      "    Data: <<{'messageCount': 890, 'humidity': 51, 'temperature': 23, 'timestamp': '2022-04-24\\n17:39:39'}>>\n",
      "\n",
      "Message received:\n",
      "    Data: <<{'messageCount': 892, 'humidity': 50, 'temperature': 23, 'timestamp': '2022-04-24\\n17:39:41'}>>\n",
      "\n",
      "Message received:\n",
      "    Data: <<{'messageCount': 891, 'humidity': 50, 'temperature': 23, 'timestamp': '2022-04-24\\n17:39:40'}>>\n"
     ]
    },
    {
     "name": "stderr",
     "output_type": "stream",
     "text": [
      "INFO:azure.eventhub:Received event from partition 1\n",
      "INFO:azure.eventhub:Received event from partition 1\n",
      "INFO:azure.eventhub:Received event from partition 1\n"
     ]
    },
    {
     "name": "stdout",
     "output_type": "stream",
     "text": [
      "\n",
      "Message received:\n",
      "    Data: <<{'messageCount': 893, 'humidity': 50, 'temperature': 22, 'timestamp': '2022-04-24\\n17:39:42'}>>\n",
      "\n",
      "Message received:\n",
      "    Data: <<{'messageCount': 894, 'humidity': 50, 'temperature': 22, 'timestamp': '2022-04-24\\n17:39:43'}>>\n",
      "\n",
      "Message received:\n",
      "    Data: <<{'messageCount': 895, 'humidity': 51, 'temperature': 22, 'timestamp': '2022-04-24\\n17:39:49'}>>\n"
     ]
    },
    {
     "name": "stderr",
     "output_type": "stream",
     "text": [
      "INFO:azure.eventhub:Received event from partition 1\n",
      "INFO:azure.eventhub:Received event from partition 1\n",
      "INFO:azure.eventhub:Received event from partition 1\n"
     ]
    },
    {
     "name": "stdout",
     "output_type": "stream",
     "text": [
      "\n",
      "Message received:\n",
      "    Data: <<{'messageCount': 896, 'humidity': 51, 'temperature': 23, 'timestamp': '2022-04-24\\n17:39:51'}>>\n",
      "\n",
      "Message received:\n",
      "    Data: <<{'messageCount': 897, 'humidity': 51, 'temperature': 23, 'timestamp': '2022-04-24\\n17:39:52'}>>\n",
      "\n",
      "Message received:\n",
      "    Data: <<{'messageCount': 898, 'humidity': 51, 'temperature': 22, 'timestamp': '2022-04-24\\n17:39:53'}>>\n"
     ]
    },
    {
     "name": "stderr",
     "output_type": "stream",
     "text": [
      "INFO:azure.eventhub:Received event from partition 1\n",
      "INFO:azure.eventhub:Received event from partition 1\n",
      "INFO:azure.eventhub:Received event from partition 1\n"
     ]
    },
    {
     "name": "stdout",
     "output_type": "stream",
     "text": [
      "\n",
      "Message received:\n",
      "    Data: <<{'messageCount': 899, 'humidity': 51, 'temperature': 22, 'timestamp': '2022-04-24\\n17:39:54'}>>\n",
      "\n",
      "Message received:\n",
      "    Data: <<{'messageCount': 900, 'humidity': 51, 'temperature': 22, 'timestamp': '2022-04-24\\n17:40:02'}>>\n",
      "\n",
      "Message received:\n",
      "    Data: <<{'messageCount': 901, 'humidity': 51, 'temperature': 22, 'timestamp': '2022-04-24\\n17:40:04'}>>\n"
     ]
    },
    {
     "name": "stderr",
     "output_type": "stream",
     "text": [
      "INFO:azure.eventhub:Received event from partition 1\n",
      "INFO:azure.eventhub:Received event from partition 1\n",
      "INFO:azure.eventhub:Received event from partition 1\n"
     ]
    },
    {
     "name": "stdout",
     "output_type": "stream",
     "text": [
      "\n",
      "Message received:\n",
      "    Data: <<{'messageCount': 902, 'humidity': 51, 'temperature': 23, 'timestamp': '2022-04-24\\n17:40:05'}>>\n",
      "\n",
      "Message received:\n",
      "    Data: <<{'messageCount': 903, 'humidity': 51, 'temperature': 23, 'timestamp': '2022-04-24\\n17:40:06'}>>\n",
      "\n",
      "Message received:\n",
      "    Data: <<{'messageCount': 904, 'humidity': 51, 'temperature': 22, 'timestamp': '2022-04-24\\n17:40:11'}>>\n",
      "\n",
      "Message received:\n",
      "    Data: <<{'messageCount': 905, 'humidity': 51, 'temperature': 22, 'timestamp': '2022-04-24\\n17:40:12'}>>\n"
     ]
    },
    {
     "name": "stderr",
     "output_type": "stream",
     "text": [
      "INFO:azure.eventhub:Received event from partition 1\n",
      "INFO:azure.eventhub:Received event from partition 1\n",
      "INFO:azure.eventhub:Received event from partition 1\n",
      "INFO:azure.eventhub:Received event from partition 1\n"
     ]
    },
    {
     "name": "stdout",
     "output_type": "stream",
     "text": [
      "\n",
      "Message received:\n",
      "    Data: <<{'messageCount': 906, 'humidity': 51, 'temperature': 22, 'timestamp': '2022-04-24\\n17:40:14'}>>\n",
      "\n",
      "Message received:\n",
      "    Data: <<{'messageCount': 907, 'humidity': 51, 'temperature': 22, 'timestamp': '2022-04-24\\n17:40:15'}>>\n",
      "\n",
      "Message received:\n",
      "    Data: <<{'messageCount': 909, 'humidity': 51, 'temperature': 23, 'timestamp': '2022-04-24\\n17:40:19'}>>\n"
     ]
    },
    {
     "name": "stderr",
     "output_type": "stream",
     "text": [
      "INFO:azure.eventhub:Received event from partition 1\n",
      "INFO:azure.eventhub:Received event from partition 1\n",
      "INFO:azure.eventhub:Received event from partition 1\n"
     ]
    },
    {
     "name": "stdout",
     "output_type": "stream",
     "text": [
      "\n",
      "Message received:\n",
      "    Data: <<{'messageCount': 910, 'humidity': 50, 'temperature': 23, 'timestamp': '2022-04-24\\n17:40:23'}>>\n",
      "\n",
      "Message received:\n",
      "    Data: <<{'messageCount': 911, 'humidity': 50, 'temperature': 23, 'timestamp': '2022-04-24\\n17:40:24'}>>\n",
      "\n",
      "Message received:\n",
      "    Data: <<{'messageCount': 912, 'humidity': 50, 'temperature': 23, 'timestamp': '2022-04-24\\n17:40:26'}>>\n"
     ]
    },
    {
     "name": "stderr",
     "output_type": "stream",
     "text": [
      "INFO:azure.eventhub:Received event from partition 1\n",
      "INFO:azure.eventhub:Received event from partition 1\n",
      "INFO:azure.eventhub:Received event from partition 1\n"
     ]
    },
    {
     "name": "stdout",
     "output_type": "stream",
     "text": [
      "\n",
      "Message received:\n",
      "    Data: <<{'messageCount': 913, 'humidity': 50, 'temperature': 23, 'timestamp': '2022-04-24\\n17:40:27'}>>\n",
      "\n",
      "Message received:\n",
      "    Data: <<{'messageCount': 914, 'humidity': 51, 'temperature': 22, 'timestamp': '2022-04-24\\n17:40:28'}>>\n",
      "\n",
      "Message received:\n",
      "    Data: <<{'messageCount': 915, 'humidity': 51, 'temperature': 22, 'timestamp': '2022-04-24\\n17:40:29'}>>\n"
     ]
    },
    {
     "name": "stderr",
     "output_type": "stream",
     "text": [
      "INFO:azure.eventhub:Received event from partition 1\n",
      "INFO:azure.eventhub:Received event from partition 1\n",
      "INFO:azure.eventhub:Received event from partition 1\n"
     ]
    },
    {
     "name": "stdout",
     "output_type": "stream",
     "text": [
      "\n",
      "Message received:\n",
      "    Data: <<{'messageCount': 916, 'humidity': 51, 'temperature': 22, 'timestamp': '2022-04-24\\n17:40:30'}>>\n",
      "\n",
      "Message received:\n",
      "    Data: <<{'messageCount': 917, 'humidity': 51, 'temperature': 22, 'timestamp': '2022-04-24\\n17:40:31'}>>\n",
      "\n",
      "Message received:\n",
      "    Data: <<{'messageCount': 918, 'humidity': 51, 'temperature': 23, 'timestamp': '2022-04-24\\n17:40:33'}>>\n"
     ]
    },
    {
     "name": "stderr",
     "output_type": "stream",
     "text": [
      "INFO:azure.eventhub:Received event from partition 1\n",
      "INFO:azure.eventhub:Received event from partition 1\n",
      "INFO:azure.eventhub:Received event from partition 1\n"
     ]
    },
    {
     "name": "stdout",
     "output_type": "stream",
     "text": [
      "\n",
      "Message received:\n",
      "    Data: <<{'messageCount': 919, 'humidity': 51, 'temperature': 22, 'timestamp': '2022-04-24\\n17:40:35'}>>\n",
      "\n",
      "Message received:\n",
      "    Data: <<{'messageCount': 920, 'humidity': 51, 'temperature': 22, 'timestamp': '2022-04-24\\n17:40:36'}>>\n",
      "\n",
      "Message received:\n",
      "    Data: <<{'messageCount': 921, 'humidity': 51, 'temperature': 22, 'timestamp': '2022-04-24\\n17:40:37'}>>\n",
      "\n",
      "Message received:\n",
      "    Data: <<{'messageCount': 922, 'humidity': 51, 'temperature': 22, 'timestamp': '2022-04-24\\n17:40:38'}>>\n"
     ]
    },
    {
     "name": "stderr",
     "output_type": "stream",
     "text": [
      "INFO:azure.eventhub:Received event from partition 1\n",
      "INFO:azure.eventhub:Received event from partition 1\n",
      "INFO:azure.eventhub:Received event from partition 1\n",
      "INFO:azure.eventhub:Received event from partition 1\n"
     ]
    },
    {
     "name": "stdout",
     "output_type": "stream",
     "text": [
      "\n",
      "Message received:\n",
      "    Data: <<{'messageCount': 923, 'humidity': 51, 'temperature': 23, 'timestamp': '2022-04-24\\n17:40:44'}>>\n",
      "\n",
      "Message received:\n",
      "    Data: <<{'messageCount': 924, 'humidity': 51, 'temperature': 23, 'timestamp': '2022-04-24\\n17:40:45'}>>\n",
      "\n",
      "Message received:\n",
      "    Data: <<{'messageCount': 925, 'humidity': 51, 'temperature': 22, 'timestamp': '2022-04-24\\n17:40:46'}>>\n"
     ]
    },
    {
     "name": "stderr",
     "output_type": "stream",
     "text": [
      "INFO:azure.eventhub:Received event from partition 1\n",
      "INFO:azure.eventhub:Received event from partition 1\n",
      "INFO:azure.eventhub:Received event from partition 1\n"
     ]
    },
    {
     "name": "stdout",
     "output_type": "stream",
     "text": [
      "\n",
      "Message received:\n",
      "    Data: <<{'messageCount': 926, 'humidity': 51, 'temperature': 22, 'timestamp': '2022-04-24\\n17:40:47'}>>\n",
      "\n",
      "Message received:\n",
      "    Data: <<{'messageCount': 927, 'humidity': 51, 'temperature': 22, 'timestamp': '2022-04-24\\n17:40:48'}>>\n",
      "\n",
      "Message received:\n",
      "    Data: <<{'messageCount': 928, 'humidity': 51, 'temperature': 22, 'timestamp': '2022-04-24\\n17:40:49'}>>\n"
     ]
    },
    {
     "name": "stderr",
     "output_type": "stream",
     "text": [
      "INFO:azure.eventhub:Received event from partition 1\n",
      "INFO:azure.eventhub:Received event from partition 1\n",
      "INFO:azure.eventhub:Received event from partition 1\n"
     ]
    },
    {
     "name": "stdout",
     "output_type": "stream",
     "text": [
      "\n",
      "Message received:\n",
      "    Data: <<{'messageCount': 929, 'humidity': 51, 'temperature': 22, 'timestamp': '2022-04-24\\n17:40:51'}>>\n",
      "\n",
      "Message received:\n",
      "    Data: <<{'messageCount': 930, 'humidity': 51, 'temperature': 22, 'timestamp': '2022-04-24\\n17:40:52'}>>\n",
      "\n",
      "Message received:\n",
      "    Data: <<{'messageCount': 932, 'humidity': 51, 'temperature': 22, 'timestamp': '2022-04-24\\n17:40:56'}>>\n"
     ]
    },
    {
     "name": "stderr",
     "output_type": "stream",
     "text": [
      "INFO:azure.eventhub:Received event from partition 1\n",
      "INFO:azure.eventhub:Received event from partition 1\n",
      "INFO:azure.eventhub:Received event from partition 1\n"
     ]
    },
    {
     "name": "stdout",
     "output_type": "stream",
     "text": [
      "\n",
      "Message received:\n",
      "    Data: <<{'messageCount': 933, 'humidity': 51, 'temperature': 22, 'timestamp': '2022-04-24\\n17:40:57'}>>\n",
      "\n",
      "Message received:\n",
      "    Data: <<{'messageCount': 934, 'humidity': 51, 'temperature': 22, 'timestamp': '2022-04-24\\n17:40:59'}>>\n",
      "\n",
      "Message received:\n",
      "    Data: <<{'messageCount': 935, 'humidity': 51, 'temperature': 22, 'timestamp': '2022-04-24\\n17:41:00'}>>\n"
     ]
    },
    {
     "name": "stderr",
     "output_type": "stream",
     "text": [
      "INFO:azure.eventhub:Received event from partition 1\n",
      "INFO:azure.eventhub:Received event from partition 1\n",
      "INFO:azure.eventhub:Received event from partition 1\n"
     ]
    },
    {
     "name": "stdout",
     "output_type": "stream",
     "text": [
      "\n",
      "Message received:\n",
      "    Data: <<{'messageCount': 936, 'humidity': 51, 'temperature': 22, 'timestamp': '2022-04-24\\n17:41:02'}>>\n",
      "\n",
      "Message received:\n",
      "    Data: <<{'messageCount': 937, 'humidity': 51, 'temperature': 22, 'timestamp': '2022-04-24\\n17:41:03'}>>\n",
      "\n",
      "Message received:\n",
      "    Data: <<{'messageCount': 938, 'humidity': 51, 'temperature': 22, 'timestamp': '2022-04-24\\n17:41:04'}>>\n",
      "\n",
      "Message received:\n",
      "    Data: <<{'messageCount': 939, 'humidity': 51, 'temperature': 22, 'timestamp': '2022-04-24\\n17:41:05'}>>\n"
     ]
    },
    {
     "name": "stderr",
     "output_type": "stream",
     "text": [
      "INFO:azure.eventhub:Received event from partition 1\n",
      "INFO:azure.eventhub:Received event from partition 1\n",
      "INFO:azure.eventhub:Received event from partition 1\n",
      "INFO:azure.eventhub:Received event from partition 1\n"
     ]
    },
    {
     "name": "stdout",
     "output_type": "stream",
     "text": [
      "\n",
      "Message received:\n",
      "    Data: <<{'messageCount': 943, 'humidity': 51, 'temperature': 22, 'timestamp': '2022-04-24\\n17:41:23'}>>\n",
      "\n",
      "Message received:\n",
      "    Data: <<{'messageCount': 944, 'humidity': 51, 'temperature': 22, 'timestamp': '2022-04-24\\n17:41:24'}>>\n",
      "\n",
      "Message received:\n",
      "    Data: <<{'messageCount': 945, 'humidity': 50, 'temperature': 22, 'timestamp': '2022-04-24\\n17:41:26'}>>\n",
      "\n",
      "Message received:\n",
      "    Data: <<{'messageCount': 946, 'humidity': 50, 'temperature': 22, 'timestamp': '2022-04-24\\n17:41:27'}>>\n"
     ]
    },
    {
     "name": "stderr",
     "output_type": "stream",
     "text": [
      "INFO:azure.eventhub:Received event from partition 1\n",
      "INFO:azure.eventhub:Received event from partition 1\n",
      "INFO:azure.eventhub:Received event from partition 1\n",
      "INFO:azure.eventhub:Received event from partition 1\n"
     ]
    },
    {
     "name": "stdout",
     "output_type": "stream",
     "text": [
      "\n",
      "Message received:\n",
      "    Data: <<{'messageCount': 947, 'humidity': 51, 'temperature': 23, 'timestamp': '2022-04-24\\n17:41:28'}>>\n",
      "\n",
      "Message received:\n",
      "    Data: <<{'messageCount': 948, 'humidity': 51, 'temperature': 23, 'timestamp': '2022-04-24\\n17:41:29'}>>\n",
      "\n",
      "Message received:\n",
      "    Data: <<{'messageCount': 949, 'humidity': 51, 'temperature': 22, 'timestamp': '2022-04-24\\n17:41:31'}>>\n"
     ]
    },
    {
     "name": "stderr",
     "output_type": "stream",
     "text": [
      "INFO:azure.eventhub:Received event from partition 1\n",
      "INFO:azure.eventhub:Received event from partition 1\n",
      "INFO:azure.eventhub:Received event from partition 1\n"
     ]
    },
    {
     "name": "stdout",
     "output_type": "stream",
     "text": [
      "\n",
      "Message received:\n",
      "    Data: <<{'messageCount': 950, 'humidity': 51, 'temperature': 22, 'timestamp': '2022-04-24\\n17:41:37'}>>\n",
      "\n",
      "Message received:\n",
      "    Data: <<{'messageCount': 951, 'humidity': 51, 'temperature': 22, 'timestamp': '2022-04-24\\n17:41:38'}>>\n",
      "\n",
      "Message received:\n",
      "    Data: <<{'messageCount': 952, 'humidity': 51, 'temperature': 22, 'timestamp': '2022-04-24\\n17:41:40'}>>\n"
     ]
    },
    {
     "name": "stderr",
     "output_type": "stream",
     "text": [
      "INFO:azure.eventhub:Received event from partition 1\n",
      "INFO:azure.eventhub:Received event from partition 1\n",
      "INFO:azure.eventhub:Received event from partition 1\n"
     ]
    },
    {
     "name": "stdout",
     "output_type": "stream",
     "text": [
      "\n",
      "Message received:\n",
      "    Data: <<{'messageCount': 953, 'humidity': 51, 'temperature': 22, 'timestamp': '2022-04-24\\n17:41:41'}>>\n",
      "\n",
      "Message received:\n",
      "    Data: <<{'messageCount': 954, 'humidity': 50, 'temperature': 22, 'timestamp': '2022-04-24\\n17:41:42'}>>\n",
      "\n",
      "Message received:\n",
      "    Data: <<{'messageCount': 955, 'humidity': 50, 'temperature': 22, 'timestamp': '2022-04-24\\n17:41:43'}>>\n"
     ]
    },
    {
     "name": "stderr",
     "output_type": "stream",
     "text": [
      "INFO:azure.eventhub:Received event from partition 1\n",
      "INFO:azure.eventhub:Received event from partition 1\n",
      "INFO:azure.eventhub:Received event from partition 1\n"
     ]
    },
    {
     "name": "stdout",
     "output_type": "stream",
     "text": [
      "\n",
      "Message received:\n",
      "    Data: <<{'messageCount': 958, 'humidity': 50, 'temperature': 22, 'timestamp': '2022-04-24\\n17:41:48'}>>\n",
      "\n",
      "Message received:\n",
      "    Data: <<{'messageCount': 957, 'humidity': 50, 'temperature': 22, 'timestamp': '2022-04-24\\n17:41:47'}>>\n",
      "\n",
      "Message received:\n",
      "    Data: <<{'messageCount': 959, 'humidity': 51, 'temperature': 22, 'timestamp': '2022-04-24\\n17:41:51'}>>\n"
     ]
    },
    {
     "name": "stderr",
     "output_type": "stream",
     "text": [
      "INFO:azure.eventhub:Received event from partition 1\n",
      "INFO:azure.eventhub:Received event from partition 1\n",
      "INFO:azure.eventhub:Received event from partition 1\n"
     ]
    },
    {
     "name": "stdout",
     "output_type": "stream",
     "text": [
      "\n",
      "Message received:\n",
      "    Data: <<{'messageCount': 960, 'humidity': 51, 'temperature': 22, 'timestamp': '2022-04-24\\n17:41:52'}>>\n",
      "\n",
      "Message received:\n",
      "    Data: <<{'messageCount': 962, 'humidity': 51, 'temperature': 22, 'timestamp': '2022-04-24\\n17:41:54'}>>\n",
      "\n",
      "Message received:\n",
      "    Data: <<{'messageCount': 963, 'humidity': 51, 'temperature': 22, 'timestamp': '2022-04-24\\n17:41:56'}>>\n",
      "\n",
      "Message received:\n",
      "    Data: <<{'messageCount': 964, 'humidity': 51, 'temperature': 22, 'timestamp': '2022-04-24\\n17:41:57'}>>\n"
     ]
    },
    {
     "name": "stderr",
     "output_type": "stream",
     "text": [
      "INFO:azure.eventhub:Received event from partition 1\n",
      "INFO:azure.eventhub:Received event from partition 1\n",
      "INFO:azure.eventhub:Received event from partition 1\n",
      "INFO:azure.eventhub:Received event from partition 1\n"
     ]
    },
    {
     "name": "stdout",
     "output_type": "stream",
     "text": [
      "\n",
      "Message received:\n",
      "    Data: <<{'messageCount': 961, 'humidity': 51, 'temperature': 22, 'timestamp': '2022-04-24\\n17:41:53'}>>\n",
      "\n",
      "Message received:\n",
      "    Data: <<{'messageCount': 965, 'humidity': 51, 'temperature': 23, 'timestamp': '2022-04-24\\n17:41:58'}>>\n",
      "\n",
      "Message received:\n",
      "    Data: <<{'messageCount': 967, 'humidity': 51, 'temperature': 22, 'timestamp': '2022-04-24\\n17:42:00'}>>\n"
     ]
    },
    {
     "name": "stderr",
     "output_type": "stream",
     "text": [
      "INFO:azure.eventhub:Received event from partition 1\n",
      "INFO:azure.eventhub:Received event from partition 1\n",
      "INFO:azure.eventhub:Received event from partition 1\n"
     ]
    },
    {
     "name": "stdout",
     "output_type": "stream",
     "text": [
      "\n",
      "Message received:\n",
      "    Data: <<{'messageCount': 966, 'humidity': 51, 'temperature': 23, 'timestamp': '2022-04-24\\n17:41:59'}>>\n",
      "\n",
      "Message received:\n",
      "    Data: <<{'messageCount': 968, 'humidity': 51, 'temperature': 22, 'timestamp': '2022-04-24\\n17:42:01'}>>\n",
      "\n",
      "Message received:\n",
      "    Data: <<{'messageCount': 969, 'humidity': 51, 'temperature': 22, 'timestamp': '2022-04-24\\n17:42:03'}>>\n"
     ]
    },
    {
     "name": "stderr",
     "output_type": "stream",
     "text": [
      "INFO:azure.eventhub:Received event from partition 1\n",
      "INFO:azure.eventhub:Received event from partition 1\n",
      "INFO:azure.eventhub:Received event from partition 1\n"
     ]
    },
    {
     "name": "stdout",
     "output_type": "stream",
     "text": [
      "\n",
      "Message received:\n",
      "    Data: <<{'messageCount': 970, 'humidity': 51, 'temperature': 22, 'timestamp': '2022-04-24\\n17:42:04'}>>\n",
      "\n",
      "Message received:\n",
      "    Data: <<{'messageCount': 972, 'humidity': 51, 'temperature': 22, 'timestamp': '2022-04-24\\n17:42:07'}>>\n",
      "\n",
      "Message received:\n",
      "    Data: <<{'messageCount': 971, 'humidity': 51, 'temperature': 22, 'timestamp': '2022-04-24\\n17:42:06'}>>\n"
     ]
    },
    {
     "name": "stderr",
     "output_type": "stream",
     "text": [
      "INFO:azure.eventhub:Received event from partition 1\n",
      "INFO:azure.eventhub:Received event from partition 1\n",
      "INFO:azure.eventhub:Received event from partition 1\n"
     ]
    },
    {
     "name": "stdout",
     "output_type": "stream",
     "text": [
      "\n",
      "Message received:\n",
      "    Data: <<{'messageCount': 974, 'humidity': 51, 'temperature': 23, 'timestamp': '2022-04-24\\n17:42:09'}>>\n",
      "\n",
      "Message received:\n",
      "    Data: <<{'messageCount': 973, 'humidity': 51, 'temperature': 23, 'timestamp': '2022-04-24\\n17:42:08'}>>\n",
      "\n",
      "Message received:\n",
      "    Data: <<{'messageCount': 975, 'humidity': 51, 'temperature': 22, 'timestamp': '2022-04-24\\n17:42:14'}>>\n"
     ]
    },
    {
     "name": "stderr",
     "output_type": "stream",
     "text": [
      "INFO:azure.eventhub:Received event from partition 1\n",
      "INFO:azure.eventhub:Received event from partition 1\n",
      "INFO:azure.eventhub:Received event from partition 1\n"
     ]
    },
    {
     "name": "stdout",
     "output_type": "stream",
     "text": [
      "\n",
      "Message received:\n",
      "    Data: <<{'messageCount': 976, 'humidity': 51, 'temperature': 22, 'timestamp': '2022-04-24\\n17:42:15'}>>\n",
      "\n",
      "Message received:\n",
      "    Data: <<{'messageCount': 977, 'humidity': 51, 'temperature': 22, 'timestamp': '2022-04-24\\n17:42:17'}>>\n",
      "\n",
      "Message received:\n",
      "    Data: <<{'messageCount': 978, 'humidity': 51, 'temperature': 22, 'timestamp': '2022-04-24\\n17:42:18'}>>\n"
     ]
    },
    {
     "name": "stderr",
     "output_type": "stream",
     "text": [
      "INFO:azure.eventhub:Received event from partition 1\n",
      "INFO:azure.eventhub:Received event from partition 1\n",
      "INFO:azure.eventhub:Received event from partition 1\n"
     ]
    },
    {
     "name": "stdout",
     "output_type": "stream",
     "text": [
      "\n",
      "Message received:\n",
      "    Data: <<{'messageCount': 979, 'humidity': 51, 'temperature': 22, 'timestamp': '2022-04-24\\n17:42:19'}>>\n",
      "\n",
      "Message received:\n",
      "    Data: <<{'messageCount': 980, 'humidity': 51, 'temperature': 22, 'timestamp': '2022-04-24\\n17:42:20'}>>\n",
      "\n",
      "Message received:\n",
      "    Data: <<{'messageCount': 981, 'humidity': 51, 'temperature': 22, 'timestamp': '2022-04-24\\n17:42:22'}>>\n"
     ]
    },
    {
     "name": "stderr",
     "output_type": "stream",
     "text": [
      "INFO:azure.eventhub:Received event from partition 1\n",
      "INFO:azure.eventhub:Received event from partition 1\n",
      "INFO:azure.eventhub:Received event from partition 1\n"
     ]
    },
    {
     "name": "stdout",
     "output_type": "stream",
     "text": [
      "\n",
      "Message received:\n",
      "    Data: <<{'messageCount': 982, 'humidity': 51, 'temperature': 22, 'timestamp': '2022-04-24\\n17:42:23'}>>\n",
      "\n",
      "Message received:\n",
      "    Data: <<{'messageCount': 983, 'humidity': 51, 'temperature': 22, 'timestamp': '2022-04-24\\n17:42:24'}>>\n",
      "\n",
      "Message received:\n",
      "    Data: <<{'messageCount': 984, 'humidity': 51, 'temperature': 22, 'timestamp': '2022-04-24\\n17:42:25'}>>\n"
     ]
    },
    {
     "name": "stderr",
     "output_type": "stream",
     "text": [
      "INFO:azure.eventhub:Received event from partition 1\n",
      "INFO:azure.eventhub:Received event from partition 1\n",
      "INFO:azure.eventhub:Received event from partition 1\n"
     ]
    },
    {
     "name": "stdout",
     "output_type": "stream",
     "text": [
      "\n",
      "Message received:\n",
      "    Data: <<{'messageCount': 985, 'humidity': 51, 'temperature': 22, 'timestamp': '2022-04-24\\n17:42:27'}>>\n",
      "\n",
      "Message received:\n",
      "    Data: <<{'messageCount': 986, 'humidity': 51, 'temperature': 22, 'timestamp': '2022-04-24\\n17:42:28'}>>\n",
      "\n",
      "Message received:\n",
      "    Data: <<{'messageCount': 989, 'humidity': 51, 'temperature': 22, 'timestamp': '2022-04-24\\n17:42:33'}>>\n",
      "\n",
      "Message received:\n",
      "    Data: <<{'messageCount': 988, 'humidity': 51, 'temperature': 22, 'timestamp': '2022-04-24\\n17:42:32'}>>\n"
     ]
    },
    {
     "name": "stderr",
     "output_type": "stream",
     "text": [
      "INFO:azure.eventhub:Received event from partition 1\n",
      "INFO:azure.eventhub:Received event from partition 1\n",
      "INFO:azure.eventhub:Received event from partition 1\n",
      "INFO:azure.eventhub:Received event from partition 1\n"
     ]
    },
    {
     "name": "stdout",
     "output_type": "stream",
     "text": [
      "\n",
      "Message received:\n",
      "    Data: <<{'messageCount': 990, 'humidity': 51, 'temperature': 22, 'timestamp': '2022-04-24\\n17:42:34'}>>\n",
      "\n",
      "Message received:\n",
      "    Data: <<{'messageCount': 991, 'humidity': 51, 'temperature': 22, 'timestamp': '2022-04-24\\n17:42:35'}>>\n",
      "\n",
      "Message received:\n",
      "    Data: <<{'messageCount': 992, 'humidity': 51, 'temperature': 22, 'timestamp': '2022-04-24\\n17:42:37'}>>\n"
     ]
    },
    {
     "name": "stderr",
     "output_type": "stream",
     "text": [
      "INFO:azure.eventhub:Received event from partition 1\n",
      "INFO:azure.eventhub:Received event from partition 1\n",
      "INFO:azure.eventhub:Received event from partition 1\n"
     ]
    },
    {
     "name": "stdout",
     "output_type": "stream",
     "text": [
      "\n",
      "Message received:\n",
      "    Data: <<{'messageCount': 993, 'humidity': 51, 'temperature': 22, 'timestamp': '2022-04-24\\n17:42:38'}>>\n",
      "\n",
      "Message received:\n",
      "    Data: <<{'messageCount': 995, 'humidity': 51, 'temperature': 22, 'timestamp': '2022-04-24\\n17:42:40'}>>\n",
      "\n",
      "Message received:\n",
      "    Data: <<{'messageCount': 994, 'humidity': 51, 'temperature': 22, 'timestamp': '2022-04-24\\n17:42:39'}>>\n"
     ]
    },
    {
     "name": "stderr",
     "output_type": "stream",
     "text": [
      "INFO:azure.eventhub:Received event from partition 1\n",
      "INFO:azure.eventhub:Received event from partition 1\n",
      "INFO:azure.eventhub:Received event from partition 1\n"
     ]
    },
    {
     "name": "stdout",
     "output_type": "stream",
     "text": [
      "\n",
      "Message received:\n",
      "    Data: <<{'messageCount': 996, 'humidity': 51, 'temperature': 22, 'timestamp': '2022-04-24\\n17:42:42'}>>\n",
      "\n",
      "Message received:\n",
      "    Data: <<{'messageCount': 997, 'humidity': 51, 'temperature': 22, 'timestamp': '2022-04-24\\n17:42:43'}>>\n",
      "\n",
      "Message received:\n",
      "    Data: <<{'messageCount': 998, 'humidity': 51, 'temperature': 22, 'timestamp': '2022-04-24\\n17:42:44'}>>\n"
     ]
    },
    {
     "name": "stderr",
     "output_type": "stream",
     "text": [
      "INFO:azure.eventhub:Received event from partition 1\n",
      "INFO:azure.eventhub:Received event from partition 1\n",
      "INFO:azure.eventhub:Received event from partition 1\n"
     ]
    },
    {
     "name": "stdout",
     "output_type": "stream",
     "text": [
      "\n",
      "Message received:\n",
      "    Data: <<{'messageCount': 999, 'humidity': 51, 'temperature': 22, 'timestamp': '2022-04-24\\n17:42:45'}>>\n",
      "\n",
      "Message received:\n",
      "    Data: <<{'messageCount': 1001, 'humidity': 50, 'temperature': 22, 'timestamp': '2022-04-24\\n17:42:51'}>>\n",
      "\n",
      "Message received:\n",
      "    Data: <<{'messageCount': 1002, 'humidity': 50, 'temperature': 22, 'timestamp': '2022-04-24\\n17:42:55'}>>\n"
     ]
    },
    {
     "name": "stderr",
     "output_type": "stream",
     "text": [
      "INFO:azure.eventhub:Received event from partition 1\n",
      "INFO:azure.eventhub:Received event from partition 1\n",
      "INFO:azure.eventhub:Received event from partition 1\n"
     ]
    },
    {
     "name": "stdout",
     "output_type": "stream",
     "text": [
      "\n",
      "Message received:\n",
      "    Data: <<{'messageCount': 1003, 'humidity': 50, 'temperature': 22, 'timestamp': '2022-04-24\\n17:42:56'}>>\n",
      "\n",
      "Message received:\n",
      "    Data: <<{'messageCount': 1004, 'humidity': 50, 'temperature': 22, 'timestamp': '2022-04-24\\n17:43:03'}>>\n",
      "\n",
      "Message received:\n",
      "    Data: <<{'messageCount': 1005, 'humidity': 50, 'temperature': 22, 'timestamp': '2022-04-24\\n17:43:04'}>>\n",
      "\n",
      "Message received:\n",
      "    Data: <<{'messageCount': 1006, 'humidity': 51, 'temperature': 22, 'timestamp': '2022-04-24\\n17:43:06'}>>\n"
     ]
    },
    {
     "name": "stderr",
     "output_type": "stream",
     "text": [
      "INFO:azure.eventhub:Received event from partition 1\n",
      "INFO:azure.eventhub:Received event from partition 1\n",
      "INFO:azure.eventhub:Received event from partition 1\n",
      "INFO:azure.eventhub:Received event from partition 1\n"
     ]
    },
    {
     "name": "stdout",
     "output_type": "stream",
     "text": [
      "\n",
      "Message received:\n",
      "    Data: <<{'messageCount': 1007, 'humidity': 51, 'temperature': 22, 'timestamp': '2022-04-24\\n17:43:07'}>>\n",
      "\n",
      "Message received:\n",
      "    Data: <<{'messageCount': 1008, 'humidity': 50, 'temperature': 23, 'timestamp': '2022-04-24\\n17:43:08'}>>\n",
      "\n",
      "Message received:\n",
      "    Data: <<{'messageCount': 1009, 'humidity': 50, 'temperature': 23, 'timestamp': '2022-04-24\\n17:43:09'}>>\n"
     ]
    },
    {
     "name": "stderr",
     "output_type": "stream",
     "text": [
      "INFO:azure.eventhub:Received event from partition 1\n",
      "INFO:azure.eventhub:Received event from partition 1\n",
      "INFO:azure.eventhub:Received event from partition 1\n",
      "INFO:azure.eventhub:Received event from partition 1\n"
     ]
    },
    {
     "name": "stdout",
     "output_type": "stream",
     "text": [
      "\n",
      "Message received:\n",
      "    Data: <<{'messageCount': 1010, 'humidity': 51, 'temperature': 22, 'timestamp': '2022-04-24\\n17:43:10'}>>\n",
      "\n",
      "Message received:\n",
      "    Data: <<{'messageCount': 1011, 'humidity': 51, 'temperature': 22, 'timestamp': '2022-04-24\\n17:43:11'}>>\n",
      "\n",
      "Message received:\n",
      "    Data: <<{'messageCount': 1012, 'humidity': 51, 'temperature': 22, 'timestamp': '2022-04-24\\n17:43:12'}>>\n",
      "\n",
      "Message received:\n",
      "    Data: <<{'messageCount': 1013, 'humidity': 51, 'temperature': 22, 'timestamp': '2022-04-24\\n17:43:17'}>>\n"
     ]
    },
    {
     "name": "stderr",
     "output_type": "stream",
     "text": [
      "INFO:azure.eventhub:Received event from partition 1\n",
      "INFO:azure.eventhub:Received event from partition 1\n",
      "INFO:azure.eventhub:Received event from partition 1\n"
     ]
    },
    {
     "name": "stdout",
     "output_type": "stream",
     "text": [
      "\n",
      "Message received:\n",
      "    Data: <<{'messageCount': 1014, 'humidity': 51, 'temperature': 22, 'timestamp': '2022-04-24\\n17:43:18'}>>\n",
      "\n",
      "Message received:\n",
      "    Data: <<{'messageCount': 1015, 'humidity': 50, 'temperature': 22, 'timestamp': '2022-04-24\\n17:43:19'}>>\n",
      "\n",
      "Message received:\n",
      "    Data: <<{'messageCount': 1016, 'humidity': 50, 'temperature': 22, 'timestamp': '2022-04-24\\n17:43:20'}>>\n"
     ]
    },
    {
     "name": "stderr",
     "output_type": "stream",
     "text": [
      "INFO:azure.eventhub:Received event from partition 1\n",
      "INFO:azure.eventhub:Received event from partition 1\n",
      "INFO:azure.eventhub:Received event from partition 1\n"
     ]
    },
    {
     "name": "stdout",
     "output_type": "stream",
     "text": [
      "\n",
      "Message received:\n",
      "    Data: <<{'messageCount': 1017, 'humidity': 50, 'temperature': 22, 'timestamp': '2022-04-24\\n17:43:21'}>>\n",
      "\n",
      "Message received:\n",
      "    Data: <<{'messageCount': 1018, 'humidity': 50, 'temperature': 22, 'timestamp': '2022-04-24\\n17:43:22'}>>\n",
      "\n",
      "Message received:\n",
      "    Data: <<{'messageCount': 1019, 'humidity': 51, 'temperature': 22, 'timestamp': '2022-04-24\\n17:43:24'}>>\n"
     ]
    },
    {
     "name": "stderr",
     "output_type": "stream",
     "text": [
      "INFO:azure.eventhub:Received event from partition 1\n",
      "INFO:azure.eventhub:Received event from partition 1\n",
      "INFO:azure.eventhub:Received event from partition 1\n"
     ]
    },
    {
     "name": "stdout",
     "output_type": "stream",
     "text": [
      "\n",
      "Message received:\n",
      "    Data: <<{'messageCount': 1020, 'humidity': 51, 'temperature': 22, 'timestamp': '2022-04-24\\n17:43:25'}>>\n",
      "\n",
      "Message received:\n",
      "    Data: <<{'messageCount': 1021, 'humidity': 51, 'temperature': 22, 'timestamp': '2022-04-24\\n17:43:26'}>>\n",
      "\n",
      "Message received:\n",
      "    Data: <<{'messageCount': 1022, 'humidity': 51, 'temperature': 22, 'timestamp': '2022-04-24\\n17:43:27'}>>\n"
     ]
    },
    {
     "name": "stderr",
     "output_type": "stream",
     "text": [
      "INFO:azure.eventhub:Received event from partition 1\n",
      "INFO:azure.eventhub:Received event from partition 1\n",
      "INFO:azure.eventhub:Received event from partition 1\n"
     ]
    },
    {
     "name": "stdout",
     "output_type": "stream",
     "text": [
      "\n",
      "Message received:\n",
      "    Data: <<{'messageCount': 1023, 'humidity': 51, 'temperature': 22, 'timestamp': '2022-04-24\\n17:43:28'}>>\n",
      "\n",
      "Message received:\n",
      "    Data: <<{'messageCount': 1024, 'humidity': 50, 'temperature': 22, 'timestamp': '2022-04-24\\n17:43:31'}>>\n",
      "\n",
      "Message received:\n",
      "    Data: <<{'messageCount': 1025, 'humidity': 50, 'temperature': 22, 'timestamp': '2022-04-24\\n17:43:32'}>>\n",
      "\n",
      "Message received:\n",
      "    Data: <<{'messageCount': 1026, 'humidity': 50, 'temperature': 22, 'timestamp': '2022-04-24\\n17:43:33'}>>\n"
     ]
    },
    {
     "name": "stderr",
     "output_type": "stream",
     "text": [
      "INFO:azure.eventhub:Received event from partition 1\n",
      "INFO:azure.eventhub:Received event from partition 1\n",
      "INFO:azure.eventhub:Received event from partition 1\n",
      "INFO:azure.eventhub:Received event from partition 1\n"
     ]
    },
    {
     "name": "stdout",
     "output_type": "stream",
     "text": [
      "\n",
      "Message received:\n",
      "    Data: <<{'messageCount': 1027, 'humidity': 50, 'temperature': 22, 'timestamp': '2022-04-24\\n17:43:34'}>>\n",
      "\n",
      "Message received:\n",
      "    Data: <<{'messageCount': 1029, 'humidity': 50, 'temperature': 22, 'timestamp': '2022-04-24\\n17:43:47'}>>\n",
      "\n",
      "Message received:\n",
      "    Data: <<{'messageCount': 1028, 'humidity': 50, 'temperature': 22, 'timestamp': '2022-04-24\\n17:43:46'}>>\n",
      "\n",
      "Message received:\n",
      "    Data: <<{'messageCount': 1030, 'humidity': 50, 'temperature': 22, 'timestamp': '2022-04-24\\n17:43:48'}>>\n"
     ]
    },
    {
     "name": "stderr",
     "output_type": "stream",
     "text": [
      "INFO:azure.eventhub:Received event from partition 1\n",
      "INFO:azure.eventhub:Received event from partition 1\n",
      "INFO:azure.eventhub:Received event from partition 1\n",
      "INFO:azure.eventhub:Received event from partition 1\n"
     ]
    },
    {
     "name": "stdout",
     "output_type": "stream",
     "text": [
      "\n",
      "Message received:\n",
      "    Data: <<{'messageCount': 1031, 'humidity': 50, 'temperature': 22, 'timestamp': '2022-04-24\\n17:43:49'}>>\n",
      "\n",
      "Message received:\n",
      "    Data: <<{'messageCount': 1032, 'humidity': 50, 'temperature': 22, 'timestamp': '2022-04-24\\n17:43:50'}>>\n",
      "\n",
      "Message received:\n",
      "    Data: <<{'messageCount': 1033, 'humidity': 50, 'temperature': 22, 'timestamp': '2022-04-24\\n17:43:51'}>>\n"
     ]
    },
    {
     "name": "stderr",
     "output_type": "stream",
     "text": [
      "INFO:azure.eventhub:Received event from partition 1\n",
      "INFO:azure.eventhub:Received event from partition 1\n",
      "INFO:azure.eventhub:Received event from partition 1\n"
     ]
    },
    {
     "name": "stdout",
     "output_type": "stream",
     "text": [
      "\n",
      "Message received:\n",
      "    Data: <<{'messageCount': 1034, 'humidity': 50, 'temperature': 22, 'timestamp': '2022-04-24\\n17:43:53'}>>\n",
      "\n",
      "Message received:\n",
      "    Data: <<{'messageCount': 1035, 'humidity': 50, 'temperature': 22, 'timestamp': '2022-04-24\\n17:43:54'}>>\n",
      "\n",
      "Message received:\n",
      "    Data: <<{'messageCount': 1036, 'humidity': 50, 'temperature': 22, 'timestamp': '2022-04-24\\n17:43:55'}>>\n"
     ]
    },
    {
     "name": "stderr",
     "output_type": "stream",
     "text": [
      "INFO:azure.eventhub:Received event from partition 1\n",
      "INFO:azure.eventhub:Received event from partition 1\n",
      "INFO:azure.eventhub:Received event from partition 1\n"
     ]
    },
    {
     "name": "stdout",
     "output_type": "stream",
     "text": [
      "\n",
      "Message received:\n",
      "    Data: <<{'messageCount': 1037, 'humidity': 50, 'temperature': 22, 'timestamp': '2022-04-24\\n17:43:56'}>>\n",
      "\n",
      "Message received:\n",
      "    Data: <<{'messageCount': 1038, 'humidity': 50, 'temperature': 22, 'timestamp': '2022-04-24\\n17:43:57'}>>\n",
      "\n",
      "Message received:\n",
      "    Data: <<{'messageCount': 1039, 'humidity': 50, 'temperature': 22, 'timestamp': '2022-04-24\\n17:43:58'}>>\n"
     ]
    },
    {
     "name": "stderr",
     "output_type": "stream",
     "text": [
      "INFO:azure.eventhub:Received event from partition 1\n",
      "INFO:azure.eventhub:Received event from partition 1\n",
      "INFO:azure.eventhub:Received event from partition 1\n"
     ]
    },
    {
     "name": "stdout",
     "output_type": "stream",
     "text": [
      "\n",
      "Message received:\n",
      "    Data: <<{'messageCount': 1040, 'humidity': 50, 'temperature': 22, 'timestamp': '2022-04-24\\n17:44:00'}>>\n",
      "\n",
      "Message received:\n",
      "    Data: <<{'messageCount': 1041, 'humidity': 50, 'temperature': 23, 'timestamp': '2022-04-24\\n17:44:03'}>>\n",
      "\n",
      "Message received:\n",
      "    Data: <<{'messageCount': 1042, 'humidity': 50, 'temperature': 23, 'timestamp': '2022-04-24\\n17:44:04'}>>\n"
     ]
    },
    {
     "name": "stderr",
     "output_type": "stream",
     "text": [
      "INFO:azure.eventhub:Received event from partition 1\n",
      "INFO:azure.eventhub:Received event from partition 1\n",
      "INFO:azure.eventhub:Received event from partition 1\n"
     ]
    },
    {
     "name": "stdout",
     "output_type": "stream",
     "text": [
      "\n",
      "Message received:\n",
      "    Data: <<{'messageCount': 1043, 'humidity': 50, 'temperature': 22, 'timestamp': '2022-04-24\\n17:44:05'}>>\n",
      "\n",
      "Message received:\n",
      "    Data: <<{'messageCount': 1044, 'humidity': 50, 'temperature': 22, 'timestamp': '2022-04-24\\n17:44:10'}>>\n",
      "\n",
      "Message received:\n",
      "    Data: <<{'messageCount': 1045, 'humidity': 50, 'temperature': 22, 'timestamp': '2022-04-24\\n17:44:13'}>>\n"
     ]
    },
    {
     "name": "stderr",
     "output_type": "stream",
     "text": [
      "INFO:azure.eventhub:Received event from partition 1\n",
      "INFO:azure.eventhub:Received event from partition 1\n",
      "INFO:azure.eventhub:Received event from partition 1\n"
     ]
    },
    {
     "name": "stdout",
     "output_type": "stream",
     "text": [
      "\n",
      "Message received:\n",
      "    Data: <<{'messageCount': 1046, 'humidity': 50, 'temperature': 22, 'timestamp': '2022-04-24\\n17:44:14'}>>\n",
      "\n",
      "Message received:\n",
      "    Data: <<{'messageCount': 1047, 'humidity': 50, 'temperature': 22, 'timestamp': '2022-04-24\\n17:44:15'}>>\n",
      "\n",
      "Message received:\n",
      "    Data: <<{'messageCount': 1049, 'humidity': 50, 'temperature': 22, 'timestamp': '2022-04-24\\n17:44:17'}>>\n"
     ]
    },
    {
     "name": "stderr",
     "output_type": "stream",
     "text": [
      "INFO:azure.eventhub:Received event from partition 1\n",
      "INFO:azure.eventhub:Received event from partition 1\n",
      "INFO:azure.eventhub:Received event from partition 1\n"
     ]
    },
    {
     "name": "stdout",
     "output_type": "stream",
     "text": [
      "\n",
      "Message received:\n",
      "    Data: <<{'messageCount': 1048, 'humidity': 50, 'temperature': 22, 'timestamp': '2022-04-24\\n17:44:16'}>>\n",
      "\n",
      "Message received:\n",
      "    Data: <<{'messageCount': 1050, 'humidity': 50, 'temperature': 22, 'timestamp': '2022-04-24\\n17:44:18'}>>\n",
      "\n",
      "Message received:\n",
      "    Data: <<{'messageCount': 1051, 'humidity': 50, 'temperature': 22, 'timestamp': '2022-04-24\\n17:44:20'}>>\n"
     ]
    },
    {
     "name": "stderr",
     "output_type": "stream",
     "text": [
      "INFO:azure.eventhub:Received event from partition 1\n",
      "INFO:azure.eventhub:Received event from partition 1\n",
      "INFO:azure.eventhub:Received event from partition 1\n"
     ]
    },
    {
     "name": "stdout",
     "output_type": "stream",
     "text": [
      "\n",
      "Message received:\n",
      "    Data: <<{'messageCount': 1052, 'humidity': 50, 'temperature': 22, 'timestamp': '2022-04-24\\n17:44:21'}>>\n",
      "\n",
      "Message received:\n",
      "    Data: <<{'messageCount': 1053, 'humidity': 50, 'temperature': 22, 'timestamp': '2022-04-24\\n17:44:22'}>>\n",
      "\n",
      "Message received:\n",
      "    Data: <<{'messageCount': 1054, 'humidity': 50, 'temperature': 22, 'timestamp': '2022-04-24\\n17:44:23'}>>\n"
     ]
    },
    {
     "name": "stderr",
     "output_type": "stream",
     "text": [
      "INFO:azure.eventhub:Received event from partition 1\n",
      "INFO:azure.eventhub:Received event from partition 1\n",
      "INFO:azure.eventhub:Received event from partition 1\n"
     ]
    },
    {
     "name": "stdout",
     "output_type": "stream",
     "text": [
      "\n",
      "Message received:\n",
      "    Data: <<{'messageCount': 1055, 'humidity': 50, 'temperature': 22, 'timestamp': '2022-04-24\\n17:44:24'}>>\n",
      "\n",
      "Message received:\n",
      "    Data: <<{'messageCount': 1056, 'humidity': 50, 'temperature': 22, 'timestamp': '2022-04-24\\n17:44:25'}>>\n",
      "\n",
      "Message received:\n",
      "    Data: <<{'messageCount': 1057, 'humidity': 50, 'temperature': 23, 'timestamp': '2022-04-24\\n17:44:29'}>>\n"
     ]
    },
    {
     "name": "stderr",
     "output_type": "stream",
     "text": [
      "INFO:azure.eventhub:Received event from partition 1\n",
      "INFO:azure.eventhub:Received event from partition 1\n",
      "INFO:azure.eventhub:Received event from partition 1\n"
     ]
    },
    {
     "name": "stdout",
     "output_type": "stream",
     "text": [
      "\n",
      "Message received:\n",
      "    Data: <<{'messageCount': 1058, 'humidity': 50, 'temperature': 23, 'timestamp': '2022-04-24\\n17:44:30'}>>\n",
      "\n",
      "Message received:\n",
      "    Data: <<{'messageCount': 1059, 'humidity': 50, 'temperature': 22, 'timestamp': '2022-04-24\\n17:44:31'}>>\n",
      "\n",
      "Message received:\n",
      "    Data: <<{'messageCount': 1060, 'humidity': 50, 'temperature': 22, 'timestamp': '2022-04-24\\n17:44:32'}>>\n"
     ]
    },
    {
     "name": "stderr",
     "output_type": "stream",
     "text": [
      "INFO:azure.eventhub:Received event from partition 1\n",
      "INFO:azure.eventhub:Received event from partition 1\n",
      "INFO:azure.eventhub:Received event from partition 1\n"
     ]
    },
    {
     "name": "stdout",
     "output_type": "stream",
     "text": [
      "\n",
      "Message received:\n",
      "    Data: <<{'messageCount': 1061, 'humidity': 50, 'temperature': 23, 'timestamp': '2022-04-24\\n17:44:33'}>>\n",
      "\n",
      "Message received:\n",
      "    Data: <<{'messageCount': 1062, 'humidity': 50, 'temperature': 22, 'timestamp': '2022-04-24\\n17:44:38'}>>\n",
      "\n",
      "Message received:\n",
      "    Data: <<{'messageCount': 1064, 'humidity': 50, 'temperature': 22, 'timestamp': '2022-04-24\\n17:44:41'}>>\n"
     ]
    },
    {
     "name": "stderr",
     "output_type": "stream",
     "text": [
      "INFO:azure.eventhub:Received event from partition 1\n",
      "INFO:azure.eventhub:Received event from partition 1\n",
      "INFO:azure.eventhub:Received event from partition 1\n"
     ]
    },
    {
     "name": "stdout",
     "output_type": "stream",
     "text": [
      "\n",
      "Message received:\n",
      "    Data: <<{'messageCount': 1063, 'humidity': 50, 'temperature': 22, 'timestamp': '2022-04-24\\n17:44:40'}>>\n",
      "\n",
      "Message received:\n",
      "    Data: <<{'messageCount': 1065, 'humidity': 50, 'temperature': 22, 'timestamp': '2022-04-24\\n17:44:42'}>>\n",
      "\n",
      "Message received:\n",
      "    Data: <<{'messageCount': 1066, 'humidity': 50, 'temperature': 22, 'timestamp': '2022-04-24\\n17:44:43'}>>\n",
      "\n",
      "Message received:\n",
      "    Data: <<{'messageCount': 1067, 'humidity': 50, 'temperature': 22, 'timestamp': '2022-04-24\\n17:44:44'}>>\n"
     ]
    },
    {
     "name": "stderr",
     "output_type": "stream",
     "text": [
      "INFO:azure.eventhub:Received event from partition 1\n",
      "INFO:azure.eventhub:Received event from partition 1\n",
      "INFO:azure.eventhub:Received event from partition 1\n",
      "INFO:azure.eventhub:Received event from partition 1\n"
     ]
    },
    {
     "name": "stdout",
     "output_type": "stream",
     "text": [
      "\n",
      "Message received:\n",
      "    Data: <<{'messageCount': 1068, 'humidity': 50, 'temperature': 22, 'timestamp': '2022-04-24\\n17:44:46'}>>\n",
      "\n",
      "Message received:\n",
      "    Data: <<{'messageCount': 1069, 'humidity': 50, 'temperature': 22, 'timestamp': '2022-04-24\\n17:44:47'}>>\n",
      "\n",
      "Message received:\n",
      "    Data: <<{'messageCount': 1070, 'humidity': 50, 'temperature': 22, 'timestamp': '2022-04-24\\n17:44:49'}>>\n"
     ]
    },
    {
     "name": "stderr",
     "output_type": "stream",
     "text": [
      "INFO:azure.eventhub:Received event from partition 1\n",
      "INFO:azure.eventhub:Received event from partition 1\n",
      "INFO:azure.eventhub:Received event from partition 1\n"
     ]
    },
    {
     "name": "stdout",
     "output_type": "stream",
     "text": [
      "\n",
      "Message received:\n",
      "    Data: <<{'messageCount': 1071, 'humidity': 50, 'temperature': 22, 'timestamp': '2022-04-24\\n17:44:50'}>>\n",
      "\n",
      "Message received:\n",
      "    Data: <<{'messageCount': 1072, 'humidity': 50, 'temperature': 22, 'timestamp': '2022-04-24\\n17:44:51'}>>\n",
      "\n",
      "Message received:\n",
      "    Data: <<{'messageCount': 1073, 'humidity': 50, 'temperature': 22, 'timestamp': '2022-04-24\\n17:44:52'}>>\n"
     ]
    },
    {
     "name": "stderr",
     "output_type": "stream",
     "text": [
      "INFO:azure.eventhub:Received event from partition 1\n",
      "INFO:azure.eventhub:Received event from partition 1\n",
      "INFO:azure.eventhub:Received event from partition 1\n"
     ]
    },
    {
     "name": "stdout",
     "output_type": "stream",
     "text": [
      "\n",
      "Message received:\n",
      "    Data: <<{'messageCount': 1074, 'humidity': 50, 'temperature': 22, 'timestamp': '2022-04-24\\n17:44:53'}>>\n",
      "\n",
      "Message received:\n",
      "    Data: <<{'messageCount': 1075, 'humidity': 50, 'temperature': 22, 'timestamp': '2022-04-24\\n17:44:55'}>>\n",
      "\n",
      "Message received:\n",
      "    Data: <<{'messageCount': 1076, 'humidity': 50, 'temperature': 22, 'timestamp': '2022-04-24\\n17:44:56'}>>\n"
     ]
    },
    {
     "name": "stderr",
     "output_type": "stream",
     "text": [
      "INFO:azure.eventhub:Received event from partition 1\n",
      "INFO:azure.eventhub:Received event from partition 1\n",
      "INFO:azure.eventhub:Received event from partition 1\n"
     ]
    },
    {
     "name": "stdout",
     "output_type": "stream",
     "text": [
      "\n",
      "Message received:\n",
      "    Data: <<{'messageCount': 1077, 'humidity': 50, 'temperature': 22, 'timestamp': '2022-04-24\\n17:44:57'}>>\n",
      "\n",
      "Message received:\n",
      "    Data: <<{'messageCount': 1078, 'humidity': 50, 'temperature': 22, 'timestamp': '2022-04-24\\n17:44:58'}>>\n",
      "\n",
      "Message received:\n",
      "    Data: <<{'messageCount': 1079, 'humidity': 50, 'temperature': 22, 'timestamp': '2022-04-24\\n17:44:59'}>>\n"
     ]
    },
    {
     "name": "stderr",
     "output_type": "stream",
     "text": [
      "INFO:azure.eventhub:Received event from partition 1\n",
      "INFO:azure.eventhub:Received event from partition 1\n",
      "INFO:azure.eventhub:Received event from partition 1\n"
     ]
    },
    {
     "name": "stdout",
     "output_type": "stream",
     "text": [
      "\n",
      "Message received:\n",
      "    Data: <<{'messageCount': 1080, 'humidity': 50, 'temperature': 22, 'timestamp': '2022-04-24\\n17:45:00'}>>\n",
      "\n",
      "Message received:\n",
      "    Data: <<{'messageCount': 1081, 'humidity': 50, 'temperature': 22, 'timestamp': '2022-04-24\\n17:45:02'}>>\n",
      "\n",
      "Message received:\n",
      "    Data: <<{'messageCount': 1082, 'humidity': 50, 'temperature': 22, 'timestamp': '2022-04-24\\n17:45:03'}>>\n"
     ]
    },
    {
     "name": "stderr",
     "output_type": "stream",
     "text": [
      "INFO:azure.eventhub:Received event from partition 1\n",
      "INFO:azure.eventhub:Received event from partition 1\n",
      "INFO:azure.eventhub:Received event from partition 1\n"
     ]
    },
    {
     "name": "stdout",
     "output_type": "stream",
     "text": [
      "\n",
      "Message received:\n",
      "    Data: <<{'messageCount': 1083, 'humidity': 50, 'temperature': 22, 'timestamp': '2022-04-24\\n17:45:06'}>>\n",
      "\n",
      "Message received:\n",
      "    Data: <<{'messageCount': 1084, 'humidity': 50, 'temperature': 22, 'timestamp': '2022-04-24\\n17:45:07'}>>\n",
      "\n",
      "Message received:\n",
      "    Data: <<{'messageCount': 1085, 'humidity': 50, 'temperature': 22, 'timestamp': '2022-04-24\\n17:45:09'}>>\n"
     ]
    },
    {
     "name": "stderr",
     "output_type": "stream",
     "text": [
      "INFO:azure.eventhub:Received event from partition 1\n",
      "INFO:azure.eventhub:Received event from partition 1\n",
      "INFO:azure.eventhub:Received event from partition 1\n"
     ]
    },
    {
     "name": "stdout",
     "output_type": "stream",
     "text": [
      "\n",
      "Message received:\n",
      "    Data: <<{'messageCount': 1086, 'humidity': 50, 'temperature': 22, 'timestamp': '2022-04-24\\n17:45:10'}>>\n",
      "\n",
      "Message received:\n",
      "    Data: <<{'messageCount': 1087, 'humidity': 50, 'temperature': 22, 'timestamp': '2022-04-24\\n17:45:12'}>>\n",
      "\n",
      "Message received:\n",
      "    Data: <<{'messageCount': 1088, 'humidity': 50, 'temperature': 22, 'timestamp': '2022-04-24\\n17:45:13'}>>\n",
      "\n",
      "Message received:\n",
      "    Data: <<{'messageCount': 1089, 'humidity': 50, 'temperature': 22, 'timestamp': '2022-04-24\\n17:45:14'}>>\n"
     ]
    },
    {
     "name": "stderr",
     "output_type": "stream",
     "text": [
      "INFO:azure.eventhub:Received event from partition 1\n",
      "INFO:azure.eventhub:Received event from partition 1\n",
      "INFO:azure.eventhub:Received event from partition 1\n",
      "INFO:azure.eventhub:Received event from partition 1\n"
     ]
    },
    {
     "name": "stdout",
     "output_type": "stream",
     "text": [
      "\n",
      "Message received:\n",
      "    Data: <<{'messageCount': 1090, 'humidity': 50, 'temperature': 22, 'timestamp': '2022-04-24\\n17:45:15'}>>\n",
      "\n",
      "Message received:\n",
      "    Data: <<{'messageCount': 1091, 'humidity': 50, 'temperature': 22, 'timestamp': '2022-04-24\\n17:45:16'}>>\n",
      "\n",
      "Message received:\n",
      "    Data: <<{'messageCount': 1092, 'humidity': 50, 'temperature': 22, 'timestamp': '2022-04-24\\n17:45:17'}>>\n"
     ]
    },
    {
     "name": "stderr",
     "output_type": "stream",
     "text": [
      "INFO:azure.eventhub:Received event from partition 1\n",
      "INFO:azure.eventhub:Received event from partition 1\n",
      "INFO:azure.eventhub:Received event from partition 1\n"
     ]
    },
    {
     "name": "stdout",
     "output_type": "stream",
     "text": [
      "\n",
      "Message received:\n",
      "    Data: <<{'messageCount': 1093, 'humidity': 50, 'temperature': 22, 'timestamp': '2022-04-24\\n17:45:18'}>>\n",
      "\n",
      "Message received:\n",
      "    Data: <<{'messageCount': 1094, 'humidity': 50, 'temperature': 22, 'timestamp': '2022-04-24\\n17:45:19'}>>\n",
      "\n",
      "Message received:\n",
      "    Data: <<{'messageCount': 1095, 'humidity': 50, 'temperature': 22, 'timestamp': '2022-04-24\\n17:45:21'}>>\n"
     ]
    },
    {
     "name": "stderr",
     "output_type": "stream",
     "text": [
      "INFO:azure.eventhub:Received event from partition 1\n",
      "INFO:azure.eventhub:Received event from partition 1\n",
      "INFO:azure.eventhub:Received event from partition 1\n"
     ]
    },
    {
     "name": "stdout",
     "output_type": "stream",
     "text": [
      "\n",
      "Message received:\n",
      "    Data: <<{'messageCount': 1096, 'humidity': 50, 'temperature': 22, 'timestamp': '2022-04-24\\n17:45:22'}>>\n",
      "\n",
      "Message received:\n",
      "    Data: <<{'messageCount': 1097, 'humidity': 50, 'temperature': 22, 'timestamp': '2022-04-24\\n17:45:23'}>>\n",
      "\n",
      "Message received:\n",
      "    Data: <<{'messageCount': 1098, 'humidity': 50, 'temperature': 22, 'timestamp': '2022-04-24\\n17:45:24'}>>\n"
     ]
    },
    {
     "name": "stderr",
     "output_type": "stream",
     "text": [
      "INFO:azure.eventhub:Received event from partition 1\n",
      "INFO:azure.eventhub:Received event from partition 1\n",
      "INFO:azure.eventhub:Received event from partition 1\n"
     ]
    },
    {
     "name": "stdout",
     "output_type": "stream",
     "text": [
      "\n",
      "Message received:\n",
      "    Data: <<{'messageCount': 1099, 'humidity': 50, 'temperature': 22, 'timestamp': '2022-04-24\\n17:45:25'}>>\n",
      "\n",
      "Message received:\n",
      "    Data: <<{'messageCount': 1100, 'humidity': 50, 'temperature': 22, 'timestamp': '2022-04-24\\n17:45:27'}>>\n",
      "\n",
      "Message received:\n",
      "    Data: <<{'messageCount': 1101, 'humidity': 50, 'temperature': 22, 'timestamp': '2022-04-24\\n17:45:28'}>>\n"
     ]
    },
    {
     "name": "stderr",
     "output_type": "stream",
     "text": [
      "INFO:azure.eventhub:Received event from partition 1\n",
      "INFO:azure.eventhub:Received event from partition 1\n",
      "INFO:azure.eventhub:Received event from partition 1\n"
     ]
    },
    {
     "name": "stdout",
     "output_type": "stream",
     "text": [
      "\n",
      "Message received:\n",
      "    Data: <<{'messageCount': 1102, 'humidity': 50, 'temperature': 22, 'timestamp': '2022-04-24\\n17:45:29'}>>\n",
      "\n",
      "Message received:\n",
      "    Data: <<{'messageCount': 1103, 'humidity': 50, 'temperature': 22, 'timestamp': '2022-04-24\\n17:45:30'}>>\n",
      "\n",
      "Message received:\n",
      "    Data: <<{'messageCount': 1104, 'humidity': 50, 'temperature': 22, 'timestamp': '2022-04-24\\n17:45:32'}>>\n"
     ]
    },
    {
     "name": "stderr",
     "output_type": "stream",
     "text": [
      "INFO:azure.eventhub:Received event from partition 1\n",
      "INFO:azure.eventhub:Received event from partition 1\n",
      "INFO:azure.eventhub:Received event from partition 1\n"
     ]
    },
    {
     "name": "stdout",
     "output_type": "stream",
     "text": [
      "\n",
      "Message received:\n",
      "    Data: <<{'messageCount': 1105, 'humidity': 50, 'temperature': 22, 'timestamp': '2022-04-24\\n17:45:33'}>>\n",
      "\n",
      "Message received:\n",
      "    Data: <<{'messageCount': 1106, 'humidity': 50, 'temperature': 22, 'timestamp': '2022-04-24\\n17:45:34'}>>\n",
      "\n",
      "Message received:\n",
      "    Data: <<{'messageCount': 1107, 'humidity': 50, 'temperature': 22, 'timestamp': '2022-04-24\\n17:45:36'}>>\n"
     ]
    },
    {
     "name": "stderr",
     "output_type": "stream",
     "text": [
      "INFO:azure.eventhub:Received event from partition 1\n",
      "INFO:azure.eventhub:Received event from partition 1\n",
      "INFO:azure.eventhub:Received event from partition 1\n"
     ]
    },
    {
     "name": "stdout",
     "output_type": "stream",
     "text": [
      "\n",
      "Message received:\n",
      "    Data: <<{'messageCount': 1109, 'humidity': 50, 'temperature': 22, 'timestamp': '2022-04-24\\n17:45:39'}>>\n",
      "\n",
      "Message received:\n",
      "    Data: <<{'messageCount': 1108, 'humidity': 50, 'temperature': 22, 'timestamp': '2022-04-24\\n17:45:38'}>>\n",
      "\n",
      "Message received:\n",
      "    Data: <<{'messageCount': 1110, 'humidity': 50, 'temperature': 22, 'timestamp': '2022-04-24\\n17:45:40'}>>\n",
      "\n",
      "Message received:\n",
      "    Data: <<{'messageCount': 1111, 'humidity': 50, 'temperature': 22, 'timestamp': '2022-04-24\\n17:45:41'}>>\n"
     ]
    },
    {
     "name": "stderr",
     "output_type": "stream",
     "text": [
      "INFO:azure.eventhub:Received event from partition 1\n",
      "INFO:azure.eventhub:Received event from partition 1\n",
      "INFO:azure.eventhub:Received event from partition 1\n",
      "INFO:azure.eventhub:Received event from partition 1\n"
     ]
    },
    {
     "name": "stdout",
     "output_type": "stream",
     "text": [
      "\n",
      "Message received:\n",
      "    Data: <<{'messageCount': 1112, 'humidity': 50, 'temperature': 22, 'timestamp': '2022-04-24\\n17:45:42'}>>\n",
      "\n",
      "Message received:\n",
      "    Data: <<{'messageCount': 1113, 'humidity': 50, 'temperature': 22, 'timestamp': '2022-04-24\\n17:45:43'}>>\n",
      "\n",
      "Message received:\n",
      "    Data: <<{'messageCount': 1114, 'humidity': 50, 'temperature': 22, 'timestamp': '2022-04-24\\n17:45:45'}>>\n"
     ]
    },
    {
     "name": "stderr",
     "output_type": "stream",
     "text": [
      "INFO:azure.eventhub:Received event from partition 1\n",
      "INFO:azure.eventhub:Received event from partition 1\n",
      "INFO:azure.eventhub:Received event from partition 1\n"
     ]
    },
    {
     "name": "stdout",
     "output_type": "stream",
     "text": [
      "\n",
      "Message received:\n",
      "    Data: <<{'messageCount': 1115, 'humidity': 50, 'temperature': 22, 'timestamp': '2022-04-24\\n17:45:46'}>>\n",
      "\n",
      "Message received:\n",
      "    Data: <<{'messageCount': 1116, 'humidity': 50, 'temperature': 22, 'timestamp': '2022-04-24\\n17:45:47'}>>\n",
      "\n",
      "Message received:\n",
      "    Data: <<{'messageCount': 1117, 'humidity': 50, 'temperature': 22, 'timestamp': '2022-04-24\\n17:45:48'}>>\n"
     ]
    },
    {
     "name": "stderr",
     "output_type": "stream",
     "text": [
      "INFO:azure.eventhub:Received event from partition 1\n",
      "INFO:azure.eventhub:Received event from partition 1\n",
      "INFO:azure.eventhub:Received event from partition 1\n"
     ]
    },
    {
     "name": "stdout",
     "output_type": "stream",
     "text": [
      "\n",
      "Message received:\n",
      "    Data: <<{'messageCount': 1118, 'humidity': 50, 'temperature': 22, 'timestamp': '2022-04-24\\n17:45:49'}>>\n",
      "\n",
      "Message received:\n",
      "    Data: <<{'messageCount': 1119, 'humidity': 50, 'temperature': 22, 'timestamp': '2022-04-24\\n17:45:50'}>>\n",
      "\n",
      "Message received:\n",
      "    Data: <<{'messageCount': 1120, 'humidity': 50, 'temperature': 22, 'timestamp': '2022-04-24\\n17:45:51'}>>\n"
     ]
    },
    {
     "name": "stderr",
     "output_type": "stream",
     "text": [
      "INFO:azure.eventhub:Received event from partition 1\n",
      "INFO:azure.eventhub:Received event from partition 1\n",
      "INFO:azure.eventhub:Received event from partition 1\n"
     ]
    },
    {
     "name": "stdout",
     "output_type": "stream",
     "text": [
      "\n",
      "Message received:\n",
      "    Data: <<{'messageCount': 1121, 'humidity': 50, 'temperature': 22, 'timestamp': '2022-04-24\\n17:45:53'}>>\n",
      "\n",
      "Message received:\n",
      "    Data: <<{'messageCount': 1122, 'humidity': 50, 'temperature': 22, 'timestamp': '2022-04-24\\n17:45:54'}>>\n",
      "\n",
      "Message received:\n",
      "    Data: <<{'messageCount': 1123, 'humidity': 50, 'temperature': 22, 'timestamp': '2022-04-24\\n17:45:55'}>>\n"
     ]
    },
    {
     "name": "stderr",
     "output_type": "stream",
     "text": [
      "INFO:azure.eventhub:Received event from partition 1\n",
      "INFO:azure.eventhub:Received event from partition 1\n",
      "INFO:azure.eventhub:Received event from partition 1\n"
     ]
    },
    {
     "name": "stdout",
     "output_type": "stream",
     "text": [
      "\n",
      "Message received:\n",
      "    Data: <<{'messageCount': 1125, 'humidity': 50, 'temperature': 22, 'timestamp': '2022-04-24\\n17:45:59'}>>\n",
      "\n",
      "Message received:\n",
      "    Data: <<{'messageCount': 1126, 'humidity': 50, 'temperature': 22, 'timestamp': '2022-04-24\\n17:46:00'}>>\n",
      "\n",
      "Message received:\n",
      "    Data: <<{'messageCount': 1127, 'humidity': 50, 'temperature': 22, 'timestamp': '2022-04-24\\n17:46:02'}>>\n",
      "\n",
      "Message received:\n",
      "    Data: <<{'messageCount': 1128, 'humidity': 50, 'temperature': 22, 'timestamp': '2022-04-24\\n17:46:03'}>>\n"
     ]
    },
    {
     "name": "stderr",
     "output_type": "stream",
     "text": [
      "INFO:azure.eventhub:Received event from partition 1\n",
      "INFO:azure.eventhub:Received event from partition 1\n",
      "INFO:azure.eventhub:Received event from partition 1\n",
      "INFO:azure.eventhub:Received event from partition 1\n"
     ]
    },
    {
     "name": "stdout",
     "output_type": "stream",
     "text": [
      "\n",
      "Message received:\n",
      "    Data: <<{'messageCount': 1129, 'humidity': 50, 'temperature': 22, 'timestamp': '2022-04-24\\n17:46:04'}>>\n",
      "\n",
      "Message received:\n",
      "    Data: <<{'messageCount': 1130, 'humidity': 50, 'temperature': 22, 'timestamp': '2022-04-24\\n17:46:05'}>>\n",
      "\n",
      "Message received:\n",
      "    Data: <<{'messageCount': 1131, 'humidity': 50, 'temperature': 22, 'timestamp': '2022-04-24\\n17:46:06'}>>\n"
     ]
    },
    {
     "name": "stderr",
     "output_type": "stream",
     "text": [
      "INFO:azure.eventhub:Received event from partition 1\n",
      "INFO:azure.eventhub:Received event from partition 1\n",
      "INFO:azure.eventhub:Received event from partition 1\n"
     ]
    },
    {
     "name": "stdout",
     "output_type": "stream",
     "text": [
      "\n",
      "Message received:\n",
      "    Data: <<{'messageCount': 1132, 'humidity': 50, 'temperature': 22, 'timestamp': '2022-04-24\\n17:46:07'}>>\n",
      "\n",
      "Message received:\n",
      "    Data: <<{'messageCount': 1133, 'humidity': 50, 'temperature': 22, 'timestamp': '2022-04-24\\n17:46:09'}>>\n",
      "\n",
      "Message received:\n",
      "    Data: <<{'messageCount': 1134, 'humidity': 50, 'temperature': 22, 'timestamp': '2022-04-24\\n17:46:10'}>>\n"
     ]
    },
    {
     "name": "stderr",
     "output_type": "stream",
     "text": [
      "INFO:azure.eventhub:Received event from partition 1\n",
      "INFO:azure.eventhub:Received event from partition 1\n",
      "INFO:azure.eventhub:Received event from partition 1\n"
     ]
    },
    {
     "name": "stdout",
     "output_type": "stream",
     "text": [
      "\n",
      "Message received:\n",
      "    Data: <<{'messageCount': 1135, 'humidity': 50, 'temperature': 22, 'timestamp': '2022-04-24\\n17:46:11'}>>\n",
      "\n",
      "Message received:\n",
      "    Data: <<{'messageCount': 1136, 'humidity': 50, 'temperature': 22, 'timestamp': '2022-04-24\\n17:46:12'}>>\n",
      "\n",
      "Message received:\n",
      "    Data: <<{'messageCount': 1137, 'humidity': 50, 'temperature': 22, 'timestamp': '2022-04-24\\n17:46:13'}>>\n"
     ]
    },
    {
     "name": "stderr",
     "output_type": "stream",
     "text": [
      "INFO:azure.eventhub:Received event from partition 1\n",
      "INFO:azure.eventhub:Received event from partition 1\n",
      "INFO:azure.eventhub:Received event from partition 1\n"
     ]
    },
    {
     "name": "stdout",
     "output_type": "stream",
     "text": [
      "\n",
      "Message received:\n",
      "    Data: <<{'messageCount': 1138, 'humidity': 50, 'temperature': 22, 'timestamp': '2022-04-24\\n17:46:14'}>>\n",
      "\n",
      "Message received:\n",
      "    Data: <<{'messageCount': 1139, 'humidity': 50, 'temperature': 22, 'timestamp': '2022-04-24\\n17:46:15'}>>\n",
      "\n",
      "Message received:\n",
      "    Data: <<{'messageCount': 1140, 'humidity': 50, 'temperature': 22, 'timestamp': '2022-04-24\\n17:46:16'}>>\n"
     ]
    },
    {
     "name": "stderr",
     "output_type": "stream",
     "text": [
      "INFO:azure.eventhub:Received event from partition 1\n",
      "INFO:azure.eventhub:Received event from partition 1\n",
      "INFO:azure.eventhub:Received event from partition 1\n"
     ]
    },
    {
     "name": "stdout",
     "output_type": "stream",
     "text": [
      "\n",
      "Message received:\n",
      "    Data: <<{'messageCount': 1141, 'humidity': 50, 'temperature': 22, 'timestamp': '2022-04-24\\n17:46:18'}>>\n",
      "\n",
      "Message received:\n",
      "    Data: <<{'messageCount': 1142, 'humidity': 50, 'temperature': 22, 'timestamp': '2022-04-24\\n17:46:19'}>>\n",
      "\n",
      "Message received:\n",
      "    Data: <<{'messageCount': 1143, 'humidity': 50, 'temperature': 22, 'timestamp': '2022-04-24\\n17:46:20'}>>\n"
     ]
    },
    {
     "name": "stderr",
     "output_type": "stream",
     "text": [
      "INFO:azure.eventhub:Received event from partition 1\n",
      "INFO:azure.eventhub:Received event from partition 1\n",
      "INFO:azure.eventhub:Received event from partition 1\n"
     ]
    },
    {
     "name": "stdout",
     "output_type": "stream",
     "text": [
      "\n",
      "Message received:\n",
      "    Data: <<{'messageCount': 1144, 'humidity': 50, 'temperature': 22, 'timestamp': '2022-04-24\\n17:46:21'}>>\n",
      "\n",
      "Message received:\n",
      "    Data: <<{'messageCount': 1145, 'humidity': 50, 'temperature': 22, 'timestamp': '2022-04-24\\n17:46:22'}>>\n",
      "\n",
      "Message received:\n",
      "    Data: <<{'messageCount': 1146, 'humidity': 50, 'temperature': 22, 'timestamp': '2022-04-24\\n17:46:23'}>>\n"
     ]
    },
    {
     "name": "stderr",
     "output_type": "stream",
     "text": [
      "INFO:azure.eventhub:Received event from partition 1\n",
      "INFO:azure.eventhub:Received event from partition 1\n",
      "INFO:azure.eventhub:Received event from partition 1\n"
     ]
    },
    {
     "name": "stdout",
     "output_type": "stream",
     "text": [
      "\n",
      "Message received:\n",
      "    Data: <<{'messageCount': 1147, 'humidity': 50, 'temperature': 22, 'timestamp': '2022-04-24\\n17:46:25'}>>\n",
      "\n",
      "Message received:\n",
      "    Data: <<{'messageCount': 1148, 'humidity': 50, 'temperature': 22, 'timestamp': '2022-04-24\\n17:46:26'}>>\n",
      "\n",
      "Message received:\n",
      "    Data: <<{'messageCount': 1149, 'humidity': 50, 'temperature': 22, 'timestamp': '2022-04-24\\n17:46:27'}>>\n"
     ]
    },
    {
     "name": "stderr",
     "output_type": "stream",
     "text": [
      "INFO:azure.eventhub:Received event from partition 1\n",
      "INFO:azure.eventhub:Received event from partition 1\n",
      "INFO:azure.eventhub:Received event from partition 1\n"
     ]
    },
    {
     "name": "stdout",
     "output_type": "stream",
     "text": [
      "\n",
      "Message received:\n",
      "    Data: <<{'messageCount': 1150, 'humidity': 50, 'temperature': 22, 'timestamp': '2022-04-24\\n17:46:28'}>>\n",
      "\n",
      "Message received:\n",
      "    Data: <<{'messageCount': 1151, 'humidity': 50, 'temperature': 22, 'timestamp': '2022-04-24\\n17:46:29'}>>\n",
      "\n",
      "Message received:\n",
      "    Data: <<{'messageCount': 1152, 'humidity': 50, 'temperature': 22, 'timestamp': '2022-04-24\\n17:46:30'}>>\n",
      "\n",
      "Message received:\n",
      "    Data: <<{'messageCount': 1153, 'humidity': 50, 'temperature': 23, 'timestamp': '2022-04-24\\n17:46:32'}>>\n"
     ]
    },
    {
     "name": "stderr",
     "output_type": "stream",
     "text": [
      "INFO:azure.eventhub:Received event from partition 1\n",
      "INFO:azure.eventhub:Received event from partition 1\n",
      "INFO:azure.eventhub:Received event from partition 1\n",
      "INFO:azure.eventhub:Received event from partition 1\n"
     ]
    },
    {
     "name": "stdout",
     "output_type": "stream",
     "text": [
      "\n",
      "Message received:\n",
      "    Data: <<{'messageCount': 1154, 'humidity': 50, 'temperature': 23, 'timestamp': '2022-04-24\\n17:46:33'}>>\n",
      "\n",
      "Message received:\n",
      "    Data: <<{'messageCount': 1155, 'humidity': 50, 'temperature': 22, 'timestamp': '2022-04-24\\n17:46:34'}>>\n",
      "\n",
      "Message received:\n",
      "    Data: <<{'messageCount': 1156, 'humidity': 50, 'temperature': 22, 'timestamp': '2022-04-24\\n17:46:35'}>>\n"
     ]
    },
    {
     "name": "stderr",
     "output_type": "stream",
     "text": [
      "INFO:azure.eventhub:Received event from partition 1\n",
      "INFO:azure.eventhub:Received event from partition 1\n",
      "INFO:azure.eventhub:Received event from partition 1\n"
     ]
    },
    {
     "name": "stdout",
     "output_type": "stream",
     "text": [
      "\n",
      "Message received:\n",
      "    Data: <<{'messageCount': 1157, 'humidity': 50, 'temperature': 23, 'timestamp': '2022-04-24\\n17:46:36'}>>\n",
      "\n",
      "Message received:\n",
      "    Data: <<{'messageCount': 1158, 'humidity': 50, 'temperature': 23, 'timestamp': '2022-04-24\\n17:46:37'}>>\n",
      "\n",
      "Message received:\n",
      "    Data: <<{'messageCount': 1159, 'humidity': 50, 'temperature': 22, 'timestamp': '2022-04-24\\n17:46:38'}>>\n"
     ]
    },
    {
     "name": "stderr",
     "output_type": "stream",
     "text": [
      "INFO:azure.eventhub:Received event from partition 1\n",
      "INFO:azure.eventhub:Received event from partition 1\n",
      "INFO:azure.eventhub:Received event from partition 1\n"
     ]
    },
    {
     "name": "stdout",
     "output_type": "stream",
     "text": [
      "\n",
      "Message received:\n",
      "    Data: <<{'messageCount': 1160, 'humidity': 50, 'temperature': 22, 'timestamp': '2022-04-24\\n17:46:40'}>>\n",
      "\n",
      "Message received:\n",
      "    Data: <<{'messageCount': 1161, 'humidity': 50, 'temperature': 22, 'timestamp': '2022-04-24\\n17:46:41'}>>\n",
      "\n",
      "Message received:\n",
      "    Data: <<{'messageCount': 1162, 'humidity': 50, 'temperature': 22, 'timestamp': '2022-04-24\\n17:46:42'}>>\n"
     ]
    },
    {
     "name": "stderr",
     "output_type": "stream",
     "text": [
      "INFO:azure.eventhub:Received event from partition 1\n",
      "INFO:azure.eventhub:Received event from partition 1\n",
      "INFO:azure.eventhub:Received event from partition 1\n"
     ]
    },
    {
     "name": "stdout",
     "output_type": "stream",
     "text": [
      "\n",
      "Message received:\n",
      "    Data: <<{'messageCount': 1163, 'humidity': 50, 'temperature': 22, 'timestamp': '2022-04-24\\n17:46:43'}>>\n",
      "\n",
      "Message received:\n",
      "    Data: <<{'messageCount': 1164, 'humidity': 50, 'temperature': 22, 'timestamp': '2022-04-24\\n17:46:44'}>>\n",
      "\n",
      "Message received:\n",
      "    Data: <<{'messageCount': 1165, 'humidity': 50, 'temperature': 23, 'timestamp': '2022-04-24\\n17:46:45'}>>\n",
      "\n",
      "Message received:\n",
      "    Data: <<{'messageCount': 1166, 'humidity': 50, 'temperature': 23, 'timestamp': '2022-04-24\\n17:46:46'}>>\n"
     ]
    },
    {
     "name": "stderr",
     "output_type": "stream",
     "text": [
      "INFO:azure.eventhub:Received event from partition 1\n",
      "INFO:azure.eventhub:Received event from partition 1\n",
      "INFO:azure.eventhub:Received event from partition 1\n",
      "INFO:azure.eventhub:Received event from partition 1\n"
     ]
    },
    {
     "name": "stdout",
     "output_type": "stream",
     "text": [
      "\n",
      "Message received:\n",
      "    Data: <<{'messageCount': 1168, 'humidity': 50, 'temperature': 22, 'timestamp': '2022-04-24\\n17:46:49'}>>\n",
      "\n",
      "Message received:\n",
      "    Data: <<{'messageCount': 1167, 'humidity': 50, 'temperature': 22, 'timestamp': '2022-04-24\\n17:46:48'}>>\n",
      "\n",
      "Message received:\n",
      "    Data: <<{'messageCount': 1169, 'humidity': 50, 'temperature': 22, 'timestamp': '2022-04-24\\n17:46:50'}>>\n"
     ]
    },
    {
     "name": "stderr",
     "output_type": "stream",
     "text": [
      "INFO:azure.eventhub:Received event from partition 1\n",
      "INFO:azure.eventhub:Received event from partition 1\n",
      "INFO:azure.eventhub:Received event from partition 1\n"
     ]
    },
    {
     "name": "stdout",
     "output_type": "stream",
     "text": [
      "\n",
      "Message received:\n",
      "    Data: <<{'messageCount': 1170, 'humidity': 50, 'temperature': 22, 'timestamp': '2022-04-24\\n17:46:51'}>>\n",
      "\n",
      "Message received:\n",
      "    Data: <<{'messageCount': 1171, 'humidity': 50, 'temperature': 22, 'timestamp': '2022-04-24\\n17:46:52'}>>\n",
      "\n",
      "Message received:\n",
      "    Data: <<{'messageCount': 1172, 'humidity': 50, 'temperature': 22, 'timestamp': '2022-04-24\\n17:46:53'}>>\n"
     ]
    },
    {
     "name": "stderr",
     "output_type": "stream",
     "text": [
      "INFO:azure.eventhub:Received event from partition 1\n",
      "INFO:azure.eventhub:Received event from partition 1\n",
      "INFO:azure.eventhub:Received event from partition 1\n"
     ]
    },
    {
     "name": "stdout",
     "output_type": "stream",
     "text": [
      "\n",
      "Message received:\n",
      "    Data: <<{'messageCount': 1173, 'humidity': 50, 'temperature': 23, 'timestamp': '2022-04-24\\n17:46:55'}>>\n",
      "\n",
      "Message received:\n",
      "    Data: <<{'messageCount': 1174, 'humidity': 50, 'temperature': 23, 'timestamp': '2022-04-24\\n17:46:56'}>>\n",
      "\n",
      "Message received:\n",
      "    Data: <<{'messageCount': 1175, 'humidity': 50, 'temperature': 22, 'timestamp': '2022-04-24\\n17:46:57'}>>\n"
     ]
    },
    {
     "name": "stderr",
     "output_type": "stream",
     "text": [
      "INFO:azure.eventhub:Received event from partition 1\n",
      "INFO:azure.eventhub:Received event from partition 1\n",
      "INFO:azure.eventhub:Received event from partition 1\n"
     ]
    },
    {
     "name": "stdout",
     "output_type": "stream",
     "text": [
      "\n",
      "Message received:\n",
      "    Data: <<{'messageCount': 1176, 'humidity': 50, 'temperature': 22, 'timestamp': '2022-04-24\\n17:46:58'}>>\n",
      "\n",
      "Message received:\n",
      "    Data: <<{'messageCount': 1177, 'humidity': 50, 'temperature': 22, 'timestamp': '2022-04-24\\n17:46:59'}>>\n",
      "\n",
      "Message received:\n",
      "    Data: <<{'messageCount': 1178, 'humidity': 50, 'temperature': 22, 'timestamp': '2022-04-24\\n17:47:00'}>>\n",
      "\n",
      "Message received:\n",
      "    Data: <<{'messageCount': 1179, 'humidity': 50, 'temperature': 23, 'timestamp': '2022-04-24\\n17:47:01'}>>\n"
     ]
    },
    {
     "name": "stderr",
     "output_type": "stream",
     "text": [
      "INFO:azure.eventhub:Received event from partition 1\n",
      "INFO:azure.eventhub:Received event from partition 1\n",
      "INFO:azure.eventhub:Received event from partition 1\n",
      "INFO:azure.eventhub:Received event from partition 1\n"
     ]
    },
    {
     "name": "stdout",
     "output_type": "stream",
     "text": [
      "\n",
      "Message received:\n",
      "    Data: <<{'messageCount': 1181, 'humidity': 50, 'temperature': 22, 'timestamp': '2022-04-24\\n17:47:04'}>>\n",
      "\n",
      "Message received:\n",
      "    Data: <<{'messageCount': 1180, 'humidity': 50, 'temperature': 23, 'timestamp': '2022-04-24\\n17:47:02'}>>\n",
      "\n",
      "Message received:\n",
      "    Data: <<{'messageCount': 1182, 'humidity': 50, 'temperature': 22, 'timestamp': '2022-04-24\\n17:47:05'}>>\n"
     ]
    },
    {
     "name": "stderr",
     "output_type": "stream",
     "text": [
      "INFO:azure.eventhub:Received event from partition 1\n",
      "INFO:azure.eventhub:Received event from partition 1\n",
      "INFO:azure.eventhub:Received event from partition 1\n"
     ]
    },
    {
     "name": "stdout",
     "output_type": "stream",
     "text": [
      "\n",
      "Message received:\n",
      "    Data: <<{'messageCount': 1183, 'humidity': 50, 'temperature': 22, 'timestamp': '2022-04-24\\n17:47:06'}>>\n",
      "\n",
      "Message received:\n",
      "    Data: <<{'messageCount': 1184, 'humidity': 50, 'temperature': 22, 'timestamp': '2022-04-24\\n17:47:07'}>>\n",
      "\n",
      "Message received:\n",
      "    Data: <<{'messageCount': 1185, 'humidity': 50, 'temperature': 22, 'timestamp': '2022-04-24\\n17:47:08'}>>\n"
     ]
    },
    {
     "name": "stderr",
     "output_type": "stream",
     "text": [
      "INFO:azure.eventhub:Received event from partition 1\n",
      "INFO:azure.eventhub:Received event from partition 1\n",
      "INFO:azure.eventhub:Received event from partition 1\n"
     ]
    },
    {
     "name": "stdout",
     "output_type": "stream",
     "text": [
      "\n",
      "Message received:\n",
      "    Data: <<{'messageCount': 1186, 'humidity': 50, 'temperature': 22, 'timestamp': '2022-04-24\\n17:47:09'}>>\n",
      "\n",
      "Message received:\n",
      "    Data: <<{'messageCount': 1187, 'humidity': 50, 'temperature': 22, 'timestamp': '2022-04-24\\n17:47:11'}>>\n",
      "\n",
      "Message received:\n",
      "    Data: <<{'messageCount': 1188, 'humidity': 50, 'temperature': 22, 'timestamp': '2022-04-24\\n17:47:12'}>>\n"
     ]
    },
    {
     "name": "stderr",
     "output_type": "stream",
     "text": [
      "INFO:azure.eventhub:Received event from partition 1\n",
      "INFO:azure.eventhub:Received event from partition 1\n",
      "INFO:azure.eventhub:Received event from partition 1\n"
     ]
    },
    {
     "name": "stdout",
     "output_type": "stream",
     "text": [
      "\n",
      "Message received:\n",
      "    Data: <<{'messageCount': 1189, 'humidity': 50, 'temperature': 22, 'timestamp': '2022-04-24\\n17:47:13'}>>\n",
      "\n",
      "Message received:\n",
      "    Data: <<{'messageCount': 1190, 'humidity': 50, 'temperature': 22, 'timestamp': '2022-04-24\\n17:47:14'}>>\n",
      "\n",
      "Message received:\n",
      "    Data: <<{'messageCount': 1191, 'humidity': 50, 'temperature': 22, 'timestamp': '2022-04-24\\n17:47:15'}>>\n"
     ]
    },
    {
     "name": "stderr",
     "output_type": "stream",
     "text": [
      "INFO:azure.eventhub:Received event from partition 1\n",
      "INFO:azure.eventhub:Received event from partition 1\n",
      "INFO:azure.eventhub:Received event from partition 1\n"
     ]
    },
    {
     "name": "stdout",
     "output_type": "stream",
     "text": [
      "\n",
      "Message received:\n",
      "    Data: <<{'messageCount': 1192, 'humidity': 50, 'temperature': 22, 'timestamp': '2022-04-24\\n17:47:16'}>>\n",
      "\n",
      "Message received:\n",
      "    Data: <<{'messageCount': 1193, 'humidity': 50, 'temperature': 22, 'timestamp': '2022-04-24\\n17:47:18'}>>\n",
      "\n",
      "Message received:\n",
      "    Data: <<{'messageCount': 1194, 'humidity': 50, 'temperature': 22, 'timestamp': '2022-04-24\\n17:47:19'}>>\n",
      "\n",
      "Message received:\n",
      "    Data: <<{'messageCount': 1195, 'humidity': 50, 'temperature': 22, 'timestamp': '2022-04-24\\n17:47:20'}>>\n"
     ]
    },
    {
     "name": "stderr",
     "output_type": "stream",
     "text": [
      "INFO:azure.eventhub:Received event from partition 1\n",
      "INFO:azure.eventhub:Received event from partition 1\n",
      "INFO:azure.eventhub:Received event from partition 1\n",
      "INFO:azure.eventhub:Received event from partition 1\n"
     ]
    },
    {
     "name": "stdout",
     "output_type": "stream",
     "text": [
      "\n",
      "Message received:\n",
      "    Data: <<{'messageCount': 1196, 'humidity': 50, 'temperature': 22, 'timestamp': '2022-04-24\\n17:47:21'}>>\n",
      "\n",
      "Message received:\n",
      "    Data: <<{'messageCount': 1197, 'humidity': 50, 'temperature': 22, 'timestamp': '2022-04-24\\n17:47:22'}>>\n",
      "\n",
      "Message received:\n",
      "    Data: <<{'messageCount': 1198, 'humidity': 50, 'temperature': 22, 'timestamp': '2022-04-24\\n17:47:23'}>>\n"
     ]
    },
    {
     "name": "stderr",
     "output_type": "stream",
     "text": [
      "INFO:azure.eventhub:Received event from partition 1\n",
      "INFO:azure.eventhub:Received event from partition 1\n",
      "INFO:azure.eventhub:Received event from partition 1\n"
     ]
    },
    {
     "name": "stdout",
     "output_type": "stream",
     "text": [
      "\n",
      "Message received:\n",
      "    Data: <<{'messageCount': 1199, 'humidity': 50, 'temperature': 22, 'timestamp': '2022-04-24\\n17:47:25'}>>\n",
      "\n",
      "Message received:\n",
      "    Data: <<{'messageCount': 1200, 'humidity': 50, 'temperature': 22, 'timestamp': '2022-04-24\\n17:47:26'}>>\n",
      "\n",
      "Message received:\n",
      "    Data: <<{'messageCount': 1201, 'humidity': 50, 'temperature': 23, 'timestamp': '2022-04-24\\n17:47:27'}>>\n",
      "\n",
      "Message received:\n",
      "    Data: <<{'messageCount': 1202, 'humidity': 50, 'temperature': 23, 'timestamp': '2022-04-24\\n17:47:28'}>>\n"
     ]
    },
    {
     "name": "stderr",
     "output_type": "stream",
     "text": [
      "INFO:azure.eventhub:Received event from partition 1\n",
      "INFO:azure.eventhub:Received event from partition 1\n",
      "INFO:azure.eventhub:Received event from partition 1\n",
      "INFO:azure.eventhub:Received event from partition 1\n"
     ]
    },
    {
     "name": "stdout",
     "output_type": "stream",
     "text": [
      "\n",
      "Message received:\n",
      "    Data: <<{'messageCount': 1203, 'humidity': 50, 'temperature': 22, 'timestamp': '2022-04-24\\n17:47:29'}>>\n",
      "\n",
      "Message received:\n",
      "    Data: <<{'messageCount': 1204, 'humidity': 50, 'temperature': 22, 'timestamp': '2022-04-24\\n17:47:30'}>>\n",
      "\n",
      "Message received:\n",
      "    Data: <<{'messageCount': 1205, 'humidity': 50, 'temperature': 22, 'timestamp': '2022-04-24\\n17:47:32'}>>\n"
     ]
    },
    {
     "name": "stderr",
     "output_type": "stream",
     "text": [
      "INFO:azure.eventhub:Received event from partition 1\n",
      "INFO:azure.eventhub:Received event from partition 1\n",
      "INFO:azure.eventhub:Received event from partition 1\n"
     ]
    },
    {
     "name": "stdout",
     "output_type": "stream",
     "text": [
      "\n",
      "Message received:\n",
      "    Data: <<{'messageCount': 1206, 'humidity': 50, 'temperature': 22, 'timestamp': '2022-04-24\\n17:47:33'}>>\n",
      "\n",
      "Message received:\n",
      "    Data: <<{'messageCount': 1207, 'humidity': 50, 'temperature': 22, 'timestamp': '2022-04-24\\n17:47:34'}>>\n",
      "\n",
      "Message received:\n",
      "    Data: <<{'messageCount': 1208, 'humidity': 50, 'temperature': 22, 'timestamp': '2022-04-24\\n17:47:35'}>>\n",
      "\n",
      "Message received:\n",
      "    Data: <<{'messageCount': 1209, 'humidity': 50, 'temperature': 23, 'timestamp': '2022-04-24\\n17:47:36'}>>\n"
     ]
    },
    {
     "name": "stderr",
     "output_type": "stream",
     "text": [
      "INFO:azure.eventhub:Received event from partition 1\n",
      "INFO:azure.eventhub:Received event from partition 1\n",
      "INFO:azure.eventhub:Received event from partition 1\n",
      "INFO:azure.eventhub:Received event from partition 1\n"
     ]
    },
    {
     "name": "stdout",
     "output_type": "stream",
     "text": [
      "\n",
      "Message received:\n",
      "    Data: <<{'messageCount': 1210, 'humidity': 50, 'temperature': 23, 'timestamp': '2022-04-24\\n17:47:37'}>>\n",
      "\n",
      "Message received:\n",
      "    Data: <<{'messageCount': 1211, 'humidity': 50, 'temperature': 22, 'timestamp': '2022-04-24\\n17:47:38'}>>\n",
      "\n",
      "Message received:\n",
      "    Data: <<{'messageCount': 1212, 'humidity': 50, 'temperature': 22, 'timestamp': '2022-04-24\\n17:47:39'}>>\n"
     ]
    },
    {
     "name": "stderr",
     "output_type": "stream",
     "text": [
      "INFO:azure.eventhub:Received event from partition 1\n",
      "INFO:azure.eventhub:Received event from partition 1\n",
      "INFO:azure.eventhub:Received event from partition 1\n"
     ]
    },
    {
     "name": "stdout",
     "output_type": "stream",
     "text": [
      "\n",
      "Message received:\n",
      "    Data: <<{'messageCount': 1213, 'humidity': 50, 'temperature': 22, 'timestamp': '2022-04-24\\n17:47:41'}>>\n",
      "\n",
      "Message received:\n",
      "    Data: <<{'messageCount': 1214, 'humidity': 50, 'temperature': 22, 'timestamp': '2022-04-24\\n17:47:42'}>>\n",
      "\n",
      "Message received:\n",
      "    Data: <<{'messageCount': 1215, 'humidity': 50, 'temperature': 22, 'timestamp': '2022-04-24\\n17:47:43'}>>\n"
     ]
    },
    {
     "name": "stderr",
     "output_type": "stream",
     "text": [
      "INFO:azure.eventhub:Received event from partition 1\n",
      "INFO:azure.eventhub:Received event from partition 1\n",
      "INFO:azure.eventhub:Received event from partition 1\n"
     ]
    },
    {
     "name": "stdout",
     "output_type": "stream",
     "text": [
      "\n",
      "Message received:\n",
      "    Data: <<{'messageCount': 1216, 'humidity': 50, 'temperature': 22, 'timestamp': '2022-04-24\\n17:47:44'}>>\n",
      "\n",
      "Message received:\n",
      "    Data: <<{'messageCount': 1217, 'humidity': 50, 'temperature': 22, 'timestamp': '2022-04-24\\n17:47:45'}>>\n",
      "\n",
      "Message received:\n",
      "    Data: <<{'messageCount': 1218, 'humidity': 50, 'temperature': 22, 'timestamp': '2022-04-24\\n17:47:46'}>>\n",
      "\n",
      "Message received:\n",
      "    Data: <<{'messageCount': 1219, 'humidity': 49, 'temperature': 23, 'timestamp': '2022-04-24\\n17:47:48'}>>\n"
     ]
    },
    {
     "name": "stderr",
     "output_type": "stream",
     "text": [
      "INFO:azure.eventhub:Received event from partition 1\n",
      "INFO:azure.eventhub:Received event from partition 1\n",
      "INFO:azure.eventhub:Received event from partition 1\n",
      "INFO:azure.eventhub:Received event from partition 1\n"
     ]
    },
    {
     "name": "stdout",
     "output_type": "stream",
     "text": [
      "\n",
      "Message received:\n",
      "    Data: <<{'messageCount': 1220, 'humidity': 49, 'temperature': 23, 'timestamp': '2022-04-24\\n17:47:49'}>>\n",
      "\n",
      "Message received:\n",
      "    Data: <<{'messageCount': 1221, 'humidity': 49, 'temperature': 22, 'timestamp': '2022-04-24\\n17:47:50'}>>\n",
      "\n",
      "Message received:\n",
      "    Data: <<{'messageCount': 1222, 'humidity': 49, 'temperature': 22, 'timestamp': '2022-04-24\\n17:47:51'}>>\n"
     ]
    },
    {
     "name": "stderr",
     "output_type": "stream",
     "text": [
      "INFO:azure.eventhub:Received event from partition 1\n",
      "INFO:azure.eventhub:Received event from partition 1\n",
      "INFO:azure.eventhub:Received event from partition 1\n",
      "INFO:azure.eventhub:Received event from partition 1\n"
     ]
    },
    {
     "name": "stdout",
     "output_type": "stream",
     "text": [
      "\n",
      "Message received:\n",
      "    Data: <<{'messageCount': 1223, 'humidity': 49, 'temperature': 22, 'timestamp': '2022-04-24\\n17:47:52'}>>\n",
      "\n",
      "Message received:\n",
      "    Data: <<{'messageCount': 1224, 'humidity': 49, 'temperature': 22, 'timestamp': '2022-04-24\\n17:47:53'}>>\n",
      "\n",
      "Message received:\n",
      "    Data: <<{'messageCount': 1225, 'humidity': 49, 'temperature': 22, 'timestamp': '2022-04-24\\n17:47:55'}>>\n",
      "\n",
      "Message received:\n",
      "    Data: <<{'messageCount': 1226, 'humidity': 49, 'temperature': 22, 'timestamp': '2022-04-24\\n17:47:56'}>>\n",
      "\n",
      "Message received:\n",
      "    Data: <<{'messageCount': 1227, 'humidity': 49, 'temperature': 22, 'timestamp': '2022-04-24\\n17:47:57'}>>\n"
     ]
    },
    {
     "name": "stderr",
     "output_type": "stream",
     "text": [
      "INFO:azure.eventhub:Received event from partition 1\n",
      "INFO:azure.eventhub:Received event from partition 1\n",
      "INFO:azure.eventhub:Received event from partition 1\n",
      "INFO:azure.eventhub:Received event from partition 1\n"
     ]
    },
    {
     "name": "stdout",
     "output_type": "stream",
     "text": [
      "\n",
      "Message received:\n",
      "    Data: <<{'messageCount': 1228, 'humidity': 49, 'temperature': 22, 'timestamp': '2022-04-24\\n17:47:58'}>>\n",
      "\n",
      "Message received:\n",
      "    Data: <<{'messageCount': 1229, 'humidity': 49, 'temperature': 22, 'timestamp': '2022-04-24\\n17:47:59'}>>\n",
      "\n",
      "Message received:\n",
      "    Data: <<{'messageCount': 1230, 'humidity': 49, 'temperature': 22, 'timestamp': '2022-04-24\\n17:48:00'}>>\n"
     ]
    },
    {
     "name": "stderr",
     "output_type": "stream",
     "text": [
      "INFO:azure.eventhub:Received event from partition 1\n",
      "INFO:azure.eventhub:Received event from partition 1\n",
      "INFO:azure.eventhub:Received event from partition 1\n"
     ]
    },
    {
     "name": "stdout",
     "output_type": "stream",
     "text": [
      "\n",
      "Message received:\n",
      "    Data: <<{'messageCount': 1231, 'humidity': 49, 'temperature': 22, 'timestamp': '2022-04-24\\n17:48:02'}>>\n",
      "\n",
      "Message received:\n",
      "    Data: <<{'messageCount': 1232, 'humidity': 49, 'temperature': 22, 'timestamp': '2022-04-24\\n17:48:03'}>>\n",
      "\n",
      "Message received:\n",
      "    Data: <<{'messageCount': 1234, 'humidity': 50, 'temperature': 23, 'timestamp': '2022-04-24\\n17:48:05'}>>\n"
     ]
    },
    {
     "name": "stderr",
     "output_type": "stream",
     "text": [
      "INFO:azure.eventhub:Received event from partition 1\n",
      "INFO:azure.eventhub:Received event from partition 1\n",
      "INFO:azure.eventhub:Received event from partition 1\n",
      "INFO:azure.eventhub:Received event from partition 1\n"
     ]
    },
    {
     "name": "stdout",
     "output_type": "stream",
     "text": [
      "\n",
      "Message received:\n",
      "    Data: <<{'messageCount': 1233, 'humidity': 50, 'temperature': 23, 'timestamp': '2022-04-24\\n17:48:04'}>>\n",
      "\n",
      "Message received:\n",
      "    Data: <<{'messageCount': 1235, 'humidity': 49, 'temperature': 22, 'timestamp': '2022-04-24\\n17:48:06'}>>\n",
      "\n",
      "Message received:\n",
      "    Data: <<{'messageCount': 1236, 'humidity': 49, 'temperature': 22, 'timestamp': '2022-04-24\\n17:48:07'}>>\n",
      "\n",
      "Message received:\n",
      "    Data: <<{'messageCount': 1237, 'humidity': 49, 'temperature': 22, 'timestamp': '2022-04-24\\n17:48:08'}>>\n"
     ]
    },
    {
     "name": "stderr",
     "output_type": "stream",
     "text": [
      "INFO:azure.eventhub:Received event from partition 1\n",
      "INFO:azure.eventhub:Received event from partition 1\n",
      "INFO:azure.eventhub:Received event from partition 1\n"
     ]
    },
    {
     "name": "stdout",
     "output_type": "stream",
     "text": [
      "\n",
      "Message received:\n",
      "    Data: <<{'messageCount': 1238, 'humidity': 49, 'temperature': 22, 'timestamp': '2022-04-24\\n17:48:09'}>>\n",
      "\n",
      "Message received:\n",
      "    Data: <<{'messageCount': 1239, 'humidity': 49, 'temperature': 22, 'timestamp': '2022-04-24\\n17:48:11'}>>\n",
      "\n",
      "Message received:\n",
      "    Data: <<{'messageCount': 1240, 'humidity': 49, 'temperature': 22, 'timestamp': '2022-04-24\\n17:48:12'}>>\n"
     ]
    },
    {
     "name": "stderr",
     "output_type": "stream",
     "text": [
      "INFO:azure.eventhub:Received event from partition 1\n",
      "INFO:azure.eventhub:Received event from partition 1\n",
      "INFO:azure.eventhub:Received event from partition 1\n"
     ]
    },
    {
     "name": "stdout",
     "output_type": "stream",
     "text": [
      "\n",
      "Message received:\n",
      "    Data: <<{'messageCount': 1241, 'humidity': 50, 'temperature': 22, 'timestamp': '2022-04-24\\n17:48:13'}>>\n",
      "\n",
      "Message received:\n",
      "    Data: <<{'messageCount': 1242, 'humidity': 50, 'temperature': 22, 'timestamp': '2022-04-24\\n17:48:14'}>>\n",
      "\n",
      "Message received:\n",
      "    Data: <<{'messageCount': 1243, 'humidity': 50, 'temperature': 22, 'timestamp': '2022-04-24\\n17:48:15'}>>\n",
      "\n",
      "Message received:\n",
      "    Data: <<{'messageCount': 1244, 'humidity': 50, 'temperature': 22, 'timestamp': '2022-04-24\\n17:48:17'}>>\n"
     ]
    },
    {
     "name": "stderr",
     "output_type": "stream",
     "text": [
      "INFO:azure.eventhub:Received event from partition 1\n",
      "INFO:azure.eventhub:Received event from partition 1\n",
      "INFO:azure.eventhub:Received event from partition 1\n",
      "INFO:azure.eventhub:Received event from partition 1\n"
     ]
    },
    {
     "name": "stdout",
     "output_type": "stream",
     "text": [
      "\n",
      "Message received:\n",
      "    Data: <<{'messageCount': 1245, 'humidity': 50, 'temperature': 22, 'timestamp': '2022-04-24\\n17:48:18'}>>\n",
      "\n",
      "Message received:\n",
      "    Data: <<{'messageCount': 1246, 'humidity': 50, 'temperature': 22, 'timestamp': '2022-04-24\\n17:48:19'}>>\n",
      "\n",
      "Message received:\n",
      "    Data: <<{'messageCount': 1247, 'humidity': 49, 'temperature': 22, 'timestamp': '2022-04-24\\n17:48:21'}>>\n"
     ]
    },
    {
     "name": "stderr",
     "output_type": "stream",
     "text": [
      "INFO:azure.eventhub:Received event from partition 1\n",
      "INFO:azure.eventhub:Received event from partition 1\n",
      "INFO:azure.eventhub:Received event from partition 1\n"
     ]
    },
    {
     "name": "stdout",
     "output_type": "stream",
     "text": [
      "\n",
      "Message received:\n",
      "    Data: <<{'messageCount': 1248, 'humidity': 49, 'temperature': 22, 'timestamp': '2022-04-24\\n17:48:22'}>>\n",
      "\n",
      "Message received:\n",
      "    Data: <<{'messageCount': 1249, 'humidity': 49, 'temperature': 23, 'timestamp': '2022-04-24\\n17:48:23'}>>\n",
      "\n",
      "Message received:\n",
      "    Data: <<{'messageCount': 1250, 'humidity': 49, 'temperature': 23, 'timestamp': '2022-04-24\\n17:48:24'}>>\n",
      "\n",
      "Message received:\n",
      "    Data: <<{'messageCount': 1251, 'humidity': 50, 'temperature': 23, 'timestamp': '2022-04-24\\n17:48:25'}>>\n"
     ]
    },
    {
     "name": "stderr",
     "output_type": "stream",
     "text": [
      "INFO:azure.eventhub:Received event from partition 1\n",
      "INFO:azure.eventhub:Received event from partition 1\n",
      "INFO:azure.eventhub:Received event from partition 1\n",
      "INFO:azure.eventhub:Received event from partition 1\n"
     ]
    },
    {
     "name": "stdout",
     "output_type": "stream",
     "text": [
      "\n",
      "Message received:\n",
      "    Data: <<{'messageCount': 1252, 'humidity': 50, 'temperature': 23, 'timestamp': '2022-04-24\\n17:48:26'}>>\n",
      "\n",
      "Message received:\n",
      "    Data: <<{'messageCount': 1253, 'humidity': 49, 'temperature': 22, 'timestamp': '2022-04-24\\n17:48:28'}>>\n",
      "\n",
      "Message received:\n",
      "    Data: <<{'messageCount': 1254, 'humidity': 49, 'temperature': 22, 'timestamp': '2022-04-24\\n17:48:29'}>>\n"
     ]
    },
    {
     "name": "stderr",
     "output_type": "stream",
     "text": [
      "INFO:azure.eventhub:Received event from partition 1\n",
      "INFO:azure.eventhub:Received event from partition 1\n",
      "INFO:azure.eventhub:Received event from partition 1\n"
     ]
    },
    {
     "name": "stdout",
     "output_type": "stream",
     "text": [
      "\n",
      "Message received:\n",
      "    Data: <<{'messageCount': 1255, 'humidity': 49, 'temperature': 22, 'timestamp': '2022-04-24\\n17:48:30'}>>\n",
      "\n",
      "Message received:\n",
      "    Data: <<{'messageCount': 1256, 'humidity': 49, 'temperature': 22, 'timestamp': '2022-04-24\\n17:48:31'}>>\n",
      "\n",
      "Message received:\n",
      "    Data: <<{'messageCount': 1257, 'humidity': 49, 'temperature': 22, 'timestamp': '2022-04-24\\n17:48:32'}>>\n",
      "\n",
      "Message received:\n",
      "    Data: <<{'messageCount': 1258, 'humidity': 49, 'temperature': 22, 'timestamp': '2022-04-24\\n17:48:33'}>>\n"
     ]
    },
    {
     "name": "stderr",
     "output_type": "stream",
     "text": [
      "INFO:azure.eventhub:Received event from partition 1\n",
      "INFO:azure.eventhub:Received event from partition 1\n",
      "INFO:azure.eventhub:Received event from partition 1\n",
      "INFO:azure.eventhub:Received event from partition 1\n"
     ]
    },
    {
     "name": "stdout",
     "output_type": "stream",
     "text": [
      "\n",
      "Message received:\n",
      "    Data: <<{'messageCount': 1259, 'humidity': 49, 'temperature': 23, 'timestamp': '2022-04-24\\n17:48:35'}>>\n",
      "\n",
      "Message received:\n",
      "    Data: <<{'messageCount': 1260, 'humidity': 49, 'temperature': 23, 'timestamp': '2022-04-24\\n17:48:36'}>>\n",
      "\n",
      "Message received:\n",
      "    Data: <<{'messageCount': 1261, 'humidity': 50, 'temperature': 23, 'timestamp': '2022-04-24\\n17:48:37'}>>\n",
      "\n",
      "Message received:\n",
      "    Data: <<{'messageCount': 1262, 'humidity': 50, 'temperature': 23, 'timestamp': '2022-04-24\\n17:48:38'}>>\n"
     ]
    },
    {
     "name": "stderr",
     "output_type": "stream",
     "text": [
      "INFO:azure.eventhub:Received event from partition 1\n",
      "INFO:azure.eventhub:Received event from partition 1\n",
      "INFO:azure.eventhub:Received event from partition 1\n",
      "INFO:azure.eventhub:Received event from partition 1\n"
     ]
    },
    {
     "name": "stdout",
     "output_type": "stream",
     "text": [
      "\n",
      "Message received:\n",
      "    Data: <<{'messageCount': 1263, 'humidity': 49, 'temperature': 22, 'timestamp': '2022-04-24\\n17:48:39'}>>\n",
      "\n",
      "Message received:\n",
      "    Data: <<{'messageCount': 1264, 'humidity': 49, 'temperature': 22, 'timestamp': '2022-04-24\\n17:48:40'}>>\n",
      "\n",
      "Message received:\n",
      "    Data: <<{'messageCount': 1265, 'humidity': 49, 'temperature': 23, 'timestamp': '2022-04-24\\n17:48:41'}>>\n",
      "\n",
      "Message received:\n",
      "    Data: <<{'messageCount': 1266, 'humidity': 49, 'temperature': 23, 'timestamp': '2022-04-24\\n17:48:42'}>>\n"
     ]
    },
    {
     "name": "stderr",
     "output_type": "stream",
     "text": [
      "INFO:azure.eventhub:Received event from partition 1\n",
      "INFO:azure.eventhub:Received event from partition 1\n",
      "INFO:azure.eventhub:Received event from partition 1\n",
      "INFO:azure.eventhub:Received event from partition 1\n"
     ]
    },
    {
     "name": "stdout",
     "output_type": "stream",
     "text": [
      "\n",
      "Message received:\n",
      "    Data: <<{'messageCount': 1267, 'humidity': 50, 'temperature': 23, 'timestamp': '2022-04-24\\n17:48:44'}>>\n",
      "\n",
      "Message received:\n",
      "    Data: <<{'messageCount': 1268, 'humidity': 50, 'temperature': 23, 'timestamp': '2022-04-24\\n17:48:45'}>>\n",
      "\n",
      "Message received:\n",
      "    Data: <<{'messageCount': 1269, 'humidity': 49, 'temperature': 22, 'timestamp': '2022-04-24\\n17:48:46'}>>\n",
      "\n",
      "Message received:\n",
      "    Data: <<{'messageCount': 1270, 'humidity': 49, 'temperature': 22, 'timestamp': '2022-04-24\\n17:48:47'}>>\n"
     ]
    },
    {
     "name": "stderr",
     "output_type": "stream",
     "text": [
      "INFO:azure.eventhub:Received event from partition 1\n",
      "INFO:azure.eventhub:Received event from partition 1\n",
      "INFO:azure.eventhub:Received event from partition 1\n",
      "INFO:azure.eventhub:Received event from partition 1\n"
     ]
    },
    {
     "name": "stdout",
     "output_type": "stream",
     "text": [
      "\n",
      "Message received:\n",
      "    Data: <<{'messageCount': 1271, 'humidity': 49, 'temperature': 23, 'timestamp': '2022-04-24\\n17:48:48'}>>\n",
      "\n",
      "Message received:\n",
      "    Data: <<{'messageCount': 1272, 'humidity': 49, 'temperature': 23, 'timestamp': '2022-04-24\\n17:48:49'}>>\n",
      "\n",
      "Message received:\n",
      "    Data: <<{'messageCount': 1273, 'humidity': 50, 'temperature': 23, 'timestamp': '2022-04-24\\n17:48:51'}>>\n",
      "\n",
      "Message received:\n",
      "    Data: <<{'messageCount': 1274, 'humidity': 50, 'temperature': 23, 'timestamp': '2022-04-24\\n17:48:52'}>>\n"
     ]
    },
    {
     "name": "stderr",
     "output_type": "stream",
     "text": [
      "INFO:azure.eventhub:Received event from partition 1\n",
      "INFO:azure.eventhub:Received event from partition 1\n",
      "INFO:azure.eventhub:Received event from partition 1\n",
      "INFO:azure.eventhub:Received event from partition 1\n"
     ]
    },
    {
     "name": "stdout",
     "output_type": "stream",
     "text": [
      "\n",
      "Message received:\n",
      "    Data: <<{'messageCount': 1275, 'humidity': 50, 'temperature': 23, 'timestamp': '2022-04-24\\n17:48:53'}>>\n",
      "\n",
      "Message received:\n",
      "    Data: <<{'messageCount': 1276, 'humidity': 50, 'temperature': 23, 'timestamp': '2022-04-24\\n17:48:54'}>>\n",
      "\n",
      "Message received:\n",
      "    Data: <<{'messageCount': 1277, 'humidity': 50, 'temperature': 23, 'timestamp': '2022-04-24\\n17:48:55'}>>\n"
     ]
    },
    {
     "name": "stderr",
     "output_type": "stream",
     "text": [
      "INFO:azure.eventhub:Received event from partition 1\n",
      "INFO:azure.eventhub:Received event from partition 1\n",
      "INFO:azure.eventhub:Received event from partition 1\n"
     ]
    },
    {
     "name": "stdout",
     "output_type": "stream",
     "text": [
      "\n",
      "Message received:\n",
      "    Data: <<{'messageCount': 1278, 'humidity': 50, 'temperature': 23, 'timestamp': '2022-04-24\\n17:48:56'}>>\n",
      "\n",
      "Message received:\n",
      "    Data: <<{'messageCount': 1279, 'humidity': 50, 'temperature': 23, 'timestamp': '2022-04-24\\n17:48:58'}>>\n",
      "\n",
      "Message received:\n",
      "    Data: <<{'messageCount': 1280, 'humidity': 50, 'temperature': 23, 'timestamp': '2022-04-24\\n17:48:59'}>>\n"
     ]
    },
    {
     "name": "stderr",
     "output_type": "stream",
     "text": [
      "INFO:azure.eventhub:Received event from partition 1\n",
      "INFO:azure.eventhub:Received event from partition 1\n",
      "INFO:azure.eventhub:Received event from partition 1\n"
     ]
    },
    {
     "name": "stdout",
     "output_type": "stream",
     "text": [
      "\n",
      "Message received:\n",
      "    Data: <<{'messageCount': 1281, 'humidity': 50, 'temperature': 23, 'timestamp': '2022-04-24\\n17:49:00'}>>\n",
      "\n",
      "Message received:\n",
      "    Data: <<{'messageCount': 1283, 'humidity': 50, 'temperature': 23, 'timestamp': '2022-04-24\\n17:49:02'}>>\n",
      "\n",
      "Message received:\n",
      "    Data: <<{'messageCount': 1282, 'humidity': 50, 'temperature': 23, 'timestamp': '2022-04-24\\n17:49:01'}>>\n",
      "\n",
      "Message received:\n",
      "    Data: <<{'messageCount': 1284, 'humidity': 50, 'temperature': 23, 'timestamp': '2022-04-24\\n17:49:03'}>>\n"
     ]
    },
    {
     "name": "stderr",
     "output_type": "stream",
     "text": [
      "INFO:azure.eventhub:Received event from partition 1\n",
      "INFO:azure.eventhub:Received event from partition 1\n",
      "INFO:azure.eventhub:Received event from partition 1\n",
      "INFO:azure.eventhub:Received event from partition 1\n"
     ]
    },
    {
     "name": "stdout",
     "output_type": "stream",
     "text": [
      "\n",
      "Message received:\n",
      "    Data: <<{'messageCount': 1285, 'humidity': 49, 'temperature': 22, 'timestamp': '2022-04-24\\n17:49:05'}>>\n",
      "\n",
      "Message received:\n",
      "    Data: <<{'messageCount': 1286, 'humidity': 49, 'temperature': 22, 'timestamp': '2022-04-24\\n17:49:06'}>>\n",
      "\n",
      "Message received:\n",
      "    Data: <<{'messageCount': 1287, 'humidity': 50, 'temperature': 23, 'timestamp': '2022-04-24\\n17:49:07'}>>\n",
      "\n",
      "Message received:\n",
      "    Data: <<{'messageCount': 1288, 'humidity': 50, 'temperature': 23, 'timestamp': '2022-04-24\\n17:49:08'}>>\n"
     ]
    },
    {
     "name": "stderr",
     "output_type": "stream",
     "text": [
      "INFO:azure.eventhub:Received event from partition 1\n",
      "INFO:azure.eventhub:Received event from partition 1\n",
      "INFO:azure.eventhub:Received event from partition 1\n",
      "INFO:azure.eventhub:Received event from partition 1\n"
     ]
    },
    {
     "name": "stdout",
     "output_type": "stream",
     "text": [
      "\n",
      "Message received:\n",
      "    Data: <<{'messageCount': 1289, 'humidity': 50, 'temperature': 22, 'timestamp': '2022-04-24\\n17:49:09'}>>\n",
      "\n",
      "Message received:\n",
      "    Data: <<{'messageCount': 1290, 'humidity': 50, 'temperature': 22, 'timestamp': '2022-04-24\\n17:49:10'}>>\n",
      "\n",
      "Message received:\n",
      "    Data: <<{'messageCount': 1291, 'humidity': 49, 'temperature': 22, 'timestamp': '2022-04-24\\n17:49:12'}>>\n",
      "\n",
      "Message received:\n",
      "    Data: <<{'messageCount': 1292, 'humidity': 49, 'temperature': 22, 'timestamp': '2022-04-24\\n17:49:13'}>>\n"
     ]
    },
    {
     "name": "stderr",
     "output_type": "stream",
     "text": [
      "INFO:azure.eventhub:Received event from partition 1\n",
      "INFO:azure.eventhub:Received event from partition 1\n",
      "INFO:azure.eventhub:Received event from partition 1\n",
      "INFO:azure.eventhub:Received event from partition 1\n"
     ]
    },
    {
     "name": "stdout",
     "output_type": "stream",
     "text": [
      "\n",
      "Message received:\n",
      "    Data: <<{'messageCount': 1293, 'humidity': 49, 'temperature': 23, 'timestamp': '2022-04-24\\n17:49:14'}>>\n",
      "\n",
      "Message received:\n",
      "    Data: <<{'messageCount': 1294, 'humidity': 49, 'temperature': 23, 'timestamp': '2022-04-24\\n17:49:15'}>>\n",
      "\n",
      "Message received:\n",
      "    Data: <<{'messageCount': 1295, 'humidity': 49, 'temperature': 22, 'timestamp': '2022-04-24\\n17:49:16'}>>\n",
      "\n",
      "Message received:\n",
      "    Data: <<{'messageCount': 1296, 'humidity': 49, 'temperature': 22, 'timestamp': '2022-04-24\\n17:49:17'}>>\n"
     ]
    },
    {
     "name": "stderr",
     "output_type": "stream",
     "text": [
      "INFO:azure.eventhub:Received event from partition 1\n",
      "INFO:azure.eventhub:Received event from partition 1\n",
      "INFO:azure.eventhub:Received event from partition 1\n",
      "INFO:azure.eventhub:Received event from partition 1\n"
     ]
    },
    {
     "name": "stdout",
     "output_type": "stream",
     "text": [
      "\n",
      "Message received:\n",
      "    Data: <<{'messageCount': 1297, 'humidity': 50, 'temperature': 23, 'timestamp': '2022-04-24\\n17:49:19'}>>\n",
      "\n",
      "Message received:\n",
      "    Data: <<{'messageCount': 1298, 'humidity': 50, 'temperature': 23, 'timestamp': '2022-04-24\\n17:49:20'}>>\n",
      "\n",
      "Message received:\n",
      "    Data: <<{'messageCount': 1299, 'humidity': 50, 'temperature': 23, 'timestamp': '2022-04-24\\n17:49:21'}>>\n"
     ]
    },
    {
     "name": "stderr",
     "output_type": "stream",
     "text": [
      "INFO:azure.eventhub:Received event from partition 1\n",
      "INFO:azure.eventhub:Received event from partition 1\n",
      "INFO:azure.eventhub:Received event from partition 1\n"
     ]
    },
    {
     "name": "stdout",
     "output_type": "stream",
     "text": [
      "\n",
      "Message received:\n",
      "    Data: <<{'messageCount': 1300, 'humidity': 50, 'temperature': 23, 'timestamp': '2022-04-24\\n17:49:22'}>>\n",
      "\n",
      "Message received:\n",
      "    Data: <<{'messageCount': 1301, 'humidity': 51, 'temperature': 22, 'timestamp': '2022-04-24\\n17:49:23'}>>\n",
      "\n",
      "Message received:\n",
      "    Data: <<{'messageCount': 1302, 'humidity': 51, 'temperature': 22, 'timestamp': '2022-04-24\\n17:49:24'}>>\n",
      "\n",
      "Message received:\n",
      "    Data: <<{'messageCount': 1303, 'humidity': 51, 'temperature': 23, 'timestamp': '2022-04-24\\n17:49:25'}>>\n"
     ]
    },
    {
     "name": "stderr",
     "output_type": "stream",
     "text": [
      "INFO:azure.eventhub:Received event from partition 1\n",
      "INFO:azure.eventhub:Received event from partition 1\n",
      "INFO:azure.eventhub:Received event from partition 1\n",
      "INFO:azure.eventhub:Received event from partition 1\n"
     ]
    },
    {
     "name": "stdout",
     "output_type": "stream",
     "text": [
      "\n",
      "Message received:\n",
      "    Data: <<{'messageCount': 1304, 'humidity': 51, 'temperature': 23, 'timestamp': '2022-04-24\\n17:49:27'}>>\n",
      "\n",
      "Message received:\n",
      "    Data: <<{'messageCount': 1305, 'humidity': 52, 'temperature': 22, 'timestamp': '2022-04-24\\n17:49:28'}>>\n",
      "\n",
      "Message received:\n",
      "    Data: <<{'messageCount': 1306, 'humidity': 52, 'temperature': 22, 'timestamp': '2022-04-24\\n17:49:29'}>>\n"
     ]
    },
    {
     "name": "stderr",
     "output_type": "stream",
     "text": [
      "INFO:azure.eventhub:Received event from partition 1\n",
      "INFO:azure.eventhub:Received event from partition 1\n",
      "INFO:azure.eventhub:Received event from partition 1\n"
     ]
    },
    {
     "name": "stdout",
     "output_type": "stream",
     "text": [
      "\n",
      "Message received:\n",
      "    Data: <<{'messageCount': 1307, 'humidity': 52, 'temperature': 23, 'timestamp': '2022-04-24\\n17:49:30'}>>\n",
      "\n",
      "Message received:\n",
      "    Data: <<{'messageCount': 1308, 'humidity': 52, 'temperature': 23, 'timestamp': '2022-04-24\\n17:49:31'}>>\n",
      "\n",
      "Message received:\n",
      "    Data: <<{'messageCount': 1309, 'humidity': 53, 'temperature': 23, 'timestamp': '2022-04-24\\n17:49:32'}>>\n",
      "\n",
      "Message received:\n",
      "    Data: <<{'messageCount': 1310, 'humidity': 53, 'temperature': 23, 'timestamp': '2022-04-24\\n17:49:33'}>>\n"
     ]
    },
    {
     "name": "stderr",
     "output_type": "stream",
     "text": [
      "INFO:azure.eventhub:Received event from partition 1\n",
      "INFO:azure.eventhub:Received event from partition 1\n",
      "INFO:azure.eventhub:Received event from partition 1\n",
      "INFO:azure.eventhub:Received event from partition 1\n"
     ]
    },
    {
     "name": "stdout",
     "output_type": "stream",
     "text": [
      "\n",
      "Message received:\n",
      "    Data: <<{'messageCount': 1311, 'humidity': 53, 'temperature': 23, 'timestamp': '2022-04-24\\n17:49:35'}>>\n",
      "\n",
      "Message received:\n",
      "    Data: <<{'messageCount': 1312, 'humidity': 53, 'temperature': 23, 'timestamp': '2022-04-24\\n17:49:36'}>>\n",
      "\n",
      "Message received:\n",
      "    Data: <<{'messageCount': 1313, 'humidity': 54, 'temperature': 23, 'timestamp': '2022-04-24\\n17:49:37'}>>\n",
      "\n",
      "Message received:\n",
      "    Data: <<{'messageCount': 1314, 'humidity': 54, 'temperature': 23, 'timestamp': '2022-04-24\\n17:49:38'}>>\n"
     ]
    },
    {
     "name": "stderr",
     "output_type": "stream",
     "text": [
      "INFO:azure.eventhub:Received event from partition 1\n",
      "INFO:azure.eventhub:Received event from partition 1\n",
      "INFO:azure.eventhub:Received event from partition 1\n",
      "INFO:azure.eventhub:Received event from partition 1\n"
     ]
    },
    {
     "name": "stdout",
     "output_type": "stream",
     "text": [
      "\n",
      "Message received:\n",
      "    Data: <<{'messageCount': 1315, 'humidity': 54, 'temperature': 23, 'timestamp': '2022-04-24\\n17:49:39'}>>\n",
      "\n",
      "Message received:\n",
      "    Data: <<{'messageCount': 1316, 'humidity': 54, 'temperature': 23, 'timestamp': '2022-04-24\\n17:49:40'}>>\n",
      "\n",
      "Message received:\n",
      "    Data: <<{'messageCount': 1317, 'humidity': 54, 'temperature': 23, 'timestamp': '2022-04-24\\n17:49:42'}>>\n",
      "\n",
      "Message received:\n",
      "    Data: <<{'messageCount': 1318, 'humidity': 54, 'temperature': 23, 'timestamp': '2022-04-24\\n17:49:43'}>>\n"
     ]
    },
    {
     "name": "stderr",
     "output_type": "stream",
     "text": [
      "INFO:azure.eventhub:Received event from partition 1\n",
      "INFO:azure.eventhub:Received event from partition 1\n",
      "INFO:azure.eventhub:Received event from partition 1\n",
      "INFO:azure.eventhub:Received event from partition 1\n"
     ]
    },
    {
     "name": "stdout",
     "output_type": "stream",
     "text": [
      "\n",
      "Message received:\n",
      "    Data: <<{'messageCount': 1319, 'humidity': 55, 'temperature': 23, 'timestamp': '2022-04-24\\n17:49:44'}>>\n",
      "\n",
      "Message received:\n",
      "    Data: <<{'messageCount': 1320, 'humidity': 55, 'temperature': 23, 'timestamp': '2022-04-24\\n17:49:45'}>>\n",
      "\n",
      "Message received:\n",
      "    Data: <<{'messageCount': 1322, 'humidity': 55, 'temperature': 23, 'timestamp': '2022-04-24\\n17:49:47'}>>\n",
      "\n",
      "Message received:\n",
      "    Data: <<{'messageCount': 1321, 'humidity': 55, 'temperature': 23, 'timestamp': '2022-04-24\\n17:49:46'}>>\n"
     ]
    },
    {
     "name": "stderr",
     "output_type": "stream",
     "text": [
      "INFO:azure.eventhub:Received event from partition 1\n",
      "INFO:azure.eventhub:Received event from partition 1\n",
      "INFO:azure.eventhub:Received event from partition 1\n",
      "INFO:azure.eventhub:Received event from partition 1\n"
     ]
    },
    {
     "name": "stdout",
     "output_type": "stream",
     "text": [
      "\n",
      "Message received:\n",
      "    Data: <<{'messageCount': 1323, 'humidity': 55, 'temperature': 23, 'timestamp': '2022-04-24\\n17:49:48'}>>\n",
      "\n",
      "Message received:\n",
      "    Data: <<{'messageCount': 1324, 'humidity': 55, 'temperature': 23, 'timestamp': '2022-04-24\\n17:49:50'}>>\n",
      "\n",
      "Message received:\n",
      "    Data: <<{'messageCount': 1325, 'humidity': 55, 'temperature': 23, 'timestamp': '2022-04-24\\n17:49:51'}>>\n"
     ]
    },
    {
     "name": "stderr",
     "output_type": "stream",
     "text": [
      "INFO:azure.eventhub:Received event from partition 1\n"
     ]
    },
    {
     "name": "stdout",
     "output_type": "stream",
     "text": [
      "\n",
      "Message received:\n",
      "    Data: <<{'messageCount': 1326, 'humidity': 55, 'temperature': 23, 'timestamp': '2022-04-24\\n17:49:52'}>>\n",
      "\n",
      "Message received:\n",
      "    Data: <<{'messageCount': 1327, 'humidity': 56, 'temperature': 23, 'timestamp': '2022-04-24\\n17:49:53'}>>\n"
     ]
    },
    {
     "name": "stderr",
     "output_type": "stream",
     "text": [
      "INFO:azure.eventhub:Received event from partition 1\n",
      "INFO:azure.eventhub:Received event from partition 1\n",
      "INFO:azure.eventhub:Received event from partition 1\n",
      "INFO:azure.eventhub:Received event from partition 1\n"
     ]
    },
    {
     "name": "stdout",
     "output_type": "stream",
     "text": [
      "\n",
      "Message received:\n",
      "    Data: <<{'messageCount': 1328, 'humidity': 56, 'temperature': 23, 'timestamp': '2022-04-24\\n17:49:54'}>>\n",
      "\n",
      "Message received:\n",
      "    Data: <<{'messageCount': 1329, 'humidity': 56, 'temperature': 23, 'timestamp': '2022-04-24\\n17:49:55'}>>\n",
      "\n",
      "Message received:\n",
      "    Data: <<{'messageCount': 1330, 'humidity': 56, 'temperature': 23, 'timestamp': '2022-04-24\\n17:49:56'}>>\n",
      "\n",
      "Message received:\n",
      "    Data: <<{'messageCount': 1331, 'humidity': 56, 'temperature': 23, 'timestamp': '2022-04-24\\n17:49:58'}>>\n"
     ]
    },
    {
     "name": "stderr",
     "output_type": "stream",
     "text": [
      "INFO:azure.eventhub:Received event from partition 1\n",
      "INFO:azure.eventhub:Received event from partition 1\n",
      "INFO:azure.eventhub:Received event from partition 1\n",
      "INFO:azure.eventhub:Received event from partition 1\n"
     ]
    },
    {
     "name": "stdout",
     "output_type": "stream",
     "text": [
      "\n",
      "Message received:\n",
      "    Data: <<{'messageCount': 1332, 'humidity': 56, 'temperature': 23, 'timestamp': '2022-04-24\\n17:49:59'}>>\n",
      "\n",
      "Message received:\n",
      "    Data: <<{'messageCount': 1333, 'humidity': 56, 'temperature': 23, 'timestamp': '2022-04-24\\n17:50:00'}>>\n",
      "\n",
      "Message received:\n",
      "    Data: <<{'messageCount': 1334, 'humidity': 56, 'temperature': 23, 'timestamp': '2022-04-24\\n17:50:01'}>>\n"
     ]
    },
    {
     "name": "stderr",
     "output_type": "stream",
     "text": [
      "INFO:azure.eventhub:Received event from partition 1\n",
      "INFO:azure.eventhub:Received event from partition 1\n",
      "INFO:azure.eventhub:Received event from partition 1\n"
     ]
    },
    {
     "name": "stdout",
     "output_type": "stream",
     "text": [
      "\n",
      "Message received:\n",
      "    Data: <<{'messageCount': 1335, 'humidity': 57, 'temperature': 23, 'timestamp': '2022-04-24\\n17:50:02'}>>\n",
      "\n",
      "Message received:\n",
      "    Data: <<{'messageCount': 1336, 'humidity': 57, 'temperature': 23, 'timestamp': '2022-04-24\\n17:50:03'}>>\n",
      "\n",
      "Message received:\n",
      "    Data: <<{'messageCount': 1337, 'humidity': 57, 'temperature': 23, 'timestamp': '2022-04-24\\n17:50:05'}>>\n",
      "\n",
      "Message received:\n",
      "    Data: <<{'messageCount': 1338, 'humidity': 57, 'temperature': 23, 'timestamp': '2022-04-24\\n17:50:06'}>>\n"
     ]
    },
    {
     "name": "stderr",
     "output_type": "stream",
     "text": [
      "INFO:azure.eventhub:Received event from partition 1\n",
      "INFO:azure.eventhub:Received event from partition 1\n",
      "INFO:azure.eventhub:Received event from partition 1\n",
      "INFO:azure.eventhub:Received event from partition 1\n"
     ]
    },
    {
     "name": "stdout",
     "output_type": "stream",
     "text": [
      "\n",
      "Message received:\n",
      "    Data: <<{'messageCount': 1339, 'humidity': 57, 'temperature': 23, 'timestamp': '2022-04-24\\n17:50:07'}>>\n",
      "\n",
      "Message received:\n",
      "    Data: <<{'messageCount': 1340, 'humidity': 57, 'temperature': 23, 'timestamp': '2022-04-24\\n17:50:08'}>>\n",
      "\n",
      "Message received:\n",
      "    Data: <<{'messageCount': 1341, 'humidity': 58, 'temperature': 23, 'timestamp': '2022-04-24\\n17:50:09'}>>\n"
     ]
    },
    {
     "name": "stderr",
     "output_type": "stream",
     "text": [
      "INFO:azure.eventhub:Received event from partition 1\n",
      "INFO:azure.eventhub:Received event from partition 1\n",
      "INFO:azure.eventhub:Received event from partition 1\n"
     ]
    },
    {
     "name": "stdout",
     "output_type": "stream",
     "text": [
      "\n",
      "Message received:\n",
      "    Data: <<{'messageCount': 1342, 'humidity': 58, 'temperature': 23, 'timestamp': '2022-04-24\\n17:50:10'}>>\n",
      "\n",
      "Message received:\n",
      "    Data: <<{'messageCount': 1343, 'humidity': 58, 'temperature': 23, 'timestamp': '2022-04-24\\n17:50:11'}>>\n",
      "\n",
      "Message received:\n",
      "    Data: <<{'messageCount': 1344, 'humidity': 58, 'temperature': 23, 'timestamp': '2022-04-24\\n17:50:12'}>>\n"
     ]
    },
    {
     "name": "stderr",
     "output_type": "stream",
     "text": [
      "INFO:azure.eventhub:Received event from partition 1\n",
      "INFO:azure.eventhub:Received event from partition 1\n",
      "INFO:azure.eventhub:Received event from partition 1\n"
     ]
    },
    {
     "name": "stdout",
     "output_type": "stream",
     "text": [
      "\n",
      "Message received:\n",
      "    Data: <<{'messageCount': 1345, 'humidity': 58, 'temperature': 23, 'timestamp': '2022-04-24\\n17:50:14'}>>\n",
      "\n",
      "Message received:\n",
      "    Data: <<{'messageCount': 1346, 'humidity': 58, 'temperature': 23, 'timestamp': '2022-04-24\\n17:50:15'}>>\n",
      "\n",
      "Message received:\n",
      "    Data: <<{'messageCount': 1347, 'humidity': 58, 'temperature': 23, 'timestamp': '2022-04-24\\n17:50:16'}>>\n"
     ]
    },
    {
     "name": "stderr",
     "output_type": "stream",
     "text": [
      "INFO:azure.eventhub:Received event from partition 1\n",
      "INFO:azure.eventhub:Received event from partition 1\n",
      "INFO:azure.eventhub:Received event from partition 1\n"
     ]
    },
    {
     "name": "stdout",
     "output_type": "stream",
     "text": [
      "\n",
      "Message received:\n",
      "    Data: <<{'messageCount': 1348, 'humidity': 58, 'temperature': 23, 'timestamp': '2022-04-24\\n17:50:17'}>>\n",
      "\n",
      "Message received:\n",
      "    Data: <<{'messageCount': 1349, 'humidity': 58, 'temperature': 23, 'timestamp': '2022-04-24\\n17:50:18'}>>\n",
      "\n",
      "Message received:\n",
      "    Data: <<{'messageCount': 1350, 'humidity': 58, 'temperature': 23, 'timestamp': '2022-04-24\\n17:50:19'}>>\n",
      "\n",
      "Message received:\n",
      "    Data: <<{'messageCount': 1351, 'humidity': 59, 'temperature': 23, 'timestamp': '2022-04-24\\n17:50:21'}>>\n"
     ]
    },
    {
     "name": "stderr",
     "output_type": "stream",
     "text": [
      "INFO:azure.eventhub:Received event from partition 1\n",
      "INFO:azure.eventhub:Received event from partition 1\n",
      "INFO:azure.eventhub:Received event from partition 1\n",
      "INFO:azure.eventhub:Received event from partition 1\n"
     ]
    },
    {
     "name": "stdout",
     "output_type": "stream",
     "text": [
      "\n",
      "Message received:\n",
      "    Data: <<{'messageCount': 1352, 'humidity': 59, 'temperature': 23, 'timestamp': '2022-04-24\\n17:50:22'}>>\n",
      "\n",
      "Message received:\n",
      "    Data: <<{'messageCount': 1353, 'humidity': 59, 'temperature': 23, 'timestamp': '2022-04-24\\n17:50:23'}>>\n",
      "\n",
      "Message received:\n",
      "    Data: <<{'messageCount': 1354, 'humidity': 59, 'temperature': 23, 'timestamp': '2022-04-24\\n17:50:24'}>>\n"
     ]
    },
    {
     "name": "stderr",
     "output_type": "stream",
     "text": [
      "INFO:azure.eventhub:Received event from partition 1\n",
      "INFO:azure.eventhub:Received event from partition 1\n",
      "INFO:azure.eventhub:Received event from partition 1\n"
     ]
    },
    {
     "name": "stdout",
     "output_type": "stream",
     "text": [
      "\n",
      "Message received:\n",
      "    Data: <<{'messageCount': 1355, 'humidity': 59, 'temperature': 23, 'timestamp': '2022-04-24\\n17:50:25'}>>\n",
      "\n",
      "Message received:\n",
      "    Data: <<{'messageCount': 1356, 'humidity': 59, 'temperature': 23, 'timestamp': '2022-04-24\\n17:50:26'}>>\n",
      "\n",
      "Message received:\n",
      "    Data: <<{'messageCount': 1357, 'humidity': 59, 'temperature': 23, 'timestamp': '2022-04-24\\n17:50:28'}>>\n"
     ]
    },
    {
     "name": "stderr",
     "output_type": "stream",
     "text": [
      "INFO:azure.eventhub:Received event from partition 1\n",
      "INFO:azure.eventhub:Received event from partition 1\n",
      "INFO:azure.eventhub:Received event from partition 1\n"
     ]
    },
    {
     "name": "stdout",
     "output_type": "stream",
     "text": [
      "\n",
      "Message received:\n",
      "    Data: <<{'messageCount': 1358, 'humidity': 59, 'temperature': 23, 'timestamp': '2022-04-24\\n17:50:29'}>>\n",
      "\n",
      "Message received:\n",
      "    Data: <<{'messageCount': 1359, 'humidity': 59, 'temperature': 23, 'timestamp': '2022-04-24\\n17:50:30'}>>\n",
      "\n",
      "Message received:\n",
      "    Data: <<{'messageCount': 1360, 'humidity': 59, 'temperature': 23, 'timestamp': '2022-04-24\\n17:50:31'}>>\n"
     ]
    },
    {
     "name": "stderr",
     "output_type": "stream",
     "text": [
      "INFO:azure.eventhub:Received event from partition 1\n",
      "INFO:azure.eventhub:Received event from partition 1\n",
      "INFO:azure.eventhub:Received event from partition 1\n"
     ]
    },
    {
     "name": "stdout",
     "output_type": "stream",
     "text": [
      "\n",
      "Message received:\n",
      "    Data: <<{'messageCount': 1361, 'humidity': 59, 'temperature': 23, 'timestamp': '2022-04-24\\n17:50:32'}>>\n",
      "\n",
      "Message received:\n",
      "    Data: <<{'messageCount': 1362, 'humidity': 59, 'temperature': 23, 'timestamp': '2022-04-24\\n17:50:33'}>>\n",
      "\n",
      "Message received:\n",
      "    Data: <<{'messageCount': 1363, 'humidity': 60, 'temperature': 23, 'timestamp': '2022-04-24\\n17:50:35'}>>\n",
      "\n",
      "Message received:\n",
      "    Data: <<{'messageCount': 1364, 'humidity': 60, 'temperature': 23, 'timestamp': '2022-04-24\\n17:50:36'}>>\n"
     ]
    },
    {
     "name": "stderr",
     "output_type": "stream",
     "text": [
      "INFO:azure.eventhub:Received event from partition 1\n",
      "INFO:azure.eventhub:Received event from partition 1\n",
      "INFO:azure.eventhub:Received event from partition 1\n",
      "INFO:azure.eventhub:Received event from partition 1\n"
     ]
    },
    {
     "name": "stdout",
     "output_type": "stream",
     "text": [
      "\n",
      "Message received:\n",
      "    Data: <<{'messageCount': 1365, 'humidity': 60, 'temperature': 23, 'timestamp': '2022-04-24\\n17:50:37'}>>\n",
      "\n",
      "Message received:\n",
      "    Data: <<{'messageCount': 1366, 'humidity': 60, 'temperature': 23, 'timestamp': '2022-04-24\\n17:50:38'}>>\n",
      "\n",
      "Message received:\n",
      "    Data: <<{'messageCount': 1367, 'humidity': 60, 'temperature': 23, 'timestamp': '2022-04-24\\n17:50:39'}>>\n"
     ]
    },
    {
     "name": "stderr",
     "output_type": "stream",
     "text": [
      "INFO:azure.eventhub:Received event from partition 1\n",
      "INFO:azure.eventhub:Received event from partition 1\n",
      "INFO:azure.eventhub:Received event from partition 1\n"
     ]
    },
    {
     "name": "stdout",
     "output_type": "stream",
     "text": [
      "\n",
      "Message received:\n",
      "    Data: <<{'messageCount': 1368, 'humidity': 60, 'temperature': 23, 'timestamp': '2022-04-24\\n17:50:40'}>>\n",
      "\n",
      "Message received:\n",
      "    Data: <<{'messageCount': 1369, 'humidity': 60, 'temperature': 23, 'timestamp': '2022-04-24\\n17:50:41'}>>\n",
      "\n",
      "Message received:\n",
      "    Data: <<{'messageCount': 1370, 'humidity': 60, 'temperature': 23, 'timestamp': '2022-04-24\\n17:50:42'}>>\n"
     ]
    },
    {
     "name": "stderr",
     "output_type": "stream",
     "text": [
      "INFO:azure.eventhub:Received event from partition 1\n",
      "INFO:azure.eventhub:Received event from partition 1\n",
      "INFO:azure.eventhub:Received event from partition 1\n"
     ]
    },
    {
     "name": "stdout",
     "output_type": "stream",
     "text": [
      "\n",
      "Message received:\n",
      "    Data: <<{'messageCount': 1371, 'humidity': 61, 'temperature': 23, 'timestamp': '2022-04-24\\n17:50:44'}>>\n",
      "\n",
      "Message received:\n",
      "    Data: <<{'messageCount': 1372, 'humidity': 61, 'temperature': 23, 'timestamp': '2022-04-24\\n17:50:45'}>>\n",
      "\n",
      "Message received:\n",
      "    Data: <<{'messageCount': 1373, 'humidity': 61, 'temperature': 23, 'timestamp': '2022-04-24\\n17:50:46'}>>\n"
     ]
    },
    {
     "name": "stderr",
     "output_type": "stream",
     "text": [
      "INFO:azure.eventhub:Received event from partition 1\n",
      "INFO:azure.eventhub:Received event from partition 1\n",
      "INFO:azure.eventhub:Received event from partition 1\n"
     ]
    },
    {
     "name": "stdout",
     "output_type": "stream",
     "text": [
      "\n",
      "Message received:\n",
      "    Data: <<{'messageCount': 1374, 'humidity': 61, 'temperature': 23, 'timestamp': '2022-04-24\\n17:50:47'}>>\n",
      "\n",
      "Message received:\n",
      "    Data: <<{'messageCount': 1376, 'humidity': 61, 'temperature': 23, 'timestamp': '2022-04-24\\n17:50:52'}>>\n",
      "\n",
      "Message received:\n",
      "    Data: <<{'messageCount': 1377, 'humidity': 61, 'temperature': 23, 'timestamp': '2022-04-24\\n17:50:53'}>>\n"
     ]
    },
    {
     "name": "stderr",
     "output_type": "stream",
     "text": [
      "INFO:azure.eventhub:Received event from partition 1\n",
      "INFO:azure.eventhub:Received event from partition 1\n",
      "INFO:azure.eventhub:Received event from partition 1\n"
     ]
    },
    {
     "name": "stdout",
     "output_type": "stream",
     "text": [
      "\n",
      "Message received:\n",
      "    Data: <<{'messageCount': 1378, 'humidity': 61, 'temperature': 23, 'timestamp': '2022-04-24\\n17:50:54'}>>\n",
      "\n",
      "Message received:\n",
      "    Data: <<{'messageCount': 1379, 'humidity': 61, 'temperature': 23, 'timestamp': '2022-04-24\\n17:50:55'}>>\n",
      "\n",
      "Message received:\n",
      "    Data: <<{'messageCount': 1380, 'humidity': 61, 'temperature': 23, 'timestamp': '2022-04-24\\n17:50:56'}>>\n"
     ]
    },
    {
     "name": "stderr",
     "output_type": "stream",
     "text": [
      "INFO:azure.eventhub:Received event from partition 1\n",
      "INFO:azure.eventhub:Received event from partition 1\n",
      "INFO:azure.eventhub:Received event from partition 1\n"
     ]
    },
    {
     "name": "stdout",
     "output_type": "stream",
     "text": [
      "\n",
      "Message received:\n",
      "    Data: <<{'messageCount': 1381, 'humidity': 61, 'temperature': 23, 'timestamp': '2022-04-24\\n17:50:57'}>>\n",
      "\n",
      "Message received:\n",
      "    Data: <<{'messageCount': 1382, 'humidity': 61, 'temperature': 23, 'timestamp': '2022-04-24\\n17:50:58'}>>\n",
      "\n",
      "Message received:\n",
      "    Data: <<{'messageCount': 1383, 'humidity': 61, 'temperature': 23, 'timestamp': '2022-04-24\\n17:51:00'}>>\n",
      "\n",
      "Message received:\n",
      "    Data: <<{'messageCount': 1385, 'humidity': 61, 'temperature': 23, 'timestamp': '2022-04-24\\n17:51:02'}>>\n"
     ]
    },
    {
     "name": "stderr",
     "output_type": "stream",
     "text": [
      "INFO:azure.eventhub:Received event from partition 1\n",
      "INFO:azure.eventhub:Received event from partition 1\n",
      "INFO:azure.eventhub:Received event from partition 1\n",
      "INFO:azure.eventhub:Received event from partition 1\n"
     ]
    },
    {
     "name": "stdout",
     "output_type": "stream",
     "text": [
      "\n",
      "Message received:\n",
      "    Data: <<{'messageCount': 1386, 'humidity': 61, 'temperature': 23, 'timestamp': '2022-04-24\\n17:51:03'}>>\n",
      "\n",
      "Message received:\n",
      "    Data: <<{'messageCount': 1384, 'humidity': 61, 'temperature': 23, 'timestamp': '2022-04-24\\n17:51:01'}>>\n",
      "\n",
      "Message received:\n",
      "    Data: <<{'messageCount': 1387, 'humidity': 61, 'temperature': 23, 'timestamp': '2022-04-24\\n17:51:04'}>>\n"
     ]
    },
    {
     "name": "stderr",
     "output_type": "stream",
     "text": [
      "INFO:azure.eventhub:Received event from partition 1\n",
      "INFO:azure.eventhub:Received event from partition 1\n",
      "INFO:azure.eventhub:Received event from partition 1\n"
     ]
    },
    {
     "name": "stdout",
     "output_type": "stream",
     "text": [
      "\n",
      "Message received:\n",
      "    Data: <<{'messageCount': 1388, 'humidity': 61, 'temperature': 23, 'timestamp': '2022-04-24\\n17:51:05'}>>\n",
      "\n",
      "Message received:\n",
      "    Data: <<{'messageCount': 1389, 'humidity': 61, 'temperature': 23, 'timestamp': '2022-04-24\\n17:51:06'}>>\n",
      "\n",
      "Message received:\n",
      "    Data: <<{'messageCount': 1390, 'humidity': 61, 'temperature': 23, 'timestamp': '2022-04-24\\n17:51:08'}>>\n"
     ]
    },
    {
     "name": "stderr",
     "output_type": "stream",
     "text": [
      "INFO:azure.eventhub:Received event from partition 1\n",
      "INFO:azure.eventhub:Received event from partition 1\n",
      "INFO:azure.eventhub:Received event from partition 1\n"
     ]
    },
    {
     "name": "stdout",
     "output_type": "stream",
     "text": [
      "\n",
      "Message received:\n",
      "    Data: <<{'messageCount': 1391, 'humidity': 61, 'temperature': 23, 'timestamp': '2022-04-24\\n17:51:09'}>>\n",
      "\n",
      "Message received:\n",
      "    Data: <<{'messageCount': 1392, 'humidity': 61, 'temperature': 23, 'timestamp': '2022-04-24\\n17:51:10'}>>\n",
      "\n",
      "Message received:\n",
      "    Data: <<{'messageCount': 1393, 'humidity': 60, 'temperature': 23, 'timestamp': '2022-04-24\\n17:51:13'}>>\n"
     ]
    },
    {
     "name": "stderr",
     "output_type": "stream",
     "text": [
      "INFO:azure.eventhub:Received event from partition 1\n",
      "INFO:azure.eventhub:Received event from partition 1\n",
      "INFO:azure.eventhub:Received event from partition 1\n"
     ]
    },
    {
     "name": "stdout",
     "output_type": "stream",
     "text": [
      "\n",
      "Message received:\n",
      "    Data: <<{'messageCount': 1394, 'humidity': 60, 'temperature': 23, 'timestamp': '2022-04-24\\n17:51:14'}>>\n",
      "\n",
      "Message received:\n",
      "    Data: <<{'messageCount': 1395, 'humidity': 60, 'temperature': 23, 'timestamp': '2022-04-24\\n17:51:15'}>>\n",
      "\n",
      "Message received:\n",
      "    Data: <<{'messageCount': 1396, 'humidity': 60, 'temperature': 23, 'timestamp': '2022-04-24\\n17:51:16'}>>\n",
      "\n",
      "Message received:\n",
      "    Data: <<{'messageCount': 1398, 'humidity': 60, 'temperature': 23, 'timestamp': '2022-04-24\\n17:51:18'}>>\n"
     ]
    },
    {
     "name": "stderr",
     "output_type": "stream",
     "text": [
      "INFO:azure.eventhub:Received event from partition 1\n",
      "INFO:azure.eventhub:Received event from partition 1\n",
      "INFO:azure.eventhub:Received event from partition 1\n",
      "INFO:azure.eventhub:Received event from partition 1\n"
     ]
    },
    {
     "name": "stdout",
     "output_type": "stream",
     "text": [
      "\n",
      "Message received:\n",
      "    Data: <<{'messageCount': 1397, 'humidity': 60, 'temperature': 23, 'timestamp': '2022-04-24\\n17:51:17'}>>\n",
      "\n",
      "Message received:\n",
      "    Data: <<{'messageCount': 1399, 'humidity': 60, 'temperature': 23, 'timestamp': '2022-04-24\\n17:51:20'}>>\n",
      "\n",
      "Message received:\n",
      "    Data: <<{'messageCount': 1400, 'humidity': 60, 'temperature': 23, 'timestamp': '2022-04-24\\n17:51:21'}>>\n"
     ]
    },
    {
     "name": "stderr",
     "output_type": "stream",
     "text": [
      "INFO:azure.eventhub:Received event from partition 1\n",
      "INFO:azure.eventhub:Received event from partition 1\n",
      "INFO:azure.eventhub:Received event from partition 1\n"
     ]
    },
    {
     "name": "stdout",
     "output_type": "stream",
     "text": [
      "\n",
      "Message received:\n",
      "    Data: <<{'messageCount': 1401, 'humidity': 60, 'temperature': 23, 'timestamp': '2022-04-24\\n17:51:22'}>>\n",
      "\n",
      "Message received:\n",
      "    Data: <<{'messageCount': 1402, 'humidity': 60, 'temperature': 23, 'timestamp': '2022-04-24\\n17:51:23'}>>\n",
      "\n",
      "Message received:\n",
      "    Data: <<{'messageCount': 1404, 'humidity': 60, 'temperature': 23, 'timestamp': '2022-04-24\\n17:51:25'}>>\n"
     ]
    },
    {
     "name": "stderr",
     "output_type": "stream",
     "text": [
      "INFO:azure.eventhub:Received event from partition 1\n",
      "INFO:azure.eventhub:Received event from partition 1\n",
      "INFO:azure.eventhub:Received event from partition 1\n"
     ]
    },
    {
     "name": "stdout",
     "output_type": "stream",
     "text": [
      "\n",
      "Message received:\n",
      "    Data: <<{'messageCount': 1403, 'humidity': 60, 'temperature': 23, 'timestamp': '2022-04-24\\n17:51:24'}>>\n",
      "\n",
      "Message received:\n",
      "    Data: <<{'messageCount': 1405, 'humidity': 59, 'temperature': 24, 'timestamp': '2022-04-24\\n17:51:26'}>>\n",
      "\n",
      "Message received:\n",
      "    Data: <<{'messageCount': 1406, 'humidity': 59, 'temperature': 24, 'timestamp': '2022-04-24\\n17:51:27'}>>\n"
     ]
    },
    {
     "name": "stderr",
     "output_type": "stream",
     "text": [
      "INFO:azure.eventhub:Received event from partition 1\n",
      "INFO:azure.eventhub:Received event from partition 1\n",
      "INFO:azure.eventhub:Received event from partition 1\n"
     ]
    },
    {
     "name": "stdout",
     "output_type": "stream",
     "text": [
      "\n",
      "Message received:\n",
      "    Data: <<{'messageCount': 1407, 'humidity': 59, 'temperature': 24, 'timestamp': '2022-04-24\\n17:51:29'}>>\n",
      "\n",
      "Message received:\n",
      "    Data: <<{'messageCount': 1408, 'humidity': 59, 'temperature': 24, 'timestamp': '2022-04-24\\n17:51:30'}>>\n",
      "\n",
      "Message received:\n",
      "    Data: <<{'messageCount': 1409, 'humidity': 59, 'temperature': 23, 'timestamp': '2022-04-24\\n17:51:31'}>>\n",
      "\n",
      "Message received:\n",
      "    Data: <<{'messageCount': 1410, 'humidity': 59, 'temperature': 23, 'timestamp': '2022-04-24\\n17:51:32'}>>\n"
     ]
    },
    {
     "name": "stderr",
     "output_type": "stream",
     "text": [
      "INFO:azure.eventhub:Received event from partition 1\n",
      "INFO:azure.eventhub:Received event from partition 1\n",
      "INFO:azure.eventhub:Received event from partition 1\n",
      "INFO:azure.eventhub:Received event from partition 1\n"
     ]
    },
    {
     "name": "stdout",
     "output_type": "stream",
     "text": [
      "\n",
      "Message received:\n",
      "    Data: <<{'messageCount': 1411, 'humidity': 59, 'temperature': 24, 'timestamp': '2022-04-24\\n17:51:33'}>>\n",
      "\n",
      "Message received:\n",
      "    Data: <<{'messageCount': 1412, 'humidity': 59, 'temperature': 24, 'timestamp': '2022-04-24\\n17:51:34'}>>\n",
      "\n",
      "Message received:\n",
      "    Data: <<{'messageCount': 1413, 'humidity': 59, 'temperature': 24, 'timestamp': '2022-04-24\\n17:51:36'}>>\n"
     ]
    },
    {
     "name": "stderr",
     "output_type": "stream",
     "text": [
      "INFO:azure.eventhub:Received event from partition 1\n",
      "INFO:azure.eventhub:Received event from partition 1\n",
      "INFO:azure.eventhub:Received event from partition 1\n"
     ]
    },
    {
     "name": "stdout",
     "output_type": "stream",
     "text": [
      "\n",
      "Message received:\n",
      "    Data: <<{'messageCount': 1414, 'humidity': 59, 'temperature': 24, 'timestamp': '2022-04-24\\n17:51:37'}>>\n",
      "\n",
      "Message received:\n",
      "    Data: <<{'messageCount': 1415, 'humidity': 59, 'temperature': 23, 'timestamp': '2022-04-24\\n17:51:38'}>>\n",
      "\n",
      "Message received:\n",
      "    Data: <<{'messageCount': 1416, 'humidity': 59, 'temperature': 23, 'timestamp': '2022-04-24\\n17:51:39'}>>\n"
     ]
    },
    {
     "name": "stderr",
     "output_type": "stream",
     "text": [
      "INFO:azure.eventhub:Received event from partition 1\n",
      "INFO:azure.eventhub:Received event from partition 1\n",
      "INFO:azure.eventhub:Received event from partition 1\n"
     ]
    },
    {
     "name": "stdout",
     "output_type": "stream",
     "text": [
      "\n",
      "Message received:\n",
      "    Data: <<{'messageCount': 1417, 'humidity': 59, 'temperature': 24, 'timestamp': '2022-04-24\\n17:51:40'}>>\n",
      "\n",
      "Message received:\n",
      "    Data: <<{'messageCount': 1418, 'humidity': 59, 'temperature': 24, 'timestamp': '2022-04-24\\n17:51:41'}>>\n",
      "\n",
      "Message received:\n",
      "    Data: <<{'messageCount': 1419, 'humidity': 59, 'temperature': 24, 'timestamp': '2022-04-24\\n17:51:43'}>>\n"
     ]
    },
    {
     "name": "stderr",
     "output_type": "stream",
     "text": [
      "INFO:azure.eventhub:Received event from partition 1\n",
      "INFO:azure.eventhub:Received event from partition 1\n",
      "INFO:azure.eventhub:Received event from partition 1\n"
     ]
    },
    {
     "name": "stdout",
     "output_type": "stream",
     "text": [
      "\n",
      "Message received:\n",
      "    Data: <<{'messageCount': 1420, 'humidity': 59, 'temperature': 24, 'timestamp': '2022-04-24\\n17:51:44'}>>\n",
      "\n",
      "Message received:\n",
      "    Data: <<{'messageCount': 1422, 'humidity': 59, 'temperature': 24, 'timestamp': '2022-04-24\\n17:51:48'}>>\n",
      "\n",
      "Message received:\n",
      "    Data: <<{'messageCount': 1423, 'humidity': 59, 'temperature': 24, 'timestamp': '2022-04-24\\n17:51:49'}>>\n"
     ]
    },
    {
     "name": "stderr",
     "output_type": "stream",
     "text": [
      "INFO:azure.eventhub:Received event from partition 1\n",
      "INFO:azure.eventhub:Received event from partition 1\n",
      "INFO:azure.eventhub:Received event from partition 1\n"
     ]
    },
    {
     "name": "stdout",
     "output_type": "stream",
     "text": [
      "\n",
      "Message received:\n",
      "    Data: <<{'messageCount': 1424, 'humidity': 59, 'temperature': 24, 'timestamp': '2022-04-24\\n17:51:51'}>>\n",
      "\n",
      "Message received:\n",
      "    Data: <<{'messageCount': 1425, 'humidity': 59, 'temperature': 24, 'timestamp': '2022-04-24\\n17:51:52'}>>\n",
      "\n",
      "Message received:\n",
      "    Data: <<{'messageCount': 1426, 'humidity': 59, 'temperature': 24, 'timestamp': '2022-04-24\\n17:51:53'}>>\n"
     ]
    },
    {
     "name": "stderr",
     "output_type": "stream",
     "text": [
      "INFO:azure.eventhub:Received event from partition 1\n",
      "INFO:azure.eventhub:Received event from partition 1\n",
      "INFO:azure.eventhub:Received event from partition 1\n"
     ]
    },
    {
     "name": "stdout",
     "output_type": "stream",
     "text": [
      "\n",
      "Message received:\n",
      "    Data: <<{'messageCount': 1427, 'humidity': 59, 'temperature': 24, 'timestamp': '2022-04-24\\n17:51:54'}>>\n",
      "\n",
      "Message received:\n",
      "    Data: <<{'messageCount': 1428, 'humidity': 59, 'temperature': 24, 'timestamp': '2022-04-24\\n17:51:55'}>>\n",
      "\n",
      "Message received:\n",
      "    Data: <<{'messageCount': 1429, 'humidity': 59, 'temperature': 24, 'timestamp': '2022-04-24\\n17:51:56'}>>\n",
      "\n",
      "Message received:\n",
      "    Data: <<{'messageCount': 1430, 'humidity': 59, 'temperature': 24, 'timestamp': '2022-04-24\\n17:51:57'}>>\n"
     ]
    },
    {
     "name": "stderr",
     "output_type": "stream",
     "text": [
      "INFO:azure.eventhub:Received event from partition 1\n",
      "INFO:azure.eventhub:Received event from partition 1\n",
      "INFO:azure.eventhub:Received event from partition 1\n",
      "INFO:azure.eventhub:Received event from partition 1\n"
     ]
    },
    {
     "name": "stdout",
     "output_type": "stream",
     "text": [
      "\n",
      "Message received:\n",
      "    Data: <<{'messageCount': 1431, 'humidity': 59, 'temperature': 24, 'timestamp': '2022-04-24\\n17:51:58'}>>\n",
      "\n",
      "Message received:\n",
      "    Data: <<{'messageCount': 1432, 'humidity': 59, 'temperature': 24, 'timestamp': '2022-04-24\\n17:52:00'}>>\n",
      "\n",
      "Message received:\n",
      "    Data: <<{'messageCount': 1433, 'humidity': 59, 'temperature': 24, 'timestamp': '2022-04-24\\n17:52:01'}>>\n"
     ]
    },
    {
     "name": "stderr",
     "output_type": "stream",
     "text": [
      "INFO:azure.eventhub:Received event from partition 1\n",
      "INFO:azure.eventhub:Received event from partition 1\n",
      "INFO:azure.eventhub:Received event from partition 1\n"
     ]
    },
    {
     "name": "stdout",
     "output_type": "stream",
     "text": [
      "\n",
      "Message received:\n",
      "    Data: <<{'messageCount': 1434, 'humidity': 59, 'temperature': 24, 'timestamp': '2022-04-24\\n17:52:02'}>>\n",
      "\n",
      "Message received:\n",
      "    Data: <<{'messageCount': 1435, 'humidity': 59, 'temperature': 24, 'timestamp': '2022-04-24\\n17:52:03'}>>\n",
      "\n",
      "Message received:\n",
      "    Data: <<{'messageCount': 1436, 'humidity': 58, 'temperature': 24, 'timestamp': '2022-04-24\\n17:52:04'}>>\n"
     ]
    },
    {
     "name": "stderr",
     "output_type": "stream",
     "text": [
      "INFO:azure.eventhub:Received event from partition 1\n",
      "INFO:azure.eventhub:Received event from partition 1\n",
      "INFO:azure.eventhub:Received event from partition 1\n"
     ]
    },
    {
     "name": "stdout",
     "output_type": "stream",
     "text": [
      "\n",
      "Message received:\n",
      "    Data: <<{'messageCount': 1437, 'humidity': 58, 'temperature': 24, 'timestamp': '2022-04-24\\n17:52:05'}>>\n",
      "\n",
      "Message received:\n",
      "    Data: <<{'messageCount': 1439, 'humidity': 58, 'temperature': 24, 'timestamp': '2022-04-24\\n17:52:08'}>>\n",
      "\n",
      "Message received:\n",
      "    Data: <<{'messageCount': 1438, 'humidity': 58, 'temperature': 24, 'timestamp': '2022-04-24\\n17:52:07'}>>\n"
     ]
    },
    {
     "name": "stderr",
     "output_type": "stream",
     "text": [
      "INFO:azure.eventhub:Received event from partition 1\n",
      "INFO:azure.eventhub:Received event from partition 1\n",
      "INFO:azure.eventhub:Received event from partition 1\n"
     ]
    },
    {
     "name": "stdout",
     "output_type": "stream",
     "text": [
      "\n",
      "Message received:\n",
      "    Data: <<{'messageCount': 1440, 'humidity': 58, 'temperature': 24, 'timestamp': '2022-04-24\\n17:52:09'}>>\n",
      "\n",
      "Message received:\n",
      "    Data: <<{'messageCount': 1441, 'humidity': 58, 'temperature': 24, 'timestamp': '2022-04-24\\n17:52:10'}>>\n",
      "\n",
      "Message received:\n",
      "    Data: <<{'messageCount': 1442, 'humidity': 58, 'temperature': 24, 'timestamp': '2022-04-24\\n17:52:11'}>>\n"
     ]
    },
    {
     "name": "stderr",
     "output_type": "stream",
     "text": [
      "INFO:azure.eventhub:Received event from partition 1\n",
      "INFO:azure.eventhub:Received event from partition 1\n",
      "INFO:azure.eventhub:Received event from partition 1\n"
     ]
    },
    {
     "name": "stdout",
     "output_type": "stream",
     "text": [
      "\n",
      "Message received:\n",
      "    Data: <<{'messageCount': 1443, 'humidity': 58, 'temperature': 24, 'timestamp': '2022-04-24\\n17:52:12'}>>\n",
      "\n",
      "Message received:\n",
      "    Data: <<{'messageCount': 1444, 'humidity': 58, 'temperature': 24, 'timestamp': '2022-04-24\\n17:52:14'}>>\n",
      "\n",
      "Message received:\n",
      "    Data: <<{'messageCount': 1445, 'humidity': 58, 'temperature': 24, 'timestamp': '2022-04-24\\n17:52:15'}>>\n",
      "\n",
      "Message received:\n",
      "    Data: <<{'messageCount': 1446, 'humidity': 58, 'temperature': 24, 'timestamp': '2022-04-24\\n17:52:16'}>>\n"
     ]
    },
    {
     "name": "stderr",
     "output_type": "stream",
     "text": [
      "INFO:azure.eventhub:Received event from partition 1\n",
      "INFO:azure.eventhub:Received event from partition 1\n",
      "INFO:azure.eventhub:Received event from partition 1\n",
      "INFO:azure.eventhub:Received event from partition 1\n"
     ]
    },
    {
     "name": "stdout",
     "output_type": "stream",
     "text": [
      "\n",
      "Message received:\n",
      "    Data: <<{'messageCount': 1447, 'humidity': 58, 'temperature': 24, 'timestamp': '2022-04-24\\n17:52:17'}>>\n",
      "\n",
      "Message received:\n",
      "    Data: <<{'messageCount': 1448, 'humidity': 58, 'temperature': 24, 'timestamp': '2022-04-24\\n17:52:18'}>>\n",
      "\n",
      "Message received:\n",
      "    Data: <<{'messageCount': 1449, 'humidity': 58, 'temperature': 24, 'timestamp': '2022-04-24\\n17:52:19'}>>\n"
     ]
    },
    {
     "name": "stderr",
     "output_type": "stream",
     "text": [
      "INFO:azure.eventhub:Received event from partition 1\n",
      "INFO:azure.eventhub:Received event from partition 1\n",
      "INFO:azure.eventhub:Received event from partition 1\n"
     ]
    },
    {
     "name": "stdout",
     "output_type": "stream",
     "text": [
      "\n",
      "Message received:\n",
      "    Data: <<{'messageCount': 1450, 'humidity': 58, 'temperature': 24, 'timestamp': '2022-04-24\\n17:52:20'}>>\n",
      "\n",
      "Message received:\n",
      "    Data: <<{'messageCount': 1451, 'humidity': 58, 'temperature': 24, 'timestamp': '2022-04-24\\n17:52:21'}>>\n",
      "\n",
      "Message received:\n",
      "    Data: <<{'messageCount': 1452, 'humidity': 58, 'temperature': 24, 'timestamp': '2022-04-24\\n17:52:23'}>>\n"
     ]
    },
    {
     "name": "stderr",
     "output_type": "stream",
     "text": [
      "INFO:azure.eventhub:Received event from partition 1\n",
      "INFO:azure.eventhub:Received event from partition 1\n",
      "INFO:azure.eventhub:Received event from partition 1\n"
     ]
    },
    {
     "name": "stdout",
     "output_type": "stream",
     "text": [
      "\n",
      "Message received:\n",
      "    Data: <<{'messageCount': 1453, 'humidity': 58, 'temperature': 24, 'timestamp': '2022-04-24\\n17:52:24'}>>\n",
      "\n",
      "Message received:\n",
      "    Data: <<{'messageCount': 1454, 'humidity': 58, 'temperature': 24, 'timestamp': '2022-04-24\\n17:52:25'}>>\n",
      "\n",
      "Message received:\n",
      "    Data: <<{'messageCount': 1455, 'humidity': 58, 'temperature': 24, 'timestamp': '2022-04-24\\n17:52:26'}>>\n",
      "\n",
      "Message received:\n",
      "    Data: <<{'messageCount': 1456, 'humidity': 58, 'temperature': 24, 'timestamp': '2022-04-24\\n17:52:27'}>>\n"
     ]
    },
    {
     "name": "stderr",
     "output_type": "stream",
     "text": [
      "INFO:azure.eventhub:Received event from partition 1\n",
      "INFO:azure.eventhub:Received event from partition 1\n",
      "INFO:azure.eventhub:Received event from partition 1\n"
     ]
    },
    {
     "name": "stdout",
     "output_type": "stream",
     "text": [
      "\n",
      "Message received:\n",
      "    Data: <<{'messageCount': 1457, 'humidity': 58, 'temperature': 24, 'timestamp': '2022-04-24\\n17:52:28'}>>\n",
      "\n",
      "Message received:\n",
      "    Data: <<{'messageCount': 1458, 'humidity': 58, 'temperature': 24, 'timestamp': '2022-04-24\\n17:52:30'}>>\n",
      "\n",
      "Message received:\n",
      "    Data: <<{'messageCount': 1459, 'humidity': 58, 'temperature': 24, 'timestamp': '2022-04-24\\n17:52:31'}>>\n"
     ]
    },
    {
     "name": "stderr",
     "output_type": "stream",
     "text": [
      "INFO:azure.eventhub:Received event from partition 1\n",
      "INFO:azure.eventhub:Received event from partition 1\n",
      "INFO:azure.eventhub:Received event from partition 1\n",
      "INFO:azure.eventhub:Received event from partition 1\n"
     ]
    },
    {
     "name": "stdout",
     "output_type": "stream",
     "text": [
      "\n",
      "Message received:\n",
      "    Data: <<{'messageCount': 1460, 'humidity': 58, 'temperature': 23, 'timestamp': '2022-04-24\\n17:52:32'}>>\n",
      "\n",
      "Message received:\n",
      "    Data: <<{'messageCount': 1462, 'humidity': 58, 'temperature': 24, 'timestamp': '2022-04-24\\n17:52:34'}>>\n",
      "\n",
      "Message received:\n",
      "    Data: <<{'messageCount': 1461, 'humidity': 58, 'temperature': 23, 'timestamp': '2022-04-24\\n17:52:33'}>>\n"
     ]
    },
    {
     "name": "stderr",
     "output_type": "stream",
     "text": [
      "INFO:azure.eventhub:Received event from partition 1\n",
      "INFO:azure.eventhub:Received event from partition 1\n",
      "INFO:azure.eventhub:Received event from partition 1\n"
     ]
    },
    {
     "name": "stdout",
     "output_type": "stream",
     "text": [
      "\n",
      "Message received:\n",
      "    Data: <<{'messageCount': 1463, 'humidity': 58, 'temperature': 24, 'timestamp': '2022-04-24\\n17:52:35'}>>\n",
      "\n",
      "Message received:\n",
      "    Data: <<{'messageCount': 1464, 'humidity': 58, 'temperature': 24, 'timestamp': '2022-04-24\\n17:52:37'}>>\n",
      "\n",
      "Message received:\n",
      "    Data: <<{'messageCount': 1465, 'humidity': 58, 'temperature': 24, 'timestamp': '2022-04-24\\n17:52:38'}>>\n"
     ]
    },
    {
     "name": "stderr",
     "output_type": "stream",
     "text": [
      "INFO:azure.eventhub:Received event from partition 1\n",
      "INFO:azure.eventhub:Received event from partition 1\n",
      "INFO:azure.eventhub:Received event from partition 1\n",
      "INFO:azure.eventhub:Received event from partition 1\n"
     ]
    },
    {
     "name": "stdout",
     "output_type": "stream",
     "text": [
      "\n",
      "Message received:\n",
      "    Data: <<{'messageCount': 1466, 'humidity': 58, 'temperature': 24, 'timestamp': '2022-04-24\\n17:52:39'}>>\n",
      "\n",
      "Message received:\n",
      "    Data: <<{'messageCount': 1467, 'humidity': 58, 'temperature': 24, 'timestamp': '2022-04-24\\n17:52:40'}>>\n",
      "\n",
      "Message received:\n",
      "    Data: <<{'messageCount': 1468, 'humidity': 58, 'temperature': 24, 'timestamp': '2022-04-24\\n17:52:41'}>>\n",
      "\n",
      "Message received:\n",
      "    Data: <<{'messageCount': 1469, 'humidity': 58, 'temperature': 24, 'timestamp': '2022-04-24\\n17:52:42'}>>\n"
     ]
    },
    {
     "name": "stderr",
     "output_type": "stream",
     "text": [
      "INFO:azure.eventhub:Received event from partition 1\n",
      "INFO:azure.eventhub:Received event from partition 1\n",
      "INFO:azure.eventhub:Received event from partition 1\n"
     ]
    },
    {
     "name": "stdout",
     "output_type": "stream",
     "text": [
      "\n",
      "Message received:\n",
      "    Data: <<{'messageCount': 1470, 'humidity': 58, 'temperature': 24, 'timestamp': '2022-04-24\\n17:52:44'}>>\n",
      "\n",
      "Message received:\n",
      "    Data: <<{'messageCount': 1471, 'humidity': 58, 'temperature': 24, 'timestamp': '2022-04-24\\n17:52:45'}>>\n",
      "\n",
      "Message received:\n",
      "    Data: <<{'messageCount': 1472, 'humidity': 58, 'temperature': 23, 'timestamp': '2022-04-24\\n17:52:46'}>>\n"
     ]
    },
    {
     "name": "stderr",
     "output_type": "stream",
     "text": [
      "INFO:azure.eventhub:Received event from partition 1\n",
      "INFO:azure.eventhub:Received event from partition 1\n",
      "INFO:azure.eventhub:Received event from partition 1\n"
     ]
    },
    {
     "name": "stdout",
     "output_type": "stream",
     "text": [
      "\n",
      "Message received:\n",
      "    Data: <<{'messageCount': 1473, 'humidity': 58, 'temperature': 23, 'timestamp': '2022-04-24\\n17:52:47'}>>\n",
      "\n",
      "Message received:\n",
      "    Data: <<{'messageCount': 1474, 'humidity': 58, 'temperature': 24, 'timestamp': '2022-04-24\\n17:52:48'}>>\n",
      "\n",
      "Message received:\n",
      "    Data: <<{'messageCount': 1475, 'humidity': 58, 'temperature': 24, 'timestamp': '2022-04-24\\n17:52:49'}>>\n"
     ]
    },
    {
     "name": "stderr",
     "output_type": "stream",
     "text": [
      "INFO:azure.eventhub:Received event from partition 1\n",
      "INFO:azure.eventhub:Received event from partition 1\n",
      "INFO:azure.eventhub:Received event from partition 1\n"
     ]
    },
    {
     "name": "stdout",
     "output_type": "stream",
     "text": [
      "\n",
      "Message received:\n",
      "    Data: <<{'messageCount': 1476, 'humidity': 58, 'temperature': 23, 'timestamp': '2022-04-24\\n17:52:51'}>>\n",
      "\n",
      "Message received:\n",
      "    Data: <<{'messageCount': 1477, 'humidity': 58, 'temperature': 23, 'timestamp': '2022-04-24\\n17:52:52'}>>\n",
      "\n",
      "Message received:\n",
      "    Data: <<{'messageCount': 1478, 'humidity': 58, 'temperature': 23, 'timestamp': '2022-04-24\\n17:52:53'}>>\n"
     ]
    },
    {
     "name": "stderr",
     "output_type": "stream",
     "text": [
      "INFO:azure.eventhub:Received event from partition 1\n",
      "INFO:azure.eventhub:Received event from partition 1\n",
      "INFO:azure.eventhub:Received event from partition 1\n"
     ]
    },
    {
     "name": "stdout",
     "output_type": "stream",
     "text": [
      "\n",
      "Message received:\n",
      "    Data: <<{'messageCount': 1479, 'humidity': 58, 'temperature': 23, 'timestamp': '2022-04-24\\n17:52:54'}>>\n",
      "\n",
      "Message received:\n",
      "    Data: <<{'messageCount': 1480, 'humidity': 57, 'temperature': 23, 'timestamp': '2022-04-24\\n17:52:55'}>>\n",
      "\n",
      "Message received:\n",
      "    Data: <<{'messageCount': 1481, 'humidity': 57, 'temperature': 23, 'timestamp': '2022-04-24\\n17:52:56'}>>\n",
      "\n",
      "Message received:\n",
      "    Data: <<{'messageCount': 1482, 'humidity': 57, 'temperature': 24, 'timestamp': '2022-04-24\\n17:52:58'}>>\n"
     ]
    },
    {
     "name": "stderr",
     "output_type": "stream",
     "text": [
      "INFO:azure.eventhub:Received event from partition 1\n",
      "INFO:azure.eventhub:Received event from partition 1\n",
      "INFO:azure.eventhub:Received event from partition 1\n"
     ]
    },
    {
     "name": "stdout",
     "output_type": "stream",
     "text": [
      "\n",
      "Message received:\n",
      "    Data: <<{'messageCount': 1483, 'humidity': 57, 'temperature': 24, 'timestamp': '2022-04-24\\n17:52:59'}>>\n",
      "\n",
      "Message received:\n",
      "    Data: <<{'messageCount': 1484, 'humidity': 57, 'temperature': 23, 'timestamp': '2022-04-24\\n17:53:00'}>>\n",
      "\n",
      "Message received:\n",
      "    Data: <<{'messageCount': 1485, 'humidity': 57, 'temperature': 23, 'timestamp': '2022-04-24\\n17:53:01'}>>\n"
     ]
    },
    {
     "name": "stderr",
     "output_type": "stream",
     "text": [
      "INFO:azure.eventhub:Received event from partition 1\n",
      "INFO:azure.eventhub:Received event from partition 1\n",
      "INFO:azure.eventhub:Received event from partition 1\n"
     ]
    },
    {
     "name": "stdout",
     "output_type": "stream",
     "text": [
      "\n",
      "Message received:\n",
      "    Data: <<{'messageCount': 1486, 'humidity': 58, 'temperature': 24, 'timestamp': '2022-04-24\\n17:53:02'}>>\n",
      "\n",
      "Message received:\n",
      "    Data: <<{'messageCount': 1487, 'humidity': 58, 'temperature': 24, 'timestamp': '2022-04-24\\n17:53:03'}>>\n",
      "\n",
      "Message received:\n",
      "    Data: <<{'messageCount': 1488, 'humidity': 58, 'temperature': 23, 'timestamp': '2022-04-24\\n17:53:04'}>>\n"
     ]
    },
    {
     "name": "stderr",
     "output_type": "stream",
     "text": [
      "INFO:azure.eventhub:Received event from partition 1\n",
      "INFO:azure.eventhub:Received event from partition 1\n",
      "INFO:azure.eventhub:Received event from partition 1\n",
      "INFO:azure.eventhub:Received event from partition 1\n"
     ]
    },
    {
     "name": "stdout",
     "output_type": "stream",
     "text": [
      "\n",
      "Message received:\n",
      "    Data: <<{'messageCount': 1489, 'humidity': 58, 'temperature': 23, 'timestamp': '2022-04-24\\n17:53:05'}>>\n",
      "\n",
      "Message received:\n",
      "    Data: <<{'messageCount': 1490, 'humidity': 58, 'temperature': 24, 'timestamp': '2022-04-24\\n17:53:07'}>>\n",
      "\n",
      "Message received:\n",
      "    Data: <<{'messageCount': 1491, 'humidity': 58, 'temperature': 24, 'timestamp': '2022-04-24\\n17:53:08'}>>\n",
      "\n",
      "Message received:\n",
      "    Data: <<{'messageCount': 1492, 'humidity': 58, 'temperature': 24, 'timestamp': '2022-04-24\\n17:53:09'}>>\n"
     ]
    },
    {
     "name": "stderr",
     "output_type": "stream",
     "text": [
      "INFO:azure.eventhub:Received event from partition 1\n",
      "INFO:azure.eventhub:Received event from partition 1\n",
      "INFO:azure.eventhub:Received event from partition 1\n",
      "INFO:azure.eventhub:Received event from partition 1\n"
     ]
    },
    {
     "name": "stdout",
     "output_type": "stream",
     "text": [
      "\n",
      "Message received:\n",
      "    Data: <<{'messageCount': 1493, 'humidity': 58, 'temperature': 24, 'timestamp': '2022-04-24\\n17:53:10'}>>\n",
      "\n",
      "Message received:\n",
      "    Data: <<{'messageCount': 1494, 'humidity': 58, 'temperature': 23, 'timestamp': '2022-04-24\\n17:53:11'}>>\n",
      "\n",
      "Message received:\n",
      "    Data: <<{'messageCount': 1495, 'humidity': 58, 'temperature': 23, 'timestamp': '2022-04-24\\n17:53:12'}>>\n"
     ]
    },
    {
     "name": "stderr",
     "output_type": "stream",
     "text": [
      "INFO:azure.eventhub:Received event from partition 1\n",
      "INFO:azure.eventhub:Received event from partition 1\n",
      "INFO:azure.eventhub:Received event from partition 1\n"
     ]
    },
    {
     "name": "stdout",
     "output_type": "stream",
     "text": [
      "\n",
      "Message received:\n",
      "    Data: <<{'messageCount': 1496, 'humidity': 58, 'temperature': 23, 'timestamp': '2022-04-24\\n17:53:14'}>>\n",
      "\n",
      "Message received:\n",
      "    Data: <<{'messageCount': 1497, 'humidity': 58, 'temperature': 23, 'timestamp': '2022-04-24\\n17:53:15'}>>\n",
      "\n",
      "Message received:\n",
      "    Data: <<{'messageCount': 1498, 'humidity': 57, 'temperature': 24, 'timestamp': '2022-04-24\\n17:53:16'}>>\n"
     ]
    },
    {
     "name": "stderr",
     "output_type": "stream",
     "text": [
      "INFO:azure.eventhub:Received event from partition 1\n",
      "INFO:azure.eventhub:Received event from partition 1\n",
      "INFO:azure.eventhub:Received event from partition 1\n"
     ]
    },
    {
     "name": "stdout",
     "output_type": "stream",
     "text": [
      "\n",
      "Message received:\n",
      "    Data: <<{'messageCount': 1499, 'humidity': 57, 'temperature': 24, 'timestamp': '2022-04-24\\n17:53:17'}>>\n",
      "\n",
      "Message received:\n",
      "    Data: <<{'messageCount': 1500, 'humidity': 57, 'temperature': 23, 'timestamp': '2022-04-24\\n17:53:18'}>>\n",
      "\n",
      "Message received:\n",
      "    Data: <<{'messageCount': 1501, 'humidity': 57, 'temperature': 23, 'timestamp': '2022-04-24\\n17:53:19'}>>\n"
     ]
    },
    {
     "name": "stderr",
     "output_type": "stream",
     "text": [
      "INFO:azure.eventhub:Received event from partition 1\n",
      "INFO:azure.eventhub:Received event from partition 1\n",
      "INFO:azure.eventhub:Received event from partition 1\n"
     ]
    },
    {
     "name": "stdout",
     "output_type": "stream",
     "text": [
      "\n",
      "Message received:\n",
      "    Data: <<{'messageCount': 1502, 'humidity': 57, 'temperature': 23, 'timestamp': '2022-04-24\\n17:53:21'}>>\n",
      "\n",
      "Message received:\n",
      "    Data: <<{'messageCount': 1503, 'humidity': 57, 'temperature': 23, 'timestamp': '2022-04-24\\n17:53:22'}>>\n",
      "\n",
      "Message received:\n",
      "    Data: <<{'messageCount': 1504, 'humidity': 57, 'temperature': 23, 'timestamp': '2022-04-24\\n17:53:23'}>>\n"
     ]
    },
    {
     "name": "stderr",
     "output_type": "stream",
     "text": [
      "INFO:azure.eventhub:Received event from partition 1\n",
      "INFO:azure.eventhub:Received event from partition 1\n",
      "INFO:azure.eventhub:Received event from partition 1\n"
     ]
    },
    {
     "name": "stdout",
     "output_type": "stream",
     "text": [
      "\n",
      "Message received:\n",
      "    Data: <<{'messageCount': 1505, 'humidity': 57, 'temperature': 23, 'timestamp': '2022-04-24\\n17:53:24'}>>\n",
      "\n",
      "Message received:\n",
      "    Data: <<{'messageCount': 1506, 'humidity': 57, 'temperature': 23, 'timestamp': '2022-04-24\\n17:53:25'}>>\n",
      "\n",
      "Message received:\n",
      "    Data: <<{'messageCount': 1507, 'humidity': 57, 'temperature': 23, 'timestamp': '2022-04-24\\n17:53:26'}>>\n",
      "\n",
      "Message received:\n",
      "    Data: <<{'messageCount': 1508, 'humidity': 57, 'temperature': 24, 'timestamp': '2022-04-24\\n17:53:27'}>>\n"
     ]
    },
    {
     "name": "stderr",
     "output_type": "stream",
     "text": [
      "INFO:azure.eventhub:Received event from partition 1\n",
      "INFO:azure.eventhub:Received event from partition 1\n",
      "INFO:azure.eventhub:Received event from partition 1\n",
      "INFO:azure.eventhub:Received event from partition 1\n"
     ]
    },
    {
     "name": "stdout",
     "output_type": "stream",
     "text": [
      "\n",
      "Message received:\n",
      "    Data: <<{'messageCount': 1509, 'humidity': 57, 'temperature': 24, 'timestamp': '2022-04-24\\n17:53:28'}>>\n",
      "\n",
      "Message received:\n",
      "    Data: <<{'messageCount': 1510, 'humidity': 57, 'temperature': 23, 'timestamp': '2022-04-24\\n17:53:30'}>>\n",
      "\n",
      "Message received:\n",
      "    Data: <<{'messageCount': 1511, 'humidity': 57, 'temperature': 23, 'timestamp': '2022-04-24\\n17:53:31'}>>\n"
     ]
    },
    {
     "name": "stderr",
     "output_type": "stream",
     "text": [
      "INFO:azure.eventhub:Received event from partition 1\n",
      "INFO:azure.eventhub:Received event from partition 1\n"
     ]
    },
    {
     "name": "stdout",
     "output_type": "stream",
     "text": [
      "\n",
      "Message received:\n",
      "    Data: <<{'messageCount': 1512, 'humidity': 57, 'temperature': 23, 'timestamp': '2022-04-24\\n17:53:32'}>>\n",
      "\n",
      "Message received:\n",
      "    Data: <<{'messageCount': 1513, 'humidity': 57, 'temperature': 23, 'timestamp': '2022-04-24\\n17:53:33'}>>\n",
      "\n",
      "Message received:\n",
      "    Data: <<{'messageCount': 1514, 'humidity': 57, 'temperature': 23, 'timestamp': '2022-04-24\\n17:53:34'}>>\n"
     ]
    },
    {
     "name": "stderr",
     "output_type": "stream",
     "text": [
      "INFO:azure.eventhub:Received event from partition 1\n",
      "INFO:azure.eventhub:Received event from partition 1\n",
      "INFO:azure.eventhub:Received event from partition 1\n",
      "INFO:azure.eventhub:Received event from partition 1\n"
     ]
    },
    {
     "name": "stdout",
     "output_type": "stream",
     "text": [
      "\n",
      "Message received:\n",
      "    Data: <<{'messageCount': 1515, 'humidity': 57, 'temperature': 23, 'timestamp': '2022-04-24\\n17:53:35'}>>\n",
      "\n",
      "Message received:\n",
      "    Data: <<{'messageCount': 1516, 'humidity': 57, 'temperature': 24, 'timestamp': '2022-04-24\\n17:53:37'}>>\n",
      "\n",
      "Message received:\n",
      "    Data: <<{'messageCount': 1517, 'humidity': 57, 'temperature': 24, 'timestamp': '2022-04-24\\n17:53:38'}>>\n"
     ]
    },
    {
     "name": "stderr",
     "output_type": "stream",
     "text": [
      "INFO:azure.eventhub:Received event from partition 1\n",
      "INFO:azure.eventhub:Received event from partition 1\n",
      "INFO:azure.eventhub:Received event from partition 1\n"
     ]
    },
    {
     "name": "stdout",
     "output_type": "stream",
     "text": [
      "\n",
      "Message received:\n",
      "    Data: <<{'messageCount': 1518, 'humidity': 57, 'temperature': 23, 'timestamp': '2022-04-24\\n17:53:39'}>>\n",
      "\n",
      "Message received:\n",
      "    Data: <<{'messageCount': 1519, 'humidity': 57, 'temperature': 23, 'timestamp': '2022-04-24\\n17:53:40'}>>\n",
      "\n",
      "Message received:\n",
      "    Data: <<{'messageCount': 1520, 'humidity': 57, 'temperature': 23, 'timestamp': '2022-04-24\\n17:53:41'}>>\n"
     ]
    },
    {
     "name": "stderr",
     "output_type": "stream",
     "text": [
      "INFO:azure.eventhub:Received event from partition 1\n",
      "INFO:azure.eventhub:Received event from partition 1\n",
      "INFO:azure.eventhub:Received event from partition 1\n"
     ]
    },
    {
     "name": "stdout",
     "output_type": "stream",
     "text": [
      "\n",
      "Message received:\n",
      "    Data: <<{'messageCount': 1521, 'humidity': 57, 'temperature': 23, 'timestamp': '2022-04-24\\n17:53:42'}>>\n",
      "\n",
      "Message received:\n",
      "    Data: <<{'messageCount': 1522, 'humidity': 57, 'temperature': 23, 'timestamp': '2022-04-24\\n17:53:43'}>>\n",
      "\n",
      "Message received:\n",
      "    Data: <<{'messageCount': 1523, 'humidity': 57, 'temperature': 23, 'timestamp': '2022-04-24\\n17:53:44'}>>\n",
      "\n",
      "Message received:\n",
      "    Data: <<{'messageCount': 1524, 'humidity': 57, 'temperature': 23, 'timestamp': '2022-04-24\\n17:53:46'}>>\n"
     ]
    },
    {
     "name": "stderr",
     "output_type": "stream",
     "text": [
      "INFO:azure.eventhub:Received event from partition 1\n",
      "INFO:azure.eventhub:Received event from partition 1\n",
      "INFO:azure.eventhub:Received event from partition 1\n",
      "INFO:azure.eventhub:Received event from partition 1\n"
     ]
    },
    {
     "name": "stdout",
     "output_type": "stream",
     "text": [
      "\n",
      "Message received:\n",
      "    Data: <<{'messageCount': 1525, 'humidity': 57, 'temperature': 23, 'timestamp': '2022-04-24\\n17:53:47'}>>\n",
      "\n",
      "Message received:\n",
      "    Data: <<{'messageCount': 1526, 'humidity': 57, 'temperature': 23, 'timestamp': '2022-04-24\\n17:53:48'}>>\n",
      "\n",
      "Message received:\n",
      "    Data: <<{'messageCount': 1527, 'humidity': 57, 'temperature': 23, 'timestamp': '2022-04-24\\n17:53:49'}>>\n"
     ]
    },
    {
     "name": "stderr",
     "output_type": "stream",
     "text": [
      "INFO:azure.eventhub:Received event from partition 1\n",
      "INFO:azure.eventhub:Received event from partition 1\n",
      "INFO:azure.eventhub:Received event from partition 1\n"
     ]
    },
    {
     "name": "stdout",
     "output_type": "stream",
     "text": [
      "\n",
      "Message received:\n",
      "    Data: <<{'messageCount': 1528, 'humidity': 57, 'temperature': 23, 'timestamp': '2022-04-24\\n17:53:50'}>>\n",
      "\n",
      "Message received:\n",
      "    Data: <<{'messageCount': 1529, 'humidity': 57, 'temperature': 23, 'timestamp': '2022-04-24\\n17:53:51'}>>\n",
      "\n",
      "Message received:\n",
      "    Data: <<{'messageCount': 1531, 'humidity': 57, 'temperature': 23, 'timestamp': '2022-04-24\\n17:53:54'}>>\n"
     ]
    },
    {
     "name": "stderr",
     "output_type": "stream",
     "text": [
      "INFO:azure.eventhub:Received event from partition 1\n",
      "INFO:azure.eventhub:Received event from partition 1\n",
      "INFO:azure.eventhub:Received event from partition 1\n"
     ]
    },
    {
     "name": "stdout",
     "output_type": "stream",
     "text": [
      "\n",
      "Message received:\n",
      "    Data: <<{'messageCount': 1530, 'humidity': 57, 'temperature': 23, 'timestamp': '2022-04-24\\n17:53:53'}>>\n",
      "\n",
      "Message received:\n",
      "    Data: <<{'messageCount': 1532, 'humidity': 57, 'temperature': 23, 'timestamp': '2022-04-24\\n17:53:55'}>>\n",
      "\n",
      "Message received:\n",
      "    Data: <<{'messageCount': 1533, 'humidity': 57, 'temperature': 23, 'timestamp': '2022-04-24\\n17:53:56'}>>\n"
     ]
    },
    {
     "name": "stderr",
     "output_type": "stream",
     "text": [
      "INFO:azure.eventhub:Received event from partition 1\n",
      "INFO:azure.eventhub:Received event from partition 1\n",
      "INFO:azure.eventhub:Received event from partition 1\n"
     ]
    },
    {
     "name": "stdout",
     "output_type": "stream",
     "text": [
      "\n",
      "Message received:\n",
      "    Data: <<{'messageCount': 1534, 'humidity': 57, 'temperature': 23, 'timestamp': '2022-04-24\\n17:53:57'}>>\n",
      "\n",
      "Message received:\n",
      "    Data: <<{'messageCount': 1535, 'humidity': 57, 'temperature': 23, 'timestamp': '2022-04-24\\n17:53:58'}>>\n",
      "\n",
      "Message received:\n",
      "    Data: <<{'messageCount': 1536, 'humidity': 57, 'temperature': 23, 'timestamp': '2022-04-24\\n17:54:00'}>>\n"
     ]
    },
    {
     "name": "stderr",
     "output_type": "stream",
     "text": [
      "INFO:azure.eventhub:Received event from partition 1\n",
      "INFO:azure.eventhub:Received event from partition 1\n",
      "INFO:azure.eventhub:Received event from partition 1\n"
     ]
    },
    {
     "name": "stdout",
     "output_type": "stream",
     "text": [
      "\n",
      "Message received:\n",
      "    Data: <<{'messageCount': 1537, 'humidity': 57, 'temperature': 23, 'timestamp': '2022-04-24\\n17:54:01'}>>\n",
      "\n",
      "Message received:\n",
      "    Data: <<{'messageCount': 1538, 'humidity': 57, 'temperature': 23, 'timestamp': '2022-04-24\\n17:54:02'}>>\n",
      "\n",
      "Message received:\n",
      "    Data: <<{'messageCount': 1539, 'humidity': 57, 'temperature': 23, 'timestamp': '2022-04-24\\n17:54:03'}>>\n"
     ]
    },
    {
     "name": "stderr",
     "output_type": "stream",
     "text": [
      "INFO:azure.eventhub:Received event from partition 1\n",
      "INFO:azure.eventhub:Received event from partition 1\n",
      "INFO:azure.eventhub:Received event from partition 1\n"
     ]
    },
    {
     "name": "stdout",
     "output_type": "stream",
     "text": [
      "\n",
      "Message received:\n",
      "    Data: <<{'messageCount': 1540, 'humidity': 57, 'temperature': 23, 'timestamp': '2022-04-24\\n17:54:04'}>>\n",
      "\n",
      "Message received:\n",
      "    Data: <<{'messageCount': 1541, 'humidity': 57, 'temperature': 23, 'timestamp': '2022-04-24\\n17:54:05'}>>\n",
      "\n",
      "Message received:\n",
      "    Data: <<{'messageCount': 1542, 'humidity': 57, 'temperature': 23, 'timestamp': '2022-04-24\\n17:54:06'}>>\n",
      "\n",
      "Message received:\n",
      "    Data: <<{'messageCount': 1543, 'humidity': 57, 'temperature': 23, 'timestamp': '2022-04-24\\n17:54:07'}>>\n"
     ]
    },
    {
     "name": "stderr",
     "output_type": "stream",
     "text": [
      "INFO:azure.eventhub:Received event from partition 1\n",
      "INFO:azure.eventhub:Received event from partition 1\n",
      "INFO:azure.eventhub:Received event from partition 1\n",
      "INFO:azure.eventhub:Received event from partition 1\n"
     ]
    },
    {
     "name": "stdout",
     "output_type": "stream",
     "text": [
      "\n",
      "Message received:\n",
      "    Data: <<{'messageCount': 1544, 'humidity': 57, 'temperature': 23, 'timestamp': '2022-04-24\\n17:54:09'}>>\n",
      "\n",
      "Message received:\n",
      "    Data: <<{'messageCount': 1545, 'humidity': 57, 'temperature': 23, 'timestamp': '2022-04-24\\n17:54:10'}>>\n",
      "\n",
      "Message received:\n",
      "    Data: <<{'messageCount': 1546, 'humidity': 57, 'temperature': 23, 'timestamp': '2022-04-24\\n17:54:11'}>>\n"
     ]
    },
    {
     "name": "stderr",
     "output_type": "stream",
     "text": [
      "INFO:azure.eventhub:Received event from partition 1\n",
      "INFO:azure.eventhub:Received event from partition 1\n",
      "INFO:azure.eventhub:Received event from partition 1\n"
     ]
    },
    {
     "name": "stdout",
     "output_type": "stream",
     "text": [
      "\n",
      "Message received:\n",
      "    Data: <<{'messageCount': 1548, 'humidity': 56, 'temperature': 23, 'timestamp': '2022-04-24\\n17:54:13'}>>\n",
      "\n",
      "Message received:\n",
      "    Data: <<{'messageCount': 1547, 'humidity': 57, 'temperature': 23, 'timestamp': '2022-04-24\\n17:54:12'}>>\n",
      "\n",
      "Message received:\n",
      "    Data: <<{'messageCount': 1550, 'humidity': 57, 'temperature': 23, 'timestamp': '2022-04-24\\n17:54:15'}>>\n"
     ]
    },
    {
     "name": "stderr",
     "output_type": "stream",
     "text": [
      "INFO:azure.eventhub:Received event from partition 1\n",
      "INFO:azure.eventhub:Received event from partition 1\n",
      "INFO:azure.eventhub:Received event from partition 1\n"
     ]
    },
    {
     "name": "stdout",
     "output_type": "stream",
     "text": [
      "\n",
      "Message received:\n",
      "    Data: <<{'messageCount': 1549, 'humidity': 56, 'temperature': 23, 'timestamp': '2022-04-24\\n17:54:14'}>>\n",
      "\n",
      "Message received:\n",
      "    Data: <<{'messageCount': 1551, 'humidity': 57, 'temperature': 23, 'timestamp': '2022-04-24\\n17:54:16'}>>\n",
      "\n",
      "Message received:\n",
      "    Data: <<{'messageCount': 1553, 'humidity': 56, 'temperature': 23, 'timestamp': '2022-04-24\\n17:54:19'}>>\n",
      "\n",
      "Message received:\n",
      "    Data: <<{'messageCount': 1552, 'humidity': 56, 'temperature': 23, 'timestamp': '2022-04-24\\n17:54:18'}>>\n"
     ]
    },
    {
     "name": "stderr",
     "output_type": "stream",
     "text": [
      "INFO:azure.eventhub:Received event from partition 1\n",
      "INFO:azure.eventhub:Received event from partition 1\n",
      "INFO:azure.eventhub:Received event from partition 1\n",
      "INFO:azure.eventhub:Received event from partition 1\n"
     ]
    },
    {
     "name": "stdout",
     "output_type": "stream",
     "text": [
      "\n",
      "Message received:\n",
      "    Data: <<{'messageCount': 1554, 'humidity': 56, 'temperature': 23, 'timestamp': '2022-04-24\\n17:54:20'}>>\n",
      "\n",
      "Message received:\n",
      "    Data: <<{'messageCount': 1555, 'humidity': 56, 'temperature': 23, 'timestamp': '2022-04-24\\n17:54:21'}>>\n",
      "\n",
      "Message received:\n",
      "    Data: <<{'messageCount': 1556, 'humidity': 56, 'temperature': 23, 'timestamp': '2022-04-24\\n17:54:22'}>>\n"
     ]
    },
    {
     "name": "stderr",
     "output_type": "stream",
     "text": [
      "INFO:azure.eventhub:Received event from partition 1\n",
      "INFO:azure.eventhub:Received event from partition 1\n",
      "INFO:azure.eventhub:Received event from partition 1\n"
     ]
    },
    {
     "name": "stdout",
     "output_type": "stream",
     "text": [
      "\n",
      "Message received:\n",
      "    Data: <<{'messageCount': 1557, 'humidity': 56, 'temperature': 23, 'timestamp': '2022-04-24\\n17:54:23'}>>\n",
      "\n",
      "Message received:\n",
      "    Data: <<{'messageCount': 1558, 'humidity': 56, 'temperature': 23, 'timestamp': '2022-04-24\\n17:54:25'}>>\n",
      "\n",
      "Message received:\n",
      "    Data: <<{'messageCount': 1559, 'humidity': 56, 'temperature': 23, 'timestamp': '2022-04-24\\n17:54:26'}>>\n"
     ]
    },
    {
     "name": "stderr",
     "output_type": "stream",
     "text": [
      "INFO:azure.eventhub:Received event from partition 1\n",
      "INFO:azure.eventhub:Received event from partition 1\n",
      "INFO:azure.eventhub:Received event from partition 1\n"
     ]
    },
    {
     "name": "stdout",
     "output_type": "stream",
     "text": [
      "\n",
      "Message received:\n",
      "    Data: <<{'messageCount': 1560, 'humidity': 56, 'temperature': 23, 'timestamp': '2022-04-24\\n17:54:27'}>>\n",
      "\n",
      "Message received:\n",
      "    Data: <<{'messageCount': 1561, 'humidity': 56, 'temperature': 23, 'timestamp': '2022-04-24\\n17:54:28'}>>\n",
      "\n",
      "Message received:\n",
      "    Data: <<{'messageCount': 1562, 'humidity': 56, 'temperature': 23, 'timestamp': '2022-04-24\\n17:54:29'}>>\n"
     ]
    },
    {
     "name": "stderr",
     "output_type": "stream",
     "text": [
      "INFO:azure.eventhub:Received event from partition 1\n",
      "INFO:azure.eventhub:Received event from partition 1\n",
      "INFO:azure.eventhub:Received event from partition 1\n"
     ]
    },
    {
     "name": "stdout",
     "output_type": "stream",
     "text": [
      "\n",
      "Message received:\n",
      "    Data: <<{'messageCount': 1563, 'humidity': 56, 'temperature': 23, 'timestamp': '2022-04-24\\n17:54:30'}>>\n",
      "\n",
      "Message received:\n",
      "    Data: <<{'messageCount': 1564, 'humidity': 56, 'temperature': 23, 'timestamp': '2022-04-24\\n17:54:32'}>>\n",
      "\n",
      "Message received:\n",
      "    Data: <<{'messageCount': 1565, 'humidity': 56, 'temperature': 23, 'timestamp': '2022-04-24\\n17:54:33'}>>\n"
     ]
    },
    {
     "name": "stderr",
     "output_type": "stream",
     "text": [
      "INFO:azure.eventhub:Received event from partition 1\n",
      "INFO:azure.eventhub:Received event from partition 1\n",
      "INFO:azure.eventhub:Received event from partition 1\n"
     ]
    },
    {
     "name": "stdout",
     "output_type": "stream",
     "text": [
      "\n",
      "Message received:\n",
      "    Data: <<{'messageCount': 1566, 'humidity': 56, 'temperature': 23, 'timestamp': '2022-04-24\\n17:54:34'}>>\n",
      "\n",
      "Message received:\n",
      "    Data: <<{'messageCount': 1567, 'humidity': 56, 'temperature': 23, 'timestamp': '2022-04-24\\n17:54:35'}>>\n",
      "\n",
      "Message received:\n",
      "    Data: <<{'messageCount': 1568, 'humidity': 56, 'temperature': 23, 'timestamp': '2022-04-24\\n17:54:36'}>>\n"
     ]
    },
    {
     "name": "stderr",
     "output_type": "stream",
     "text": [
      "INFO:azure.eventhub:Received event from partition 1\n",
      "INFO:azure.eventhub:Received event from partition 1\n",
      "INFO:azure.eventhub:Received event from partition 1\n"
     ]
    },
    {
     "name": "stdout",
     "output_type": "stream",
     "text": [
      "\n",
      "Message received:\n",
      "    Data: <<{'messageCount': 1569, 'humidity': 56, 'temperature': 23, 'timestamp': '2022-04-24\\n17:54:37'}>>\n",
      "\n",
      "Message received:\n",
      "    Data: <<{'messageCount': 1570, 'humidity': 56, 'temperature': 23, 'timestamp': '2022-04-24\\n17:54:38'}>>\n",
      "\n",
      "Message received:\n",
      "    Data: <<{'messageCount': 1571, 'humidity': 56, 'temperature': 23, 'timestamp': '2022-04-24\\n17:54:39'}>>\n",
      "\n",
      "Message received:\n",
      "    Data: <<{'messageCount': 1572, 'humidity': 56, 'temperature': 23, 'timestamp': '2022-04-24\\n17:54:41'}>>\n"
     ]
    },
    {
     "name": "stderr",
     "output_type": "stream",
     "text": [
      "INFO:azure.eventhub:Received event from partition 1\n",
      "INFO:azure.eventhub:Received event from partition 1\n",
      "INFO:azure.eventhub:Received event from partition 1\n",
      "INFO:azure.eventhub:Received event from partition 1\n"
     ]
    },
    {
     "name": "stdout",
     "output_type": "stream",
     "text": [
      "\n",
      "Message received:\n",
      "    Data: <<{'messageCount': 1573, 'humidity': 56, 'temperature': 23, 'timestamp': '2022-04-24\\n17:54:42'}>>\n",
      "\n",
      "Message received:\n",
      "    Data: <<{'messageCount': 1574, 'humidity': 56, 'temperature': 23, 'timestamp': '2022-04-24\\n17:54:43'}>>\n",
      "\n",
      "Message received:\n",
      "    Data: <<{'messageCount': 1575, 'humidity': 56, 'temperature': 23, 'timestamp': '2022-04-24\\n17:54:44'}>>\n",
      "\n",
      "Message received:\n",
      "    Data: <<{'messageCount': 1576, 'humidity': 56, 'temperature': 23, 'timestamp': '2022-04-24\\n17:54:45'}>>\n"
     ]
    },
    {
     "name": "stderr",
     "output_type": "stream",
     "text": [
      "INFO:azure.eventhub:Received event from partition 1\n",
      "INFO:azure.eventhub:Received event from partition 1\n",
      "INFO:azure.eventhub:Received event from partition 1\n",
      "INFO:azure.eventhub:Received event from partition 1\n"
     ]
    },
    {
     "name": "stdout",
     "output_type": "stream",
     "text": [
      "\n",
      "Message received:\n",
      "    Data: <<{'messageCount': 1577, 'humidity': 56, 'temperature': 23, 'timestamp': '2022-04-24\\n17:54:46'}>>\n",
      "\n",
      "Message received:\n",
      "    Data: <<{'messageCount': 1578, 'humidity': 56, 'temperature': 23, 'timestamp': '2022-04-24\\n17:54:48'}>>\n",
      "\n",
      "Message received:\n",
      "    Data: <<{'messageCount': 1579, 'humidity': 56, 'temperature': 23, 'timestamp': '2022-04-24\\n17:54:49'}>>\n",
      "\n",
      "Message received:\n",
      "    Data: <<{'messageCount': 1580, 'humidity': 56, 'temperature': 23, 'timestamp': '2022-04-24\\n17:54:50'}>>\n"
     ]
    },
    {
     "name": "stderr",
     "output_type": "stream",
     "text": [
      "INFO:azure.eventhub:Received event from partition 1\n",
      "INFO:azure.eventhub:Received event from partition 1\n",
      "INFO:azure.eventhub:Received event from partition 1\n",
      "INFO:azure.eventhub:Received event from partition 1\n"
     ]
    },
    {
     "name": "stdout",
     "output_type": "stream",
     "text": [
      "\n",
      "Message received:\n",
      "    Data: <<{'messageCount': 1581, 'humidity': 56, 'temperature': 23, 'timestamp': '2022-04-24\\n17:54:51'}>>\n",
      "\n",
      "Message received:\n",
      "    Data: <<{'messageCount': 1582, 'humidity': 56, 'temperature': 23, 'timestamp': '2022-04-24\\n17:54:52'}>>\n",
      "\n",
      "Message received:\n",
      "    Data: <<{'messageCount': 1583, 'humidity': 56, 'temperature': 23, 'timestamp': '2022-04-24\\n17:54:53'}>>\n"
     ]
    },
    {
     "name": "stderr",
     "output_type": "stream",
     "text": [
      "INFO:azure.eventhub:Received event from partition 1\n",
      "INFO:azure.eventhub:Received event from partition 1\n",
      "INFO:azure.eventhub:Received event from partition 1\n"
     ]
    },
    {
     "name": "stdout",
     "output_type": "stream",
     "text": [
      "\n",
      "Message received:\n",
      "    Data: <<{'messageCount': 1584, 'humidity': 56, 'temperature': 23, 'timestamp': '2022-04-24\\n17:54:54'}>>\n",
      "\n",
      "Message received:\n",
      "    Data: <<{'messageCount': 1585, 'humidity': 56, 'temperature': 23, 'timestamp': '2022-04-24\\n17:54:55'}>>\n",
      "\n",
      "Message received:\n",
      "    Data: <<{'messageCount': 1586, 'humidity': 56, 'temperature': 23, 'timestamp': '2022-04-24\\n17:54:57'}>>\n"
     ]
    },
    {
     "name": "stderr",
     "output_type": "stream",
     "text": [
      "INFO:azure.eventhub:Received event from partition 1\n",
      "INFO:azure.eventhub:Received event from partition 1\n",
      "INFO:azure.eventhub:Received event from partition 1\n"
     ]
    },
    {
     "name": "stdout",
     "output_type": "stream",
     "text": [
      "\n",
      "Message received:\n",
      "    Data: <<{'messageCount': 1587, 'humidity': 56, 'temperature': 23, 'timestamp': '2022-04-24\\n17:54:58'}>>\n",
      "\n",
      "Message received:\n",
      "    Data: <<{'messageCount': 1588, 'humidity': 56, 'temperature': 23, 'timestamp': '2022-04-24\\n17:54:59'}>>\n",
      "\n",
      "Message received:\n",
      "    Data: <<{'messageCount': 1589, 'humidity': 56, 'temperature': 23, 'timestamp': '2022-04-24\\n17:55:00'}>>\n"
     ]
    },
    {
     "name": "stderr",
     "output_type": "stream",
     "text": [
      "INFO:azure.eventhub:Received event from partition 1\n",
      "INFO:azure.eventhub:Received event from partition 1\n",
      "INFO:azure.eventhub:Received event from partition 1\n"
     ]
    },
    {
     "name": "stdout",
     "output_type": "stream",
     "text": [
      "\n",
      "Message received:\n",
      "    Data: <<{'messageCount': 1590, 'humidity': 56, 'temperature': 23, 'timestamp': '2022-04-24\\n17:55:01'}>>\n",
      "\n",
      "Message received:\n",
      "    Data: <<{'messageCount': 1591, 'humidity': 56, 'temperature': 23, 'timestamp': '2022-04-24\\n17:55:02'}>>\n",
      "\n",
      "Message received:\n",
      "    Data: <<{'messageCount': 1592, 'humidity': 56, 'temperature': 23, 'timestamp': '2022-04-24\\n17:55:04'}>>\n"
     ]
    },
    {
     "name": "stderr",
     "output_type": "stream",
     "text": [
      "INFO:azure.eventhub:Received event from partition 1\n",
      "INFO:azure.eventhub:Received event from partition 1\n",
      "INFO:azure.eventhub:Received event from partition 1\n"
     ]
    },
    {
     "name": "stdout",
     "output_type": "stream",
     "text": [
      "\n",
      "Message received:\n",
      "    Data: <<{'messageCount': 1593, 'humidity': 56, 'temperature': 23, 'timestamp': '2022-04-24\\n17:55:05'}>>\n",
      "\n",
      "Message received:\n",
      "    Data: <<{'messageCount': 1594, 'humidity': 56, 'temperature': 23, 'timestamp': '2022-04-24\\n17:55:06'}>>\n",
      "\n",
      "Message received:\n",
      "    Data: <<{'messageCount': 1595, 'humidity': 56, 'temperature': 23, 'timestamp': '2022-04-24\\n17:55:07'}>>\n",
      "\n",
      "Message received:\n",
      "    Data: <<{'messageCount': 1596, 'humidity': 56, 'temperature': 23, 'timestamp': '2022-04-24\\n17:55:08'}>>\n"
     ]
    },
    {
     "name": "stderr",
     "output_type": "stream",
     "text": [
      "INFO:azure.eventhub:Received event from partition 1\n",
      "INFO:azure.eventhub:Received event from partition 1\n",
      "INFO:azure.eventhub:Received event from partition 1\n",
      "INFO:azure.eventhub:Received event from partition 1\n"
     ]
    },
    {
     "name": "stdout",
     "output_type": "stream",
     "text": [
      "\n",
      "Message received:\n",
      "    Data: <<{'messageCount': 1597, 'humidity': 56, 'temperature': 23, 'timestamp': '2022-04-24\\n17:55:09'}>>\n",
      "\n",
      "Message received:\n",
      "    Data: <<{'messageCount': 1598, 'humidity': 56, 'temperature': 23, 'timestamp': '2022-04-24\\n17:55:10'}>>\n",
      "\n",
      "Message received:\n",
      "    Data: <<{'messageCount': 1599, 'humidity': 56, 'temperature': 23, 'timestamp': '2022-04-24\\n17:55:11'}>>\n"
     ]
    },
    {
     "name": "stderr",
     "output_type": "stream",
     "text": [
      "INFO:azure.eventhub:Received event from partition 1\n",
      "INFO:azure.eventhub:Received event from partition 1\n",
      "INFO:azure.eventhub:Received event from partition 1\n"
     ]
    },
    {
     "name": "stdout",
     "output_type": "stream",
     "text": [
      "\n",
      "Message received:\n",
      "    Data: <<{'messageCount': 1600, 'humidity': 55, 'temperature': 23, 'timestamp': '2022-04-24\\n17:55:13'}>>\n",
      "\n",
      "Message received:\n",
      "    Data: <<{'messageCount': 1602, 'humidity': 56, 'temperature': 23, 'timestamp': '2022-04-24\\n17:55:15'}>>\n",
      "\n",
      "Message received:\n",
      "    Data: <<{'messageCount': 1601, 'humidity': 55, 'temperature': 23, 'timestamp': '2022-04-24\\n17:55:14'}>>\n"
     ]
    },
    {
     "name": "stderr",
     "output_type": "stream",
     "text": [
      "INFO:azure.eventhub:Received event from partition 1\n",
      "INFO:azure.eventhub:Received event from partition 1\n",
      "INFO:azure.eventhub:Received event from partition 1\n"
     ]
    },
    {
     "name": "stdout",
     "output_type": "stream",
     "text": [
      "\n",
      "Message received:\n",
      "    Data: <<{'messageCount': 1603, 'humidity': 56, 'temperature': 23, 'timestamp': '2022-04-24\\n17:55:16'}>>\n",
      "\n",
      "Message received:\n",
      "    Data: <<{'messageCount': 1604, 'humidity': 55, 'temperature': 23, 'timestamp': '2022-04-24\\n17:55:17'}>>\n",
      "\n",
      "Message received:\n",
      "    Data: <<{'messageCount': 1605, 'humidity': 55, 'temperature': 23, 'timestamp': '2022-04-24\\n17:55:18'}>>\n"
     ]
    },
    {
     "name": "stderr",
     "output_type": "stream",
     "text": [
      "INFO:azure.eventhub:Received event from partition 1\n",
      "INFO:azure.eventhub:Received event from partition 1\n",
      "INFO:azure.eventhub:Received event from partition 1\n"
     ]
    },
    {
     "name": "stdout",
     "output_type": "stream",
     "text": [
      "\n",
      "Message received:\n",
      "    Data: <<{'messageCount': 1606, 'humidity': 55, 'temperature': 23, 'timestamp': '2022-04-24\\n17:55:20'}>>\n",
      "\n",
      "Message received:\n",
      "    Data: <<{'messageCount': 1607, 'humidity': 55, 'temperature': 23, 'timestamp': '2022-04-24\\n17:55:21'}>>\n",
      "\n",
      "Message received:\n",
      "    Data: <<{'messageCount': 1608, 'humidity': 55, 'temperature': 23, 'timestamp': '2022-04-24\\n17:55:22'}>>\n"
     ]
    },
    {
     "name": "stderr",
     "output_type": "stream",
     "text": [
      "INFO:azure.eventhub:Received event from partition 1\n",
      "INFO:azure.eventhub:Received event from partition 1\n",
      "INFO:azure.eventhub:Received event from partition 1\n"
     ]
    },
    {
     "name": "stdout",
     "output_type": "stream",
     "text": [
      "\n",
      "Message received:\n",
      "    Data: <<{'messageCount': 1609, 'humidity': 55, 'temperature': 23, 'timestamp': '2022-04-24\\n17:55:23'}>>\n",
      "\n",
      "Message received:\n",
      "    Data: <<{'messageCount': 1610, 'humidity': 55, 'temperature': 23, 'timestamp': '2022-04-24\\n17:55:24'}>>\n",
      "\n",
      "Message received:\n",
      "    Data: <<{'messageCount': 1611, 'humidity': 55, 'temperature': 23, 'timestamp': '2022-04-24\\n17:55:25'}>>\n"
     ]
    },
    {
     "name": "stderr",
     "output_type": "stream",
     "text": [
      "INFO:azure.eventhub:Received event from partition 1\n",
      "INFO:azure.eventhub:Received event from partition 1\n",
      "INFO:azure.eventhub:Received event from partition 1\n"
     ]
    },
    {
     "name": "stdout",
     "output_type": "stream",
     "text": [
      "\n",
      "Message received:\n",
      "    Data: <<{'messageCount': 1612, 'humidity': 55, 'temperature': 23, 'timestamp': '2022-04-24\\n17:55:27'}>>\n",
      "\n",
      "Message received:\n",
      "    Data: <<{'messageCount': 1613, 'humidity': 55, 'temperature': 23, 'timestamp': '2022-04-24\\n17:55:28'}>>\n",
      "\n",
      "Message received:\n",
      "    Data: <<{'messageCount': 1614, 'humidity': 55, 'temperature': 23, 'timestamp': '2022-04-24\\n17:55:29'}>>\n",
      "\n",
      "Message received:\n",
      "    Data: <<{'messageCount': 1615, 'humidity': 55, 'temperature': 23, 'timestamp': '2022-04-24\\n17:55:30'}>>\n"
     ]
    },
    {
     "name": "stderr",
     "output_type": "stream",
     "text": [
      "INFO:azure.eventhub:Received event from partition 1\n",
      "INFO:azure.eventhub:Received event from partition 1\n",
      "INFO:azure.eventhub:Received event from partition 1\n",
      "INFO:azure.eventhub:Received event from partition 1\n"
     ]
    },
    {
     "name": "stdout",
     "output_type": "stream",
     "text": [
      "\n",
      "Message received:\n",
      "    Data: <<{'messageCount': 1617, 'humidity': 55, 'temperature': 23, 'timestamp': '2022-04-24\\n17:55:32'}>>\n",
      "\n",
      "Message received:\n",
      "    Data: <<{'messageCount': 1616, 'humidity': 55, 'temperature': 23, 'timestamp': '2022-04-24\\n17:55:31'}>>\n",
      "\n",
      "Message received:\n",
      "    Data: <<{'messageCount': 1619, 'humidity': 55, 'temperature': 23, 'timestamp': '2022-04-24\\n17:55:37'}>>\n"
     ]
    },
    {
     "name": "stderr",
     "output_type": "stream",
     "text": [
      "INFO:azure.eventhub:Received event from partition 1\n",
      "INFO:azure.eventhub:Received event from partition 1\n",
      "INFO:azure.eventhub:Received event from partition 1\n"
     ]
    },
    {
     "name": "stdout",
     "output_type": "stream",
     "text": [
      "\n",
      "Message received:\n",
      "    Data: <<{'messageCount': 1620, 'humidity': 55, 'temperature': 23, 'timestamp': '2022-04-24\\n17:55:38'}>>\n",
      "\n",
      "Message received:\n",
      "    Data: <<{'messageCount': 1621, 'humidity': 55, 'temperature': 23, 'timestamp': '2022-04-24\\n17:55:39'}>>\n",
      "\n",
      "Message received:\n",
      "    Data: <<{'messageCount': 1622, 'humidity': 55, 'temperature': 23, 'timestamp': '2022-04-24\\n17:55:40'}>>\n"
     ]
    },
    {
     "name": "stderr",
     "output_type": "stream",
     "text": [
      "INFO:azure.eventhub:Received event from partition 1\n",
      "INFO:azure.eventhub:Received event from partition 1\n",
      "INFO:azure.eventhub:Received event from partition 1\n"
     ]
    },
    {
     "name": "stdout",
     "output_type": "stream",
     "text": [
      "\n",
      "Message received:\n",
      "    Data: <<{'messageCount': 1623, 'humidity': 56, 'temperature': 23, 'timestamp': '2022-04-24\\n17:55:41'}>>\n",
      "\n",
      "Message received:\n",
      "    Data: <<{'messageCount': 1624, 'humidity': 56, 'temperature': 23, 'timestamp': '2022-04-24\\n17:55:42'}>>\n",
      "\n",
      "Message received:\n",
      "    Data: <<{'messageCount': 1625, 'humidity': 55, 'temperature': 23, 'timestamp': '2022-04-24\\n17:55:44'}>>\n"
     ]
    },
    {
     "name": "stderr",
     "output_type": "stream",
     "text": [
      "INFO:azure.eventhub:Received event from partition 1\n",
      "INFO:azure.eventhub:Received event from partition 1\n",
      "INFO:azure.eventhub:Received event from partition 1\n"
     ]
    },
    {
     "name": "stdout",
     "output_type": "stream",
     "text": [
      "\n",
      "Message received:\n",
      "    Data: <<{'messageCount': 1626, 'humidity': 55, 'temperature': 23, 'timestamp': '2022-04-24\\n17:55:45'}>>\n",
      "\n",
      "Message received:\n",
      "    Data: <<{'messageCount': 1627, 'humidity': 55, 'temperature': 23, 'timestamp': '2022-04-24\\n17:55:46'}>>\n",
      "\n",
      "Message received:\n",
      "    Data: <<{'messageCount': 1628, 'humidity': 55, 'temperature': 23, 'timestamp': '2022-04-24\\n17:55:47'}>>\n"
     ]
    },
    {
     "name": "stderr",
     "output_type": "stream",
     "text": [
      "INFO:azure.eventhub:Received event from partition 1\n"
     ]
    },
    {
     "name": "stdout",
     "output_type": "stream",
     "text": [
      "\n",
      "Message received:\n",
      "    Data: <<{'messageCount': 1629, 'humidity': 55, 'temperature': 23, 'timestamp': '2022-04-24\\n17:55:48'}>>\n",
      "\n",
      "Message received:\n",
      "    Data: <<{'messageCount': 1630, 'humidity': 55, 'temperature': 23, 'timestamp': '2022-04-24\\n17:55:49'}>>\n"
     ]
    },
    {
     "name": "stderr",
     "output_type": "stream",
     "text": [
      "INFO:azure.eventhub:Received event from partition 1\n",
      "INFO:azure.eventhub:Received event from partition 1\n",
      "INFO:azure.eventhub:Received event from partition 1\n",
      "INFO:azure.eventhub:Received event from partition 1\n"
     ]
    },
    {
     "name": "stdout",
     "output_type": "stream",
     "text": [
      "\n",
      "Message received:\n",
      "    Data: <<{'messageCount': 1631, 'humidity': 55, 'temperature': 23, 'timestamp': '2022-04-24\\n17:55:50'}>>\n",
      "\n",
      "Message received:\n",
      "    Data: <<{'messageCount': 1632, 'humidity': 55, 'temperature': 23, 'timestamp': '2022-04-24\\n17:55:52'}>>\n",
      "\n",
      "Message received:\n",
      "    Data: <<{'messageCount': 1633, 'humidity': 55, 'temperature': 23, 'timestamp': '2022-04-24\\n17:55:53'}>>\n"
     ]
    },
    {
     "name": "stderr",
     "output_type": "stream",
     "text": [
      "INFO:azure.eventhub:Received event from partition 1\n",
      "INFO:azure.eventhub:Received event from partition 1\n",
      "INFO:azure.eventhub:Received event from partition 1\n"
     ]
    },
    {
     "name": "stdout",
     "output_type": "stream",
     "text": [
      "\n",
      "Message received:\n",
      "    Data: <<{'messageCount': 1634, 'humidity': 55, 'temperature': 23, 'timestamp': '2022-04-24\\n17:55:54'}>>\n",
      "\n",
      "Message received:\n",
      "    Data: <<{'messageCount': 1635, 'humidity': 55, 'temperature': 23, 'timestamp': '2022-04-24\\n17:55:55'}>>\n",
      "\n",
      "Message received:\n",
      "    Data: <<{'messageCount': 1636, 'humidity': 55, 'temperature': 23, 'timestamp': '2022-04-24\\n17:55:56'}>>\n"
     ]
    },
    {
     "name": "stderr",
     "output_type": "stream",
     "text": [
      "INFO:azure.eventhub:Received event from partition 1\n",
      "INFO:azure.eventhub:Received event from partition 1\n",
      "INFO:azure.eventhub:Received event from partition 1\n"
     ]
    },
    {
     "name": "stdout",
     "output_type": "stream",
     "text": [
      "\n",
      "Message received:\n",
      "    Data: <<{'messageCount': 1637, 'humidity': 55, 'temperature': 23, 'timestamp': '2022-04-24\\n17:55:57'}>>\n",
      "\n",
      "Message received:\n",
      "    Data: <<{'messageCount': 1638, 'humidity': 55, 'temperature': 23, 'timestamp': '2022-04-24\\n17:55:58'}>>\n",
      "\n",
      "Message received:\n",
      "    Data: <<{'messageCount': 1639, 'humidity': 55, 'temperature': 23, 'timestamp': '2022-04-24\\n17:56:00'}>>\n"
     ]
    },
    {
     "name": "stderr",
     "output_type": "stream",
     "text": [
      "INFO:azure.eventhub:Received event from partition 1\n",
      "INFO:azure.eventhub:Received event from partition 1\n",
      "INFO:azure.eventhub:Received event from partition 1\n"
     ]
    },
    {
     "name": "stdout",
     "output_type": "stream",
     "text": [
      "\n",
      "Message received:\n",
      "    Data: <<{'messageCount': 1640, 'humidity': 55, 'temperature': 23, 'timestamp': '2022-04-24\\n17:56:01'}>>\n",
      "\n",
      "Message received:\n",
      "    Data: <<{'messageCount': 1641, 'humidity': 55, 'temperature': 23, 'timestamp': '2022-04-24\\n17:56:02'}>>\n",
      "\n",
      "Message received:\n",
      "    Data: <<{'messageCount': 1642, 'humidity': 55, 'temperature': 23, 'timestamp': '2022-04-24\\n17:56:03'}>>\n"
     ]
    },
    {
     "name": "stderr",
     "output_type": "stream",
     "text": [
      "INFO:azure.eventhub:Received event from partition 1\n",
      "INFO:azure.eventhub:Received event from partition 1\n",
      "INFO:azure.eventhub:Received event from partition 1\n"
     ]
    },
    {
     "name": "stdout",
     "output_type": "stream",
     "text": [
      "\n",
      "Message received:\n",
      "    Data: <<{'messageCount': 1643, 'humidity': 55, 'temperature': 23, 'timestamp': '2022-04-24\\n17:56:04'}>>\n",
      "\n",
      "Message received:\n",
      "    Data: <<{'messageCount': 1644, 'humidity': 55, 'temperature': 23, 'timestamp': '2022-04-24\\n17:56:05'}>>\n",
      "\n",
      "Message received:\n",
      "    Data: <<{'messageCount': 1645, 'humidity': 55, 'temperature': 23, 'timestamp': '2022-04-24\\n17:56:07'}>>\n",
      "\n",
      "Message received:\n",
      "    Data: <<{'messageCount': 1646, 'humidity': 55, 'temperature': 23, 'timestamp': '2022-04-24\\n17:56:08'}>>\n"
     ]
    },
    {
     "name": "stderr",
     "output_type": "stream",
     "text": [
      "INFO:azure.eventhub:Received event from partition 1\n",
      "INFO:azure.eventhub:Received event from partition 1\n",
      "INFO:azure.eventhub:Received event from partition 1\n",
      "INFO:azure.eventhub:Received event from partition 1\n"
     ]
    },
    {
     "name": "stdout",
     "output_type": "stream",
     "text": [
      "\n",
      "Message received:\n",
      "    Data: <<{'messageCount': 1647, 'humidity': 55, 'temperature': 23, 'timestamp': '2022-04-24\\n17:56:09'}>>\n",
      "\n",
      "Message received:\n",
      "    Data: <<{'messageCount': 1648, 'humidity': 55, 'temperature': 23, 'timestamp': '2022-04-24\\n17:56:10'}>>\n",
      "\n",
      "Message received:\n",
      "    Data: <<{'messageCount': 1649, 'humidity': 55, 'temperature': 23, 'timestamp': '2022-04-24\\n17:56:11'}>>\n",
      "\n",
      "Message received:\n",
      "    Data: <<{'messageCount': 1650, 'humidity': 55, 'temperature': 23, 'timestamp': '2022-04-24\\n17:56:12'}>>\n"
     ]
    },
    {
     "name": "stderr",
     "output_type": "stream",
     "text": [
      "INFO:azure.eventhub:Received event from partition 1\n",
      "INFO:azure.eventhub:Received event from partition 1\n",
      "INFO:azure.eventhub:Received event from partition 1\n"
     ]
    },
    {
     "name": "stdout",
     "output_type": "stream",
     "text": [
      "\n",
      "Message received:\n",
      "    Data: <<{'messageCount': 1651, 'humidity': 55, 'temperature': 23, 'timestamp': '2022-04-24\\n17:56:13'}>>\n",
      "\n",
      "Message received:\n",
      "    Data: <<{'messageCount': 1652, 'humidity': 55, 'temperature': 23, 'timestamp': '2022-04-24\\n17:56:15'}>>\n",
      "\n",
      "Message received:\n",
      "    Data: <<{'messageCount': 1653, 'humidity': 55, 'temperature': 23, 'timestamp': '2022-04-24\\n17:56:16'}>>\n"
     ]
    },
    {
     "name": "stderr",
     "output_type": "stream",
     "text": [
      "INFO:azure.eventhub:Received event from partition 1\n",
      "INFO:azure.eventhub:Received event from partition 1\n",
      "INFO:azure.eventhub:Received event from partition 1\n",
      "INFO:azure.eventhub:Received event from partition 1\n"
     ]
    },
    {
     "name": "stdout",
     "output_type": "stream",
     "text": [
      "\n",
      "Message received:\n",
      "    Data: <<{'messageCount': 1654, 'humidity': 55, 'temperature': 23, 'timestamp': '2022-04-24\\n17:56:17'}>>\n",
      "\n",
      "Message received:\n",
      "    Data: <<{'messageCount': 1655, 'humidity': 55, 'temperature': 23, 'timestamp': '2022-04-24\\n17:56:18'}>>\n",
      "\n",
      "Message received:\n",
      "    Data: <<{'messageCount': 1656, 'humidity': 55, 'temperature': 23, 'timestamp': '2022-04-24\\n17:56:19'}>>\n"
     ]
    },
    {
     "name": "stderr",
     "output_type": "stream",
     "text": [
      "INFO:azure.eventhub:Received event from partition 1\n",
      "INFO:azure.eventhub:Received event from partition 1\n",
      "INFO:azure.eventhub:Received event from partition 1\n"
     ]
    },
    {
     "name": "stdout",
     "output_type": "stream",
     "text": [
      "\n",
      "Message received:\n",
      "    Data: <<{'messageCount': 1657, 'humidity': 55, 'temperature': 23, 'timestamp': '2022-04-24\\n17:56:20'}>>\n",
      "\n",
      "Message received:\n",
      "    Data: <<{'messageCount': 1658, 'humidity': 55, 'temperature': 23, 'timestamp': '2022-04-24\\n17:56:21'}>>\n",
      "\n",
      "Message received:\n",
      "    Data: <<{'messageCount': 1659, 'humidity': 55, 'temperature': 23, 'timestamp': '2022-04-24\\n17:56:23'}>>\n"
     ]
    },
    {
     "name": "stderr",
     "output_type": "stream",
     "text": [
      "INFO:azure.eventhub:Received event from partition 1\n",
      "INFO:azure.eventhub:Received event from partition 1\n",
      "INFO:azure.eventhub:Received event from partition 1\n"
     ]
    },
    {
     "name": "stdout",
     "output_type": "stream",
     "text": [
      "\n",
      "Message received:\n",
      "    Data: <<{'messageCount': 1660, 'humidity': 55, 'temperature': 23, 'timestamp': '2022-04-24\\n17:56:24'}>>\n",
      "\n",
      "Message received:\n",
      "    Data: <<{'messageCount': 1661, 'humidity': 55, 'temperature': 23, 'timestamp': '2022-04-24\\n17:56:25'}>>\n",
      "\n",
      "Message received:\n",
      "    Data: <<{'messageCount': 1662, 'humidity': 55, 'temperature': 23, 'timestamp': '2022-04-24\\n17:56:26'}>>\n"
     ]
    },
    {
     "name": "stderr",
     "output_type": "stream",
     "text": [
      "INFO:azure.eventhub:Received event from partition 1\n",
      "INFO:azure.eventhub:Received event from partition 1\n",
      "INFO:azure.eventhub:Received event from partition 1\n"
     ]
    },
    {
     "name": "stdout",
     "output_type": "stream",
     "text": [
      "\n",
      "Message received:\n",
      "    Data: <<{'messageCount': 1663, 'humidity': 55, 'temperature': 23, 'timestamp': '2022-04-24\\n17:56:27'}>>\n",
      "\n",
      "Message received:\n",
      "    Data: <<{'messageCount': 1664, 'humidity': 55, 'temperature': 23, 'timestamp': '2022-04-24\\n17:56:28'}>>\n",
      "\n",
      "Message received:\n",
      "    Data: <<{'messageCount': 1665, 'humidity': 55, 'temperature': 23, 'timestamp': '2022-04-24\\n17:56:30'}>>\n",
      "\n",
      "Message received:\n",
      "    Data: <<{'messageCount': 1666, 'humidity': 55, 'temperature': 23, 'timestamp': '2022-04-24\\n17:56:31'}>>\n"
     ]
    },
    {
     "name": "stderr",
     "output_type": "stream",
     "text": [
      "INFO:azure.eventhub:Received event from partition 1\n",
      "INFO:azure.eventhub:Received event from partition 1\n",
      "INFO:azure.eventhub:Received event from partition 1\n",
      "INFO:azure.eventhub:Received event from partition 1\n"
     ]
    },
    {
     "name": "stdout",
     "output_type": "stream",
     "text": [
      "\n",
      "Message received:\n",
      "    Data: <<{'messageCount': 1667, 'humidity': 55, 'temperature': 23, 'timestamp': '2022-04-24\\n17:56:32'}>>\n",
      "\n",
      "Message received:\n",
      "    Data: <<{'messageCount': 1668, 'humidity': 55, 'temperature': 23, 'timestamp': '2022-04-24\\n17:56:33'}>>\n",
      "\n",
      "Message received:\n",
      "    Data: <<{'messageCount': 1669, 'humidity': 55, 'temperature': 23, 'timestamp': '2022-04-24\\n17:56:34'}>>\n"
     ]
    },
    {
     "name": "stderr",
     "output_type": "stream",
     "text": [
      "INFO:azure.eventhub:Received event from partition 1\n",
      "INFO:azure.eventhub:Received event from partition 1\n",
      "INFO:azure.eventhub:Received event from partition 1\n"
     ]
    },
    {
     "name": "stdout",
     "output_type": "stream",
     "text": [
      "\n",
      "Message received:\n",
      "    Data: <<{'messageCount': 1670, 'humidity': 55, 'temperature': 23, 'timestamp': '2022-04-24\\n17:56:35'}>>\n",
      "\n",
      "Message received:\n",
      "    Data: <<{'messageCount': 1671, 'humidity': 55, 'temperature': 23, 'timestamp': '2022-04-24\\n17:56:36'}>>\n",
      "\n",
      "Message received:\n",
      "    Data: <<{'messageCount': 1672, 'humidity': 55, 'temperature': 23, 'timestamp': '2022-04-24\\n17:56:37'}>>\n"
     ]
    },
    {
     "name": "stderr",
     "output_type": "stream",
     "text": [
      "INFO:azure.eventhub:Received event from partition 1\n",
      "INFO:azure.eventhub:Received event from partition 1\n",
      "INFO:azure.eventhub:Received event from partition 1\n"
     ]
    },
    {
     "name": "stdout",
     "output_type": "stream",
     "text": [
      "\n",
      "Message received:\n",
      "    Data: <<{'messageCount': 1673, 'humidity': 55, 'temperature': 23, 'timestamp': '2022-04-24\\n17:56:39'}>>\n",
      "\n",
      "Message received:\n",
      "    Data: <<{'messageCount': 1674, 'humidity': 55, 'temperature': 23, 'timestamp': '2022-04-24\\n17:56:40'}>>\n",
      "\n",
      "Message received:\n",
      "    Data: <<{'messageCount': 1675, 'humidity': 55, 'temperature': 23, 'timestamp': '2022-04-24\\n17:56:41'}>>\n"
     ]
    },
    {
     "name": "stderr",
     "output_type": "stream",
     "text": [
      "INFO:azure.eventhub:Received event from partition 1\n",
      "INFO:azure.eventhub:Received event from partition 1\n",
      "INFO:azure.eventhub:Received event from partition 1\n"
     ]
    },
    {
     "name": "stdout",
     "output_type": "stream",
     "text": [
      "\n",
      "Message received:\n",
      "    Data: <<{'messageCount': 1676, 'humidity': 55, 'temperature': 23, 'timestamp': '2022-04-24\\n17:56:42'}>>\n",
      "\n",
      "Message received:\n",
      "    Data: <<{'messageCount': 1677, 'humidity': 55, 'temperature': 23, 'timestamp': '2022-04-24\\n17:56:43'}>>\n",
      "\n",
      "Message received:\n",
      "    Data: <<{'messageCount': 1678, 'humidity': 55, 'temperature': 23, 'timestamp': '2022-04-24\\n17:56:44'}>>\n"
     ]
    },
    {
     "name": "stderr",
     "output_type": "stream",
     "text": [
      "INFO:azure.eventhub:Received event from partition 1\n",
      "INFO:azure.eventhub:Received event from partition 1\n",
      "INFO:azure.eventhub:Received event from partition 1\n"
     ]
    },
    {
     "name": "stdout",
     "output_type": "stream",
     "text": [
      "\n",
      "Message received:\n",
      "    Data: <<{'messageCount': 1679, 'humidity': 55, 'temperature': 23, 'timestamp': '2022-04-24\\n17:56:46'}>>\n",
      "\n",
      "Message received:\n",
      "    Data: <<{'messageCount': 1680, 'humidity': 55, 'temperature': 23, 'timestamp': '2022-04-24\\n17:56:47'}>>\n",
      "\n",
      "Message received:\n",
      "    Data: <<{'messageCount': 1681, 'humidity': 55, 'temperature': 23, 'timestamp': '2022-04-24\\n17:56:48'}>>\n"
     ]
    },
    {
     "name": "stderr",
     "output_type": "stream",
     "text": [
      "INFO:azure.eventhub:Received event from partition 1\n",
      "INFO:azure.eventhub:Received event from partition 1\n",
      "INFO:azure.eventhub:Received event from partition 1\n"
     ]
    },
    {
     "name": "stdout",
     "output_type": "stream",
     "text": [
      "\n",
      "Message received:\n",
      "    Data: <<{'messageCount': 1682, 'humidity': 55, 'temperature': 23, 'timestamp': '2022-04-24\\n17:56:49'}>>\n",
      "\n",
      "Message received:\n",
      "    Data: <<{'messageCount': 1683, 'humidity': 55, 'temperature': 23, 'timestamp': '2022-04-24\\n17:56:50'}>>\n",
      "\n",
      "Message received:\n",
      "    Data: <<{'messageCount': 1684, 'humidity': 55, 'temperature': 23, 'timestamp': '2022-04-24\\n17:56:51'}>>\n",
      "\n",
      "Message received:\n",
      "    Data: <<{'messageCount': 1685, 'humidity': 54, 'temperature': 23, 'timestamp': '2022-04-24\\n17:56:52'}>>\n"
     ]
    },
    {
     "name": "stderr",
     "output_type": "stream",
     "text": [
      "INFO:azure.eventhub:Received event from partition 1\n",
      "INFO:azure.eventhub:Received event from partition 1\n",
      "INFO:azure.eventhub:Received event from partition 1\n",
      "INFO:azure.eventhub:Received event from partition 1\n"
     ]
    },
    {
     "name": "stdout",
     "output_type": "stream",
     "text": [
      "\n",
      "Message received:\n",
      "    Data: <<{'messageCount': 1686, 'humidity': 54, 'temperature': 23, 'timestamp': '2022-04-24\\n17:56:53'}>>\n",
      "\n",
      "Message received:\n",
      "    Data: <<{'messageCount': 1687, 'humidity': 54, 'temperature': 23, 'timestamp': '2022-04-24\\n17:56:55'}>>\n",
      "\n",
      "Message received:\n",
      "    Data: <<{'messageCount': 1688, 'humidity': 54, 'temperature': 23, 'timestamp': '2022-04-24\\n17:56:56'}>>\n",
      "\n",
      "Message received:\n",
      "    Data: <<{'messageCount': 1690, 'humidity': 54, 'temperature': 23, 'timestamp': '2022-04-24\\n17:57:00'}>>\n"
     ]
    },
    {
     "name": "stderr",
     "output_type": "stream",
     "text": [
      "INFO:azure.eventhub:Received event from partition 1\n",
      "INFO:azure.eventhub:Received event from partition 1\n",
      "INFO:azure.eventhub:Received event from partition 1\n",
      "INFO:azure.eventhub:Received event from partition 1\n"
     ]
    },
    {
     "name": "stdout",
     "output_type": "stream",
     "text": [
      "\n",
      "Message received:\n",
      "    Data: <<{'messageCount': 1691, 'humidity': 54, 'temperature': 23, 'timestamp': '2022-04-24\\n17:57:01'}>>\n",
      "\n",
      "Message received:\n",
      "    Data: <<{'messageCount': 1692, 'humidity': 54, 'temperature': 23, 'timestamp': '2022-04-24\\n17:57:03'}>>\n",
      "\n",
      "Message received:\n",
      "    Data: <<{'messageCount': 1693, 'humidity': 54, 'temperature': 23, 'timestamp': '2022-04-24\\n17:57:04'}>>\n"
     ]
    },
    {
     "name": "stderr",
     "output_type": "stream",
     "text": [
      "INFO:azure.eventhub:Received event from partition 1\n",
      "INFO:azure.eventhub:Received event from partition 1\n",
      "INFO:azure.eventhub:Received event from partition 1\n"
     ]
    },
    {
     "name": "stdout",
     "output_type": "stream",
     "text": [
      "\n",
      "Message received:\n",
      "    Data: <<{'messageCount': 1694, 'humidity': 54, 'temperature': 23, 'timestamp': '2022-04-24\\n17:57:05'}>>\n",
      "\n",
      "Message received:\n",
      "    Data: <<{'messageCount': 1695, 'humidity': 54, 'temperature': 23, 'timestamp': '2022-04-24\\n17:57:06'}>>\n",
      "\n",
      "Message received:\n",
      "    Data: <<{'messageCount': 1696, 'humidity': 54, 'temperature': 23, 'timestamp': '2022-04-24\\n17:57:07'}>>\n"
     ]
    },
    {
     "name": "stderr",
     "output_type": "stream",
     "text": [
      "INFO:azure.eventhub:Received event from partition 1\n",
      "INFO:azure.eventhub:Received event from partition 1\n",
      "INFO:azure.eventhub:Received event from partition 1\n"
     ]
    },
    {
     "name": "stdout",
     "output_type": "stream",
     "text": [
      "\n",
      "Message received:\n",
      "    Data: <<{'messageCount': 1697, 'humidity': 54, 'temperature': 23, 'timestamp': '2022-04-24\\n17:57:08'}>>\n",
      "\n",
      "Message received:\n",
      "    Data: <<{'messageCount': 1698, 'humidity': 54, 'temperature': 23, 'timestamp': '2022-04-24\\n17:57:10'}>>\n",
      "\n",
      "Message received:\n",
      "    Data: <<{'messageCount': 1699, 'humidity': 54, 'temperature': 23, 'timestamp': '2022-04-24\\n17:57:11'}>>\n"
     ]
    },
    {
     "name": "stderr",
     "output_type": "stream",
     "text": [
      "INFO:azure.eventhub:Received event from partition 1\n",
      "INFO:azure.eventhub:Received event from partition 1\n",
      "INFO:azure.eventhub:Received event from partition 1\n"
     ]
    },
    {
     "name": "stdout",
     "output_type": "stream",
     "text": [
      "\n",
      "Message received:\n",
      "    Data: <<{'messageCount': 1700, 'humidity': 54, 'temperature': 23, 'timestamp': '2022-04-24\\n17:57:12'}>>\n",
      "\n",
      "Message received:\n",
      "    Data: <<{'messageCount': 1701, 'humidity': 54, 'temperature': 23, 'timestamp': '2022-04-24\\n17:57:13'}>>\n",
      "\n",
      "Message received:\n",
      "    Data: <<{'messageCount': 1702, 'humidity': 54, 'temperature': 23, 'timestamp': '2022-04-24\\n17:57:14'}>>\n",
      "\n",
      "Message received:\n",
      "    Data: <<{'messageCount': 1703, 'humidity': 54, 'temperature': 23, 'timestamp': '2022-04-24\\n17:57:15'}>>\n"
     ]
    },
    {
     "name": "stderr",
     "output_type": "stream",
     "text": [
      "INFO:azure.eventhub:Received event from partition 1\n",
      "INFO:azure.eventhub:Received event from partition 1\n",
      "INFO:azure.eventhub:Received event from partition 1\n",
      "INFO:azure.eventhub:Received event from partition 1\n"
     ]
    },
    {
     "name": "stdout",
     "output_type": "stream",
     "text": [
      "\n",
      "Message received:\n",
      "    Data: <<{'messageCount': 1704, 'humidity': 54, 'temperature': 23, 'timestamp': '2022-04-24\\n17:57:16'}>>\n",
      "\n",
      "Message received:\n",
      "    Data: <<{'messageCount': 1705, 'humidity': 54, 'temperature': 23, 'timestamp': '2022-04-24\\n17:57:17'}>>\n",
      "\n",
      "Message received:\n",
      "    Data: <<{'messageCount': 1706, 'humidity': 54, 'temperature': 23, 'timestamp': '2022-04-24\\n17:57:19'}>>\n"
     ]
    },
    {
     "name": "stderr",
     "output_type": "stream",
     "text": [
      "INFO:azure.eventhub:Received event from partition 1\n",
      "INFO:azure.eventhub:Received event from partition 1\n",
      "INFO:azure.eventhub:Received event from partition 1\n"
     ]
    },
    {
     "name": "stdout",
     "output_type": "stream",
     "text": [
      "\n",
      "Message received:\n",
      "    Data: <<{'messageCount': 1707, 'humidity': 54, 'temperature': 23, 'timestamp': '2022-04-24\\n17:57:20'}>>\n",
      "\n",
      "Message received:\n",
      "    Data: <<{'messageCount': 1708, 'humidity': 54, 'temperature': 23, 'timestamp': '2022-04-24\\n17:57:21'}>>\n",
      "\n",
      "Message received:\n",
      "    Data: <<{'messageCount': 1709, 'humidity': 54, 'temperature': 23, 'timestamp': '2022-04-24\\n17:57:22'}>>\n"
     ]
    },
    {
     "name": "stderr",
     "output_type": "stream",
     "text": [
      "INFO:azure.eventhub:Received event from partition 1\n",
      "INFO:azure.eventhub:Received event from partition 1\n",
      "INFO:azure.eventhub:Received event from partition 1\n"
     ]
    },
    {
     "name": "stdout",
     "output_type": "stream",
     "text": [
      "\n",
      "Message received:\n",
      "    Data: <<{'messageCount': 1710, 'humidity': 54, 'temperature': 23, 'timestamp': '2022-04-24\\n17:57:23'}>>\n",
      "\n",
      "Message received:\n",
      "    Data: <<{'messageCount': 1711, 'humidity': 54, 'temperature': 23, 'timestamp': '2022-04-24\\n17:57:24'}>>\n",
      "\n",
      "Message received:\n",
      "    Data: <<{'messageCount': 1712, 'humidity': 54, 'temperature': 23, 'timestamp': '2022-04-24\\n17:57:26'}>>\n",
      "\n",
      "Message received:\n",
      "    Data: <<{'messageCount': 1713, 'humidity': 54, 'temperature': 23, 'timestamp': '2022-04-24\\n17:57:27'}>>\n"
     ]
    },
    {
     "name": "stderr",
     "output_type": "stream",
     "text": [
      "INFO:azure.eventhub:Received event from partition 1\n",
      "INFO:azure.eventhub:Received event from partition 1\n",
      "INFO:azure.eventhub:Received event from partition 1\n",
      "INFO:azure.eventhub:Received event from partition 1\n"
     ]
    },
    {
     "name": "stdout",
     "output_type": "stream",
     "text": [
      "\n",
      "Message received:\n",
      "    Data: <<{'messageCount': 1715, 'humidity': 54, 'temperature': 23, 'timestamp': '2022-04-24\\n17:57:31'}>>\n",
      "\n",
      "Message received:\n",
      "    Data: <<{'messageCount': 1716, 'humidity': 54, 'temperature': 23, 'timestamp': '2022-04-24\\n17:57:32'}>>\n",
      "\n",
      "Message received:\n",
      "    Data: <<{'messageCount': 1717, 'humidity': 54, 'temperature': 23, 'timestamp': '2022-04-24\\n17:57:34'}>>\n"
     ]
    },
    {
     "name": "stderr",
     "output_type": "stream",
     "text": [
      "INFO:azure.eventhub:Received event from partition 1\n",
      "INFO:azure.eventhub:Received event from partition 1\n",
      "INFO:azure.eventhub:Received event from partition 1\n"
     ]
    },
    {
     "name": "stdout",
     "output_type": "stream",
     "text": [
      "\n",
      "Message received:\n",
      "    Data: <<{'messageCount': 1718, 'humidity': 54, 'temperature': 23, 'timestamp': '2022-04-24\\n17:57:35'}>>\n",
      "\n",
      "Message received:\n",
      "    Data: <<{'messageCount': 1719, 'humidity': 54, 'temperature': 23, 'timestamp': '2022-04-24\\n17:57:36'}>>\n",
      "\n",
      "Message received:\n",
      "    Data: <<{'messageCount': 1720, 'humidity': 54, 'temperature': 23, 'timestamp': '2022-04-24\\n17:57:37'}>>\n",
      "\n",
      "Message received:\n",
      "    Data: <<{'messageCount': 1721, 'humidity': 54, 'temperature': 23, 'timestamp': '2022-04-24\\n17:57:38'}>>\n"
     ]
    },
    {
     "name": "stderr",
     "output_type": "stream",
     "text": [
      "INFO:azure.eventhub:Received event from partition 1\n",
      "INFO:azure.eventhub:Received event from partition 1\n",
      "INFO:azure.eventhub:Received event from partition 1\n",
      "INFO:azure.eventhub:Received event from partition 1\n"
     ]
    },
    {
     "name": "stdout",
     "output_type": "stream",
     "text": [
      "\n",
      "Message received:\n",
      "    Data: <<{'messageCount': 1722, 'humidity': 54, 'temperature': 23, 'timestamp': '2022-04-24\\n17:57:39'}>>\n",
      "\n",
      "Message received:\n",
      "    Data: <<{'messageCount': 1723, 'humidity': 54, 'temperature': 23, 'timestamp': '2022-04-24\\n17:57:40'}>>\n",
      "\n",
      "Message received:\n",
      "    Data: <<{'messageCount': 1725, 'humidity': 54, 'temperature': 23, 'timestamp': '2022-04-24\\n17:57:43'}>>\n"
     ]
    },
    {
     "name": "stderr",
     "output_type": "stream",
     "text": [
      "INFO:azure.eventhub:Received event from partition 1\n",
      "INFO:azure.eventhub:Received event from partition 1\n",
      "INFO:azure.eventhub:Received event from partition 1\n"
     ]
    },
    {
     "name": "stdout",
     "output_type": "stream",
     "text": [
      "\n",
      "Message received:\n",
      "    Data: <<{'messageCount': 1724, 'humidity': 54, 'temperature': 23, 'timestamp': '2022-04-24\\n17:57:41'}>>\n",
      "\n",
      "Message received:\n",
      "    Data: <<{'messageCount': 1726, 'humidity': 54, 'temperature': 23, 'timestamp': '2022-04-24\\n17:57:44'}>>\n",
      "\n",
      "Message received:\n",
      "    Data: <<{'messageCount': 1727, 'humidity': 54, 'temperature': 23, 'timestamp': '2022-04-24\\n17:57:45'}>>\n"
     ]
    },
    {
     "name": "stderr",
     "output_type": "stream",
     "text": [
      "INFO:azure.eventhub:Received event from partition 1\n",
      "INFO:azure.eventhub:Received event from partition 1\n",
      "INFO:azure.eventhub:Received event from partition 1\n"
     ]
    },
    {
     "name": "stdout",
     "output_type": "stream",
     "text": [
      "\n",
      "Message received:\n",
      "    Data: <<{'messageCount': 1728, 'humidity': 54, 'temperature': 23, 'timestamp': '2022-04-24\\n17:57:46'}>>\n",
      "\n",
      "Message received:\n",
      "    Data: <<{'messageCount': 1729, 'humidity': 54, 'temperature': 23, 'timestamp': '2022-04-24\\n17:57:47'}>>\n",
      "\n",
      "Message received:\n",
      "    Data: <<{'messageCount': 1730, 'humidity': 54, 'temperature': 23, 'timestamp': '2022-04-24\\n17:57:48'}>>\n"
     ]
    },
    {
     "name": "stderr",
     "output_type": "stream",
     "text": [
      "INFO:azure.eventhub:Received event from partition 1\n",
      "INFO:azure.eventhub:Received event from partition 1\n",
      "INFO:azure.eventhub:Received event from partition 1\n"
     ]
    },
    {
     "name": "stdout",
     "output_type": "stream",
     "text": [
      "\n",
      "Message received:\n",
      "    Data: <<{'messageCount': 1731, 'humidity': 54, 'temperature': 23, 'timestamp': '2022-04-24\\n17:57:50'}>>\n",
      "\n",
      "Message received:\n",
      "    Data: <<{'messageCount': 1732, 'humidity': 54, 'temperature': 23, 'timestamp': '2022-04-24\\n17:57:51'}>>\n",
      "\n",
      "Message received:\n",
      "    Data: <<{'messageCount': 1733, 'humidity': 54, 'temperature': 23, 'timestamp': '2022-04-24\\n17:57:52'}>>\n"
     ]
    },
    {
     "name": "stderr",
     "output_type": "stream",
     "text": [
      "INFO:azure.eventhub:Received event from partition 1\n",
      "INFO:azure.eventhub:Received event from partition 1\n",
      "INFO:azure.eventhub:Received event from partition 1\n"
     ]
    },
    {
     "name": "stdout",
     "output_type": "stream",
     "text": [
      "\n",
      "Message received:\n",
      "    Data: <<{'messageCount': 1734, 'humidity': 54, 'temperature': 23, 'timestamp': '2022-04-24\\n17:57:53'}>>\n",
      "\n",
      "Message received:\n",
      "    Data: <<{'messageCount': 1735, 'humidity': 54, 'temperature': 23, 'timestamp': '2022-04-24\\n17:57:54'}>>\n",
      "\n",
      "Message received:\n",
      "    Data: <<{'messageCount': 1736, 'humidity': 54, 'temperature': 23, 'timestamp': '2022-04-24\\n17:57:55'}>>\n"
     ]
    },
    {
     "name": "stderr",
     "output_type": "stream",
     "text": [
      "INFO:azure.eventhub:Received event from partition 1\n",
      "INFO:azure.eventhub:Received event from partition 1\n",
      "INFO:azure.eventhub:Received event from partition 1\n"
     ]
    },
    {
     "name": "stdout",
     "output_type": "stream",
     "text": [
      "\n",
      "Message received:\n",
      "    Data: <<{'messageCount': 1737, 'humidity': 54, 'temperature': 23, 'timestamp': '2022-04-24\\n17:57:57'}>>\n",
      "\n",
      "Message received:\n",
      "    Data: <<{'messageCount': 1738, 'humidity': 54, 'temperature': 23, 'timestamp': '2022-04-24\\n17:57:58'}>>\n",
      "\n",
      "Message received:\n",
      "    Data: <<{'messageCount': 1739, 'humidity': 54, 'temperature': 23, 'timestamp': '2022-04-24\\n17:57:59'}>>\n"
     ]
    },
    {
     "name": "stderr",
     "output_type": "stream",
     "text": [
      "INFO:azure.eventhub:Received event from partition 1\n",
      "INFO:azure.eventhub:Received event from partition 1\n",
      "INFO:azure.eventhub:Received event from partition 1\n"
     ]
    },
    {
     "name": "stdout",
     "output_type": "stream",
     "text": [
      "\n",
      "Message received:\n",
      "    Data: <<{'messageCount': 1740, 'humidity': 54, 'temperature': 23, 'timestamp': '2022-04-24\\n17:58:00'}>>\n",
      "\n",
      "Message received:\n",
      "    Data: <<{'messageCount': 1741, 'humidity': 54, 'temperature': 23, 'timestamp': '2022-04-24\\n17:58:01'}>>\n",
      "\n",
      "Message received:\n",
      "    Data: <<{'messageCount': 1742, 'humidity': 54, 'temperature': 23, 'timestamp': '2022-04-24\\n17:58:02'}>>\n"
     ]
    },
    {
     "name": "stderr",
     "output_type": "stream",
     "text": [
      "INFO:azure.eventhub:Received event from partition 1\n",
      "INFO:azure.eventhub:Received event from partition 1\n",
      "INFO:azure.eventhub:Received event from partition 1\n"
     ]
    },
    {
     "name": "stdout",
     "output_type": "stream",
     "text": [
      "\n",
      "Message received:\n",
      "    Data: <<{'messageCount': 1743, 'humidity': 54, 'temperature': 23, 'timestamp': '2022-04-24\\n17:58:03'}>>\n",
      "\n",
      "Message received:\n",
      "    Data: <<{'messageCount': 1744, 'humidity': 54, 'temperature': 23, 'timestamp': '2022-04-24\\n17:58:04'}>>\n",
      "\n",
      "Message received:\n",
      "    Data: <<{'messageCount': 1745, 'humidity': 54, 'temperature': 23, 'timestamp': '2022-04-24\\n17:58:06'}>>\n"
     ]
    },
    {
     "name": "stderr",
     "output_type": "stream",
     "text": [
      "INFO:azure.eventhub:Received event from partition 1\n",
      "INFO:azure.eventhub:Received event from partition 1\n",
      "INFO:azure.eventhub:Received event from partition 1\n"
     ]
    },
    {
     "name": "stdout",
     "output_type": "stream",
     "text": [
      "\n",
      "Message received:\n",
      "    Data: <<{'messageCount': 1746, 'humidity': 54, 'temperature': 23, 'timestamp': '2022-04-24\\n17:58:07'}>>\n",
      "\n",
      "Message received:\n",
      "    Data: <<{'messageCount': 1747, 'humidity': 54, 'temperature': 23, 'timestamp': '2022-04-24\\n17:58:08'}>>\n",
      "\n",
      "Message received:\n",
      "    Data: <<{'messageCount': 1748, 'humidity': 54, 'temperature': 23, 'timestamp': '2022-04-24\\n17:58:09'}>>\n"
     ]
    },
    {
     "name": "stderr",
     "output_type": "stream",
     "text": [
      "INFO:azure.eventhub:Received event from partition 1\n",
      "INFO:azure.eventhub:Received event from partition 1\n",
      "INFO:azure.eventhub:Received event from partition 1\n"
     ]
    },
    {
     "name": "stdout",
     "output_type": "stream",
     "text": [
      "\n",
      "Message received:\n",
      "    Data: <<{'messageCount': 1749, 'humidity': 54, 'temperature': 23, 'timestamp': '2022-04-24\\n17:58:10'}>>\n",
      "\n",
      "Message received:\n",
      "    Data: <<{'messageCount': 1750, 'humidity': 54, 'temperature': 23, 'timestamp': '2022-04-24\\n17:58:11'}>>\n",
      "\n",
      "Message received:\n",
      "    Data: <<{'messageCount': 1751, 'humidity': 54, 'temperature': 23, 'timestamp': '2022-04-24\\n17:58:13'}>>\n"
     ]
    },
    {
     "name": "stderr",
     "output_type": "stream",
     "text": [
      "INFO:azure.eventhub:Received event from partition 1\n",
      "INFO:azure.eventhub:Received event from partition 1\n",
      "INFO:azure.eventhub:Received event from partition 1\n"
     ]
    },
    {
     "name": "stdout",
     "output_type": "stream",
     "text": [
      "\n",
      "Message received:\n",
      "    Data: <<{'messageCount': 1752, 'humidity': 54, 'temperature': 23, 'timestamp': '2022-04-24\\n17:58:14'}>>\n",
      "\n",
      "Message received:\n",
      "    Data: <<{'messageCount': 1753, 'humidity': 54, 'temperature': 23, 'timestamp': '2022-04-24\\n17:58:15'}>>\n",
      "\n",
      "Message received:\n",
      "    Data: <<{'messageCount': 1754, 'humidity': 54, 'temperature': 23, 'timestamp': '2022-04-24\\n17:58:16'}>>\n",
      "\n",
      "Message received:\n",
      "    Data: <<{'messageCount': 1755, 'humidity': 54, 'temperature': 23, 'timestamp': '2022-04-24\\n17:58:17'}>>\n"
     ]
    },
    {
     "name": "stderr",
     "output_type": "stream",
     "text": [
      "INFO:azure.eventhub:Received event from partition 1\n",
      "INFO:azure.eventhub:Received event from partition 1\n",
      "INFO:azure.eventhub:Received event from partition 1\n",
      "INFO:azure.eventhub:Received event from partition 1\n"
     ]
    },
    {
     "name": "stdout",
     "output_type": "stream",
     "text": [
      "\n",
      "Message received:\n",
      "    Data: <<{'messageCount': 1756, 'humidity': 54, 'temperature': 23, 'timestamp': '2022-04-24\\n17:58:18'}>>\n",
      "\n",
      "Message received:\n",
      "    Data: <<{'messageCount': 1757, 'humidity': 54, 'temperature': 23, 'timestamp': '2022-04-24\\n17:58:20'}>>\n",
      "\n",
      "Message received:\n",
      "    Data: <<{'messageCount': 1758, 'humidity': 54, 'temperature': 23, 'timestamp': '2022-04-24\\n17:58:21'}>>\n"
     ]
    },
    {
     "name": "stderr",
     "output_type": "stream",
     "text": [
      "INFO:azure.eventhub:Received event from partition 1\n",
      "INFO:azure.eventhub:Received event from partition 1\n"
     ]
    }
   ],
   "source": [
    "client = EventHubConsumerClient.from_connection_string(connection_str, \n",
    "                                                    consumer_group, \n",
    "                                                    eventhub_name=eventhub_name)\n",
    "logger = logging.getLogger(\"azure.eventhub\")\n",
    "logging.basicConfig(level=logging.INFO)\n",
    "\n",
    "with client:\n",
    "    client.receive(\n",
    "        on_event=message_handler,\n",
    "        on_error=on_error,\n",
    "        starting_position=\"-1\",  # \"-1\" is from the beginning of the partition.\n",
    "    )"
   ]
  },
  {
   "cell_type": "code",
   "execution_count": null,
   "id": "6951c1bc",
   "metadata": {},
   "outputs": [],
   "source": []
  },
  {
   "cell_type": "code",
   "execution_count": null,
   "id": "a9c9d3dc",
   "metadata": {},
   "outputs": [],
   "source": []
  },
  {
   "cell_type": "code",
   "execution_count": null,
   "id": "e6aa45fa",
   "metadata": {},
   "outputs": [],
   "source": []
  }
 ],
 "metadata": {
  "kernelspec": {
   "display_name": "Python 3 (ipykernel)",
   "language": "python",
   "name": "python3"
  },
  "language_info": {
   "codemirror_mode": {
    "name": "ipython",
    "version": 3
   },
   "file_extension": ".py",
   "mimetype": "text/x-python",
   "name": "python",
   "nbconvert_exporter": "python",
   "pygments_lexer": "ipython3",
   "version": "3.9.7"
  }
 },
 "nbformat": 4,
 "nbformat_minor": 5
}
