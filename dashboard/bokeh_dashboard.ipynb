{
 "cells": [
  {
   "cell_type": "code",
   "execution_count": null,
   "id": "9c676e87",
   "metadata": {},
   "outputs": [],
   "source": [
    "import numpy as np\n",
    "import panel as pn\n",
    "\n",
    "from bokeh.io import curdoc\n",
    "from bokeh.models import ColumnDataSource, DatetimeTickFormatter, Select\n",
    "from bokeh.layouts import layout\n",
    "from bokeh.plotting import figure\n",
    "from datetime import datetime\n",
    "from math import radians\n",
    "\n",
    "pn.extension('bokeh')\n",
    "\n",
    "rng = np.random.default_rng(12345)"
   ]
  },
  {
   "cell_type": "code",
   "execution_count": null,
   "id": "48607ef7",
   "metadata": {},
   "outputs": [],
   "source": [
    "# This will be the container that will hold all the data\n",
    "source1 = ColumnDataSource(dict(\n",
    "    time=[], x=[], y=[], z=[]\n",
    "))"
   ]
  },
  {
   "cell_type": "code",
   "execution_count": null,
   "id": "623ea3e1",
   "metadata": {},
   "outputs": [],
   "source": [
    "date_pattern = [\"%Y-%m-%d\\n%H:%M:%S\"]\n",
    "\n",
    "# Create a figure object with proper time format\n",
    "def get_line(col, source):\n",
    "    p = figure(width=300, height=350, x_axis_type=\"datetime\")\n",
    "    p.line(x='time', y=col, alpha=0.2, line_width=3, color='navy', source=source)\n",
    "    \n",
    "    p.xaxis.formatter = DatetimeTickFormatter(\n",
    "        seconds=date_pattern,\n",
    "        minsec=date_pattern,\n",
    "        minutes=date_pattern,\n",
    "        hourmin=date_pattern,\n",
    "        hours=date_pattern,\n",
    "        days=date_pattern,\n",
    "        months=date_pattern,\n",
    "        years=date_pattern\n",
    "    )\n",
    "    p.xaxis.major_label_orientation=radians(80)\n",
    "    \n",
    "    p.xaxis.axis_label = \"Date\"\n",
    "    p.yaxis.axis_label = \"Value\"\n",
    "    \n",
    "    return p\n",
    "\n",
    "# Create a graph for each sensor value (x, y, z)\n",
    "p = {'x': get_line('x', source1),\n",
    "      'y': get_line('y', source1),\n",
    "      'z': get_line('z', source1)\n",
    "     }"
   ]
  },
  {
   "cell_type": "code",
   "execution_count": null,
   "id": "de913021",
   "metadata": {},
   "outputs": [],
   "source": [
    "def produce_data():\n",
    "    return { 'x': [rng.random()], 'y': [rng.random()], 'z': [rng.random()], 'time': [datetime.now()]}\n",
    "\n",
    "# We produce new data here, and use the selector to discriminate\n",
    "def update():\n",
    "    new_data = produce_data()\n",
    "    source1.stream(new_data, rollover=10)\n",
    "    \n",
    "    p['x'].title.text = f\"Streaming {select.value} data\"\n",
    "    p['y'].title.text = f\"Streaming {select.value} data\"\n",
    "    p['z'].title.text = f\"Streaming {select.value} data\"\n",
    "\n",
    "# Callback function for when selector is changed. Restarts the streaming\n",
    "def update_inter(attrname, old, new):\n",
    "    source1.data = dict(time=[], x=[], y=[], z=[])\n",
    "    update()\n",
    "\n",
    "\n",
    "# Selection widget\n",
    "options = [(\"D1\", \"Device 1\"), (\"D2\", \"Device 2\"), (\"D3\", \"Device 3\")]\n",
    "select = Select(title=\"Devices\", value=\"D1\", options=options)\n",
    "select.on_change(\"value\", update_inter)"
   ]
  },
  {
   "cell_type": "code",
   "execution_count": null,
   "id": "542003e8",
   "metadata": {},
   "outputs": [],
   "source": [
    "bootstrap = pn.template.BootstrapTemplate(title=\"Streaming predictive maintenance\")\n",
    "bootstrap.sidebar.append(select)\n",
    "\n",
    "bootstrap.main.append(\n",
    "    pn.Row(\n",
    "        pn.Card(p['x']),\n",
    "        pn.Card(p['z']),\n",
    "        pn.Card(p['y'])\n",
    "    )\n",
    ")"
   ]
  },
  {
   "cell_type": "code",
   "execution_count": null,
   "id": "1a6eda12",
   "metadata": {},
   "outputs": [],
   "source": [
    "# Call the update funciton every 500 ms\n",
    "curdoc().add_periodic_callback(update, 500)"
   ]
  },
  {
   "cell_type": "code",
   "execution_count": null,
   "id": "1f827d0a",
   "metadata": {},
   "outputs": [],
   "source": [
    "# Make the layout servable by panel\n",
    "bootstrap.servable()"
   ]
  }
 ],
 "metadata": {
  "kernelspec": {
   "display_name": "Python 3 (ipykernel)",
   "language": "python",
   "name": "python3"
  },
  "language_info": {
   "codemirror_mode": {
    "name": "ipython",
    "version": 3
   },
   "file_extension": ".py",
   "mimetype": "text/x-python",
   "name": "python",
   "nbconvert_exporter": "python",
   "pygments_lexer": "ipython3",
   "version": "3.9.7"
  }
 },
 "nbformat": 4,
 "nbformat_minor": 5
}
